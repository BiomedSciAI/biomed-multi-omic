{
 "cells": [
  {
   "cell_type": "code",
   "execution_count": null,
   "metadata": {},
   "outputs": [
    {
     "name": "stderr",
     "output_type": "stream",
     "text": [
      "/dccstor/bmfm-targets/users/liransz/envs/targets_env/lib/python3.11/site-packages/anndata/utils.py:429: FutureWarning: Importing read_csv from `anndata` is deprecated. Import anndata.io.read_csv instead.\n",
      "  warnings.warn(msg, FutureWarning)\n",
      "/dccstor/bmfm-targets/users/liransz/envs/targets_env/lib/python3.11/site-packages/anndata/utils.py:429: FutureWarning: Importing read_excel from `anndata` is deprecated. Import anndata.io.read_excel instead.\n",
      "  warnings.warn(msg, FutureWarning)\n",
      "/dccstor/bmfm-targets/users/liransz/envs/targets_env/lib/python3.11/site-packages/anndata/utils.py:429: FutureWarning: Importing read_hdf from `anndata` is deprecated. Import anndata.io.read_hdf instead.\n",
      "  warnings.warn(msg, FutureWarning)\n",
      "/dccstor/bmfm-targets/users/liransz/envs/targets_env/lib/python3.11/site-packages/anndata/utils.py:429: FutureWarning: Importing read_loom from `anndata` is deprecated. Import anndata.io.read_loom instead.\n",
      "  warnings.warn(msg, FutureWarning)\n",
      "/dccstor/bmfm-targets/users/liransz/envs/targets_env/lib/python3.11/site-packages/anndata/utils.py:429: FutureWarning: Importing read_mtx from `anndata` is deprecated. Import anndata.io.read_mtx instead.\n",
      "  warnings.warn(msg, FutureWarning)\n",
      "/dccstor/bmfm-targets/users/liransz/envs/targets_env/lib/python3.11/site-packages/anndata/utils.py:429: FutureWarning: Importing read_text from `anndata` is deprecated. Import anndata.io.read_text instead.\n",
      "  warnings.warn(msg, FutureWarning)\n",
      "/dccstor/bmfm-targets/users/liransz/envs/targets_env/lib/python3.11/site-packages/anndata/utils.py:429: FutureWarning: Importing read_umi_tools from `anndata` is deprecated. Import anndata.io.read_umi_tools instead.\n",
      "  warnings.warn(msg, FutureWarning)\n"
     ]
    }
   ],
   "source": [
    "import scanpy as sc\n",
    "import numpy as np\n",
    "import pandas as pd\n",
    "import anndata\n",
    "\n",
    "import random\n"
   ]
  },
  {
   "cell_type": "code",
   "execution_count": 32,
   "metadata": {},
   "outputs": [
    {
     "data": {
      "text/plain": [
       "AnnData object with n_obs × n_vars = 165 × 9621\n",
       "    obs: 'celltype', 'cell_type_ontology_term_id'\n",
       "    var: 'gene_ids', 'n_cells'"
      ]
     },
     "execution_count": 32,
     "metadata": {},
     "output_type": "execute_result"
    }
   ],
   "source": [
    "adata = sc.read_h5ad(\"/dccstor/bmfm-targets/users/liransz/code/bmfm-targets/bmfm_targets/tests/resources/finetune/zheng68k/h5ad/zheng68k.h5ad\") \n",
    "adata"
   ]
  },
  {
   "cell_type": "code",
   "execution_count": 39,
   "metadata": {},
   "outputs": [],
   "source": [
    "def create_mock_data(adata, output_filename):\n",
    "    num_cells, num_genes = adata.shape\n",
    "    original_cell_names = adata.obs_names\n",
    "\n",
    "    L = [\"A\", \"C\", \"G\", \"T\"]\n",
    "    new_cell_names = [\n",
    "        \"\".join(random.choices(L, k=14)) + \"-\" + str(random.randint(1, 9))\n",
    "        for _ in range(num_cells)\n",
    "    ]\n",
    "    gene_names = adata.var_names\n",
    "\n",
    "    # Generate new gene expression values by sampling from the original distribution\n",
    "    mock_X = np.zeros((num_cells, num_genes))\n",
    "\n",
    "    for i in range(num_genes):\n",
    "        gene_values = adata.X[:, i].toarray().flatten() if hasattr(adata.X, \"toarray\") else adata.X[:, i]\n",
    "        mean, std = np.mean(gene_values), np.std(gene_values)\n",
    "        mock_X[:, i] = np.random.normal(loc=mean, scale=std, size=num_cells)\n",
    "\n",
    "    mock_X = np.clip(mock_X, 0, None)\n",
    "\n",
    "    mock_adata = anndata.AnnData(X=mock_X, obs=pd.DataFrame(index=new_cell_names), var=pd.DataFrame(index=gene_names))\n",
    "\n",
    "    new_obs_data = {}\n",
    "    for col in adata.obs.columns:\n",
    "        col_unique = adata.obs[col].unique()\n",
    "        new_obs_data[col] = np.random.choice(col_unique, size=num_cells, replace=True)\n",
    "\n",
    "    new_obs = pd.DataFrame(new_obs_data, index=mock_adata.obs_names)  \n",
    "\n",
    "    mock_adata.obs = new_obs\n",
    "    mock_adata.var = adata.var\n",
    "    mock_adata.uns = adata.uns\n",
    "\n",
    "    mock_adata.write(f\"{output_filename}.h5ad\")\n",
    "    return mock_adata\n",
    "\n",
    "    "
   ]
  },
  {
   "cell_type": "code",
   "execution_count": 34,
   "metadata": {},
   "outputs": [],
   "source": [
    "mock_adata = create_mock_data(adata, 'zheng68k')"
   ]
  },
  {
   "cell_type": "code",
   "execution_count": 35,
   "metadata": {},
   "outputs": [
    {
     "data": {
      "text/plain": [
       "AnnData object with n_obs × n_vars = 165 × 9621\n",
       "    obs: 'celltype', 'cell_type_ontology_term_id'"
      ]
     },
     "execution_count": 35,
     "metadata": {},
     "output_type": "execute_result"
    }
   ],
   "source": [
    "mock_adata"
   ]
  },
  {
   "cell_type": "code",
   "execution_count": 40,
   "metadata": {},
   "outputs": [
    {
     "data": {
      "text/plain": [
       "AnnData object with n_obs × n_vars = 15 × 4074\n",
       "    obs: 'celltype', 'n_counts'\n",
       "    var: 'gene_ids', 'n_cells', 'n_counts'\n",
       "    uns: 'log1p'"
      ]
     },
     "execution_count": 40,
     "metadata": {},
     "output_type": "execute_result"
    }
   ],
   "source": [
    "adata = sc.read_h5ad(\"/dccstor/bmfm-targets/users/liransz/code/bmfm-targets/bmfm_targets/tests/resources/finetune/zheng68k/processed/dev/processed_final.h5ad\") \n",
    "adata"
   ]
  },
  {
   "cell_type": "code",
   "execution_count": 41,
   "metadata": {},
   "outputs": [],
   "source": [
    "mock_adata_processed = create_mock_data(adata, 'processed_final_dev')"
   ]
  },
  {
   "cell_type": "code",
   "execution_count": 44,
   "metadata": {},
   "outputs": [
    {
     "data": {
      "text/plain": [
       "AnnData object with n_obs × n_vars = 133 × 9069\n",
       "    obs: 'celltype', 'n_counts'\n",
       "    var: 'gene_ids', 'n_cells', 'n_counts'\n",
       "    uns: 'log1p'"
      ]
     },
     "execution_count": 44,
     "metadata": {},
     "output_type": "execute_result"
    }
   ],
   "source": [
    "adata = sc.read_h5ad(\"/dccstor/bmfm-targets/users/liransz/code/bmfm-targets/bmfm_targets/tests/resources/finetune/zheng68k/processed/train/processed_final.h5ad\") \n",
    "adata"
   ]
  },
  {
   "cell_type": "code",
   "execution_count": 45,
   "metadata": {},
   "outputs": [],
   "source": [
    "mock_adata_processed = create_mock_data(adata, 'processed_final_train')"
   ]
  }
 ],
 "metadata": {
  "kernelspec": {
   "display_name": "Python 3",
   "language": "python",
   "name": "python3"
  },
  "language_info": {
   "codemirror_mode": {
    "name": "ipython",
    "version": 3
   },
   "file_extension": ".py",
   "mimetype": "text/x-python",
   "name": "python",
   "nbconvert_exporter": "python",
   "pygments_lexer": "ipython3",
   "version": "3.11.9"
  }
 },
 "nbformat": 4,
 "nbformat_minor": 2
}
