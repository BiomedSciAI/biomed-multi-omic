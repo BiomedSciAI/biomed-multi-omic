{
 "cells": [
  {
   "cell_type": "code",
   "execution_count": 3,
   "metadata": {},
   "outputs": [],
   "source": [
    "import pandas as pd"
   ]
  },
  {
   "cell_type": "markdown",
   "metadata": {},
   "source": [
    "### Convert the .tsv to .fasta format"
   ]
  },
  {
   "cell_type": "code",
   "execution_count": 2,
   "metadata": {},
   "outputs": [
    {
     "name": "stdout",
     "output_type": "stream",
     "text": [
      "               seq_id                                                seq  \\\n",
      "0              peak10  AGGACCGGATCAACTTGTCGCCTTAATCCAAGCCTACGTTTTTACA...   \n",
      "1    peak10_Reversed:  AGGACCGGATCAACTAGTATGAGGAGGGTTGTGGAGTGGAAGTGAA...   \n",
      "2            peak1000  AGGACCGGATCAACTCATCTACATAGAAGTCGCCCTGTCCGTGATG...   \n",
      "3  peak1000_Reversed:  AGGACCGGATCAACTTTGCTCCTTAACACAGGCTAAGGACCAGCTT...   \n",
      "4           peak10000  AGGACCGGATCAACTATGGCAGCAGCAGCCCGTCTAGGGTGGCCAC...   \n",
      "\n",
      "   mean_value  fold  \n",
      "0      -0.490     6  \n",
      "1      -0.131     6  \n",
      "2       0.628     8  \n",
      "3       1.263     8  \n",
      "4      -0.131     7  \n"
     ]
    }
   ],
   "source": [
    "input_filename = \"human_mpra/K562_clean.tsv\"\n",
    "data = pd.read_csv(input_filename, sep = \"\\t\", header=0)\n",
    "print(data.head())"
   ]
  },
  {
   "cell_type": "code",
   "execution_count": null,
   "metadata": {},
   "outputs": [],
   "source": [
    "with open(input_filename[:-4]+\".fasta\", \"w\") as f:\n",
    "    for index, row in data.iterrows():\n",
    "        #print(f\"\\>{row[\"seq_id\"]} \\n {row[\"seq\"]}\")\n",
    "        f.write(\">\" + row[\"seq_id\"] + \"\\n\" + row[\"seq\"] + \"\\n\")"
   ]
  },
  {
   "cell_type": "markdown",
   "metadata": {},
   "source": [
    "### Run the BLAST+ tool"
   ]
  },
  {
   "cell_type": "markdown",
   "metadata": {},
   "source": [
    "jbsub -cores 8+0  -mem 40g -q x86_12h ./blastn -query ../../human_mpra/K562_clean.fasta -db human_genome_db -out ../../human_mpra/K562_clean_outfmt6.out  -max_target_seqs 1 -outfmt 6\n"
   ]
  },
  {
   "cell_type": "code",
   "execution_count": 4,
   "metadata": {},
   "outputs": [
    {
     "name": "stderr",
     "output_type": "stream",
     "text": [
      "/tmp/ipykernel_1104947/2884160083.py:2: DtypeWarning: Columns (1) have mixed types. Specify dtype option on import or set low_memory=False.\n",
      "  df = pd.read_csv(aligned_filename, sep=\"\\t\", header=None)\n"
     ]
    },
    {
     "name": "stdout",
     "output_type": "stream",
     "text": [
      "                 0  1        2    3   4   5   6    7         8         9   \\\n",
      "0            peak10  1  100.000  200   0   0  16  215    569690    569889   \n",
      "1  peak10_Reversed:  1  100.000  202   0   0  14  215    569891    569690   \n",
      "2          peak1000  1  100.000  202   0   0  14  215  16840990  16841191   \n",
      "3          peak1000  1   99.015  203   2   0  14  216  16993652  16993854   \n",
      "4          peak1000  1   98.086  209   4   0  14  222  17066802  17066594   \n",
      "\n",
      "              10     11  \n",
      "0  1.930000e-100  370.0  \n",
      "1  1.490000e-101  374.0  \n",
      "2  1.490000e-101  374.0  \n",
      "3   8.970000e-99  364.0  \n",
      "4   8.970000e-99  364.0  \n"
     ]
    }
   ],
   "source": [
    "aligned_filename = \"human_mpra/K562_clean_outfmt6.out\"\n",
    "df_aligned = pd.read_csv(aligned_filename, sep=\"\\t\", header=None)\n",
    "print(df_aligned.head())"
   ]
  },
  {
   "cell_type": "markdown",
   "metadata": {},
   "source": [
    "### Count the statistics of each chunk..."
   ]
  },
  {
   "cell_type": "code",
   "execution_count": 5,
   "metadata": {},
   "outputs": [
    {
     "name": "stdout",
     "output_type": "stream",
     "text": [
      "              qseqid sseqid  pident  length  mismatch  gapopen  qstart  qend  \\\n",
      "16096991   range_9_4     12   100.0     201         0        0      16   216   \n",
      "16101161  range_99_7      2   100.0     200         0        0      16   215   \n",
      "16101160  range_98_3     17   100.0     202         0        0      16   217   \n",
      "16101158  range_97_5      2   100.0     202         0        0      14   215   \n",
      "16101159  range_97_5      2    82.5      80        12        2      26   103   \n",
      "\n",
      "             sstart       send         evalue  bitscore  \n",
      "16096991   57973521   57973721  5.360000e-101     372.0  \n",
      "16101161  167087782  167087981  1.930000e-100     370.0  \n",
      "16101160    6607809    6608010  1.490000e-101     374.0  \n",
      "16101158  242586493  242586694  1.490000e-101     374.0  \n",
      "16101159  134679418  134679497   7.880000e-10      69.4  \n"
     ]
    }
   ],
   "source": [
    "df_aligned.columns = [\"qseqid\", \"sseqid\", \"pident\", \"length\", \"mismatch\", \"gapopen\", \"qstart\", \"qend\", \"sstart\", \"send\", \"evalue\", \"bitscore\"]\n",
    "df_aligned = df_aligned.sort_values(['qseqid', 'pident'], ascending=False)\n",
    "print(df_aligned.head())\n",
    "#print(df.groupby(\"qseqid\").first())"
   ]
  },
  {
   "cell_type": "code",
   "execution_count": null,
   "metadata": {},
   "outputs": [],
   "source": [
    "df_grp_ct = df_aligned.groupby(\"qseqid\")[\"sseqid\"].count()\n",
    "print(df_grp_ct)"
   ]
  },
  {
   "cell_type": "code",
   "execution_count": null,
   "metadata": {},
   "outputs": [],
   "source": [
    "print(df_aligned.loc[df_aligned[\"qseqid\"]==\"BCL11A_1\",:])\n",
    "import matplotlib.pyplot as plt\n",
    "\n",
    "plt.hist(df_grp_ct, bins=50)\n",
    "print(max(df_grp_ct))"
   ]
  },
  {
   "cell_type": "code",
   "execution_count": null,
   "metadata": {},
   "outputs": [],
   "source": [
    "df_grp_ct = df_aligned.groupby(\"qseqid\").first()[\"pident\"]\n",
    "print(df_grp_ct)\n",
    "import matplotlib.pyplot as plt\n",
    "\n",
    "plt.hist(df_grp_ct, bins=50)"
   ]
  },
  {
   "cell_type": "code",
   "execution_count": null,
   "metadata": {},
   "outputs": [],
   "source": [
    "df_grp_ct = df_aligned.groupby(\"qseqid\").first()[\"gapopen\"]\n",
    "print(df_grp_ct)\n",
    "plt.hist(df_grp_ct, bins=50)"
   ]
  },
  {
   "cell_type": "code",
   "execution_count": 8,
   "metadata": {},
   "outputs": [
    {
     "name": "stdout",
     "output_type": "stream",
     "text": [
      "sseqid\n",
      "2             14635\n",
      "11            13936\n",
      "1             11793\n",
      "1             10579\n",
      "X              9769\n",
      "              ...  \n",
      "GL000241.1        2\n",
      "GL000246.1        2\n",
      "GL000196.1        2\n",
      "GL000200.1        2\n",
      "GL000219.1        1\n",
      "Name: count, Length: 71, dtype: int64\n"
     ]
    }
   ],
   "source": [
    "df_grp_first = df_aligned.groupby(\"qseqid\").first()\n",
    "print(df_grp_first.sseqid.value_counts())"
   ]
  },
  {
   "cell_type": "code",
   "execution_count": 11,
   "metadata": {},
   "outputs": [],
   "source": [
    "df_grp_first.head()\n",
    "df_grp_first[['sseqid', 'qstart', 'qend', 'sstart', 'send']].to_csv(aligned_filename[:-4]+\"processed_.out\", sep=\"\\t\")"
   ]
  },
  {
   "cell_type": "code",
   "execution_count": 4,
   "metadata": {},
   "outputs": [
    {
     "name": "stderr",
     "output_type": "stream",
     "text": [
      "100%|██████████| 25827809/25827809 [27:49<00:00, 15465.96it/s]\n"
     ]
    }
   ],
   "source": [
    "# Select the first \n",
    "import csv\n",
    "\n",
    "import tqdm\n",
    "\n",
    "with open(aligned_filename[:-4]+\"processed.out\", \"w\") as f:\n",
    "    spamwriter = csv.writer(f, delimiter='\\t',\n",
    "                            quotechar='|', quoting=csv.QUOTE_MINIMAL)\n",
    "    prev_id = \"\"\n",
    "    spamwriter.writerow(['id', 'chr', 'q_st', 'q_end', 's_st', 's_end'])\n",
    "    for ind, row in tqdm.tqdm(df_aligned.iterrows(), total=df_aligned.shape[0]):\n",
    "        #print(ind, row)\n",
    "        if id==prev_id:\n",
    "            continue\n",
    "        writerow = [id, row[1], row[6], row[7], row[8], row[9]]\n",
    "        id = row[0]\n",
    "        \n",
    "        spamwriter.writerow(writerow)\n",
    "        prev_id = id\n"
   ]
  },
  {
   "cell_type": "markdown",
   "metadata": {},
   "source": [
    "### This is for post-processing the file to add labels to the chunks with SNP imputed after Hongyang's script."
   ]
  },
  {
   "cell_type": "code",
   "execution_count": 2,
   "metadata": {},
   "outputs": [],
   "source": [
    "label_file = '/dccstor/bmfm-targets/data/omics/genome/MPGA/human_mpra/K562_clean.tsv'\n",
    "input_file  = '/dccstor/bmfm-targets/users/hongyang/bmfm-targets/data/K562_biallele_sequence_200.txt'\n",
    "output_file = '/dccstor/bmfm-targets/data/omics/genome/MPGA/human_mpra/K562_biallele_sequence_200.csv'\n"
   ]
  },
  {
   "cell_type": "code",
   "execution_count": 12,
   "metadata": {},
   "outputs": [
    {
     "name": "stdout",
     "output_type": "stream",
     "text": [
      "(215461, 2) Index(['seq_id', 'chunk'], dtype='object')\n",
      "(226253, 4) Index(['seq_id', 'seq', 'mean_value', 'fold'], dtype='object')\n",
      "retriving the labels...\n",
      "(215461, 5) Index(['seq_id', 'chunk', 'seq', 'mean_value', 'fold'], dtype='object')\n"
     ]
    }
   ],
   "source": [
    "df0 = pd.read_csv(input_file,sep=',', header=None)\n",
    "df0.columns = ['seq_id', 'chunk']\n",
    "print(df0.shape, df0.head(2))\n",
    "\n",
    "df_label = pd.read_csv(label_file,sep='\\t')\n",
    "print(df_label.shape, df_label.head(2))\n",
    "\n",
    "print(\"retriving the labels...\")\n",
    "df0 = df0.merge(df_label, how='left', left_on='seq_id', right_on='seq_id')\n",
    "\n",
    "print(df0.shape, df0.head(2))\n",
    "#df0[['seq_id', 'chunk', 'mean_value', 'fold']].to_csv(output_file, index=None)\n"
   ]
  },
  {
   "cell_type": "code",
   "execution_count": 14,
   "metadata": {},
   "outputs": [
    {
     "data": {
      "text/plain": [
       "fold\n",
       "1    26987\n",
       "4    26858\n",
       "3    23523\n",
       "0    23341\n",
       "9    19312\n",
       "5    19265\n",
       "2    19192\n",
       "6    19060\n",
       "8    19027\n",
       "7    18896\n",
       "Name: count, dtype: int64"
      ]
     },
     "execution_count": 14,
     "metadata": {},
     "output_type": "execute_result"
    }
   ],
   "source": [
    "df0['fold'] = df0['fold'].astype(int)\n",
    "df0['fold'].value_counts()"
   ]
  },
  {
   "cell_type": "code",
   "execution_count": 17,
   "metadata": {},
   "outputs": [
    {
     "name": "stdout",
     "output_type": "stream",
     "text": [
      "Index(['seq_id', 'chunk', 'mean_value', 'fold'], dtype='object') seq_id         object\n",
      "chunk          object\n",
      "mean_value    float64\n",
      "fold            int16\n",
      "dtype: object\n",
      "Index(['seq_id', 'chunk', 'mean_value', 'fold'], dtype='object')\n",
      "(139166, 4)             seq_id                                              chunk  \\\n",
      "0  ENSG00000000457  AGGCTGTGGCCACTACACCCACAATCTTCTGGGGGCCGGGTTTCTC...   \n",
      "\n",
      "   mean_value  fold  \n",
      "0       0.515     0  \n",
      "Index(['seq_id', 'chunk', 'mean_value', 'fold'], dtype='object')\n",
      "(38339, 4)             seq_id                                              chunk  \\\n",
      "6  ENSG00000000971  ATATCACCAGCTGCTGATTTGCACATACCAAGAACATGAACATTTT...   \n",
      "\n",
      "   mean_value  fold  \n",
      "6      -0.866     8  \n",
      "Index(['seq_id', 'chunk', 'mean_value', 'fold'], dtype='object')\n",
      "(37956, 4)             seq_id                                              chunk  \\\n",
      "4  ENSG00000000938  AATTTCTTGCAGAACACACAGCCCATTCCAGGTTCCCTGCTACAGA...   \n",
      "\n",
      "   mean_value  fold  \n",
      "4      -0.929     7  \n"
     ]
    }
   ],
   "source": [
    "from pathlib import Path\n",
    "\n",
    "output_file = '/dccstor/bmfm-targets/data/omics/genome/MPGA/human_mpra/K562_ref_sequence_200.csv'\n",
    "output_dir = Path('/dccstor/bmfm-targets/data/omics/genome/MPGA/human_mpra/K562_ref_sequence_200')\n",
    "output_dir.mkdir(parents=True, exist_ok=True)\n",
    "\n",
    "df0 = pd.read_csv(output_file,sep=',', header=0)\n",
    "df0 = df0.astype({\"fold\":'int16'})\n",
    "print(df0.columns, df0.dtypes)\n",
    "\n",
    "train_df = df0.loc[df0['fold'].isin(range(6)),:]\n",
    "print(train_df.columns)\n",
    "print(train_df.shape, train_df.head(1))\n",
    "train_df[['chunk','mean_value']].to_csv(Path(output_dir / \"train.csv\"), index=False)\n",
    "\n",
    "\n",
    "test_df = df0.loc[df0['fold'].isin([8,9]),:]\n",
    "print(test_df.columns)\n",
    "print(test_df.shape, test_df.head(1))\n",
    "test_df[['chunk','mean_value']].to_csv(Path(output_dir / \"test.csv\"), index=False)\n",
    "\n",
    "\n",
    "dev_df = df0.loc[df0['fold'].isin([6,7]),:]\n",
    "print(dev_df.columns)\n",
    "print(dev_df.shape, dev_df.head(1))\n",
    "dev_df[['chunk','mean_value']].to_csv(Path(output_dir / \"dev.csv\"), index=False)\n"
   ]
  },
  {
   "cell_type": "code",
   "execution_count": 12,
   "metadata": {},
   "outputs": [
    {
     "data": {
      "text/plain": [
       "fold\n",
       "1       26987\n",
       "4       26858\n",
       "3       23523\n",
       "0       23341\n",
       "9       19312\n",
       "5       19265\n",
       "2       19192\n",
       "6       19060\n",
       "8       19027\n",
       "7       18896\n",
       "fold       21\n",
       "Name: count, dtype: int64"
      ]
     },
     "execution_count": 12,
     "metadata": {},
     "output_type": "execute_result"
    }
   ],
   "source": [
    "df0['fold'] = df0['fold'].astype(int)\n",
    "df0['fold'].value_counts()"
   ]
  }
 ],
 "metadata": {
  "interpreter": {
   "hash": "dfa84ea74efe40a0f27e608d5df63e48122232da0658d2ee0fbc437b894556d1"
  },
  "kernelspec": {
   "display_name": "Python 3.10.9 ('base')",
   "language": "python",
   "name": "python3"
  },
  "language_info": {
   "codemirror_mode": {
    "name": "ipython",
    "version": 3
   },
   "file_extension": ".py",
   "mimetype": "text/x-python",
   "name": "python",
   "nbconvert_exporter": "python",
   "pygments_lexer": "ipython3",
   "version": "3.10.9"
  },
  "orig_nbformat": 4
 },
 "nbformat": 4,
 "nbformat_minor": 2
}
