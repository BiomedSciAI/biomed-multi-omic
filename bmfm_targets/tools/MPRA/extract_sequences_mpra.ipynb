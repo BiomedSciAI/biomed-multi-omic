{
 "cells": [
  {
   "cell_type": "code",
   "execution_count": 1,
   "id": "e5bcdf72-5e29-4155-8c38-7f3688126a29",
   "metadata": {
    "execution": {
     "iopub.execute_input": "2024-06-12T17:30:19.789559Z",
     "iopub.status.busy": "2024-06-12T17:30:19.788979Z",
     "iopub.status.idle": "2024-06-12T17:31:04.763487Z",
     "shell.execute_reply": "2024-06-12T17:31:04.762726Z"
    }
   },
   "outputs": [
    {
     "name": "stderr",
     "output_type": "stream",
     "text": [
      "/dccstor/bmfm-targets/users/sanjoy/targets_env/anaconda/lib/python3.10/site-packages/pandera/engines/pandas_engine.py:66: UserWarning: Using typeguard < 3. Generic types like List[TYPE], Dict[TYPE, TYPE] will only validate the first element in the collection.\n",
      "  warnings.warn(\n"
     ]
    }
   ],
   "source": [
    "import numpy as np\n",
    "import pandas as pd\n",
    "from scipy import sparse\n",
    "\n",
    "from bmfm_targets.datasets.SNPdb.tabix_converter import (\n",
    "    extract_chr_seq_and_len,\n",
    "    sample_variant,\n",
    ")\n",
    "\n",
    "np.set_printoptions(precision=3,suppress=True)"
   ]
  },
  {
   "cell_type": "code",
   "execution_count": 2,
   "id": "3384b822-376b-4ce8-8b25-6f3e142c178b",
   "metadata": {
    "execution": {
     "iopub.execute_input": "2024-06-12T17:31:04.766941Z",
     "iopub.status.busy": "2024-06-12T17:31:04.766507Z",
     "iopub.status.idle": "2024-06-12T17:31:04.771060Z",
     "shell.execute_reply": "2024-06-12T17:31:04.770548Z"
    }
   },
   "outputs": [],
   "source": [
    "def extract_subsequence(sequence, left, right, len_total=None):\n",
    "    if len_total:\n",
    "        center = (left + right) // 2\n",
    "        left = center - len_total // 2\n",
    "        right = left + len_total\n",
    "    return sequence[left:right]\n",
    "\n",
    "def count_variation_percent(sequence):\n",
    "    return sum([x not in 'ACGTN' for x in sequence]) / len(sequence)\n"
   ]
  },
  {
   "cell_type": "code",
   "execution_count": 3,
   "id": "4a3669b2-9ae4-4f0d-aa47-37242ba9bae1",
   "metadata": {
    "execution": {
     "iopub.execute_input": "2024-06-12T17:31:04.773244Z",
     "iopub.status.busy": "2024-06-12T17:31:04.772883Z",
     "iopub.status.idle": "2024-06-12T17:31:04.775846Z",
     "shell.execute_reply": "2024-06-12T17:31:04.775351Z"
    }
   },
   "outputs": [],
   "source": [
    "path0 = '/dccstor/bmfm-targets/data/omics/genome/snpdb/raw/matrices/'\n",
    "SNPDB_RESOURCES_PATH = \"/dccstor/bmfm-targets/data/omics/genome/snpdb/raw/resources/\"\n",
    "nucleotide_lexicon_path = SNPDB_RESOURCES_PATH + \"nucleotide_lexicon.json\"\n",
    "biallele_lexicon_path = SNPDB_RESOURCES_PATH + \"biallele_lexicon.json\"\n",
    "fasta_path = SNPDB_RESOURCES_PATH + \"hs37d5.fa\"\n",
    "\n",
    "input_file = '/dccstor/bmfm-targets/data/omics/genome/MPGA/human_mpra/K562_clean_outfmt6processed.out'\n",
    "label_file = '/dccstor/bmfm-targets/data/omics/genome/MPGA/human_mpra/K562_clean.tsv'\n",
    "output1_path = '/dccstor/bmfm-targets/data/omics/genome/MPGA/human_mpra/K562_biallele_sequence_200.csv'\n",
    "output2_path = '/dccstor/bmfm-targets/data/omics/genome/MPGA/human_mpra/K562_biallele_sequence_20kb.csv'\n",
    "output1_ref_path = output1_path.replace(\"biallele\", \"ref\")\n",
    "output2_ref_path = output2_path.replace(\"biallele\", \"ref\")"
   ]
  },
  {
   "cell_type": "markdown",
   "id": "f793dfba-a068-4f1f-baed-817c8e5a07b6",
   "metadata": {},
   "source": [
    "### There are special \"chromosomes\""
   ]
  },
  {
   "cell_type": "code",
   "execution_count": 4,
   "id": "3c3f8d09-da49-45a5-bdb5-d0198cfd3b6a",
   "metadata": {
    "execution": {
     "iopub.execute_input": "2024-06-12T17:31:04.778155Z",
     "iopub.status.busy": "2024-06-12T17:31:04.777665Z",
     "iopub.status.idle": "2024-06-12T17:31:05.022107Z",
     "shell.execute_reply": "2024-06-12T17:31:05.021515Z"
    }
   },
   "outputs": [
    {
     "name": "stdout",
     "output_type": "stream",
     "text": [
      "(225930, 6)       qseqid sseqid  qstart  qend    sstart      send\n",
      "0   BCL11A_1      2     145   175  25588744  25588774\n",
      "1  BCL11A_10      2      15   215  59782433  59782633\n",
      "(226253, 4)              seq_id                                                seq  \\\n",
      "0            peak10  AGGACCGGATCAACTTGTCGCCTTAATCCAAGCCTACGTTTTTACA...   \n",
      "1  peak10_Reversed:  AGGACCGGATCAACTAGTATGAGGAGGGTTGTGGAGTGGAAGTGAA...   \n",
      "\n",
      "   mean_value  fold  \n",
      "0      -0.490     6  \n",
      "1      -0.131     6  \n",
      "retriving the labels...\n",
      "      qseqid sseqid  qstart  qend    sstart      send     seq_id  \\\n",
      "0   BCL11A_1      2     145   175  25588744  25588774   BCL11A_1   \n",
      "1  BCL11A_10      2      15   215  59782433  59782633  BCL11A_10   \n",
      "\n",
      "                                                 seq  mean_value  fold  \n",
      "0  AGGACCGGATCAACTTAAATGACTTCAACTGCCCCAACCCCTCTTC...      -0.475     4  \n",
      "1  AGGACCGGATCAACTACATTTGCTGAGGAGAGCTTTACTTCCAACT...      -0.517     4   (225930, 10)\n",
      "          seq_id                                                seq  \\\n",
      "199108  BCL11A_1  AGGACCGGATCAACTTAAATGACTTCAACTGCCCCAACCCCTCTTC...   \n",
      "\n",
      "        mean_value  fold  \n",
      "199108      -0.475     4  \n"
     ]
    }
   ],
   "source": [
    "df0 = pd.read_csv(input_file,sep='\\t')\n",
    "print(df0.shape, df0.head(2))\n",
    "\n",
    "df_label = pd.read_csv(label_file,sep='\\t')\n",
    "print(df_label.shape, df_label.head(2))\n",
    "\n",
    "print(\"retriving the labels...\")\n",
    "df0 = df0.merge(df_label, how='left', left_on='qseqid', right_on='seq_id')\n",
    "\n",
    "print(df0.head(2), df0.shape)\n",
    "print(df_label.loc[df_label['seq_id']=='BCL11A_1', :])"
   ]
  },
  {
   "cell_type": "code",
   "execution_count": 5,
   "id": "b5e637ff-63fa-4066-b123-3197ae5b1a2a",
   "metadata": {
    "execution": {
     "iopub.execute_input": "2024-06-12T17:31:05.027045Z",
     "iopub.status.busy": "2024-06-12T17:31:05.026836Z",
     "iopub.status.idle": "2024-06-12T17:31:05.042155Z",
     "shell.execute_reply": "2024-06-12T17:31:05.041630Z"
    }
   },
   "outputs": [
    {
     "data": {
      "text/plain": [
       "sseqid\n",
       "1             22372\n",
       "2             19182\n",
       "11            18154\n",
       "6             13433\n",
       "8             12474\n",
       "3             11968\n",
       "7             11130\n",
       "16            10749\n",
       "X              9769\n",
       "12             9668\n",
       "20             9350\n",
       "5              9141\n",
       "17             9123\n",
       "10             9106\n",
       "4              8569\n",
       "19             8127\n",
       "9              7554\n",
       "15             6343\n",
       "14             5237\n",
       "22             4258\n",
       "18             3438\n",
       "13             3415\n",
       "21             2670\n",
       "hs37d5          500\n",
       "Y                56\n",
       "GL000193.1       16\n",
       "GL000192.1       13\n",
       "GL000191.1       10\n",
       "GL000223.1       10\n",
       "GL000202.1        8\n",
       "GL000204.1        8\n",
       "GL000249.1        8\n",
       "GL000209.1        6\n",
       "GL000197.1        6\n",
       "GL000227.1        6\n",
       "GL000226.1        6\n",
       "GL000205.1        6\n",
       "GL000201.1        6\n",
       "GL000242.1        4\n",
       "GL000248.1        4\n",
       "GL000222.1        4\n",
       "GL000210.1        4\n",
       "GL000198.1        4\n",
       "GL000211.1        4\n",
       "GL000241.1        2\n",
       "GL000246.1        2\n",
       "GL000212.1        2\n",
       "GL000196.1        2\n",
       "GL000200.1        2\n",
       "GL000219.1        1\n",
       "Name: count, dtype: int64"
      ]
     },
     "execution_count": 5,
     "metadata": {},
     "output_type": "execute_result"
    }
   ],
   "source": [
    "df0.sseqid.value_counts()"
   ]
  },
  {
   "cell_type": "markdown",
   "id": "f69fb65d",
   "metadata": {},
   "source": [
    "### Extract the reference genome first"
   ]
  },
  {
   "cell_type": "code",
   "execution_count": 15,
   "id": "a85d18fc",
   "metadata": {},
   "outputs": [
    {
     "name": "stdout",
     "output_type": "stream",
     "text": [
      "chr1 22372\n",
      "chr2 19182\n",
      "chr3 11968\n",
      "chr4 8569\n",
      "chr5 9141\n",
      "chr6 13433\n",
      "chr7 11130\n",
      "chr8 12474\n",
      "chr9 7554\n",
      "chr10 9106\n",
      "chr11 18154\n",
      "chr12 9668\n",
      "chr13 3415\n",
      "chr14 5237\n",
      "chr15 6343\n",
      "chr16 10749\n",
      "chr17 9123\n",
      "chr18 3438\n",
      "chr19 8127\n",
      "chr20 9350\n",
      "chr21 2670\n",
      "chr22 4258\n"
     ]
    }
   ],
   "source": [
    "# Create the ref genome\n",
    "chr_to_seq, _ = extract_chr_seq_and_len(fasta_path, \">\")\n",
    "\n",
    "with open(output1_ref_path, \"w\") as ref_f1, open(output2_ref_path, \"w\") as ref_f2:\n",
    "    ref_f1.write(\"seq_id,chunk,mean_value,fold\\n\")\n",
    "    ref_f2.write(\"seq_id,chunk,mean_value,fold\\n\")\n",
    "    for i in range(1,23):\n",
    "        target_chr = 'chr' + str(i)\n",
    "        the_df = df0[df0.sseqid == str(i)]\n",
    "        print('chr' + str(i), len(the_df))\n",
    "        ref_seq = chr_to_seq[target_chr]\n",
    "\n",
    "        for j in range(len(the_df)):\n",
    "            the_id = the_df['qseqid'].iloc[j]\n",
    "            label = the_df['mean_value'].iloc[j]\n",
    "            fold = the_df['fold'].iloc[j]\n",
    "            left =  min(the_df['sstart'].iloc[j], the_df['send'].iloc[j])\n",
    "            right =  max(the_df['sstart'].iloc[j], the_df['send'].iloc[j]) + 1\n",
    "            \n",
    "            subsequence1_ref = extract_subsequence(ref_seq, left, right)\n",
    "            subsequence2_ref = extract_subsequence(ref_seq, left, right, len_total=20000)\n",
    "            ref_f1.write('%s,%s,%f,%i\\n' % (the_id, subsequence1_ref, label, fold))\n",
    "            ref_f2.write('%s,%s,%f,%i\\n' % (the_id, subsequence2_ref, label, fold))\n",
    "        "
   ]
  },
  {
   "cell_type": "markdown",
   "id": "eb2166cd-54cd-4a1b-b015-553c8673e46c",
   "metadata": {},
   "source": [
    "### extract mapped sequences with/without flank (length = ~200 or 20kb)"
   ]
  },
  {
   "cell_type": "code",
   "execution_count": 20,
   "id": "e1784af6-3556-405e-883a-51c5c464ffbd",
   "metadata": {
    "execution": {
     "iopub.execute_input": "2024-06-12T17:31:05.044489Z",
     "iopub.status.busy": "2024-06-12T17:31:05.044135Z",
     "iopub.status.idle": "2024-06-12T20:34:39.545308Z",
     "shell.execute_reply": "2024-06-12T20:34:39.544171Z"
    }
   },
   "outputs": [
    {
     "name": "stdout",
     "output_type": "stream",
     "text": [
      "chr1 22372\n"
     ]
    },
    {
     "name": "stderr",
     "output_type": "stream",
     "text": [
      " 68%|██████▊   | 169245338/249250621 [24:11<11:25, 116627.29it/s]\n"
     ]
    },
    {
     "ename": "KeyboardInterrupt",
     "evalue": "",
     "output_type": "error",
     "traceback": [
      "\u001b[0;31m---------------------------------------------------------------------------\u001b[0m",
      "\u001b[0;31mKeyboardInterrupt\u001b[0m                         Traceback (most recent call last)",
      "Cell \u001b[0;32mIn[20], line 11\u001b[0m\n\u001b[1;32m      9\u001b[0m snp_probability_matrix \u001b[38;5;241m=\u001b[39m sparse\u001b[38;5;241m.\u001b[39mload_npz(path0 \u001b[38;5;241m+\u001b[39m \u001b[38;5;124m'\u001b[39m\u001b[38;5;124msnp_prob_\u001b[39m\u001b[38;5;124m'\u001b[39m \u001b[38;5;241m+\u001b[39m target_chr \u001b[38;5;241m+\u001b[39m \u001b[38;5;124m'\u001b[39m\u001b[38;5;124m.npz\u001b[39m\u001b[38;5;124m'\u001b[39m)\n\u001b[1;32m     10\u001b[0m \u001b[38;5;66;03m## encoded sequence for a chromosome\u001b[39;00m\n\u001b[0;32m---> 11\u001b[0m encoded_seq \u001b[38;5;241m=\u001b[39m \u001b[43msample_variant\u001b[49m\u001b[43m(\u001b[49m\n\u001b[1;32m     12\u001b[0m \u001b[43m    \u001b[49m\u001b[43msnp_probability_matrix\u001b[49m\u001b[43m,\u001b[49m\n\u001b[1;32m     13\u001b[0m \u001b[43m    \u001b[49m\u001b[43mnucleotide_lexicon_path\u001b[49m\u001b[43m,\u001b[49m\n\u001b[1;32m     14\u001b[0m \u001b[43m    \u001b[49m\u001b[43mbiallele_lexicon_path\u001b[49m\u001b[43m,\u001b[49m\n\u001b[1;32m     15\u001b[0m \u001b[43m    \u001b[49m\u001b[43mreplacement\u001b[49m\u001b[38;5;241;43m=\u001b[39;49m\u001b[38;5;28;43;01mFalse\u001b[39;49;00m\u001b[43m,\u001b[49m\n\u001b[1;32m     16\u001b[0m \u001b[43m\u001b[49m\u001b[43m)\u001b[49m\n\u001b[1;32m     17\u001b[0m \u001b[38;5;28;01mfor\u001b[39;00m j \u001b[38;5;129;01min\u001b[39;00m \u001b[38;5;28mrange\u001b[39m(\u001b[38;5;28mlen\u001b[39m(the_df)):\n\u001b[1;32m     18\u001b[0m     the_id \u001b[38;5;241m=\u001b[39m the_df[\u001b[38;5;124m'\u001b[39m\u001b[38;5;124mqseqid\u001b[39m\u001b[38;5;124m'\u001b[39m]\u001b[38;5;241m.\u001b[39miloc[j]\n",
      "File \u001b[0;32m/dccstor/bmfm-targets/users/sanjoy/bmfm-targets/bmfm_targets/datasets/SNPdb/tabix_converter.py:316\u001b[0m, in \u001b[0;36msample_variant\u001b[0;34m(matrix, nucleotide_lexicon_path, biallele_lexicon_path, replacement, seed)\u001b[0m\n\u001b[1;32m    <a href='file:///dccstor/bmfm-targets/users/sanjoy/bmfm-targets/bmfm_targets/datasets/SNPdb/tabix_converter.py?line=313'>314</a>\u001b[0m row_end \u001b[39m=\u001b[39m matrix\u001b[39m.\u001b[39mindptr[i \u001b[39m+\u001b[39m \u001b[39m1\u001b[39m]\n\u001b[1;32m    <a href='file:///dccstor/bmfm-targets/users/sanjoy/bmfm-targets/bmfm_targets/datasets/SNPdb/tabix_converter.py?line=314'>315</a>\u001b[0m \u001b[39mif\u001b[39;00m row_end \u001b[39m-\u001b[39m row_start \u001b[39m==\u001b[39m \u001b[39m1\u001b[39m:\n\u001b[0;32m--> <a href='file:///dccstor/bmfm-targets/users/sanjoy/bmfm-targets/bmfm_targets/datasets/SNPdb/tabix_converter.py?line=315'>316</a>\u001b[0m     encoded_seq\u001b[39m.\u001b[39;49mappend(\n\u001b[1;32m    <a href='file:///dccstor/bmfm-targets/users/sanjoy/bmfm-targets/bmfm_targets/datasets/SNPdb/tabix_converter.py?line=316'>317</a>\u001b[0m         biallele_to_encoded[index_to_nucleotide[matrix\u001b[39m.\u001b[39;49mindices[row_start]]]\n\u001b[1;32m    <a href='file:///dccstor/bmfm-targets/users/sanjoy/bmfm-targets/bmfm_targets/datasets/SNPdb/tabix_converter.py?line=317'>318</a>\u001b[0m     )\n\u001b[1;32m    <a href='file:///dccstor/bmfm-targets/users/sanjoy/bmfm-targets/bmfm_targets/datasets/SNPdb/tabix_converter.py?line=318'>319</a>\u001b[0m \u001b[39melse\u001b[39;00m:\n\u001b[1;32m    <a href='file:///dccstor/bmfm-targets/users/sanjoy/bmfm-targets/bmfm_targets/datasets/SNPdb/tabix_converter.py?line=319'>320</a>\u001b[0m     \u001b[39m# row_end - 1 to exclude the last flag column\u001b[39;00m\n\u001b[1;32m    <a href='file:///dccstor/bmfm-targets/users/sanjoy/bmfm-targets/bmfm_targets/datasets/SNPdb/tabix_converter.py?line=320'>321</a>\u001b[0m     index \u001b[39m=\u001b[39m np\u001b[39m.\u001b[39mrandom\u001b[39m.\u001b[39mchoice(\n\u001b[1;32m    <a href='file:///dccstor/bmfm-targets/users/sanjoy/bmfm-targets/bmfm_targets/datasets/SNPdb/tabix_converter.py?line=321'>322</a>\u001b[0m         matrix\u001b[39m.\u001b[39mindices[row_start : (row_end \u001b[39m-\u001b[39m \u001b[39m1\u001b[39m)],\n\u001b[1;32m    <a href='file:///dccstor/bmfm-targets/users/sanjoy/bmfm-targets/bmfm_targets/datasets/SNPdb/tabix_converter.py?line=322'>323</a>\u001b[0m         size\u001b[39m=\u001b[39m\u001b[39m2\u001b[39m,\n\u001b[1;32m    <a href='file:///dccstor/bmfm-targets/users/sanjoy/bmfm-targets/bmfm_targets/datasets/SNPdb/tabix_converter.py?line=323'>324</a>\u001b[0m         replace\u001b[39m=\u001b[39mreplacement,\n\u001b[1;32m    <a href='file:///dccstor/bmfm-targets/users/sanjoy/bmfm-targets/bmfm_targets/datasets/SNPdb/tabix_converter.py?line=324'>325</a>\u001b[0m         p\u001b[39m=\u001b[39mmatrix\u001b[39m.\u001b[39mdata[row_start : (row_end \u001b[39m-\u001b[39m \u001b[39m1\u001b[39m)],\n\u001b[1;32m    <a href='file:///dccstor/bmfm-targets/users/sanjoy/bmfm-targets/bmfm_targets/datasets/SNPdb/tabix_converter.py?line=325'>326</a>\u001b[0m     )\n",
      "\u001b[0;31mKeyboardInterrupt\u001b[0m: "
     ]
    }
   ],
   "source": [
    "id_all = []\n",
    "subsequence1_all = []\n",
    "subsequence2_all = []\n",
    "\n",
    "with open(output1_path, \"w\") as f1,  open(output2_path, \"w\") as f2:\n",
    "    for i in range(1,23):\n",
    "        target_chr = 'chr' + str(i)\n",
    "        the_df = df0[df0.sseqid == str(i)]\n",
    "        print('chr' + str(i), len(the_df))\n",
    "        snp_probability_matrix = sparse.load_npz(path0 + 'snp_prob_' + target_chr + '.npz')\n",
    "        ## encoded sequence for a chromosome\n",
    "        encoded_seq = sample_variant(\n",
    "            snp_probability_matrix,\n",
    "            nucleotide_lexicon_path,\n",
    "            biallele_lexicon_path,\n",
    "            replacement=False,\n",
    "        )\n",
    "        \n",
    "        for j in range(len(the_df)):\n",
    "            the_id = the_df['qseqid'].iloc[j]\n",
    "            label = the_df['mean_value'].iloc[j]\n",
    "            fold = the_df['fold'].iloc[j]\n",
    "            left =  min(the_df['sstart'].iloc[j], the_df['send'].iloc[j])\n",
    "            right =  max(the_df['sstart'].iloc[j], the_df['send'].iloc[j]) + 1\n",
    "            subsequence1 = extract_subsequence(encoded_seq, left, right)\n",
    "            subsequence2 = extract_subsequence(encoded_seq, left, right, len_total=20000)\n",
    "            f1.write(f'{the_id},{subsequence1},{label},{fold}\\n')\n",
    "            f2.write(f'{the_id},{subsequence2},{label},{fold}\\n')\n"
   ]
  },
  {
   "cell_type": "markdown",
   "id": "af09e437-bfdc-4362-9453-62c934c2d322",
   "metadata": {},
   "source": [
    "### calculate percentage of variations"
   ]
  },
  {
   "cell_type": "code",
   "execution_count": 8,
   "id": "48e3950c-ce7f-456b-8e93-af60d9e9df13",
   "metadata": {
    "execution": {
     "iopub.execute_input": "2024-06-12T20:34:51.041114Z",
     "iopub.status.busy": "2024-06-12T20:34:51.040833Z",
     "iopub.status.idle": "2024-06-12T20:34:53.147431Z",
     "shell.execute_reply": "2024-06-12T20:34:53.146640Z"
    }
   },
   "outputs": [
    {
     "name": "stdout",
     "output_type": "stream",
     "text": [
      "percentage of variation(200): 0.75%\n"
     ]
    }
   ],
   "source": [
    "var_percent1 = [count_variation_percent(x) for x in subsequence1_all]\n",
    "print(\"percentage of variation(200): %.2f%%\" % (sum(var_percent1)/len(var_percent1)*100))"
   ]
  },
  {
   "cell_type": "code",
   "execution_count": 9,
   "id": "c737d1b1-0bbf-4697-afc1-8fb8dd91742b",
   "metadata": {
    "execution": {
     "iopub.execute_input": "2024-06-12T20:34:53.149743Z",
     "iopub.status.busy": "2024-06-12T20:34:53.149540Z",
     "iopub.status.idle": "2024-06-12T20:38:03.239452Z",
     "shell.execute_reply": "2024-06-12T20:38:03.238507Z"
    }
   },
   "outputs": [
    {
     "name": "stdout",
     "output_type": "stream",
     "text": [
      "percentage of variation(20kb): 0.94%\n"
     ]
    }
   ],
   "source": [
    "var_percent2 = [count_variation_percent(x) for x in subsequence2_all]\n",
    "print(\"percentage of variation(20kb): %.2f%%\" % (sum(var_percent2)/len(var_percent2)*100))"
   ]
  },
  {
   "cell_type": "markdown",
   "id": "41ca8fed",
   "metadata": {},
   "source": [
    "### Now to create the train, test and dev data"
   ]
  },
  {
   "cell_type": "code",
   "execution_count": null,
   "id": "0a363eea",
   "metadata": {},
   "outputs": [],
   "source": [
    "from pathlib import Path\n",
    "\n",
    "\n",
    "def create_splits(output_dir, input_file):\n",
    "    output_dir.mkdir(parents=True, exist_ok=True)\n",
    "\n",
    "    df0 = pd.read_csv(input_file,sep=',', header=0)\n",
    "    df0 = df0.astype({\"fold\":'int16'})\n",
    "    print(df0.columns, df0.dtypes)\n",
    "\n",
    "    train_df = df0.loc[df0['fold'].isin(range(6)),:]\n",
    "    print(train_df.columns)\n",
    "    print(train_df.shape, train_df.head(1))\n",
    "    train_df[['chunk','mean_value']].to_csv(Path(output_dir / \"train.csv\"), index=False)\n",
    "\n",
    "    test_df = df0.loc[df0['fold'].isin([8,9]),:]\n",
    "    print(test_df.columns)\n",
    "    print(test_df.shape, test_df.head(1))\n",
    "    test_df[['chunk','mean_value']].to_csv(Path(output_dir / \"test.csv\"), index=False)\n",
    "\n",
    "    dev_df = df0.loc[df0['fold'].isin([6,7]),:]\n",
    "    print(dev_df.columns)\n",
    "    print(dev_df.shape, dev_df.head(1))\n",
    "    dev_df[['chunk','mean_value']].to_csv(Path(output_dir / \"dev.csv\"), index=False)\n",
    "\n",
    "input_file = output1_ref_path\n",
    "base_path = Path('/dccstor/bmfm-targets/data/omics/genome/MPGA/human_mpra')\n",
    "output_dir = base_path / 'K562_ref_sequence_200'\n",
    "\n",
    "create_splits(output_dir, input_file)\n",
    "create_splits(base_path / 'K562_ref_sequence_20kb', output2_ref_path)\n",
    "create_splits(base_path / 'K562_biallele_sequence_200', output1_path)\n",
    "create_splits(base_path / 'K562_biallele_sequence_200', output2_path)\n"
   ]
  },
  {
   "cell_type": "code",
   "execution_count": null,
   "id": "86abf4e8",
   "metadata": {},
   "outputs": [],
   "source": [
    "df0['fold'].value_counts()"
   ]
  }
 ],
 "metadata": {
  "kernelspec": {
   "display_name": "Python 3 (ipykernel)",
   "language": "python",
   "name": "python3"
  },
  "language_info": {
   "codemirror_mode": {
    "name": "ipython",
    "version": 3
   },
   "file_extension": ".py",
   "mimetype": "text/x-python",
   "name": "python",
   "nbconvert_exporter": "python",
   "pygments_lexer": "ipython3",
   "version": "3.10.9"
  }
 },
 "nbformat": 4,
 "nbformat_minor": 5
}
