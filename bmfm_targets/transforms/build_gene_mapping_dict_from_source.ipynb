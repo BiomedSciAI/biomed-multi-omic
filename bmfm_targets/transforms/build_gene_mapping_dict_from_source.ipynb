{
 "cells": [
  {
   "cell_type": "markdown",
   "metadata": {},
   "source": [
    "# Generating Gene Mapping Dictionary from HGNC\n",
    "\n",
    "## HGNC (HUGO Gene Nomenclature Committee)\n",
    "- website https://www.genenames.org/\n",
    "- archive\n",
    "  - directory structure and data file description https://www.genenames.org/download/archive/ \n",
    "  - download (monthly) https://www.genenames.org/download/archive/monthly/tsv/\n",
    "  - download (quarterly) https://www.genenames.org/download/archive/quarterly/tsv/"
   ]
  },
  {
   "cell_type": "code",
   "execution_count": null,
   "metadata": {},
   "outputs": [],
   "source": [
    "\n",
    "import matplotlib.pyplot as plt\n",
    "import pandas as pd\n",
    "from matplotlib_venn import venn3\n",
    "\n"
   ]
  },
  {
   "cell_type": "code",
   "execution_count": null,
   "metadata": {},
   "outputs": [],
   "source": [
    "# load from url, about 10 seconds\n",
    "# the 2024-10-01 version of hgnc seems to have missing data\n",
    "hgnc_url = 'https://storage.googleapis.com/public-download-files/hgnc/archive/archive/monthly/tsv/hgnc_complete_set_2024-08-23.tsv'\n",
    "hgnc = pd.read_csv(hgnc_url, delimiter=\"\\t\")"
   ]
  },
  {
   "cell_type": "markdown",
   "metadata": {},
   "source": [
    "### The HGNC table holds multiple name entries for each gene as shown below:\n",
    "See this page for description https://www.genenames.org/download/archive/"
   ]
  },
  {
   "cell_type": "code",
   "execution_count": null,
   "metadata": {},
   "outputs": [],
   "source": [
    "hgnc.head().transpose()"
   ]
  },
  {
   "cell_type": "code",
   "execution_count": null,
   "metadata": {},
   "outputs": [],
   "source": [
    "hgnc_crosstab = pd.crosstab(hgnc['locus_group'], hgnc['status']) \n",
    "hgnc_crosstab "
   ]
  },
  {
   "cell_type": "markdown",
   "metadata": {},
   "source": [
    "## Use \"protein-coding genes\""
   ]
  },
  {
   "cell_type": "code",
   "execution_count": null,
   "metadata": {},
   "outputs": [],
   "source": [
    "hgnc_pc = hgnc[hgnc['locus_group'] == 'protein-coding gene']\n",
    "hgnc_pc"
   ]
  },
  {
   "cell_type": "code",
   "execution_count": null,
   "metadata": {},
   "outputs": [],
   "source": [
    "# the protein coding gene symbols are unique\n",
    "assert len({*hgnc_pc['symbol']}) == len(hgnc_pc)"
   ]
  },
  {
   "cell_type": "code",
   "execution_count": null,
   "metadata": {},
   "outputs": [],
   "source": [
    "def add_alias_prev_to_dict(original: pd.DataFrame):\n",
    "    # Initialize an empty dictionary to store the mapping\n",
    "    symbol_dict = {}\n",
    "\n",
    "    # Iterate through each row of the DataFrame\n",
    "    for _, row in original.iterrows():\n",
    "        # Get the standard symbol for this row\n",
    "        standard_symbol = row['symbol']\n",
    "\n",
    "        # Helper function to add a key-value pair to the dictionary\n",
    "        def add_to_dict(key, value):\n",
    "            if key in symbol_dict:\n",
    "                symbol_dict[key].append(value)\n",
    "            else:\n",
    "                symbol_dict[key] = [value]\n",
    "\n",
    "        # Map the standard symbol to itself\n",
    "        add_to_dict(standard_symbol, standard_symbol)\n",
    "\n",
    "        # Only process 'alias_symbol' if it's not NaN\n",
    "        if pd.notna(row['alias_symbol']):\n",
    "            alias_values = [alias for alias in str(row['alias_symbol']).split('|') if alias]\n",
    "            for alias in alias_values:\n",
    "                add_to_dict(alias, standard_symbol)\n",
    "\n",
    "        # Only process 'prev_symbol' if it's not NaN\n",
    "        if pd.notna(row['prev_symbol']):\n",
    "            prev_values = [prev for prev in str(row['prev_symbol']).split('|') if prev]\n",
    "            for prev in prev_values:\n",
    "                add_to_dict(prev, standard_symbol)\n",
    "\n",
    "    return symbol_dict\n",
    "\n",
    "mapping_dic = add_alias_prev_to_dict(hgnc_pc)"
   ]
  },
  {
   "cell_type": "code",
   "execution_count": null,
   "metadata": {},
   "outputs": [],
   "source": [
    "mapping_dic[\"NG2\"]"
   ]
  },
  {
   "cell_type": "code",
   "execution_count": null,
   "metadata": {},
   "outputs": [],
   "source": [
    "mapping_dic"
   ]
  },
  {
   "cell_type": "code",
   "execution_count": null,
   "metadata": {},
   "outputs": [],
   "source": [
    "from collections import Counter\n",
    "\n",
    "# Count the length of the lists in the dictionary\n",
    "length_distribution = Counter(len(v) for v in mapping_dic.values())\n",
    "\n",
    "# Display the distribution\n",
    "print(length_distribution)"
   ]
  },
  {
   "cell_type": "code",
   "execution_count": null,
   "metadata": {},
   "outputs": [],
   "source": [
    "def plot_alias_prev_standard(original: pd.DataFrame):\n",
    "    # Initialize an empty dictionary to store the mapping\n",
    "    standard = set()\n",
    "    prev = set()\n",
    "    alias = set()\n",
    "\n",
    "    # Iterate through each row of the DataFrame\n",
    "    for _, row in original.iterrows():\n",
    "        # Get the standard symbol for this row\n",
    "        standard.add(row['symbol'])\n",
    "\n",
    "    \n",
    "        # Split the 'alias' column by \"|\" and map each alias to the standard symbol\n",
    "        alias_values = [alias for alias in str(row['alias_symbol']).split('|') if alias]\n",
    "        alias.update(alias_values)\n",
    "\n",
    "        # Split the 'prev' column by \"|\" and map each previous symbol to the standard symbol\n",
    "        prev_values = [prev for prev in str(row['prev_symbol']).split('|') if prev]\n",
    "        prev.update(prev_values)\n",
    "\n",
    "    # Create a Venn diagram to compare the categorical values\n",
    "    plt.figure(figsize=(6,6))\n",
    "    venn3([standard, alias, prev], set_labels=('standard', 'alias', 'prev'))\n",
    "\n",
    "    # Show the Venn diagram\n",
    "    plt.show()\n",
    "\n",
    "plot_alias_prev_standard(hgnc_pc)"
   ]
  },
  {
   "cell_type": "code",
   "execution_count": null,
   "metadata": {},
   "outputs": [],
   "source": [
    "import json\n",
    "\n",
    "# Replace each list with its first value\n",
    "modified_dict = {key: value[0] if isinstance(value, list) and value else value for key, value in mapping_dic.items()}\n",
    "\n",
    "# Save the modified dictionary to a JSON file\n",
    "with open('protein_coding_gene_mapping_uppercase_hgnc_2024_08_23.1.json', 'w') as json_file:\n",
    "    json.dump(modified_dict, json_file, indent=4)\n",
    "\n",
    "print(\"Dictionary saved to JSON file.\")"
   ]
  }
 ],
 "metadata": {
  "kernelspec": {
   "display_name": "bmfm2",
   "language": "python",
   "name": "python3"
  },
  "language_info": {
   "codemirror_mode": {
    "name": "ipython",
    "version": 3
   },
   "file_extension": ".py",
   "mimetype": "text/x-python",
   "name": "python",
   "nbconvert_exporter": "python",
   "pygments_lexer": "ipython3",
   "version": "3.11.10"
  }
 },
 "nbformat": 4,
 "nbformat_minor": 2
}
