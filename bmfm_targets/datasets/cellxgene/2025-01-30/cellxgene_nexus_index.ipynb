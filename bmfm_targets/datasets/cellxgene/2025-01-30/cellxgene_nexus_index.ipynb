{
 "cells": [
  {
   "cell_type": "markdown",
   "id": "49f5781c",
   "metadata": {},
   "source": [
    "# Create split index for CellXGeneNexusDataModule\n",
    "\n",
    " The NexusDB data-loader consists of two layers: a front-end and a back-end. The front-end serves data to multiple node GPUs, while the back-end is responsible for data storage. We use the universal data storage engine [TileDB](https://tiledb.com/) as our back-end. For distributed data parallel training, the front-end is based on the [LitData package](https://github.com/Lightning-AI/litdata). NexusDB supports indexing to reuse the same dataset files for multiple training splits and works with the existing dataset [CELLxGENE Census](https://chanzuckerberg.github.io/cellxgene-census/), which is based on [TileDB-SOMA](https://github.com/single-cell-data/TileDB-SOMA). \n",
    "\n",
    " This notebook is designed to show how to generate indexes for NexusDB. \n",
    "\n",
    " *WARNING* : This notebook is not intended to be run through multiple times. The indices created are shared by all users and should not be rebuilt unless an error is discovered."
   ]
  },
  {
   "cell_type": "markdown",
   "id": "568af464",
   "metadata": {},
   "source": [
    "## `dataset_id`-level split for cellxgene\n",
    "\n",
    "First, refer to `cellxgene_dataset_split` notebook to learn about dataset-id split. The code reuses `celltypes_split.csv` to generate train and dev split. The cell generates new index in `cellxgene_nexus_index` folder."
   ]
  },
  {
   "cell_type": "code",
   "execution_count": 1,
   "id": "577ba50e",
   "metadata": {},
   "outputs": [
    {
     "name": "stderr",
     "output_type": "stream",
     "text": [
      "/proj/bmfm/users/dmichael/envs/targets/lib/python3.11/site-packages/torchdata/datapipes/__init__.py:18: UserWarning: \n",
      "################################################################################\n",
      "WARNING!\n",
      "The 'datapipes', 'dataloader2' modules are deprecated and will be removed in a\n",
      "future torchdata release! Please see https://github.com/pytorch/data/issues/1196\n",
      "to learn more and leave feedback.\n",
      "################################################################################\n",
      "\n",
      "  deprecation_warning()\n"
     ]
    }
   ],
   "source": [
    "from pathlib import Path\n",
    "\n",
    "from bmfm_targets.datasets.cellxgene import create_litdata_index_for_dataset_split\n",
    "\n",
    "# CCC URI\n",
    "uri = \"/dccstor/bmfm-targets/data/omics/transcriptome/scRNA/pretrain/cellxgene/soma-2023-12-15\"\n",
    "# ZUVELA URI\n",
    "uri='/proj/bmfm/omics/data/scRNA/cellxgene/2025-01-30/soma'\n"
   ]
  },
  {
   "cell_type": "code",
   "execution_count": 2,
   "id": "b95e1b22",
   "metadata": {},
   "outputs": [],
   "source": [
    "full_label_columns = ['dataset_id', 'assay', 'assay_ontology_term_id',\n",
    "       'cell_type', 'cell_type_ontology_term_id', 'development_stage',\n",
    "       'development_stage_ontology_term_id', 'disease',\n",
    "       'disease_ontology_term_id', 'donor_id',\n",
    "       'self_reported_ethnicity', 'self_reported_ethnicity_ontology_term_id',\n",
    "       'sex', 'sex_ontology_term_id', 'suspension_type', 'tissue',\n",
    "       'tissue_ontology_term_id', 'tissue_general',\n",
    "       'tissue_general_ontology_term_id']\n",
    "limited_label_columns = ['cell_type', 'tissue', 'tissue_general', 'disease', 'donor_id', \"sex\"]"
   ]
  },
  {
   "cell_type": "markdown",
   "id": "2323c48d",
   "metadata": {},
   "source": [
    "## Human data index creation\n",
    "\n",
    "The following code will create an index for all of the human data"
   ]
  },
  {
   "cell_type": "code",
   "execution_count": null,
   "id": "0c896343",
   "metadata": {},
   "outputs": [],
   "source": [
    "create_litdata_index_for_dataset_split(uri=uri, index_dir=\"cellxgene_nexus_index\")"
   ]
  },
  {
   "cell_type": "markdown",
   "id": "3ee122b1",
   "metadata": {},
   "source": [
    "Example of creating an index with 10% random samples"
   ]
  },
  {
   "cell_type": "code",
   "execution_count": null,
   "id": "8d3f6f83",
   "metadata": {},
   "outputs": [],
   "source": [
    "create_litdata_index_for_dataset_split(\n",
    "    uri=uri,\n",
    "    value_filter=\"scTab\",\n",
    "    index_dir=\"cellxgene_random_10pct_nexus_index\",\n",
    "    sampling_strategy=\"random\",\n",
    "    sampling_fraction=0.1,\n",
    ")"
   ]
  },
  {
   "cell_type": "code",
   "execution_count": 3,
   "id": "0454739e",
   "metadata": {},
   "outputs": [
    {
     "name": "stderr",
     "output_type": "stream",
     "text": [
      "INFO - Downsampling 28174719 to 281747\n",
      "INFO - Attempting to construct equal sample sizes for 6964 combination of the following columns: ['cell_type', 'tissue', 'tissue_general', 'disease']\n",
      "INFO - Initial sample size of 40 leaves 59869 remaining samples due to insufficient samples in some sets.\n",
      "INFO - Obtained 284501 samples\n",
      "INFO - With 4718 downsampled to size 53 and 2246 smaller groups\n",
      "INFO - Downsampling 3764497 to 37644\n",
      "INFO - Attempting to construct equal sample sizes for 1060 combination of the following columns: ['cell_type', 'tissue', 'tissue_general', 'disease']\n",
      "INFO - Initial sample size of 35 leaves 3746 remaining samples due to insufficient samples in some sets.\n",
      "INFO - Obtained 38423 samples\n",
      "INFO - With 900 downsampled to size 40 and 160 smaller groups\n"
     ]
    }
   ],
   "source": [
    "create_litdata_index_for_dataset_split(\n",
    "    uri=uri,\n",
    "    experiment='homo_sapiens',\n",
    "    value_filter=\"scTab\",\n",
    "    census_version=\"2025-01-30\",\n",
    "    index_dir=\"/proj/bmfm/omics/data/scRNA/cellxgene/2025-01-30/cellxgene_equal_downsample_1pct_nexus_index\",\n",
    "    sampling_strategy=\"equal_downsample\",\n",
    "    sampling_fraction=0.01,\n",
    "    label_columns=['cell_type', 'tissue', 'tissue_general', 'disease', 'donor_id', \"sex\"],\n",
    "    groupby_columns=['cell_type', 'tissue', 'tissue_general', 'disease']\n",
    ")"
   ]
  },
  {
   "cell_type": "code",
   "execution_count": 4,
   "id": "1358337b",
   "metadata": {},
   "outputs": [
    {
     "name": "stderr",
     "output_type": "stream",
     "text": [
      "INFO - Downsampling 28174719 to 2817471\n",
      "INFO - Attempting to construct equal sample sizes for 6964 combination of the following columns: ['cell_type', 'tissue', 'tissue_general', 'disease']\n",
      "INFO - Initial sample size of 404 leaves 1318902 remaining samples due to insufficient samples in some sets.\n",
      "INFO - Obtained 2818963 samples\n",
      "INFO - With 1966 downsampled to size 975 and 4998 smaller groups\n",
      "INFO - Downsampling 3764497 to 376449\n",
      "INFO - Attempting to construct equal sample sizes for 1060 combination of the following columns: ['cell_type', 'tissue', 'tissue_general', 'disease']\n",
      "INFO - Initial sample size of 355 leaves 118215 remaining samples due to insufficient samples in some sets.\n",
      "INFO - Obtained 376829 samples\n",
      "INFO - With 496 downsampled to size 580 and 564 smaller groups\n"
     ]
    }
   ],
   "source": [
    "create_litdata_index_for_dataset_split(\n",
    "    uri=uri,\n",
    "    experiment='homo_sapiens',\n",
    "    value_filter=\"scTab\",\n",
    "    census_version=\"2025-01-30\",\n",
    "    index_dir=\"/proj/bmfm/omics/data/scRNA/cellxgene/2025-01-30/cellxgene_equal_downsample_10pct_nexus_index\",\n",
    "    sampling_strategy=\"equal_downsample\",\n",
    "    sampling_fraction=0.1,\n",
    "    label_columns=['cell_type', 'tissue', 'tissue_general', 'disease', 'donor_id', \"sex\"],\n",
    "    groupby_columns=['cell_type', 'tissue', 'tissue_general', 'disease']\n",
    ")"
   ]
  },
  {
   "cell_type": "markdown",
   "id": "c7a4d7ea",
   "metadata": {},
   "source": [
    "## Mouse index creation"
   ]
  },
  {
   "cell_type": "code",
   "execution_count": null,
   "id": "339b56ff",
   "metadata": {},
   "outputs": [],
   "source": [
    "create_litdata_index_for_dataset_split(\n",
    "    uri=uri,\n",
    "    experiment='mus_musculus',\n",
    "    dataset_split_file=Path().cwd() / \"celltypes_split_mouse.csv\",\n",
    "    value_filter=\"scTab\",\n",
    "    census_version=\"2025-01-30\",\n",
    "    index_dir=\"/proj/bmfm/omics/data/scRNA/cellxgene/2025-01-30/cellxgene_random_mouse_10pct_nexus_index\",\n",
    "    sampling_strategy=\"random\",\n",
    "    sampling_fraction=0.1,\n",
    ")"
   ]
  },
  {
   "cell_type": "code",
   "execution_count": null,
   "id": "67c689bf",
   "metadata": {},
   "outputs": [],
   "source": [
    "create_litdata_index_for_dataset_split(\n",
    "    uri=uri,\n",
    "    experiment='mus_musculus',\n",
    "    dataset_split_file=Path().cwd() / \"celltypes_split_mouse.csv\",\n",
    "    value_filter=\"scTab\",\n",
    "    census_version=\"2025-01-30\",\n",
    "    index_dir=\"/proj/bmfm/omics/data/scRNA/cellxgene/2025-01-30/cellxgene_random_mouse_1pct_nexus_index\",\n",
    "    sampling_strategy=\"random\",\n",
    "    sampling_fraction=0.01,\n",
    ")"
   ]
  },
  {
   "cell_type": "code",
   "execution_count": null,
   "id": "93d1618b",
   "metadata": {},
   "outputs": [],
   "source": [
    "create_litdata_index_for_dataset_split(\n",
    "    uri=uri,\n",
    "    experiment='mus_musculus',\n",
    "    dataset_split_file=Path().cwd() / \"celltypes_split_mouse.csv\",\n",
    "    value_filter=\"scTab\",\n",
    "    census_version=\"2025-01-30\",\n",
    "    index_dir=\"/proj/bmfm/omics/data/scRNA/cellxgene/2025-01-30/cellxgene_mouse_nexus_index\",\n",
    "\n",
    ")"
   ]
  },
  {
   "cell_type": "code",
   "execution_count": 2,
   "id": "bcd96468",
   "metadata": {},
   "outputs": [],
   "source": [
    "from bmfm_targets.datasets.cellxgene.cellxgene_soma_utils import get_obs_as_pandas"
   ]
  },
  {
   "cell_type": "code",
   "execution_count": 3,
   "id": "2d5c69b5",
   "metadata": {},
   "outputs": [],
   "source": [
    "obs = get_obs_as_pandas(uri=uri,\n",
    "                  experiment=\"homo_sapiens\",\n",
    "                  value_filter=\"is_primary_data == True\",     \n",
    "                  census_version=\"2025-01-30\",\n",
    ")"
   ]
  },
  {
   "cell_type": "code",
   "execution_count": 4,
   "id": "dfd0853b",
   "metadata": {},
   "outputs": [
    {
     "data": {
      "text/plain": [
       "soma_joinid                                                                 5716\n",
       "dataset_id                                  a5d95a42-0137-496f-8a60-101e17f263c8\n",
       "assay                                                                 Smart-seq2\n",
       "assay_ontology_term_id                                               EFO:0008931\n",
       "cell_type                                                           naive B cell\n",
       "cell_type_ontology_term_id                                            CL:0000788\n",
       "development_stage                                              26-year-old stage\n",
       "development_stage_ontology_term_id                                HsapDv:0000120\n",
       "disease                                                                   normal\n",
       "disease_ontology_term_id                                            PATO:0000461\n",
       "donor_id                                                                 CONTROL\n",
       "is_primary_data                                                             True\n",
       "observation_joinid                                                    p>gvn1G9;H\n",
       "self_reported_ethnicity                                                  unknown\n",
       "self_reported_ethnicity_ontology_term_id                                 unknown\n",
       "sex                                                                         male\n",
       "sex_ontology_term_id                                                PATO:0000384\n",
       "suspension_type                                                             cell\n",
       "tissue                                                                     blood\n",
       "tissue_ontology_term_id                                           UBERON:0000178\n",
       "tissue_type                                                               tissue\n",
       "tissue_general                                                             blood\n",
       "tissue_general_ontology_term_id                                   UBERON:0000178\n",
       "raw_sum                                                                  17691.0\n",
       "nnz                                                                         1199\n",
       "raw_mean_nnz                                                           14.754796\n",
       "raw_variance_nnz                                                       624.62096\n",
       "n_measured_vars                                                            19149\n",
       "Name: 0, dtype: object"
      ]
     },
     "execution_count": 4,
     "metadata": {},
     "output_type": "execute_result"
    }
   ],
   "source": [
    "obs.iloc[0]"
   ]
  },
  {
   "cell_type": "code",
   "execution_count": 5,
   "id": "c18d0d72",
   "metadata": {},
   "outputs": [],
   "source": [
    "from bmfm_targets.datasets.datasets_utils import equal_samples_per_set_downsample"
   ]
  },
  {
   "cell_type": "code",
   "execution_count": 6,
   "id": "e4faff54",
   "metadata": {},
   "outputs": [],
   "source": [
    "groupby_columns= [\"cell_type\", \"disease\", \"tissue\"]\n",
    "quota_ds = equal_samples_per_set_downsample(obs, groupby_columns=groupby_columns, frac=0.01)"
   ]
  },
  {
   "cell_type": "code",
   "execution_count": 7,
   "id": "514d01b6",
   "metadata": {},
   "outputs": [],
   "source": [
    "quota_ds_10pct = equal_samples_per_set_downsample(obs, groupby_columns=groupby_columns, frac=0.1)"
   ]
  },
  {
   "cell_type": "code",
   "execution_count": null,
   "id": "d5f16a92",
   "metadata": {},
   "outputs": [
    {
     "data": {
      "text/plain": [
       "(626341, 28)"
      ]
     },
     "execution_count": 10,
     "metadata": {},
     "output_type": "execute_result"
    }
   ],
   "source": [
    "quota_ds.shape"
   ]
  },
  {
   "cell_type": "code",
   "execution_count": null,
   "id": "08f51786",
   "metadata": {},
   "outputs": [
    {
     "data": {
      "text/plain": [
       "46.93099055896898"
      ]
     },
     "execution_count": 22,
     "metadata": {},
     "output_type": "execute_result"
    }
   ],
   "source": [
    "quota_ds.shape[0] / quota_ds.groupby(groupby_columns, observed=True).size().shape[0]"
   ]
  },
  {
   "cell_type": "code",
   "execution_count": null,
   "id": "6a726051",
   "metadata": {},
   "outputs": [
    {
     "data": {
      "text/plain": [
       "469.31005544732506"
      ]
     },
     "execution_count": 24,
     "metadata": {},
     "output_type": "execute_result"
    }
   ],
   "source": [
    "quota_ds_10pct.shape[0] / quota_ds_10pct.groupby(groupby_columns, observed=True).size().shape[0]"
   ]
  },
  {
   "cell_type": "code",
   "execution_count": 9,
   "id": "b6fdc9a6",
   "metadata": {},
   "outputs": [
    {
     "data": {
      "image/png": "[encoded data removed]",
      "text/plain": [
       "<Figure size 640x480 with 1 Axes>"
      ]
     },
     "metadata": {},
     "output_type": "display_data"
    }
   ],
   "source": [
    "import matplotlib.pyplot as plt\n",
    "\n",
    "#quota_ds.groupby(groupby_columns, observed=True).size().hist(bins=70)\n",
    "quota_ds_10pct.groupby(groupby_columns, observed=True).size().hist(bins=100,ax=plt.gca())\n",
    "plt.title(\"CellXGene Homo Sapiens 10pct downsample on columns \" + \", \".join(groupby_columns))\n",
    "plt.xlabel(\"Samples in group\")\n",
    "plt.ylabel(\"Number of groups\")\n",
    "plt.tight_layout()\n"
   ]
  },
  {
   "cell_type": "markdown",
   "id": "3534890f",
   "metadata": {},
   "source": [
    "## Create short index for debugging proposes"
   ]
  },
  {
   "cell_type": "code",
   "execution_count": null,
   "id": "4298d816",
   "metadata": {},
   "outputs": [],
   "source": [
    "import os\n",
    "import shutil\n",
    "\n",
    "from bmfm_targets.datasets.cellxgene.cellxgene_soma_utils import build_range_index\n",
    "\n",
    "uri = \"/dccstor/bmfm-targets/data/omics/transcriptome/scRNA/pretrain/cellxgene/soma-2023-12-15\"\n",
    "index_dir=\"cellxgene_debug_nexus_index\"\n",
    "\n",
    "os.mkdir(index_dir)\n",
    "train_index_dir = os.path.join(index_dir, \"train\")\n",
    "build_range_index(\n",
    "    uri,\n",
    "    train_index_dir,\n",
    "    n_records=32,\n",
    "    chunk_size=8,\n",
    "    label_columns=[\"cell_type\", \"tissue\"],\n",
    "    value_filter=\"is_primary_data == True and nnz <= 512\",\n",
    ")\n",
    "shutil.copytree(train_index_dir, os.path.join(index_dir, \"dev\"), dirs_exist_ok=True)"
   ]
  }
 ],
 "metadata": {
  "kernelspec": {
   "display_name": "targets",
   "language": "python",
   "name": "python3"
  },
  "language_info": {
   "codemirror_mode": {
    "name": "ipython",
    "version": 3
   },
   "file_extension": ".py",
   "mimetype": "text/x-python",
   "name": "python",
   "nbconvert_exporter": "python",
   "pygments_lexer": "ipython3",
   "version": "3.11.11"
  }
 },
 "nbformat": 4,
 "nbformat_minor": 5
}
