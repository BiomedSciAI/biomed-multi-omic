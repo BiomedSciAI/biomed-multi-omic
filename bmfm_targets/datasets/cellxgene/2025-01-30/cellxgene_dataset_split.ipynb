{
 "cells": [
  {
   "cell_type": "markdown",
   "id": "1905f240-f1d8-4b17-b416-d4402d960d2f",
   "metadata": {},
   "source": [
    "# Create a `dataset_id`-level split for cellxgene\n",
    "\n",
    "The idea is to create a permanent split for cellxgene based on dataset_ids because validating on unseen datasets is a harder task.\n",
    "\n",
    "Because the datasets are heterogeneous we want the training set to have seen all the celltypes. We also want the validation set to cover as many cell types as possible, without breaking the first rule.\n",
    "\n",
    "One could imagine different splits that try and optimize the problem differently. This shows how to implement such logic for one case. The code can be modified to work with any csv file that has a split column.\n",
    "\n",
    "Please note that as of March 2024, the TileDB-SOMA database backend does not work on CCC login nodes. In order to run this notebook, you must use a compute node. GPU is not necessary so a simple compute node like `jbsub -mem 32g -cores 8 -q x86_1h -interactive bash` would work.\n",
    "\n",
    "If you only want to see the data, you can run this notebook locally (tested on MacOS with brew python) by setting `uri=None`."
   ]
  },
  {
   "cell_type": "markdown",
   "id": "206937ba-fea2-42ae-bfa9-e84d14a48016",
   "metadata": {},
   "source": [
    "## Loading dataset and exploration"
   ]
  },
  {
   "cell_type": "code",
   "execution_count": 92,
   "id": "c5d702f6-78b5-4dac-810c-6eb3d3cc4822",
   "metadata": {},
   "outputs": [],
   "source": [
    "import matplotlib.pyplot as plt\n",
    "import numpy as np\n",
    "import pandas as pd\n",
    "import tiledbsoma"
   ]
  },
  {
   "cell_type": "code",
   "execution_count": 93,
   "id": "723f9abd-ea61-45df-a299-7a3c81b9f65c",
   "metadata": {},
   "outputs": [],
   "source": [
    "uri='/proj/bmfm/omics/data/scRNA/cellxgene/2025-01-30/soma'\n",
    "census = tiledbsoma.open(uri=uri)\n",
    "\n",
    "experiment = census[\"census_data\"][\"homo_sapiens\"]"
   ]
  },
  {
   "cell_type": "code",
   "execution_count": 94,
   "id": "e8a153ed",
   "metadata": {},
   "outputs": [
    {
     "data": {
      "text/html": [
       "<div>\n",
       "<style scoped>\n",
       "    .dataframe tbody tr th:only-of-type {\n",
       "        vertical-align: middle;\n",
       "    }\n",
       "\n",
       "    .dataframe tbody tr th {\n",
       "        vertical-align: top;\n",
       "    }\n",
       "\n",
       "    .dataframe thead th {\n",
       "        text-align: right;\n",
       "    }\n",
       "</style>\n",
       "<table border=\"1\" class=\"dataframe\">\n",
       "  <thead>\n",
       "    <tr style=\"text-align: right;\">\n",
       "      <th></th>\n",
       "      <th>soma_joinid</th>\n",
       "      <th>citation</th>\n",
       "      <th>collection_id</th>\n",
       "      <th>collection_name</th>\n",
       "      <th>collection_doi</th>\n",
       "      <th>collection_doi_label</th>\n",
       "      <th>dataset_id</th>\n",
       "      <th>dataset_version_id</th>\n",
       "      <th>dataset_title</th>\n",
       "      <th>dataset_h5ad_path</th>\n",
       "      <th>dataset_total_cell_count</th>\n",
       "    </tr>\n",
       "  </thead>\n",
       "  <tbody>\n",
       "    <tr>\n",
       "      <th>0</th>\n",
       "      <td>0</td>\n",
       "      <td>Publication: https://doi.org/10.1016/j.isci.20...</td>\n",
       "      <td>8e880741-bf9a-4c8e-9227-934204631d2a</td>\n",
       "      <td>High Resolution Slide-seqV2 Spatial Transcript...</td>\n",
       "      <td>10.1016/j.isci.2022.104097</td>\n",
       "      <td>Marshall et al. (2022) iScience</td>\n",
       "      <td>4eb29386-de81-452f-b3c0-e00844e8c7fd</td>\n",
       "      <td>f76861bb-becb-4eb7-82fc-782dc96ccc7f</td>\n",
       "      <td>Spatial transcriptomics in mouse: Puck_191112_05</td>\n",
       "      <td>4eb29386-de81-452f-b3c0-e00844e8c7fd.h5ad</td>\n",
       "      <td>10888</td>\n",
       "    </tr>\n",
       "    <tr>\n",
       "      <th>1</th>\n",
       "      <td>1</td>\n",
       "      <td>Publication: https://doi.org/10.1016/j.isci.20...</td>\n",
       "      <td>8e880741-bf9a-4c8e-9227-934204631d2a</td>\n",
       "      <td>High Resolution Slide-seqV2 Spatial Transcript...</td>\n",
       "      <td>10.1016/j.isci.2022.104097</td>\n",
       "      <td>Marshall et al. (2022) iScience</td>\n",
       "      <td>78d59e4a-82eb-4a61-a1dc-da974d7ea54b</td>\n",
       "      <td>7d7ec1b6-6e3f-4aaa-9442-4b22f3424396</td>\n",
       "      <td>Spatial transcriptomics in mouse: Puck_191112_08</td>\n",
       "      <td>78d59e4a-82eb-4a61-a1dc-da974d7ea54b.h5ad</td>\n",
       "      <td>10250</td>\n",
       "    </tr>\n",
       "    <tr>\n",
       "      <th>2</th>\n",
       "      <td>2</td>\n",
       "      <td>Publication: https://doi.org/10.1016/j.isci.20...</td>\n",
       "      <td>8e880741-bf9a-4c8e-9227-934204631d2a</td>\n",
       "      <td>High Resolution Slide-seqV2 Spatial Transcript...</td>\n",
       "      <td>10.1016/j.isci.2022.104097</td>\n",
       "      <td>Marshall et al. (2022) iScience</td>\n",
       "      <td>add5eb84-5fc9-4f01-982e-a346dd42ee82</td>\n",
       "      <td>de54aed8-4f73-48f6-9229-418a840e2d82</td>\n",
       "      <td>Spatial transcriptomics in mouse: Puck_191109_20</td>\n",
       "      <td>add5eb84-5fc9-4f01-982e-a346dd42ee82.h5ad</td>\n",
       "      <td>12906</td>\n",
       "    </tr>\n",
       "    <tr>\n",
       "      <th>3</th>\n",
       "      <td>3</td>\n",
       "      <td>Publication: https://doi.org/10.1016/j.isci.20...</td>\n",
       "      <td>8e880741-bf9a-4c8e-9227-934204631d2a</td>\n",
       "      <td>High Resolution Slide-seqV2 Spatial Transcript...</td>\n",
       "      <td>10.1016/j.isci.2022.104097</td>\n",
       "      <td>Marshall et al. (2022) iScience</td>\n",
       "      <td>b020294c-ab82-4547-b5a7-63d8ffa575ed</td>\n",
       "      <td>abe4fce1-0859-4a56-ad1e-734d79f0e6c8</td>\n",
       "      <td>Spatial transcriptomics in mouse: Puck_191112_13</td>\n",
       "      <td>b020294c-ab82-4547-b5a7-63d8ffa575ed.h5ad</td>\n",
       "      <td>15161</td>\n",
       "    </tr>\n",
       "    <tr>\n",
       "      <th>4</th>\n",
       "      <td>4</td>\n",
       "      <td>Publication: https://doi.org/10.1038/s41591-02...</td>\n",
       "      <td>a96133de-e951-4e2d-ace6-59db8b3bfb1d</td>\n",
       "      <td>HTAN/HTAPP Broad - Spatio-molecular dissection...</td>\n",
       "      <td>10.1038/s41591-024-03215-z</td>\n",
       "      <td>Klughammer et al. (2024) Nat Med</td>\n",
       "      <td>d7476ae2-e320-4703-8304-da5c42627e71</td>\n",
       "      <td>863fc5e4-bd4a-4681-9c3d-0ee7ef54e327</td>\n",
       "      <td>HTAPP-330-SMP-1082 scRNA-seq</td>\n",
       "      <td>d7476ae2-e320-4703-8304-da5c42627e71.h5ad</td>\n",
       "      <td>565</td>\n",
       "    </tr>\n",
       "  </tbody>\n",
       "</table>\n",
       "</div>"
      ],
      "text/plain": [
       "   soma_joinid                                           citation  \\\n",
       "0            0  Publication: https://doi.org/10.1016/j.isci.20...   \n",
       "1            1  Publication: https://doi.org/10.1016/j.isci.20...   \n",
       "2            2  Publication: https://doi.org/10.1016/j.isci.20...   \n",
       "3            3  Publication: https://doi.org/10.1016/j.isci.20...   \n",
       "4            4  Publication: https://doi.org/10.1038/s41591-02...   \n",
       "\n",
       "                          collection_id  \\\n",
       "0  8e880741-bf9a-4c8e-9227-934204631d2a   \n",
       "1  8e880741-bf9a-4c8e-9227-934204631d2a   \n",
       "2  8e880741-bf9a-4c8e-9227-934204631d2a   \n",
       "3  8e880741-bf9a-4c8e-9227-934204631d2a   \n",
       "4  a96133de-e951-4e2d-ace6-59db8b3bfb1d   \n",
       "\n",
       "                                     collection_name  \\\n",
       "0  High Resolution Slide-seqV2 Spatial Transcript...   \n",
       "1  High Resolution Slide-seqV2 Spatial Transcript...   \n",
       "2  High Resolution Slide-seqV2 Spatial Transcript...   \n",
       "3  High Resolution Slide-seqV2 Spatial Transcript...   \n",
       "4  HTAN/HTAPP Broad - Spatio-molecular dissection...   \n",
       "\n",
       "               collection_doi              collection_doi_label  \\\n",
       "0  10.1016/j.isci.2022.104097   Marshall et al. (2022) iScience   \n",
       "1  10.1016/j.isci.2022.104097   Marshall et al. (2022) iScience   \n",
       "2  10.1016/j.isci.2022.104097   Marshall et al. (2022) iScience   \n",
       "3  10.1016/j.isci.2022.104097   Marshall et al. (2022) iScience   \n",
       "4  10.1038/s41591-024-03215-z  Klughammer et al. (2024) Nat Med   \n",
       "\n",
       "                             dataset_id                    dataset_version_id  \\\n",
       "0  4eb29386-de81-452f-b3c0-e00844e8c7fd  f76861bb-becb-4eb7-82fc-782dc96ccc7f   \n",
       "1  78d59e4a-82eb-4a61-a1dc-da974d7ea54b  7d7ec1b6-6e3f-4aaa-9442-4b22f3424396   \n",
       "2  add5eb84-5fc9-4f01-982e-a346dd42ee82  de54aed8-4f73-48f6-9229-418a840e2d82   \n",
       "3  b020294c-ab82-4547-b5a7-63d8ffa575ed  abe4fce1-0859-4a56-ad1e-734d79f0e6c8   \n",
       "4  d7476ae2-e320-4703-8304-da5c42627e71  863fc5e4-bd4a-4681-9c3d-0ee7ef54e327   \n",
       "\n",
       "                                      dataset_title  \\\n",
       "0  Spatial transcriptomics in mouse: Puck_191112_05   \n",
       "1  Spatial transcriptomics in mouse: Puck_191112_08   \n",
       "2  Spatial transcriptomics in mouse: Puck_191109_20   \n",
       "3  Spatial transcriptomics in mouse: Puck_191112_13   \n",
       "4                      HTAPP-330-SMP-1082 scRNA-seq   \n",
       "\n",
       "                           dataset_h5ad_path  dataset_total_cell_count  \n",
       "0  4eb29386-de81-452f-b3c0-e00844e8c7fd.h5ad                     10888  \n",
       "1  78d59e4a-82eb-4a61-a1dc-da974d7ea54b.h5ad                     10250  \n",
       "2  add5eb84-5fc9-4f01-982e-a346dd42ee82.h5ad                     12906  \n",
       "3  b020294c-ab82-4547-b5a7-63d8ffa575ed.h5ad                     15161  \n",
       "4  d7476ae2-e320-4703-8304-da5c42627e71.h5ad                       565  "
      ]
     },
     "execution_count": 94,
     "metadata": {},
     "output_type": "execute_result"
    }
   ],
   "source": [
    "datasets_data = census[\"census_info\"][\"datasets\"].read().concat().to_pandas()\n",
    "datasets_data.head()"
   ]
  },
  {
   "cell_type": "markdown",
   "id": "3cafbda5-29b4-46b9-bb83-d5e3a6a58a02",
   "metadata": {},
   "source": [
    "To view the columns that are available for us to use for filtering the data using `value_filter` and/or to define a split, we'll read a single sample coalesce to pandas and print out the columns.  To learn more about using these operations, check out the notebook https://cloud.tiledb.com/notebooks/details/TileDB-Inc/a41fdf2c-6e69-415b-8598-1829b1998909/preview"
   ]
  },
  {
   "cell_type": "code",
   "execution_count": 95,
   "id": "5139fe89-26ff-4816-8c84-d594bd77dd8c",
   "metadata": {},
   "outputs": [
    {
     "data": {
      "text/plain": [
       "Index(['soma_joinid', 'dataset_id', 'assay', 'assay_ontology_term_id',\n",
       "       'cell_type', 'cell_type_ontology_term_id', 'development_stage',\n",
       "       'development_stage_ontology_term_id', 'disease',\n",
       "       'disease_ontology_term_id', 'donor_id', 'is_primary_data',\n",
       "       'observation_joinid', 'self_reported_ethnicity',\n",
       "       'self_reported_ethnicity_ontology_term_id', 'sex',\n",
       "       'sex_ontology_term_id', 'suspension_type', 'tissue',\n",
       "       'tissue_ontology_term_id', 'tissue_type', 'tissue_general',\n",
       "       'tissue_general_ontology_term_id', 'raw_sum', 'nnz', 'raw_mean_nnz',\n",
       "       'raw_variance_nnz', 'n_measured_vars'],\n",
       "      dtype='object')"
      ]
     },
     "execution_count": 95,
     "metadata": {},
     "output_type": "execute_result"
    }
   ],
   "source": [
    "dataset_columns = (\n",
    "    experiment.obs.read(\n",
    "        coords=[0],\n",
    "        value_filter=\"is_primary_data==True and nnz > 2\",\n",
    "    )\n",
    "    .concat()\n",
    "    .to_pandas()\n",
    "    .columns\n",
    ")\n",
    "dataset_columns"
   ]
  },
  {
   "cell_type": "markdown",
   "id": "417e01c2-6640-49c1-a7b8-085fe5e612f9",
   "metadata": {},
   "source": [
    "The full documentation for these columns can be found in CellXGene's schema document\n",
    "https://github.com/chanzuckerberg/single-cell-curation/blob/main/schema/3.0.0/schema.md\n",
    "\n",
    "Let's see how many samples we have in this version of the dataset (`is_primary_data==True` removes duplicates)"
   ]
  },
  {
   "cell_type": "code",
   "execution_count": 96,
   "id": "01825254-2a4d-461b-b73f-13fd68cb11b3",
   "metadata": {},
   "outputs": [],
   "source": [
    "samples_df = (\n",
    "    experiment.obs.read(\n",
    "        value_filter=\"is_primary_data==True\",\n",
    "        column_names=[\n",
    "            \"dataset_id\",\n",
    "            \"assay\",\n",
    "            \"suspension_type\",\n",
    "            \"cell_type\",\n",
    "            \"donor_id\",\n",
    "            \"disease\",\n",
    "            \"tissue\",\n",
    "            \"tissue_type\",\n",
    "            \"tissue_general\",\n",
    "            \"nnz\",\n",
    "        ],\n",
    "    )\n",
    "    .concat()\n",
    "    .to_pandas()\n",
    ")"
   ]
  },
  {
   "cell_type": "code",
   "execution_count": 97,
   "id": "c83c8c77-287d-4274-a885-bfdb6c441a4c",
   "metadata": {
    "scrolled": true
   },
   "outputs": [
    {
     "data": {
      "text/plain": [
       "(62634126, 11)"
      ]
     },
     "execution_count": 97,
     "metadata": {},
     "output_type": "execute_result"
    }
   ],
   "source": [
    "samples_df.shape"
   ]
  },
  {
   "cell_type": "code",
   "execution_count": 98,
   "id": "a9f80875",
   "metadata": {},
   "outputs": [],
   "source": [
    "pd.set_option(\"display.max_rows\", 150)\n",
    "microglia_datasets = samples_df.query(\n",
    "    'tissue_general == \"brain\" & (cell_type == \"microglial cell\" | cell_type == \"mature microglial cell\") & (disease == \"Alzheimer disease\" | disease == \"normal\")'\n",
    "    ).groupby(['dataset_id',  'disease'],observed=True).count().query('nnz > 100').iloc[:,0]"
   ]
  },
  {
   "cell_type": "code",
   "execution_count": 99,
   "id": "1a313f8c",
   "metadata": {},
   "outputs": [
    {
     "data": {
      "text/plain": [
       "array(['A human cell atlas of fetal gene expression',\n",
       "       'Automatic cell-type harmonization and integration across Human Cell Atlas datasets',\n",
       "       'Brain matters: Unveiling the Distinct Contributions of Region, Age, and Sex to Glia diversity and CNS Function',\n",
       "       'Cellular development and evolution of the mammalian cerebellum',\n",
       "       'Cortical brain samples from C9-ALS, C9-ALS/FTD, C9-FTD patients and age matched controls',\n",
       "       'Cross-dementia human brain snRNA-seq (Rexach et al 2024)',\n",
       "       'Deciphering glial contributions to CSF1R-related disorder via single-nuclear transcriptomic profiling',\n",
       "       'HVS: Human variation study', 'Human developing neocortex by area',\n",
       "       'Live Human Microglia Single-cell RNA-seq',\n",
       "       'Molecular Signatures of Resilience to Alzheimer’s Disease in Neocortical Layer 4 Neurons',\n",
       "       'Molecular and cellular evolution of the primate dorsolateral prefrontal cortex',\n",
       "       \"Molecular characterization of selectively vulnerable neurons in Alzheimer's Disease\",\n",
       "       'Protracted Neuronal Recruitment in the Temporal Lobe of Young Children',\n",
       "       'SEA-AD: Seattle Alzheimer’s Disease Brain Cell Atlas',\n",
       "       'Single-cell analysis of prenatal and postnatal human cortical development',\n",
       "       'Spatial and cell type transcriptional landscape of human cerebellar development',\n",
       "       'Transcriptional responses of the human dorsal striatum in opioid use disorder implicates cell type-specifc programs',\n",
       "       'Transcriptomic cytoarchitecture reveals principles of human neocortex organization'],\n",
       "      dtype=object)"
      ]
     },
     "execution_count": 99,
     "metadata": {},
     "output_type": "execute_result"
    }
   ],
   "source": [
    "from rich import print\n",
    "\n",
    "datasets_data.set_index(\"dataset_id\").loc[microglia_datasets.index.get_level_values(0).unique()][[\"collection_name\", \"dataset_title\"]].collection_name.sort_values().unique()\n"
   ]
  },
  {
   "cell_type": "markdown",
   "id": "d3f40fc9",
   "metadata": {},
   "source": []
  },
  {
   "cell_type": "markdown",
   "id": "2efd2566-67d5-4dde-889e-a95b20a20a17",
   "metadata": {},
   "source": [
    "It's worth noting that we have a variety of different assays here, and we may need to make use of this information at some point:"
   ]
  },
  {
   "cell_type": "code",
   "execution_count": 100,
   "id": "6c10149d-5d31-4333-b7c2-84b34f263a82",
   "metadata": {
    "scrolled": true
   },
   "outputs": [
    {
     "name": "stderr",
     "output_type": "stream",
     "text": [
      "/tmp/ipykernel_1241812/2738154594.py:1: FutureWarning: The default of observed=False is deprecated and will be changed to True in a future version of pandas. Pass observed=False to retain current behavior or observed=True to adopt the future default and silence this warning.\n",
      "  samples_df[[\"assay\", \"dataset_id\"]].drop_duplicates().groupby(\n"
     ]
    },
    {
     "data": {
      "text/plain": [
       "assay\n",
       "Quartz-seq                                    1\n",
       "inDrop                                        1\n",
       "Smart-seq3                                    1\n",
       "Smart-seq v4                                  1\n",
       "Smart-seq                                     1\n",
       "SORT-seq                                      1\n",
       "GEXSCOPE technology                           1\n",
       "sci-RNA-seq3                                  1\n",
       "ScaleBio single cell RNA sequencing           2\n",
       "MARS-seq                                      2\n",
       "microwell-seq                                 2\n",
       "STRT-seq                                      2\n",
       "SPLiT-seq                                     2\n",
       "TruDrop                                       3\n",
       "Seq-Well S3                                   3\n",
       "Seq-Well                                      3\n",
       "10x gene expression flex                      3\n",
       "BD Rhapsody Targeted mRNA                     3\n",
       "10x 3' transcription profiling                3\n",
       "CEL-seq2                                      5\n",
       "10x 3' v1                                     5\n",
       "BD Rhapsody Whole Transcriptome Analysis      6\n",
       "10x 5' transcription profiling                7\n",
       "Drop-seq                                      9\n",
       "Smart-seq2                                   10\n",
       "10x 5' v2                                    17\n",
       "10x 5' v1                                    49\n",
       "10x 3' v2                                   130\n",
       "10x 3' v3                                   347\n",
       "Name: dataset_id, dtype: int64"
      ]
     },
     "execution_count": 100,
     "metadata": {},
     "output_type": "execute_result"
    }
   ],
   "source": [
    "samples_df[[\"assay\", \"dataset_id\"]].drop_duplicates().groupby(\n",
    "    \"assay\"\n",
    ").count().squeeze().sort_values()"
   ]
  },
  {
   "cell_type": "markdown",
   "id": "a1d4b5d0-bf3c-42d4-8a93-e70722ce0abc",
   "metadata": {},
   "source": [
    "Not all datasets are the same size, not by a longshot. We actually have 6 orders of magnitude in dataset size. Yikes."
   ]
  },
  {
   "cell_type": "code",
   "execution_count": 101,
   "id": "bb085e9b-87ef-4f54-be8e-780dec7dcbc1",
   "metadata": {
    "scrolled": true
   },
   "outputs": [
    {
     "name": "stderr",
     "output_type": "stream",
     "text": [
      "/tmp/ipykernel_1241812/1968566613.py:1: FutureWarning: The default of observed=False is deprecated and will be changed to True in a future version of pandas. Pass observed=False to retain current behavior or observed=True to adopt the future default and silence this warning.\n",
      "  samples_df.groupby(\"dataset_id\").count().iloc[:, 0].hist(bins=np.logspace(0, 7, 20))\n"
     ]
    },
    {
     "data": {
      "image/png": "[encoded data removed]",
      "text/plain": [
       "<Figure size 640x480 with 1 Axes>"
      ]
     },
     "metadata": {},
     "output_type": "display_data"
    }
   ],
   "source": [
    "samples_df.groupby(\"dataset_id\").count().iloc[:, 0].hist(bins=np.logspace(0, 7, 20))\n",
    "plt.xscale(\"log\")"
   ]
  },
  {
   "cell_type": "markdown",
   "id": "2aec0748-f4c1-40ce-921c-3ac005ca2ee5",
   "metadata": {},
   "source": [
    "Let's look at the non-zero counts. How many samples have more than a certain number of non-zero reads? This is critically important for the purpose of context windows. Let's start by just plotting all the counts:"
   ]
  },
  {
   "cell_type": "code",
   "execution_count": 102,
   "id": "c47693a0-8e99-4626-9f5c-3c6a1adf8954",
   "metadata": {},
   "outputs": [
    {
     "data": {
      "image/png": "[encoded data removed]",
      "text/plain": [
       "<Figure size 640x480 with 1 Axes>"
      ]
     },
     "metadata": {},
     "output_type": "display_data"
    }
   ],
   "source": [
    "nnz_counts = samples_df.nnz.value_counts()\n",
    "nnz_counts.sort_index().plot()\n",
    "plt.xscale(\"log\")"
   ]
  },
  {
   "cell_type": "code",
   "execution_count": 103,
   "id": "c9db4553-8ff2-4a57-a4a9-abbc65ca943d",
   "metadata": {},
   "outputs": [
    {
     "data": {
      "text/plain": [
       "(1.8686497081515405, 38814)"
      ]
     },
     "execution_count": 103,
     "metadata": {},
     "output_type": "execute_result"
    },
    {
     "data": {
      "image/png": "[encoded data removed]",
      "text/plain": [
       "<Figure size 640x480 with 1 Axes>"
      ]
     },
     "metadata": {},
     "output_type": "display_data"
    }
   ],
   "source": [
    "_ = plt.hist(samples_df.nnz, bins=1000, density=True, cumulative=True, histtype=\"step\")\n",
    "for h in [0.25, 0.5, 0.75]:\n",
    "    plt.axhline(h, ls=\":\", color=\"orange\")\n",
    "plt.xscale(\"log\")\n",
    "plt.grid(\"on\")\n",
    "plt.xlabel(\"Number of nonzero reads\")\n",
    "plt.ylabel(\"Fraction of samples with fewer nonzero reads\")\n",
    "plt.tight_layout()\n",
    "plt.xlim(xmax=samples_df.nnz.max())"
   ]
  },
  {
   "cell_type": "code",
   "execution_count": 104,
   "id": "16b7ae80-7b72-4189-a6c8-43ad20f80c31",
   "metadata": {},
   "outputs": [
    {
     "data": {
      "text/plain": [
       "0.00        3\n",
       "0.05      374\n",
       "0.10      550\n",
       "0.15      697\n",
       "0.20      835\n",
       "0.25      973\n",
       "0.30     1110\n",
       "0.35     1251\n",
       "0.40     1397\n",
       "0.45     1550\n",
       "0.50     1711\n",
       "0.55     1883\n",
       "0.60     2073\n",
       "0.65     2290\n",
       "0.70     2546\n",
       "0.75     2864\n",
       "0.80     3276\n",
       "0.85     3850\n",
       "0.90     4718\n",
       "0.95     6133\n",
       "1.00    38814\n",
       "dtype: int64"
      ]
     },
     "execution_count": 104,
     "metadata": {},
     "output_type": "execute_result"
    }
   ],
   "source": [
    "q = np.arange(0, 1.01, 0.05)\n",
    "qvals = np.quantile(samples_df.nnz, q)\n",
    "pd.Series(qvals, index=q, dtype=int)"
   ]
  },
  {
   "cell_type": "markdown",
   "id": "c698928b-60d8-4ed2-b59f-74db10f9e173",
   "metadata": {},
   "source": [
    "From here we see that less than 15% of samples have only 512 nonzero reads! The good news is that getting from 1024 to 2048 covers a comfortable majority of all samples. Pushing above 4096 is definitely diminishing returns in terms of nonzeros."
   ]
  },
  {
   "cell_type": "markdown",
   "id": "fdc214b7-544a-4463-9547-499de0e75475",
   "metadata": {},
   "source": [
    "## Create dataset x cell type dataframe\n",
    "\n",
    "We want to be able to split the full CellxGene dataset by `dataset_id`, ie to use some component datasets for training and others for validation. Furthermore, since cell-types are particularly important we want to be sure that we have a good split of cell-types and not end up doing the entire training without encountering certain cell-types OR to run validation without checking certain cell-types. \n",
    "\n",
    "So we will create a dataframe that lists how many of every cell type we have for every dataset and use that for creating our split."
   ]
  },
  {
   "cell_type": "code",
   "execution_count": 105,
   "id": "a564367b-581a-490d-9041-bcf1197c00b7",
   "metadata": {},
   "outputs": [],
   "source": [
    "def rowcolsort(df, ascending=False):\n",
    "    row_sums = (df > 0).sum(axis=1)\n",
    "    col_sums = (df > 0).sum(axis=0)\n",
    "    return df.loc[\n",
    "        row_sums.sort_values(ascending=ascending).index,\n",
    "        col_sums.sort_values(ascending=ascending).index,\n",
    "    ]\n",
    "\n",
    "\n",
    "def make_dataset_celltype_df(samples_df, use_rowcolsort=True):\n",
    "    dataset_df = samples_df.groupby([\"dataset_id\", \"cell_type\"], observed=True).count()\n",
    "    dataset_df = dataset_df.iloc[:, 0].rename(\"sample_count\").reset_index()\n",
    "    pivoted_df = dataset_df.pivot_table(\n",
    "        index=[\"dataset_id\"], columns=\"cell_type\", values=\"sample_count\", observed=True\n",
    "    )\n",
    "    dataset_celltype_df = (\n",
    "        pivoted_df.fillna(0).reset_index().map(lambda x: int(x) if isinstance(x, float) else x)\n",
    "        .set_index(\"dataset_id\")\n",
    "    )\n",
    "    if use_rowcolsort:\n",
    "        dataset_celltype_df = rowcolsort(dataset_celltype_df, ascending=False)\n",
    "    return dataset_celltype_df"
   ]
  },
  {
   "cell_type": "code",
   "execution_count": 106,
   "id": "1fb9c599-4a7e-40ce-9f0f-896469551048",
   "metadata": {},
   "outputs": [],
   "source": [
    "dataset_celltype_df = make_dataset_celltype_df(samples_df)"
   ]
  },
  {
   "cell_type": "markdown",
   "id": "f83c5043-942f-403b-bfa3-eff45e44c3fa",
   "metadata": {},
   "source": [
    "## Create celltype split\n",
    "\n",
    "The logic behind this split is to try and maximize the samples in train while ensuring that every cell-type has at least one sample in validation. Since we are splitting by dataset, that means taking each dataset and assigning it to either validation or train based on the following check. If the dataset has cell-types which have never been seen before, assign it to train. If the dataset has cell-types which have been seen in train but not in validation, assign it to validation. If all of the dataset's cell-types have been seen in train and in validation, assign it to train.\n",
    "\n",
    "The logic of the sorting is to start on the datasets with fewest celltypes and samples so that we can get validation taken care of without giving up too many samples from train.\n",
    "\n",
    "One could definitely propose a more sophisticated process for assigning datasets which would optimize the twin objectives of maximal volume in training and maximal breadth in validation. But we didn't invest the time in that at this point. This split seems good enough and there's no such thing as a \"perfect\" split. The code base is open to future, superior splits."
   ]
  },
  {
   "cell_type": "code",
   "execution_count": 107,
   "id": "6693f7f2-a688-4880-9cee-17388e93c534",
   "metadata": {},
   "outputs": [],
   "source": [
    "def add_cell_type_split_to_dataframe(dataset_celltype_df):\n",
    "    train_cell_types = set()\n",
    "    validation_cell_types = set()\n",
    "    train_datasets = set()\n",
    "    validation_datasets = set()\n",
    "    for dataset_id, row in dataset_celltype_df.iterrows():\n",
    "        cell_types = set(row[row > 0].index.to_list())\n",
    "        if not cell_types.issubset(validation_cell_types) and cell_types.issubset(\n",
    "            train_cell_types\n",
    "        ):\n",
    "            validation_cell_types.update(cell_types)\n",
    "            validation_datasets.add(dataset_id)\n",
    "        else:\n",
    "            train_cell_types.update(cell_types)\n",
    "            train_datasets.add(dataset_id)\n",
    "    dataset_celltype_df.loc[list(train_datasets), \"split\"] = \"train\"\n",
    "    dataset_celltype_df.loc[list(validation_datasets), \"split\"] = \"dev\"\n",
    "    return dataset_celltype_df"
   ]
  },
  {
   "cell_type": "code",
   "execution_count": 108,
   "id": "240f609d-7500-489f-8828-cf3408da8633",
   "metadata": {},
   "outputs": [],
   "source": [
    "dataset_celltype_df = add_cell_type_split_to_dataframe(dataset_celltype_df)"
   ]
  },
  {
   "cell_type": "markdown",
   "id": "66277527-3969-4118-b4bd-e2ed6d9c3f69",
   "metadata": {},
   "source": [
    "Let's check how many samples we had in each split:"
   ]
  },
  {
   "cell_type": "code",
   "execution_count": 109,
   "id": "80280f81-689f-4fbe-a298-bcc2d4ce0a37",
   "metadata": {},
   "outputs": [
    {
     "data": {
      "text/plain": [
       "split\n",
       "dev      12671354\n",
       "train    49962772\n",
       "dtype: int64"
      ]
     },
     "execution_count": 109,
     "metadata": {},
     "output_type": "execute_result"
    }
   ],
   "source": [
    "split_counts = dataset_celltype_df.groupby(\"split\").sum().sum(axis=1)\n",
    "split_counts"
   ]
  },
  {
   "cell_type": "code",
   "execution_count": 110,
   "id": "12d90577-b382-4420-ae04-6ea87bb99639",
   "metadata": {},
   "outputs": [
    {
     "data": {
      "text/html": [
       "<pre style=\"white-space:pre;overflow-x:auto;line-height:normal;font-family:Menlo,'DejaVu Sans Mono',consolas,'Courier New',monospace\">Fractions of total cells in splits:\n",
       "         train: <span style=\"color: #008080; text-decoration-color: #008080; font-weight: bold\">0.7976924911509103</span> \n",
       "         dev: <span style=\"color: #008080; text-decoration-color: #008080; font-weight: bold\">0.2023075088490897</span>\n",
       "</pre>\n"
      ],
      "text/plain": [
       "Fractions of total cells in splits:\n",
       "         train: \u001b[1;36m0.7976924911509103\u001b[0m \n",
       "         dev: \u001b[1;36m0.2023075088490897\u001b[0m\n"
      ]
     },
     "metadata": {},
     "output_type": "display_data"
    }
   ],
   "source": [
    "print(\n",
    "    f\"Fractions of total cells in splits:\\n\\t train: {split_counts['train'] / split_counts.sum()} \\n\\t dev: {split_counts['dev'] / split_counts.sum()}\"\n",
    ")"
   ]
  },
  {
   "cell_type": "markdown",
   "id": "43afa038-c7ec-4ecc-a4d8-115c1b4c15fc",
   "metadata": {},
   "source": [
    "This is approximately what we would like, and it's doubtful we could do much better in terms of the split's effect on model quality. \n",
    "\n",
    "It is also instructive to look at the number of datasets in each split:"
   ]
  },
  {
   "cell_type": "code",
   "execution_count": 111,
   "id": "6906a525-9b2b-41c2-9cbc-b2b6a9d6c301",
   "metadata": {},
   "outputs": [
    {
     "data": {
      "text/plain": [
       "split\n",
       "train    394\n",
       "dev       85\n",
       "Name: count, dtype: int64"
      ]
     },
     "execution_count": 111,
     "metadata": {},
     "output_type": "execute_result"
    }
   ],
   "source": [
    "dataset_celltype_df.split.value_counts()"
   ]
  },
  {
   "cell_type": "markdown",
   "id": "e10ba824-a2e0-4b08-a704-af1871f422e9",
   "metadata": {},
   "source": [
    "Broadly speaking this is a good split. It avoids the problem of using samples that are too close to each other in train and validation, it guarantees full cell-type coverage in train, and it approximately maximizes cell-type coverage in validation. \n",
    "\n",
    "We will save it, and it will become our default split:"
   ]
  },
  {
   "cell_type": "code",
   "execution_count": 112,
   "id": "9cf36f24-a955-4e5f-a8d7-50ff42474cda",
   "metadata": {},
   "outputs": [],
   "source": [
    "dataset_celltype_df.to_csv(\"celltypes_split.csv\")"
   ]
  },
  {
   "cell_type": "markdown",
   "id": "a6d48335-b523-43f4-b1ba-f1a565e45bc7",
   "metadata": {},
   "source": [
    "## Deeper dive into split counts\n",
    "\n",
    "If we want to dive in a little deeper, we can ask how many of every cell type there are in each split and in each dataset. Ideally, we would have more datasets and more samples of every cell-type in train than in dev. We see that that is almost, but not quite the case."
   ]
  },
  {
   "cell_type": "code",
   "execution_count": 113,
   "id": "01b6851b-ff65-4a7b-bea4-f96309d10f58",
   "metadata": {
    "scrolled": true
   },
   "outputs": [
    {
     "data": {
      "text/html": [
       "<div>\n",
       "<style scoped>\n",
       "    .dataframe tbody tr th:only-of-type {\n",
       "        vertical-align: middle;\n",
       "    }\n",
       "\n",
       "    .dataframe tbody tr th {\n",
       "        vertical-align: top;\n",
       "    }\n",
       "\n",
       "    .dataframe thead th {\n",
       "        text-align: right;\n",
       "    }\n",
       "</style>\n",
       "<table border=\"1\" class=\"dataframe\">\n",
       "  <thead>\n",
       "    <tr style=\"text-align: right;\">\n",
       "      <th>split</th>\n",
       "      <th>dev</th>\n",
       "      <th>train</th>\n",
       "      <th>dev</th>\n",
       "      <th>train</th>\n",
       "    </tr>\n",
       "    <tr>\n",
       "      <th>cell_type</th>\n",
       "      <th></th>\n",
       "      <th></th>\n",
       "      <th></th>\n",
       "      <th></th>\n",
       "    </tr>\n",
       "  </thead>\n",
       "  <tbody>\n",
       "    <tr>\n",
       "      <th>endothelial cell</th>\n",
       "      <td>29</td>\n",
       "      <td>175</td>\n",
       "      <td>137913</td>\n",
       "      <td>438082</td>\n",
       "    </tr>\n",
       "    <tr>\n",
       "      <th>fibroblast</th>\n",
       "      <td>24</td>\n",
       "      <td>159</td>\n",
       "      <td>470864</td>\n",
       "      <td>1028892</td>\n",
       "    </tr>\n",
       "    <tr>\n",
       "      <th>pericyte</th>\n",
       "      <td>16</td>\n",
       "      <td>153</td>\n",
       "      <td>67541</td>\n",
       "      <td>227450</td>\n",
       "    </tr>\n",
       "    <tr>\n",
       "      <th>B cell</th>\n",
       "      <td>29</td>\n",
       "      <td>111</td>\n",
       "      <td>235776</td>\n",
       "      <td>1106312</td>\n",
       "    </tr>\n",
       "    <tr>\n",
       "      <th>oligodendrocyte</th>\n",
       "      <td>8</td>\n",
       "      <td>132</td>\n",
       "      <td>1355092</td>\n",
       "      <td>1458195</td>\n",
       "    </tr>\n",
       "    <tr>\n",
       "      <th>...</th>\n",
       "      <td>...</td>\n",
       "      <td>...</td>\n",
       "      <td>...</td>\n",
       "      <td>...</td>\n",
       "    </tr>\n",
       "    <tr>\n",
       "      <th>large intestine goblet cell</th>\n",
       "      <td>0</td>\n",
       "      <td>1</td>\n",
       "      <td>0</td>\n",
       "      <td>1557</td>\n",
       "    </tr>\n",
       "    <tr>\n",
       "      <th>Tc1 cell</th>\n",
       "      <td>0</td>\n",
       "      <td>1</td>\n",
       "      <td>0</td>\n",
       "      <td>1408</td>\n",
       "    </tr>\n",
       "    <tr>\n",
       "      <th>lactocyte</th>\n",
       "      <td>0</td>\n",
       "      <td>1</td>\n",
       "      <td>0</td>\n",
       "      <td>15973</td>\n",
       "    </tr>\n",
       "    <tr>\n",
       "      <th>kidney resident macrophage</th>\n",
       "      <td>0</td>\n",
       "      <td>1</td>\n",
       "      <td>0</td>\n",
       "      <td>87</td>\n",
       "    </tr>\n",
       "    <tr>\n",
       "      <th>visceromotor neuron</th>\n",
       "      <td>0</td>\n",
       "      <td>1</td>\n",
       "      <td>0</td>\n",
       "      <td>610</td>\n",
       "    </tr>\n",
       "  </tbody>\n",
       "</table>\n",
       "<p>794 rows × 4 columns</p>\n",
       "</div>"
      ],
      "text/plain": [
       "split                        dev  train      dev    train\n",
       "cell_type                                                \n",
       "endothelial cell              29    175   137913   438082\n",
       "fibroblast                    24    159   470864  1028892\n",
       "pericyte                      16    153    67541   227450\n",
       "B cell                        29    111   235776  1106312\n",
       "oligodendrocyte                8    132  1355092  1458195\n",
       "...                          ...    ...      ...      ...\n",
       "large intestine goblet cell    0      1        0     1557\n",
       "Tc1 cell                       0      1        0     1408\n",
       "lactocyte                      0      1        0    15973\n",
       "kidney resident macrophage     0      1        0       87\n",
       "visceromotor neuron            0      1        0      610\n",
       "\n",
       "[794 rows x 4 columns]"
      ]
     },
     "execution_count": 113,
     "metadata": {},
     "output_type": "execute_result"
    }
   ],
   "source": [
    "split = dataset_celltype_df.pop(\"split\")\n",
    "split_dataset_count_df = (dataset_celltype_df > 0).groupby(split).sum().T\n",
    "split_cell_count_df = dataset_celltype_df.groupby(split).sum().T\n",
    "dataset_celltype_df = dataset_celltype_df.assign(split=split)\n",
    "pd.concat([split_dataset_count_df, split_cell_count_df], axis=1)"
   ]
  },
  {
   "cell_type": "code",
   "execution_count": 114,
   "id": "faa4e78a",
   "metadata": {},
   "outputs": [
    {
     "data": {
      "text/html": [
       "<div>\n",
       "<style scoped>\n",
       "    .dataframe tbody tr th:only-of-type {\n",
       "        vertical-align: middle;\n",
       "    }\n",
       "\n",
       "    .dataframe tbody tr th {\n",
       "        vertical-align: top;\n",
       "    }\n",
       "\n",
       "    .dataframe thead th {\n",
       "        text-align: right;\n",
       "    }\n",
       "</style>\n",
       "<table border=\"1\" class=\"dataframe\">\n",
       "  <thead>\n",
       "    <tr style=\"text-align: right;\">\n",
       "      <th></th>\n",
       "      <th>microglial cell</th>\n",
       "    </tr>\n",
       "    <tr>\n",
       "      <th>split</th>\n",
       "      <th></th>\n",
       "    </tr>\n",
       "  </thead>\n",
       "  <tbody>\n",
       "    <tr>\n",
       "      <th>dev</th>\n",
       "      <td>7</td>\n",
       "    </tr>\n",
       "    <tr>\n",
       "      <th>train</th>\n",
       "      <td>36</td>\n",
       "    </tr>\n",
       "    <tr>\n",
       "      <th>dev</th>\n",
       "      <td>51637</td>\n",
       "    </tr>\n",
       "    <tr>\n",
       "      <th>train</th>\n",
       "      <td>390055</td>\n",
       "    </tr>\n",
       "  </tbody>\n",
       "</table>\n",
       "</div>"
      ],
      "text/plain": [
       "       microglial cell\n",
       "split                 \n",
       "dev                  7\n",
       "train               36\n",
       "dev              51637\n",
       "train           390055"
      ]
     },
     "execution_count": 114,
     "metadata": {},
     "output_type": "execute_result"
    }
   ],
   "source": [
    "pd.concat([split_dataset_count_df, split_cell_count_df], axis=1).loc[\"microglial cell\",:].to_frame()"
   ]
  },
  {
   "cell_type": "code",
   "execution_count": null,
   "id": "5fcb6348",
   "metadata": {},
   "outputs": [],
   "source": []
  }
 ],
 "metadata": {
  "kernelspec": {
   "display_name": "targets",
   "language": "python",
   "name": "python3"
  },
  "language_info": {
   "codemirror_mode": {
    "name": "ipython",
    "version": 3
   },
   "file_extension": ".py",
   "mimetype": "text/x-python",
   "name": "python",
   "nbconvert_exporter": "python",
   "pygments_lexer": "ipython3",
   "version": "3.11.11"
  }
 },
 "nbformat": 4,
 "nbformat_minor": 5
}
