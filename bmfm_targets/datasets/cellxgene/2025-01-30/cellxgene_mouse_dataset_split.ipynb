{
 "cells": [
  {
   "cell_type": "markdown",
   "id": "1905f240-f1d8-4b17-b416-d4402d960d2f",
   "metadata": {},
   "source": [
    "# Create a `dataset_id`-level split for cellxgene mouse data\n",
    "\n",
    "The idea is to create a permanent split for cellxgene based on dataset_ids because validating on unseen datasets is a harder task.\n",
    "\n",
    "Because the datasets are heterogeneous we want the training set to have seen all the celltypes. We also want the validation set to cover as many cell types as possible, without breaking the first rule.\n",
    "\n",
    "One could imagine different splits that try and optimize the problem differently. This shows how to implement such logic for one case. The code can be modified to work with any csv file that has a split column.\n",
    "\n",
    "Please note that as of March 2024, the TileDB-SOMA database backend does not work on CCC login nodes. In order to run this notebook, you must use a compute node. GPU is not necessary so a simple compute node like `jbsub -mem 32g -cores 8 -q x86_1h -interactive bash` would work.\n",
    "\n",
    "If you only want to see the data, you can run this notebook locally (tested on MacOS with brew python) by setting `uri=None`."
   ]
  },
  {
   "cell_type": "markdown",
   "id": "206937ba-fea2-42ae-bfa9-e84d14a48016",
   "metadata": {},
   "source": [
    "## Loading dataset and exploration"
   ]
  },
  {
   "cell_type": "code",
   "execution_count": 1,
   "id": "c5d702f6-78b5-4dac-810c-6eb3d3cc4822",
   "metadata": {},
   "outputs": [],
   "source": [
    "import matplotlib.pyplot as plt\n",
    "import numpy as np\n",
    "import pandas as pd\n",
    "import tiledbsoma"
   ]
  },
  {
   "cell_type": "code",
   "execution_count": 2,
   "id": "723f9abd-ea61-45df-a299-7a3c81b9f65c",
   "metadata": {},
   "outputs": [],
   "source": [
    "uri='/proj/bmfm/omics/data/scRNA/cellxgene/2025-01-30/soma'\n",
    "census = tiledbsoma.open(uri=uri)\n",
    "\n",
    "experiment = census[\"census_data\"][\"mus_musculus\"]"
   ]
  },
  {
   "cell_type": "markdown",
   "id": "3cafbda5-29b4-46b9-bb83-d5e3a6a58a02",
   "metadata": {},
   "source": [
    "To view the columns that are available for us to use for filtering the data using `value_filter` and/or to define a split, we'll read a single sample coalesce to pandas and print out the columns.  To learn more about using these operations, check out the notebook https://cloud.tiledb.com/notebooks/details/TileDB-Inc/a41fdf2c-6e69-415b-8598-1829b1998909/preview"
   ]
  },
  {
   "cell_type": "code",
   "execution_count": 3,
   "id": "5139fe89-26ff-4816-8c84-d594bd77dd8c",
   "metadata": {},
   "outputs": [
    {
     "data": {
      "text/plain": [
       "Index(['soma_joinid', 'dataset_id', 'assay', 'assay_ontology_term_id',\n",
       "       'cell_type', 'cell_type_ontology_term_id', 'development_stage',\n",
       "       'development_stage_ontology_term_id', 'disease',\n",
       "       'disease_ontology_term_id', 'donor_id', 'is_primary_data',\n",
       "       'observation_joinid', 'self_reported_ethnicity',\n",
       "       'self_reported_ethnicity_ontology_term_id', 'sex',\n",
       "       'sex_ontology_term_id', 'suspension_type', 'tissue',\n",
       "       'tissue_ontology_term_id', 'tissue_type', 'tissue_general',\n",
       "       'tissue_general_ontology_term_id', 'raw_sum', 'nnz', 'raw_mean_nnz',\n",
       "       'raw_variance_nnz', 'n_measured_vars'],\n",
       "      dtype='object')"
      ]
     },
     "execution_count": 3,
     "metadata": {},
     "output_type": "execute_result"
    }
   ],
   "source": [
    "dataset_columns = (\n",
    "    experiment.obs.read(\n",
    "        coords=[0],\n",
    "        value_filter=\"is_primary_data==True and nnz > 2\",\n",
    "    )\n",
    "    .concat()\n",
    "    .to_pandas()\n",
    "    .columns\n",
    ")\n",
    "dataset_columns"
   ]
  },
  {
   "cell_type": "markdown",
   "id": "417e01c2-6640-49c1-a7b8-085fe5e612f9",
   "metadata": {},
   "source": [
    "The full documentation for these columns can be found in CellXGene's schema document\n",
    "https://github.com/chanzuckerberg/single-cell-curation/blob/main/schema/3.0.0/schema.md\n",
    "\n",
    "Let's see how many samples we have in this version of the dataset (`is_primary_data==True` removes duplicates)"
   ]
  },
  {
   "cell_type": "code",
   "execution_count": 4,
   "id": "01825254-2a4d-461b-b73f-13fd68cb11b3",
   "metadata": {},
   "outputs": [],
   "source": [
    "samples_df = (\n",
    "    experiment.obs.read(\n",
    "        value_filter=\"is_primary_data==True\",\n",
    "        column_names=[\n",
    "            \"dataset_id\",\n",
    "            \"assay\",\n",
    "            \"suspension_type\",\n",
    "            \"cell_type\",\n",
    "            \"donor_id\",\n",
    "            \"tissue\",\n",
    "            \"tissue_general\",\n",
    "            \"nnz\",\n",
    "        ],\n",
    "    )\n",
    "    .concat()\n",
    "    .to_pandas()\n",
    ")"
   ]
  },
  {
   "cell_type": "code",
   "execution_count": 5,
   "id": "c83c8c77-287d-4274-a885-bfdb6c441a4c",
   "metadata": {
    "scrolled": true
   },
   "outputs": [
    {
     "data": {
      "text/plain": [
       "(17633669, 9)"
      ]
     },
     "execution_count": 5,
     "metadata": {},
     "output_type": "execute_result"
    }
   ],
   "source": [
    "samples_df.shape"
   ]
  },
  {
   "cell_type": "code",
   "execution_count": 6,
   "id": "2689d752-e73c-4316-aae0-aaafd5b5eadb",
   "metadata": {},
   "outputs": [
    {
     "data": {
      "text/plain": [
       "donor_id\n",
       "embryo_74      True\n",
       "pooled         True\n",
       "embryo_73      True\n",
       "embryo_53      True\n",
       "embryo_41      True\n",
       "              ...  \n",
       "280708        False\n",
       "353938        False\n",
       "228852        False\n",
       "270079        False\n",
       "musAd004n5    False\n",
       "Name: count, Length: 1439, dtype: bool"
      ]
     },
     "execution_count": 6,
     "metadata": {},
     "output_type": "execute_result"
    }
   ],
   "source": [
    "(samples_df.donor_id.value_counts() > 100)"
   ]
  },
  {
   "cell_type": "markdown",
   "id": "2efd2566-67d5-4dde-889e-a95b20a20a17",
   "metadata": {},
   "source": [
    "It's worth noting that we have a variety of different assays here, and we may need to make use of this information at some point:"
   ]
  },
  {
   "cell_type": "code",
   "execution_count": 7,
   "id": "6c10149d-5d31-4333-b7c2-84b34f263a82",
   "metadata": {
    "scrolled": true
   },
   "outputs": [
    {
     "name": "stderr",
     "output_type": "stream",
     "text": [
      "/tmp/ipykernel_1280061/2738154594.py:1: FutureWarning: The default of observed=False is deprecated and will be changed to True in a future version of pandas. Pass observed=False to retain current behavior or observed=True to adopt the future default and silence this warning.\n",
      "  samples_df[[\"assay\", \"dataset_id\"]].drop_duplicates().groupby(\n"
     ]
    },
    {
     "data": {
      "text/plain": [
       "assay\n",
       "10x 3' transcription profiling               1\n",
       "10x 5' v2                                    1\n",
       "BD Rhapsody Whole Transcriptome Analysis     1\n",
       "DroNc-seq                                    1\n",
       "Smart-seq                                    1\n",
       "sci-RNA-seq3                                 1\n",
       "10x 3' v1                                    2\n",
       "Smart-seq3                                   2\n",
       "inDrop                                       2\n",
       "10x 5' v1                                    3\n",
       "Smart-seq v4                                 3\n",
       "Smart-seq2                                   3\n",
       "Drop-seq                                     5\n",
       "10x 3' v2                                   19\n",
       "10x 3' v3                                   29\n",
       "Name: dataset_id, dtype: int64"
      ]
     },
     "execution_count": 7,
     "metadata": {},
     "output_type": "execute_result"
    }
   ],
   "source": [
    "samples_df[[\"assay\", \"dataset_id\"]].drop_duplicates().groupby(\n",
    "    \"assay\"\n",
    ").count().squeeze().sort_values()"
   ]
  },
  {
   "cell_type": "markdown",
   "id": "a1d4b5d0-bf3c-42d4-8a93-e70722ce0abc",
   "metadata": {},
   "source": [
    "Not all datasets are the same size, not by a longshot. We actually have 6 orders of magnitude in dataset size. Yikes."
   ]
  },
  {
   "cell_type": "code",
   "execution_count": 8,
   "id": "bb085e9b-87ef-4f54-be8e-780dec7dcbc1",
   "metadata": {
    "scrolled": true
   },
   "outputs": [
    {
     "name": "stderr",
     "output_type": "stream",
     "text": [
      "/tmp/ipykernel_1280061/1968566613.py:1: FutureWarning: The default of observed=False is deprecated and will be changed to True in a future version of pandas. Pass observed=False to retain current behavior or observed=True to adopt the future default and silence this warning.\n",
      "  samples_df.groupby(\"dataset_id\").count().iloc[:, 0].hist(bins=np.logspace(0, 7, 20))\n"
     ]
    },
    {
     "data": {
      "image/png": "[encoded data removed]",
      "text/plain": [
       "<Figure size 640x480 with 1 Axes>"
      ]
     },
     "metadata": {},
     "output_type": "display_data"
    }
   ],
   "source": [
    "samples_df.groupby(\"dataset_id\").count().iloc[:, 0].hist(bins=np.logspace(0, 7, 20))\n",
    "plt.xscale(\"log\")"
   ]
  },
  {
   "cell_type": "markdown",
   "id": "2aec0748-f4c1-40ce-921c-3ac005ca2ee5",
   "metadata": {},
   "source": [
    "Let's look at the non-zero counts. How many samples have more than a certain number of non-zero reads? This is critically important for the purpose of context windows. Let's start by just plotting all the counts:"
   ]
  },
  {
   "cell_type": "code",
   "execution_count": 9,
   "id": "c47693a0-8e99-4626-9f5c-3c6a1adf8954",
   "metadata": {},
   "outputs": [
    {
     "data": {
      "image/png": "[encoded data removed]",
      "text/plain": [
       "<Figure size 640x480 with 1 Axes>"
      ]
     },
     "metadata": {},
     "output_type": "display_data"
    }
   ],
   "source": [
    "nnz_counts = samples_df.nnz.value_counts()\n",
    "nnz_counts.sort_index().plot()\n",
    "plt.xscale(\"log\")"
   ]
  },
  {
   "cell_type": "code",
   "execution_count": 10,
   "id": "c9db4553-8ff2-4a57-a4a9-abbc65ca943d",
   "metadata": {},
   "outputs": [
    {
     "data": {
      "text/plain": [
       "(14.335404743666386, 15611)"
      ]
     },
     "execution_count": 10,
     "metadata": {},
     "output_type": "execute_result"
    },
    {
     "data": {
      "image/png": "[encoded data removed]",
      "text/plain": [
       "<Figure size 640x480 with 1 Axes>"
      ]
     },
     "metadata": {},
     "output_type": "display_data"
    }
   ],
   "source": [
    "_ = plt.hist(samples_df.nnz, bins=1000, density=True, cumulative=True, histtype=\"step\")\n",
    "for h in [0.25, 0.5, 0.75]:\n",
    "    plt.axhline(h, ls=\":\", color=\"orange\")\n",
    "plt.xscale(\"log\")\n",
    "plt.grid(\"on\")\n",
    "plt.xlabel(\"Number of nonzero reads\")\n",
    "plt.ylabel(\"Fraction of samples with fewer nonzero reads\")\n",
    "plt.tight_layout()\n",
    "plt.xlim(xmax=samples_df.nnz.max())"
   ]
  },
  {
   "cell_type": "code",
   "execution_count": 11,
   "id": "16b7ae80-7b72-4189-a6c8-43ad20f80c31",
   "metadata": {},
   "outputs": [
    {
     "data": {
      "text/plain": [
       "0.00       20\n",
       "0.05      612\n",
       "0.10      766\n",
       "0.15      894\n",
       "0.20     1017\n",
       "0.25     1138\n",
       "0.30     1258\n",
       "0.35     1378\n",
       "0.40     1502\n",
       "0.45     1630\n",
       "0.50     1766\n",
       "0.55     1913\n",
       "0.60     2072\n",
       "0.65     2248\n",
       "0.70     2448\n",
       "0.75     2687\n",
       "0.80     2987\n",
       "0.85     3391\n",
       "0.90     3964\n",
       "0.95     4830\n",
       "1.00    15611\n",
       "dtype: int64"
      ]
     },
     "execution_count": 11,
     "metadata": {},
     "output_type": "execute_result"
    }
   ],
   "source": [
    "q = np.arange(0, 1.01, 0.05)\n",
    "qvals = np.quantile(samples_df.nnz, q)\n",
    "pd.Series(qvals, index=q, dtype=int)"
   ]
  },
  {
   "cell_type": "markdown",
   "id": "c698928b-60d8-4ed2-b59f-74db10f9e173",
   "metadata": {},
   "source": [
    "From here we see that less than 15% of samples have only 512 nonzero reads! The good news is that getting from 1024 to 2048 covers a comfortable majority of all samples. Pushing above 4096 is definitely diminishing returns in terms of nonzeros."
   ]
  },
  {
   "cell_type": "markdown",
   "id": "fdc214b7-544a-4463-9547-499de0e75475",
   "metadata": {},
   "source": [
    "## Create dataset x cell type dataframe\n",
    "\n",
    "We want to be able to split the full CellxGene dataset by `dataset_id`, ie to use some component datasets for training and others for validation. Furthermore, since cell-types are particularly important we want to be sure that we have a good split of cell-types and not end up doing the entire training without encountering certain cell-types OR to run validation without checking certain cell-types. \n",
    "\n",
    "So we will create a dataframe that lists how many of every cell type we have for every dataset and use that for creating our split."
   ]
  },
  {
   "cell_type": "code",
   "execution_count": 14,
   "id": "a564367b-581a-490d-9041-bcf1197c00b7",
   "metadata": {},
   "outputs": [],
   "source": [
    "def rowcolsort(df, ascending=False):\n",
    "    row_sums = (df > 0).sum(axis=1)\n",
    "    col_sums = (df > 0).sum(axis=0)\n",
    "    return df.loc[\n",
    "        row_sums.sort_values(ascending=ascending).index,\n",
    "        col_sums.sort_values(ascending=ascending).index,\n",
    "    ]\n",
    "\n",
    "\n",
    "def make_dataset_celltype_df(samples_df, use_rowcolsort=True):\n",
    "    dataset_df = samples_df.groupby([\"dataset_id\", \"cell_type\"]).count()\n",
    "    dataset_df = dataset_df.iloc[:, 0].rename(\"sample_count\").reset_index()\n",
    "    pivoted_df = dataset_df.pivot_table(\n",
    "        index=[\"dataset_id\"], columns=\"cell_type\", values=\"sample_count\"\n",
    "    )\n",
    "    dataset_celltype_df = (\n",
    "        pivoted_df.fillna(0).reset_index()\n",
    "        .applymap(lambda x: int(x) if isinstance(x, float) else x)\n",
    "        .set_index(\"dataset_id\")\n",
    "    )\n",
    "    if use_rowcolsort:\n",
    "        dataset_celltype_df = rowcolsort(dataset_celltype_df, ascending=False)\n",
    "    return dataset_celltype_df"
   ]
  },
  {
   "cell_type": "code",
   "execution_count": 15,
   "id": "1fb9c599-4a7e-40ce-9f0f-896469551048",
   "metadata": {},
   "outputs": [
    {
     "name": "stderr",
     "output_type": "stream",
     "text": [
      "/tmp/ipykernel_1280061/2277073086.py:11: FutureWarning: The default of observed=False is deprecated and will be changed to True in a future version of pandas. Pass observed=False to retain current behavior or observed=True to adopt the future default and silence this warning.\n",
      "  dataset_df = samples_df.groupby([\"dataset_id\", \"cell_type\"]).count()\n",
      "/tmp/ipykernel_1280061/2277073086.py:13: FutureWarning: The default value of observed=False is deprecated and will change to observed=True in a future version of pandas. Specify observed=False to silence this warning and retain the current behavior\n",
      "  pivoted_df = dataset_df.pivot_table(\n",
      "/tmp/ipykernel_1280061/2277073086.py:18: FutureWarning: DataFrame.applymap has been deprecated. Use DataFrame.map instead.\n",
      "  .applymap(lambda x: int(x) if isinstance(x, float) else x)\n"
     ]
    }
   ],
   "source": [
    "dataset_celltype_df = make_dataset_celltype_df(samples_df)"
   ]
  },
  {
   "cell_type": "markdown",
   "id": "f83c5043-942f-403b-bfa3-eff45e44c3fa",
   "metadata": {},
   "source": [
    "## Create celltype split\n",
    "\n",
    "The logic behind this split is to try and maximize the samples in train while ensuring that every cell-type has at least one sample in validation. Since we are splitting by dataset, that means taking each dataset and assigning it to either validation or train based on the following check. If the dataset has cell-types which have never been seen before, assign it to train. If the dataset has cell-types which have been seen in train but not in validation, assign it to validation. If all of the dataset's cell-types have been seen in train and in validation, assign it to train.\n",
    "\n",
    "The logic of the sorting is to start on the datasets with fewest celltypes and samples so that we can get validation taken care of without giving up too many samples from train.\n",
    "\n",
    "One could definitely propose a more sophisticated process for assigning datasets which would optimize the twin objectives of maximal volume in training and maximal breadth in validation. But we didn't invest the time in that at this point. This split seems good enough and there's no such thing as a \"perfect\" split. The code base is open to future, superior splits."
   ]
  },
  {
   "cell_type": "code",
   "execution_count": 16,
   "id": "6693f7f2-a688-4880-9cee-17388e93c534",
   "metadata": {},
   "outputs": [],
   "source": [
    "def add_cell_type_split_to_dataframe(dataset_celltype_df):\n",
    "    train_cell_types = set()\n",
    "    validation_cell_types = set()\n",
    "    train_datasets = set()\n",
    "    validation_datasets = set()\n",
    "    for dataset_id, row in dataset_celltype_df.iterrows():\n",
    "        cell_types = set(row[row > 0].index.to_list())\n",
    "        if not cell_types.issubset(validation_cell_types) and cell_types.issubset(\n",
    "            train_cell_types\n",
    "        ):\n",
    "            validation_cell_types.update(cell_types)\n",
    "            validation_datasets.add(dataset_id)\n",
    "        else:\n",
    "            train_cell_types.update(cell_types)\n",
    "            train_datasets.add(dataset_id)\n",
    "    dataset_celltype_df.loc[list(train_datasets), \"split\"] = \"train\"\n",
    "    dataset_celltype_df.loc[list(validation_datasets), \"split\"] = \"dev\"\n",
    "    return dataset_celltype_df"
   ]
  },
  {
   "cell_type": "code",
   "execution_count": 17,
   "id": "240f609d-7500-489f-8828-cf3408da8633",
   "metadata": {},
   "outputs": [],
   "source": [
    "dataset_celltype_df = add_cell_type_split_to_dataframe(dataset_celltype_df)"
   ]
  },
  {
   "cell_type": "markdown",
   "id": "66277527-3969-4118-b4bd-e2ed6d9c3f69",
   "metadata": {},
   "source": [
    "Let's check how many samples we had in each split:"
   ]
  },
  {
   "cell_type": "code",
   "execution_count": 18,
   "id": "80280f81-689f-4fbe-a298-bcc2d4ce0a37",
   "metadata": {},
   "outputs": [
    {
     "data": {
      "text/plain": [
       "split\n",
       "dev       1566219\n",
       "train    16067450\n",
       "dtype: int64"
      ]
     },
     "execution_count": 18,
     "metadata": {},
     "output_type": "execute_result"
    }
   ],
   "source": [
    "split_counts = dataset_celltype_df.groupby(\"split\").sum().sum(axis=1)\n",
    "split_counts"
   ]
  },
  {
   "cell_type": "code",
   "execution_count": 19,
   "id": "12d90577-b382-4420-ae04-6ea87bb99639",
   "metadata": {},
   "outputs": [
    {
     "name": "stdout",
     "output_type": "stream",
     "text": [
      "Fractions of total cells in splits:\n",
      "\t train: 0.911180197382632 \n",
      "\t dev: 0.08881980261736795\n"
     ]
    }
   ],
   "source": [
    "print(\n",
    "    f\"Fractions of total cells in splits:\\n\\t train: {split_counts['train'] / split_counts.sum()} \\n\\t dev: {split_counts['dev'] / split_counts.sum()}\"\n",
    ")"
   ]
  },
  {
   "cell_type": "markdown",
   "id": "43afa038-c7ec-4ecc-a4d8-115c1b4c15fc",
   "metadata": {},
   "source": [
    "This is approximately what we would like, and it's doubtful we could do much better in terms of the split's effect on model quality. \n",
    "\n",
    "It is also instructive to look at the number of datasets in each split:"
   ]
  },
  {
   "cell_type": "code",
   "execution_count": 20,
   "id": "6906a525-9b2b-41c2-9cbc-b2b6a9d6c301",
   "metadata": {},
   "outputs": [
    {
     "data": {
      "text/plain": [
       "split\n",
       "train    155\n",
       "dev        6\n",
       "Name: count, dtype: int64"
      ]
     },
     "execution_count": 20,
     "metadata": {},
     "output_type": "execute_result"
    }
   ],
   "source": [
    "dataset_celltype_df.split.value_counts()"
   ]
  },
  {
   "cell_type": "markdown",
   "id": "e10ba824-a2e0-4b08-a704-af1871f422e9",
   "metadata": {},
   "source": [
    "Broadly speaking this is a good split. It avoids the problem of using samples that are too close to each other in train and validation, it guarantees full cell-type coverage in train, and it approximately maximizes cell-type coverage in validation. \n",
    "\n",
    "We will save it, and it will become our default split:"
   ]
  },
  {
   "cell_type": "code",
   "execution_count": 21,
   "id": "9cf36f24-a955-4e5f-a8d7-50ff42474cda",
   "metadata": {},
   "outputs": [],
   "source": [
    "dataset_celltype_df.to_csv(\"celltypes_split_mouse.csv\")"
   ]
  },
  {
   "cell_type": "markdown",
   "id": "a6d48335-b523-43f4-b1ba-f1a565e45bc7",
   "metadata": {},
   "source": [
    "## Deeper dive into split counts\n",
    "\n",
    "If we want to dive in a little deeper, we can ask how many of every cell type there are in each split and in each dataset. Ideally, we would have more datasets and more samples of every cell-type in train than in dev. We see that that is almost, but not quite the case."
   ]
  },
  {
   "cell_type": "code",
   "execution_count": 22,
   "id": "01b6851b-ff65-4a7b-bea4-f96309d10f58",
   "metadata": {
    "scrolled": true
   },
   "outputs": [
    {
     "data": {
      "text/html": [
       "<div>\n",
       "<style scoped>\n",
       "    .dataframe tbody tr th:only-of-type {\n",
       "        vertical-align: middle;\n",
       "    }\n",
       "\n",
       "    .dataframe tbody tr th {\n",
       "        vertical-align: top;\n",
       "    }\n",
       "\n",
       "    .dataframe thead th {\n",
       "        text-align: right;\n",
       "    }\n",
       "</style>\n",
       "<table border=\"1\" class=\"dataframe\">\n",
       "  <thead>\n",
       "    <tr style=\"text-align: right;\">\n",
       "      <th>split</th>\n",
       "      <th>dev</th>\n",
       "      <th>train</th>\n",
       "      <th>dev</th>\n",
       "      <th>train</th>\n",
       "    </tr>\n",
       "    <tr>\n",
       "      <th>cell_type</th>\n",
       "      <th></th>\n",
       "      <th></th>\n",
       "      <th></th>\n",
       "      <th></th>\n",
       "    </tr>\n",
       "  </thead>\n",
       "  <tbody>\n",
       "    <tr>\n",
       "      <th>endothelial cell</th>\n",
       "      <td>4</td>\n",
       "      <td>22</td>\n",
       "      <td>4140</td>\n",
       "      <td>200148</td>\n",
       "    </tr>\n",
       "    <tr>\n",
       "      <th>pericyte</th>\n",
       "      <td>3</td>\n",
       "      <td>18</td>\n",
       "      <td>1252</td>\n",
       "      <td>33737</td>\n",
       "    </tr>\n",
       "    <tr>\n",
       "      <th>fibroblast</th>\n",
       "      <td>0</td>\n",
       "      <td>16</td>\n",
       "      <td>0</td>\n",
       "      <td>723543</td>\n",
       "    </tr>\n",
       "    <tr>\n",
       "      <th>macrophage</th>\n",
       "      <td>0</td>\n",
       "      <td>16</td>\n",
       "      <td>0</td>\n",
       "      <td>122980</td>\n",
       "    </tr>\n",
       "    <tr>\n",
       "      <th>B cell</th>\n",
       "      <td>0</td>\n",
       "      <td>15</td>\n",
       "      <td>0</td>\n",
       "      <td>121770</td>\n",
       "    </tr>\n",
       "    <tr>\n",
       "      <th>...</th>\n",
       "      <td>...</td>\n",
       "      <td>...</td>\n",
       "      <td>...</td>\n",
       "      <td>...</td>\n",
       "    </tr>\n",
       "    <tr>\n",
       "      <th>effector CD8-positive, alpha-beta T cell</th>\n",
       "      <td>0</td>\n",
       "      <td>1</td>\n",
       "      <td>0</td>\n",
       "      <td>129</td>\n",
       "    </tr>\n",
       "    <tr>\n",
       "      <th>mesodermal cell</th>\n",
       "      <td>0</td>\n",
       "      <td>1</td>\n",
       "      <td>0</td>\n",
       "      <td>1463106</td>\n",
       "    </tr>\n",
       "    <tr>\n",
       "      <th>kidney loop of Henle thick ascending limb epithelial cell</th>\n",
       "      <td>0</td>\n",
       "      <td>1</td>\n",
       "      <td>0</td>\n",
       "      <td>1554</td>\n",
       "    </tr>\n",
       "    <tr>\n",
       "      <th>stromal cell of ovary</th>\n",
       "      <td>0</td>\n",
       "      <td>0</td>\n",
       "      <td>0</td>\n",
       "      <td>0</td>\n",
       "    </tr>\n",
       "    <tr>\n",
       "      <th>bistratified retinal ganglion cell</th>\n",
       "      <td>0</td>\n",
       "      <td>0</td>\n",
       "      <td>0</td>\n",
       "      <td>0</td>\n",
       "    </tr>\n",
       "  </tbody>\n",
       "</table>\n",
       "<p>435 rows × 4 columns</p>\n",
       "</div>"
      ],
      "text/plain": [
       "split                                               dev  train   dev    train\n",
       "cell_type                                                                    \n",
       "endothelial cell                                      4     22  4140   200148\n",
       "pericyte                                              3     18  1252    33737\n",
       "fibroblast                                            0     16     0   723543\n",
       "macrophage                                            0     16     0   122980\n",
       "B cell                                                0     15     0   121770\n",
       "...                                                 ...    ...   ...      ...\n",
       "effector CD8-positive, alpha-beta T cell              0      1     0      129\n",
       "mesodermal cell                                       0      1     0  1463106\n",
       "kidney loop of Henle thick ascending limb epith...    0      1     0     1554\n",
       "stromal cell of ovary                                 0      0     0        0\n",
       "bistratified retinal ganglion cell                    0      0     0        0\n",
       "\n",
       "[435 rows x 4 columns]"
      ]
     },
     "execution_count": 22,
     "metadata": {},
     "output_type": "execute_result"
    }
   ],
   "source": [
    "split = dataset_celltype_df.pop(\"split\")\n",
    "split_dataset_count_df = (dataset_celltype_df > 0).groupby(split).sum().T\n",
    "split_cell_count_df = dataset_celltype_df.groupby(split).sum().T\n",
    "dataset_celltype_df = dataset_celltype_df.assign(split=split)\n",
    "pd.concat([split_dataset_count_df, split_cell_count_df], axis=1)"
   ]
  },
  {
   "cell_type": "code",
   "execution_count": 23,
   "id": "ae560186-bb3d-4261-92c1-9f35e5466516",
   "metadata": {},
   "outputs": [
    {
     "data": {
      "text/plain": [
       "suspension_type\n",
       "nucleus    13326672\n",
       "cell        4306997\n",
       "Name: count, dtype: int64"
      ]
     },
     "execution_count": 23,
     "metadata": {},
     "output_type": "execute_result"
    }
   ],
   "source": [
    "samples_df.suspension_type.value_counts()"
   ]
  },
  {
   "cell_type": "code",
   "execution_count": 24,
   "id": "c171c18b-9dfe-4ed2-8423-e7472130a66f",
   "metadata": {},
   "outputs": [],
   "source": [
    "genes_df = (\n",
    "    experiment.ms[\"RNA\"].var.read(    )\n",
    "    .concat()\n",
    "    .to_pandas()\n",
    ")"
   ]
  },
  {
   "cell_type": "code",
   "execution_count": 25,
   "id": "826216a0-1b3c-4c1e-9950-83938978e2f4",
   "metadata": {},
   "outputs": [
    {
     "data": {
      "text/html": [
       "<div>\n",
       "<style scoped>\n",
       "    .dataframe tbody tr th:only-of-type {\n",
       "        vertical-align: middle;\n",
       "    }\n",
       "\n",
       "    .dataframe tbody tr th {\n",
       "        vertical-align: top;\n",
       "    }\n",
       "\n",
       "    .dataframe thead th {\n",
       "        text-align: right;\n",
       "    }\n",
       "</style>\n",
       "<table border=\"1\" class=\"dataframe\">\n",
       "  <thead>\n",
       "    <tr style=\"text-align: right;\">\n",
       "      <th></th>\n",
       "      <th>soma_joinid</th>\n",
       "      <th>feature_id</th>\n",
       "      <th>feature_name</th>\n",
       "      <th>feature_type</th>\n",
       "      <th>feature_length</th>\n",
       "      <th>nnz</th>\n",
       "      <th>n_measured_obs</th>\n",
       "    </tr>\n",
       "  </thead>\n",
       "  <tbody>\n",
       "    <tr>\n",
       "      <th>0</th>\n",
       "      <td>0</td>\n",
       "      <td>ENSMUSG00000021124</td>\n",
       "      <td>Vti1b</td>\n",
       "      <td>protein_coding</td>\n",
       "      <td>841</td>\n",
       "      <td>7020258</td>\n",
       "      <td>42776863</td>\n",
       "    </tr>\n",
       "    <tr>\n",
       "      <th>1</th>\n",
       "      <td>1</td>\n",
       "      <td>ENSMUSG00000039377</td>\n",
       "      <td>Hlx</td>\n",
       "      <td>protein_coding</td>\n",
       "      <td>1495</td>\n",
       "      <td>481426</td>\n",
       "      <td>42641734</td>\n",
       "    </tr>\n",
       "    <tr>\n",
       "      <th>2</th>\n",
       "      <td>2</td>\n",
       "      <td>ENSMUSG00000085604</td>\n",
       "      <td>Dhx58os</td>\n",
       "      <td>lncRNA</td>\n",
       "      <td>1594</td>\n",
       "      <td>117050</td>\n",
       "      <td>40553677</td>\n",
       "    </tr>\n",
       "    <tr>\n",
       "      <th>3</th>\n",
       "      <td>3</td>\n",
       "      <td>ENSMUSG00000085125</td>\n",
       "      <td>Gm16070</td>\n",
       "      <td>lncRNA</td>\n",
       "      <td>2146</td>\n",
       "      <td>2280673</td>\n",
       "      <td>41179548</td>\n",
       "    </tr>\n",
       "    <tr>\n",
       "      <th>4</th>\n",
       "      <td>4</td>\n",
       "      <td>ENSMUSG00000029439</td>\n",
       "      <td>Sfswap</td>\n",
       "      <td>protein_coding</td>\n",
       "      <td>692</td>\n",
       "      <td>17553003</td>\n",
       "      <td>42776863</td>\n",
       "    </tr>\n",
       "    <tr>\n",
       "      <th>...</th>\n",
       "      <td>...</td>\n",
       "      <td>...</td>\n",
       "      <td>...</td>\n",
       "      <td>...</td>\n",
       "      <td>...</td>\n",
       "      <td>...</td>\n",
       "      <td>...</td>\n",
       "    </tr>\n",
       "    <tr>\n",
       "      <th>52478</th>\n",
       "      <td>52478</td>\n",
       "      <td>ENSMUSG00002076971</td>\n",
       "      <td>Snord100</td>\n",
       "      <td>snoRNA</td>\n",
       "      <td>74</td>\n",
       "      <td>3653</td>\n",
       "      <td>73347</td>\n",
       "    </tr>\n",
       "    <tr>\n",
       "      <th>52479</th>\n",
       "      <td>52479</td>\n",
       "      <td>ENSMUSG00002076818</td>\n",
       "      <td>Snord14e</td>\n",
       "      <td>snoRNA</td>\n",
       "      <td>90</td>\n",
       "      <td>3579</td>\n",
       "      <td>73347</td>\n",
       "    </tr>\n",
       "    <tr>\n",
       "      <th>52480</th>\n",
       "      <td>52480</td>\n",
       "      <td>ENSMUSG00002076766</td>\n",
       "      <td>Snord33</td>\n",
       "      <td>snoRNA</td>\n",
       "      <td>84</td>\n",
       "      <td>612</td>\n",
       "      <td>73347</td>\n",
       "    </tr>\n",
       "    <tr>\n",
       "      <th>52481</th>\n",
       "      <td>52481</td>\n",
       "      <td>ENSMUSG00000118645</td>\n",
       "      <td>Gm55062</td>\n",
       "      <td>lncRNA</td>\n",
       "      <td>480</td>\n",
       "      <td>0</td>\n",
       "      <td>301796</td>\n",
       "    </tr>\n",
       "    <tr>\n",
       "      <th>52482</th>\n",
       "      <td>52482</td>\n",
       "      <td>ENSMUSG00000118652</td>\n",
       "      <td>Gm54771</td>\n",
       "      <td>lncRNA</td>\n",
       "      <td>358</td>\n",
       "      <td>1</td>\n",
       "      <td>301796</td>\n",
       "    </tr>\n",
       "  </tbody>\n",
       "</table>\n",
       "<p>52483 rows × 7 columns</p>\n",
       "</div>"
      ],
      "text/plain": [
       "       soma_joinid          feature_id feature_name    feature_type  \\\n",
       "0                0  ENSMUSG00000021124        Vti1b  protein_coding   \n",
       "1                1  ENSMUSG00000039377          Hlx  protein_coding   \n",
       "2                2  ENSMUSG00000085604      Dhx58os          lncRNA   \n",
       "3                3  ENSMUSG00000085125      Gm16070          lncRNA   \n",
       "4                4  ENSMUSG00000029439       Sfswap  protein_coding   \n",
       "...            ...                 ...          ...             ...   \n",
       "52478        52478  ENSMUSG00002076971     Snord100          snoRNA   \n",
       "52479        52479  ENSMUSG00002076818     Snord14e          snoRNA   \n",
       "52480        52480  ENSMUSG00002076766      Snord33          snoRNA   \n",
       "52481        52481  ENSMUSG00000118645      Gm55062          lncRNA   \n",
       "52482        52482  ENSMUSG00000118652      Gm54771          lncRNA   \n",
       "\n",
       "       feature_length       nnz  n_measured_obs  \n",
       "0                 841   7020258        42776863  \n",
       "1                1495    481426        42641734  \n",
       "2                1594    117050        40553677  \n",
       "3                2146   2280673        41179548  \n",
       "4                 692  17553003        42776863  \n",
       "...               ...       ...             ...  \n",
       "52478              74      3653           73347  \n",
       "52479              90      3579           73347  \n",
       "52480              84       612           73347  \n",
       "52481             480         0          301796  \n",
       "52482             358         1          301796  \n",
       "\n",
       "[52483 rows x 7 columns]"
      ]
     },
     "execution_count": 25,
     "metadata": {},
     "output_type": "execute_result"
    }
   ],
   "source": [
    "genes_df"
   ]
  },
  {
   "cell_type": "code",
   "execution_count": null,
   "id": "e1b3427f-2878-4d02-99c6-54d9913f6c87",
   "metadata": {},
   "outputs": [],
   "source": []
  }
 ],
 "metadata": {
  "kernelspec": {
   "display_name": "targets",
   "language": "python",
   "name": "python3"
  },
  "language_info": {
   "codemirror_mode": {
    "name": "ipython",
    "version": 3
   },
   "file_extension": ".py",
   "mimetype": "text/x-python",
   "name": "python",
   "nbconvert_exporter": "python",
   "pygments_lexer": "ipython3",
   "version": "3.11.11"
  }
 },
 "nbformat": 4,
 "nbformat_minor": 5
}
