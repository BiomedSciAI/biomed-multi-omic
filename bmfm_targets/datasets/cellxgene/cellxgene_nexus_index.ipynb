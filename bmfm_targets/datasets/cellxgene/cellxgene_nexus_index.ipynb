{
 "cells": [
  {
   "cell_type": "markdown",
   "id": "49f5781c",
   "metadata": {},
   "source": [
    "# Create split index for CellXGeneNexusDataModule\n",
    "\n",
    " The NexusDB data-loader consists of two layers: a front-end and a back-end. The front-end serves data to multiple node GPUs, while the back-end is responsible for data storage. We use the universal data storage engine [TileDB](https://tiledb.com/) as our back-end. For distributed data parallel training, the front-end is based on the [LitData package](https://github.com/Lightning-AI/litdata). NexusDB supports indexing to reuse the same dataset files for multiple training splits and works with the existing dataset [CELLxGENE Census](https://chanzuckerberg.github.io/cellxgene-census/), which is based on [TileDB-SOMA](https://github.com/single-cell-data/TileDB-SOMA). \n",
    "\n",
    " This notebook is designed to show how to generate indexes for NexusDB. "
   ]
  },
  {
   "cell_type": "markdown",
   "id": "568af464",
   "metadata": {},
   "source": [
    "## `dataset_id`-level split for cellxgene\n",
    "\n",
    "First, refer to `cellxgene_dataset_split` notebook to learn about dataset-id split. The code reuses `celltypes_split.csv` to generate train and dev split. The cell generates new index in `cellxgene_nexus_index` folder."
   ]
  },
  {
   "cell_type": "code",
   "execution_count": null,
   "id": "577ba50e",
   "metadata": {},
   "outputs": [],
   "source": [
    "from bmfm_targets.datasets.cellxgene.cellxgene_soma_utils import (\n",
    "    build_index_from_dataset_id,\n",
    ")\n",
    "\n",
    "uri = \"/dccstor/bmfm-targets/data/omics/transcriptome/scRNA/pretrain/cellxgene/soma-2023-12-15\"\n",
    "build_index_from_dataset_id(\n",
    "    uri = \"/dccstor/bmfm-targets/data/omics/transcriptome/scRNA/pretrain/cellxgene/soma-2023-12-15\",\n",
    "    index_dir=\"cellxgene_nexus_index\"\n",
    ")"
   ]
  },
  {
   "cell_type": "markdown",
   "id": "3534890f",
   "metadata": {},
   "source": [
    "## Create short index for debugging proposes"
   ]
  },
  {
   "cell_type": "code",
   "execution_count": null,
   "id": "4298d816",
   "metadata": {},
   "outputs": [],
   "source": [
    "import os\n",
    "import shutil\n",
    "\n",
    "from bmfm_targets.datasets.cellxgene.cellxgene_soma_utils import build_range_index\n",
    "\n",
    "uri = \"/dccstor/bmfm-targets/data/omics/transcriptome/scRNA/pretrain/cellxgene/soma-2023-12-15\"\n",
    "index_dir=\"cellxgene_debug_nexus_index\"\n",
    "\n",
    "os.mkdir(index_dir)\n",
    "train_index_dir = os.path.join(index_dir, \"train\")\n",
    "build_range_index(\n",
    "    uri,\n",
    "    train_index_dir,\n",
    "    n_records=32,\n",
    "    chunk_size=8,\n",
    "    label_columns=[\"cell_type\", \"tissue\"],\n",
    "    value_filter=\"is_primary_data == True and nnz <= 512\",\n",
    ")\n",
    "shutil.copytree(train_index_dir, os.path.join(index_dir, \"dev\"), dirs_exist_ok=True)"
   ]
  }
 ],
 "metadata": {
  "kernelspec": {
   "display_name": "Python 3 (ipykernel)",
   "language": "python",
   "name": "python3"
  },
  "language_info": {
   "codemirror_mode": {
    "name": "ipython",
    "version": 3
   },
   "file_extension": ".py",
   "mimetype": "text/x-python",
   "name": "python",
   "nbconvert_exporter": "python",
   "pygments_lexer": "ipython3",
   "version": "3.10.13"
  }
 },
 "nbformat": 4,
 "nbformat_minor": 5
}
