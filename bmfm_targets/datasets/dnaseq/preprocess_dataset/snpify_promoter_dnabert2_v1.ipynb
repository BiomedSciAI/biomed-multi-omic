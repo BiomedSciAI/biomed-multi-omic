{
 "cells": [
  {
   "cell_type": "code",
   "execution_count": 1,
   "id": "d3a2a86d-28f3-4897-95fb-f3a5ab5d57f7",
   "metadata": {},
   "outputs": [
    {
     "name": "stderr",
     "output_type": "stream",
     "text": [
      "/dccstor/bmfm-targets/users/sanjoy/targets_env/anaconda/envs/bmfm_targets/lib/python3.11/site-packages/anndata/utils.py:429: FutureWarning: Importing read_csv from `anndata` is deprecated. Import anndata.io.read_csv instead.\n",
      "  warnings.warn(msg, FutureWarning)\n",
      "/dccstor/bmfm-targets/users/sanjoy/targets_env/anaconda/envs/bmfm_targets/lib/python3.11/site-packages/anndata/utils.py:429: FutureWarning: Importing read_excel from `anndata` is deprecated. Import anndata.io.read_excel instead.\n",
      "  warnings.warn(msg, FutureWarning)\n",
      "/dccstor/bmfm-targets/users/sanjoy/targets_env/anaconda/envs/bmfm_targets/lib/python3.11/site-packages/anndata/utils.py:429: FutureWarning: Importing read_hdf from `anndata` is deprecated. Import anndata.io.read_hdf instead.\n",
      "  warnings.warn(msg, FutureWarning)\n",
      "/dccstor/bmfm-targets/users/sanjoy/targets_env/anaconda/envs/bmfm_targets/lib/python3.11/site-packages/anndata/utils.py:429: FutureWarning: Importing read_loom from `anndata` is deprecated. Import anndata.io.read_loom instead.\n",
      "  warnings.warn(msg, FutureWarning)\n",
      "/dccstor/bmfm-targets/users/sanjoy/targets_env/anaconda/envs/bmfm_targets/lib/python3.11/site-packages/anndata/utils.py:429: FutureWarning: Importing read_mtx from `anndata` is deprecated. Import anndata.io.read_mtx instead.\n",
      "  warnings.warn(msg, FutureWarning)\n",
      "/dccstor/bmfm-targets/users/sanjoy/targets_env/anaconda/envs/bmfm_targets/lib/python3.11/site-packages/anndata/utils.py:429: FutureWarning: Importing read_text from `anndata` is deprecated. Import anndata.io.read_text instead.\n",
      "  warnings.warn(msg, FutureWarning)\n",
      "/dccstor/bmfm-targets/users/sanjoy/targets_env/anaconda/envs/bmfm_targets/lib/python3.11/site-packages/anndata/utils.py:429: FutureWarning: Importing read_umi_tools from `anndata` is deprecated. Import anndata.io.read_umi_tools instead.\n",
      "  warnings.warn(msg, FutureWarning)\n"
     ]
    }
   ],
   "source": [
    "import numpy as np\n",
    "import pandas as pd\n",
    " \n",
    "from bmfm_targets.datasets.SNPdb.tabix_converter import extract_chr_seq_and_len\n",
    "\n",
    "np.set_printoptions(precision=3,suppress=True)"
   ]
  },
  {
   "cell_type": "code",
   "execution_count": 2,
   "id": "2089487e",
   "metadata": {},
   "outputs": [],
   "source": [
    "SNPDB_RESOURCES_PATH = \"/dccstor/bmfm-targets/data/omics/genome/snpdb/raw/resources/\"\n",
    "fasta_path = SNPDB_RESOURCES_PATH + \"GCA_000001405.15_GRCh38_no_alt_analysis_set.fna\"\n",
    "chr_to_seq, chr_to_len = extract_chr_seq_and_len(fasta_path, \">\")"
   ]
  },
  {
   "cell_type": "code",
   "execution_count": 3,
   "id": "bdc8a2de-a357-4555-b5eb-7b34db23aae1",
   "metadata": {},
   "outputs": [],
   "source": [
    "def extract_subsequence(sequence, left, right, len_total=None):\n",
    "    if len_total:\n",
    "        center = (left + right) // 2\n",
    "        left = center - len_total // 2\n",
    "        right = left + len_total\n",
    "    return sequence[left:right]\n",
    "\n",
    "def count_variation_percent(sequence):\n",
    "    return sum([x not in 'ACGTN' for x in sequence]) / len(sequence)"
   ]
  },
  {
   "cell_type": "code",
   "execution_count": 4,
   "id": "eab2ad0f-2d12-4df1-8652-73dbd2d8c673",
   "metadata": {},
   "outputs": [],
   "source": [
    "## similar to the reference genome fasta, here I save the biallele-encoded genome to accelerate calculation\n",
    "path_encoded_seq = '/dccstor/bmfm-targets1/data/omics/genome/snpdb/biallele_encoded_sequence/'\n",
    "path_encoded_seq_rc = '/dccstor/bmfm-targets1/data/omics/genome/snpdb/biallele_encoded_sequence_rc/'\n",
    "# 1. X,Y, and other chr IDs are excluded\n",
    "# 2. the length is around 200\n",
    "# 3. the reverse seems to be the same sequence e.g.:\n",
    "# 4. percentage of variantions are calculated"
   ]
  },
  {
   "cell_type": "markdown",
   "id": "5be7d31c",
   "metadata": {},
   "source": [
    "### Process the location file and retrieve both the ref and snpified sequences..."
   ]
  },
  {
   "cell_type": "code",
   "execution_count": 5,
   "id": "c8f5d985-fb75-4205-9013-0c46231e3ac3",
   "metadata": {},
   "outputs": [
    {
     "name": "stdout",
     "output_type": "stream",
     "text": [
      "  #chrom  chromStart  chromEnd       name  score strand  thickStart  thickEnd\n",
      "0   chr1      959245    959305    NOC2L_1    900      -      959245    959256\n",
      "1   chr1      960583    960643   KLHL17_1    900      +      960632    960643\n",
      "2   chr1      966432    966492  PLEKHN1_1    900      +      966481    966492\n",
      "3   chr1      976670    976730    PERM1_1    900      -      976670    976681\n",
      "4   chr1     1000086   1000146     HES4_1    900      -     1000086   1000097 (29598, 8)\n"
     ]
    }
   ],
   "source": [
    "## Load the location of promoter sequences extraced from EPDNew...\n",
    "epdnew_dataset= \"/dccstor/bmfm-targets1/data/omics/genome/finetune_datasets/promoter_prediction/epdnew_chr38_loc.tsv\"\n",
    "\n",
    "df0 = pd.read_csv(epdnew_dataset, header=0, sep=\"\\t\")\n",
    "print(df0.head(), df0.shape)"
   ]
  },
  {
   "cell_type": "code",
   "execution_count": 6,
   "id": "a7e793ce-8d40-429a-a157-214662bea52e",
   "metadata": {},
   "outputs": [
    {
     "data": {
      "text/plain": [
       "#chrom\n",
       "chr1     2923\n",
       "chr19    2012\n",
       "chr2     1939\n",
       "chr11    1805\n",
       "chr17    1791\n",
       "chr3     1677\n",
       "chr12    1621\n",
       "chr6     1514\n",
       "chr7     1378\n",
       "chr5     1372\n",
       "chr16    1255\n",
       "chr4     1180\n",
       "chr9     1148\n",
       "chr10    1130\n",
       "chrX     1111\n",
       "chr8     1029\n",
       "chr14     947\n",
       "chr15     933\n",
       "chr20     834\n",
       "chr22     746\n",
       "chr13     500\n",
       "chr18     443\n",
       "chr21     308\n",
       "chrY        2\n",
       "Name: count, dtype: int64"
      ]
     },
     "execution_count": 6,
     "metadata": {},
     "output_type": "execute_result"
    }
   ],
   "source": [
    "df0['#chrom'].value_counts()"
   ]
  },
  {
   "cell_type": "code",
   "execution_count": 7,
   "id": "bf475c72",
   "metadata": {},
   "outputs": [
    {
     "name": "stdout",
     "output_type": "stream",
     "text": [
      "['chr1' 'chr2' 'chr3' 'chr4' 'chr5' 'chr6' 'chr7' 'chr8' 'chr9' 'chrX'\n",
      " 'chrY' 'chr10' 'chr11' 'chr12' 'chr13' 'chr14' 'chr15' 'chr16' 'chr17'\n",
      " 'chr18' 'chr19' 'chr20' 'chr21' 'chr22']\n"
     ]
    }
   ],
   "source": [
    "chrs = df0['#chrom'].unique()\n",
    "print(chrs)"
   ]
  },
  {
   "cell_type": "code",
   "execution_count": 8,
   "id": "bec06c05-65b2-4443-8271-e169ed374abd",
   "metadata": {},
   "outputs": [
    {
     "name": "stdout",
     "output_type": "stream",
     "text": [
      "174\n",
      "  #chrom  chromStart  chromEnd       name  score strand  thickStart  thickEnd  \\\n",
      "0   chr1      959245    959305    NOC2L_1    900      -      959245    959256   \n",
      "1   chr1      960583    960643   KLHL17_1    900      +      960632    960643   \n",
      "2   chr1      966432    966492  PLEKHN1_1    900      +      966481    966492   \n",
      "3   chr1      976670    976730    PERM1_1    900      -      976670    976681   \n",
      "4   chr1     1000086   1000146     HES4_1    900      -     1000086   1000097   \n",
      "\n",
      "  ref_seq mut_seq  \n",
      "0    None    None  \n",
      "1    None    None  \n",
      "2    None    None  \n",
      "3    None    None  \n",
      "4    None    None   (29511, 10)\n"
     ]
    }
   ],
   "source": [
    "# if name is unique\n",
    "print(sum(df0.duplicated(subset=['#chrom', 'chromStart', 'chromEnd'], keep=False))) # 174\n",
    "df0=df0[~df0.duplicated(subset=['#chrom', 'chromStart', 'chromEnd'], keep='first')] # Remove them\n",
    "df0['ref_seq'] = None\n",
    "df0['mut_seq'] = None\n",
    "print(df0.head(), df0.shape)\n"
   ]
  },
  {
   "cell_type": "code",
   "execution_count": 9,
   "id": "0768bf84",
   "metadata": {},
   "outputs": [
    {
     "data": {
      "text/plain": [
       "strand\n",
       "+    15191\n",
       "-    14320\n",
       "Name: count, dtype: int64"
      ]
     },
     "execution_count": 9,
     "metadata": {},
     "output_type": "execute_result"
    }
   ],
   "source": [
    "df0['strand'].value_counts()"
   ]
  },
  {
   "cell_type": "markdown",
   "id": "631e2ac2-7830-4b1f-bbb9-cba4df98bad0",
   "metadata": {},
   "source": [
    "### extract subsequences with/without flank"
   ]
  },
  {
   "cell_type": "code",
   "execution_count": 10,
   "id": "1a310723",
   "metadata": {},
   "outputs": [
    {
     "name": "stdout",
     "output_type": "stream",
     "text": [
      "Original: ATCGCGB\n",
      "Reverse complement: NCGCGAT\n"
     ]
    }
   ],
   "source": [
    "def reverse_complement(dna_seq):\n",
    "    # Define the complement mapping\n",
    "    complement = {'A': 'T', 'T': 'A', 'C': 'G', 'G': 'C'}\n",
    "    \n",
    "    # Convert to uppercase to handle lowercase input\n",
    "    dna_seq = dna_seq.upper()\n",
    "    \n",
    "    # Find the complement for each base\n",
    "    comp_seq = [complement[base] if base in complement else 'N' for base in reversed(dna_seq)]\n",
    "\n",
    "    \n",
    "    # Reverse the complemented sequence\n",
    "    rev_comp_seq = ''.join(comp_seq)\n",
    "    \n",
    "    return rev_comp_seq\n",
    "\n",
    "# Example usage\n",
    "dna = \"ATCGCGB\"\n",
    "print(\"Original:\", dna)\n",
    "print(\"Reverse complement:\", reverse_complement(dna))\n"
   ]
  },
  {
   "cell_type": "code",
   "execution_count": 11,
   "id": "2f43122c-2d56-4a35-81ff-51c2ed5a997e",
   "metadata": {},
   "outputs": [
    {
     "name": "stdout",
     "output_type": "stream",
     "text": [
      "chr1 has 2907 samples\n",
      "2907 2907 2907\n",
      "chr2 has 1936 samples\n",
      "1936 1936 1936\n",
      "chr3 has 1675 samples\n",
      "1675 1675 1675\n",
      "chr4 has 1178 samples\n",
      "1178 1178 1178\n",
      "chr5 has 1365 samples\n",
      "1365 1365 1365\n",
      "chr6 has 1511 samples\n",
      "1511 1511 1511\n",
      "chr7 has 1376 samples\n",
      "1376 1376 1376\n",
      "chr8 has 1027 samples\n",
      "1027 1027 1027\n",
      "chr9 has 1147 samples\n",
      "1147 1147 1147\n",
      "chr10 has 1121 samples\n",
      "1121 1121 1121\n",
      "chr11 has 1798 samples\n",
      "1798 1798 1798\n",
      "chr12 has 1617 samples\n",
      "1617 1617 1617\n",
      "chr13 has 497 samples\n",
      "497 497 497\n",
      "chr14 has 947 samples\n",
      "947 947 947\n",
      "chr15 has 931 samples\n",
      "931 931 931\n",
      "chr16 has 1251 samples\n",
      "1251 1251 1251\n",
      "chr17 has 1783 samples\n",
      "1783 1783 1783\n",
      "chr18 has 443 samples\n",
      "443 443 443\n",
      "chr19 has 2005 samples\n",
      "2005 2005 2005\n",
      "chr20 has 832 samples\n",
      "832 832 832\n",
      "chr21 has 307 samples\n",
      "307 307 307\n",
      "chr22 has 746 samples\n",
      "746 746 746\n"
     ]
    }
   ],
   "source": [
    "name_all = []\n",
    "for i in range(1,23):\n",
    "    subsequence1_all = []\n",
    "    #subsequence2_all = []\n",
    "    subsequence_ref_all = []\n",
    "    \n",
    "    target_chr = 'chr' + str(i)\n",
    "    this_chr_loc = (df0['#chrom']== target_chr)\n",
    "    the_df = df0[this_chr_loc]\n",
    "    print('%s has %d samples' % (target_chr, len(the_df)))\n",
    "    encoded_seq = []\n",
    "    with open(path_encoded_seq + target_chr + '.txt') as f:\n",
    "        for line in f:\n",
    "            encoded_seq.append(line.strip())\n",
    "    encoded_seq = ''.join(encoded_seq)\n",
    "    ## reverse complement; start from position N, N-1, ..., 2, 1\n",
    "    encoded_seq_rc = []\n",
    "    with open(path_encoded_seq_rc + target_chr + '.txt') as f:\n",
    "        for line in f:\n",
    "            encoded_seq_rc.append(line.strip())\n",
    "    encoded_seq_rc = ''.join(encoded_seq_rc)\n",
    "    ## there are cases of >200 bp e.g. chr5, start = 141094525, stop = 141094726\n",
    "    count = 0\n",
    "    for j in range(len(the_df)):\n",
    "        left =  int(the_df['chromStart'].iloc[j]) \n",
    "        right =  int(the_df['chromEnd'].iloc[j]) \n",
    "        if right - left != 60:\n",
    "            print('NOT 60bp!', target_chr, j, left, right)\n",
    "        if the_df['strand'].iloc[j] == '+':\n",
    "            seq1 = extract_subsequence(encoded_seq, left - 200, right + 40)\n",
    "            seq_ref = extract_subsequence(chr_to_seq[target_chr], left - 200, right + 40)\n",
    "            #seq2 = extract_subsequence(encoded_seq, left, right, len_total=10000)\n",
    "        elif the_df['strand'].iloc[j] == '-':\n",
    "            seq1 = extract_subsequence(encoded_seq_rc, -(right+200), -(left-40))\n",
    "            seq_ref = reverse_complement(extract_subsequence(chr_to_seq[target_chr], left - 40, right + 200))\n",
    "            #seq2 = extract_subsequence(encoded_seq_rc, -right, -left, len_total=10000)\n",
    "        else:\n",
    "            continue\n",
    "        #seq0 = the_df[\"230nt sequence (15nt 5' adaptor - 200nt element - 15nt 3' adaptor)\"].iloc[j][15:-15]\n",
    "        \n",
    "        # ## check if the original seqs are same as baseline...\n",
    "        # if (the_df['str.hg38'].iloc[j]=='+') and (seq0!=seq_ref):\n",
    "        #     count += 1\n",
    "        #     print('This MPRA seq has inbuilt mutation!', target_chr, j, the_df['str.hg38'].iloc[j])\n",
    "        #     print(seq0)\n",
    "        #     print(seq_ref)\n",
    "\n",
    "        ## check if sequences match\n",
    "        if sum([x!=y for x,y in zip(seq_ref,seq1)]) / len(seq_ref) > 0.7:\n",
    "            print('>70% mismatched positions!', target_chr, j, the_df['strand'].iloc[j])\n",
    "            print(seq_ref)\n",
    "            print(seq1)\n",
    "            \n",
    "        subsequence1_all.append(seq1)\n",
    "        #subsequence2_all.append(seq2)\n",
    "        name_all.append(the_df['name'].iloc[j])\n",
    "        subsequence_ref_all.append(seq_ref)\n",
    "    # print(f\"Total Inbuilt mutations in chr {target_chr} is {count}.\")\n",
    "    print(sum(this_chr_loc), len(subsequence1_all), len(subsequence_ref_all))\n",
    "    df0.loc[this_chr_loc, 'ref_seq'] = subsequence_ref_all\n",
    "    df0.loc[this_chr_loc, 'mut_seq'] = subsequence1_all\n",
    "    \n"
   ]
  },
  {
   "cell_type": "code",
   "execution_count": 12,
   "id": "7d4c3dd6",
   "metadata": {},
   "outputs": [
    {
     "name": "stdout",
     "output_type": "stream",
     "text": [
      "  #chrom  chromStart  chromEnd       name  score strand  thickStart  thickEnd  \\\n",
      "0   chr1      959245    959305    NOC2L_1    900      -      959245    959256   \n",
      "1   chr1      960583    960643   KLHL17_1    900      +      960632    960643   \n",
      "2   chr1      966432    966492  PLEKHN1_1    900      +      966481    966492   \n",
      "3   chr1      976670    976730    PERM1_1    900      -      976670    976681   \n",
      "4   chr1     1000086   1000146     HES4_1    900      -     1000086   1000097   \n",
      "\n",
      "                                             ref_seq  \\\n",
      "0  GGGGCGGACACCGGCGTCACCGCGTCCTACGGAGCCGGGCGCCGAG...   \n",
      "1  TCTCGGAGGAGGAGGAGGGCGAGGCCTGGTGGGGGGCTTCCCGGAG...   \n",
      "2  GCCTGGAAGGTCGCCCCGGGTTCACCAAGCCGGAGCACAAGCAGGT...   \n",
      "3  GTGGGAGGCGGTTCCCGGGGTTGGCGGGGGGAGTGGGAGGCGGTTC...   \n",
      "4  CCGGCTGCATCGGGGAGCGCGGGATCACCCGGCCCTGTCCCCAGCG...   \n",
      "\n",
      "                                             mut_seq  \n",
      "0  GGGGCGGACACCGGCGTCACCGCGTCCTACGGAGCCGGGCGCCGAG...  \n",
      "1  TCT则GG高GGAGGAGGAGGGCG高GGCC摄GG摄GGGGGGCTTCCCGGAG...  \n",
      "2  GCCTGGAAGGTCGCCCCGGGTTCACCAAGCCGGAGCACAAGCAGGT...  \n",
      "3  G摄GGG正GG正GG摄TCC则GGGG摄兰G秋则GGGGGGAG摄GG正AGGCGGTTC...  \n",
      "4  CCGGCTGCATC高GGGAGCGCGGGATCACCCGGCCCTGTCCCCAGCG...   (29511, 10)\n"
     ]
    }
   ],
   "source": [
    "print(df0.head(), df0.shape)"
   ]
  },
  {
   "cell_type": "code",
   "execution_count": 13,
   "id": "726bb2b7",
   "metadata": {},
   "outputs": [
    {
     "name": "stdout",
     "output_type": "stream",
     "text": [
      "GTGGGAGGCGGTTCCCGGGGTTGGCGGGGGGAGTGGGAGGCGGTTCCCGGGGTTGGCGGGGGGAGTGGGAGGCGGTTCCCGGGGTTGGCGGGGGGAGTGGGAGGCGGTTCCCGGGGTTGGCGGGGGGAGTGGGAGGCGGTTCCCGGGGTTGGCGGGGGGAGTGGGAGGCGGTTCCCGGGGTTGGCGGGGGGAGTGGGAGGCGGTTCCCGGGGTTGGTGGGGGTGGGGGCAGGCGGTTCCCGGGGCGGGCGTGTGCGGGGCCATCTCTGAGTGCAGCCGTGGGGCTGAAGGTGAGCTTCTG\n",
      "GCCCCGCACACGCCCGCCCCGGGAACCGCCTGCCCCCACCCCCACCAACCCCGGGAACCG\n",
      "CGGTTCCCGGGGTTGGTGGGGGTGGGGGCAGGCGGTTCCCGGGGCGGGCGTGTGCGGGGC\n"
     ]
    }
   ],
   "source": [
    "# Sanity check...\n",
    "print(df0['ref_seq'].loc[3])\n",
    "print(extract_subsequence(chr_to_seq['chr1'], 976670, 976730))\n",
    "rc_seq3 = reverse_complement(extract_subsequence(chr_to_seq['chr1'], 976670, 976730))\n",
    "print(rc_seq3) # This one is found ....\n",
    "assert rc_seq3 in df0['ref_seq'].loc[3]"
   ]
  },
  {
   "cell_type": "code",
   "execution_count": 14,
   "id": "2837660c",
   "metadata": {},
   "outputs": [
    {
     "name": "stdout",
     "output_type": "stream",
     "text": [
      "Total unique ref seqs:, 28376 out of 29511.\n",
      "Total unique mut seqs:, 28390 out of 29511.\n"
     ]
    }
   ],
   "source": [
    "# See if you stil have duplicates...\n",
    "print(f\"Total unique ref seqs:, {df0['ref_seq'].nunique()} out of 29511.\")\n",
    "print(f\"Total unique mut seqs:, {df0['mut_seq'].nunique()} out of 29511.\")"
   ]
  },
  {
   "cell_type": "code",
   "execution_count": 15,
   "id": "1cb85dab",
   "metadata": {},
   "outputs": [
    {
     "name": "stdout",
     "output_type": "stream",
     "text": [
      "(28376, 10)\n"
     ]
    }
   ],
   "source": [
    "duplicates = df0[df0.duplicated(subset=['ref_seq'], keep=False)]\n",
    "df0=df0[~df0.duplicated(subset=['ref_seq'], keep='first')] # Remove them\n",
    "df0 = df0.dropna(subset=['ref_seq'])\n",
    "print(df0.shape)\n"
   ]
  },
  {
   "cell_type": "markdown",
   "id": "da680446",
   "metadata": {},
   "source": [
    "### Retrieve the csv file of the dataset to get the label information for positive samples..."
   ]
  },
  {
   "cell_type": "code",
   "execution_count": 16,
   "id": "94c09315",
   "metadata": {},
   "outputs": [
    {
     "name": "stdout",
     "output_type": "stream",
     "text": [
      "                                            sequence  label  split\n",
      "0  TATAATAATAACGAAGATGAGACGACAGTCGACAAGAAAAGCACCA...      0  train\n",
      "1  AAAGCCCGAGCGGCGGCCACGCCTCGGTGGCGATTTTATTAGCGCT...      1  train\n",
      "2  AGTCCGCGATATTCTGAGGGGACTTTCGACACAAAAAAGTTGACAC...      0  train\n",
      "3  ACCCCCCGGCCCCGCCCCACAGACCCCTCCAGTGGTCCCCCGGCCA...      1  train\n",
      "4  AGGTCTTTGGTCCCCCAACCCTGTGCTCTTTCCACTTAAATCCCGA...      1  train (59196, 3)\n"
     ]
    }
   ],
   "source": [
    "base_data_dir = \"/dccstor/bmfm-targets1/data/omics/genome/finetune_datasets/promoter_prediction/DNA_BERT2/\"\n",
    "#(cat ${base_data_dir}train.csv && tail -n +2 ${base_data_dir}test.csv &&  tail -n +2 ${base_data_dir}dev.csv) > ${base_data_dir}combined.csv\n",
    "df_to_be_snpified = pd.read_csv(base_data_dir+\"/combined.csv\", sep=\",\")\n",
    "split_vector = ['train']*47356 + ['test']*5920 + ['dev']* 5920\n",
    "df_to_be_snpified['split'] = split_vector\n",
    "print(df_to_be_snpified.head(), df_to_be_snpified.shape)\n"
   ]
  },
  {
   "cell_type": "code",
   "execution_count": 17,
   "id": "1796e5c3",
   "metadata": {},
   "outputs": [
    {
     "name": "stdout",
     "output_type": "stream",
     "text": [
      "label\n",
      "0    29598\n",
      "1    29598\n",
      "Name: count, dtype: int64\n",
      "split\n",
      "train    47356\n",
      "test      5920\n",
      "dev       5920\n",
      "Name: count, dtype: int64\n"
     ]
    }
   ],
   "source": [
    "print(df_to_be_snpified['label'].value_counts())\n",
    "print(df_to_be_snpified['split'].value_counts())"
   ]
  },
  {
   "cell_type": "code",
   "execution_count": 18,
   "id": "814e95d4",
   "metadata": {},
   "outputs": [
    {
     "name": "stdout",
     "output_type": "stream",
     "text": [
      "Total unique seqs:, 59019 out of 59196.\n",
      "Total unique seqs in pos class:, 29478 out of 29598.\n",
      "Total unique seqs in neg class:, 29556 out of 29598.\n",
      "Common sequences in pos and neg class: 15\n",
      "(59166, 3)\n",
      "Total unique seqs:, 59004 out of 59166.\n"
     ]
    }
   ],
   "source": [
    "print(f\"Total unique seqs:, {df_to_be_snpified['sequence'].nunique()} out of 59196.\")\n",
    "df_to_be_snpified_pos = df_to_be_snpified[df_to_be_snpified['label']==1]\n",
    "print(f\"Total unique seqs in pos class:, {df_to_be_snpified_pos['sequence'].nunique()} out of 29598.\")\n",
    "df_to_be_snpified_neg = df_to_be_snpified[df_to_be_snpified['label']==0]\n",
    "print(f\"Total unique seqs in neg class:, {df_to_be_snpified_neg['sequence'].nunique()} out of 29598.\")\n",
    "# Remove the common samples \n",
    "common_seqs = set(df_to_be_snpified_pos['sequence']).intersection(df_to_be_snpified_neg['sequence'])\n",
    "print(\"Common sequences in pos and neg class:\", len(common_seqs))\n",
    "df_filtered = df_to_be_snpified[~df_to_be_snpified['sequence'].isin(common_seqs)]\n",
    "print(df_filtered.shape)\n",
    "\n",
    "# Remove the duplicates...\n",
    "df_to_be_snpified=df_filtered[~df_filtered.duplicated(subset=['sequence'], keep='first')] # Remove them\n",
    "print(f\"Total unique seqs:, {df_to_be_snpified['sequence'].nunique()} out of 59166.\")"
   ]
  },
  {
   "cell_type": "markdown",
   "id": "352db0c9",
   "metadata": {},
   "source": [
    "### Combine the two df and then # Look for overlap... \n"
   ]
  },
  {
   "cell_type": "code",
   "execution_count": 19,
   "id": "1ec476ee",
   "metadata": {},
   "outputs": [
    {
     "name": "stdout",
     "output_type": "stream",
     "text": [
      "  #chrom  chromStart  chromEnd       name  score strand  thickStart  thickEnd  \\\n",
      "0   chr1      959245    959305    NOC2L_1    900      -      959245    959256   \n",
      "1   chr1      960583    960643   KLHL17_1    900      +      960632    960643   \n",
      "2   chr1      966432    966492  PLEKHN1_1    900      +      966481    966492   \n",
      "3   chr1      976670    976730    PERM1_1    900      -      976670    976681   \n",
      "4   chr1     1000086   1000146     HES4_1    900      -     1000086   1000097   \n",
      "\n",
      "                                             ref_seq  \\\n",
      "0  GGGGCGGACACCGGCGTCACCGCGTCCTACGGAGCCGGGCGCCGAG...   \n",
      "1  TCTCGGAGGAGGAGGAGGGCGAGGCCTGGTGGGGGGCTTCCCGGAG...   \n",
      "2  GCCTGGAAGGTCGCCCCGGGTTCACCAAGCCGGAGCACAAGCAGGT...   \n",
      "3  GTGGGAGGCGGTTCCCGGGGTTGGCGGGGGGAGTGGGAGGCGGTTC...   \n",
      "4  CCGGCTGCATCGGGGAGCGCGGGATCACCCGGCCCTGTCCCCAGCG...   \n",
      "\n",
      "                                             mut_seq  \\\n",
      "0  GGGGCGGACACCGGCGTCACCGCGTCCTACGGAGCCGGGCGCCGAG...   \n",
      "1  TCT则GG高GGAGGAGGAGGGCG高GGCC摄GG摄GGGGGGCTTCCCGGAG...   \n",
      "2  GCCTGGAAGGTCGCCCCGGGTTCACCAAGCCGGAGCACAAGCAGGT...   \n",
      "3  G摄GGG正GG正GG摄TCC则GGGG摄兰G秋则GGGGGGAG摄GG正AGGCGGTTC...   \n",
      "4  CCGGCTGCATC高GGGAGCGCGGGATCACCCGGCCCTGTCCCCAGCG...   \n",
      "\n",
      "                                            sequence  label  split  \n",
      "0  GGGGCGGACACCGGCGTCACCGCGTCCTACGGAGCCGGGCGCCGAG...    1.0  train  \n",
      "1  TCTCGGAGGAGGAGGAGGGCGAGGCCTGGTGGGGGGCTTCCCGGAG...    1.0    dev  \n",
      "2  GCCTGGAAGGTCGCCCCGGGTTCACCAAGCCGGAGCACAAGCAGGT...    1.0  train  \n",
      "3  GTGGGAGGCGGTTCCCGGGGTTGGCGGGGGGAGTGGGAGGCGGTTC...    1.0  train  \n",
      "4  CCGGCTGCATCGGGGAGCGCGGGATCACCCGGCCCTGTCCCCAGCG...    1.0    dev   (28376, 13)\n"
     ]
    }
   ],
   "source": [
    "merged_df_pos = df0.merge(df_to_be_snpified, left_on='ref_seq', right_on='sequence', how='left')\n",
    "print(merged_df_pos.head(), merged_df_pos.shape)"
   ]
  },
  {
   "cell_type": "code",
   "execution_count": 20,
   "id": "5513c538",
   "metadata": {},
   "outputs": [
    {
     "name": "stdout",
     "output_type": "stream",
     "text": [
      "      #chrom  chromStart   chromEnd        name  score strand  thickStart  \\\n",
      "826     chr1    44800327   44800387      PLK3_1    900      +    44800376   \n",
      "2118    chr1   162561672  162561732      UAP1_1    900      +   162561721   \n",
      "9461    chr6    31834866   31834926   C6orf48_1    900      +    31834915   \n",
      "12459   chr8    73293621   73293681      RPL7_1    900      -    73293621   \n",
      "12783   chr8   127735558  127735618       MYC_3    900      +   127735607   \n",
      "14983  chr10   104085790  104085850   COL17A1_1    900      -   104085790   \n",
      "15011  chr10   110008181  110008241      ADD3_2    900      +   110008230   \n",
      "15687  chr11    33722712   33722772      CD59_4    900      -    33722712   \n",
      "15946  chr11    61361871   61361931  CYB561A3_1    900      -    61361871   \n",
      "16063  chr11    63506295   63506355   LGALS12_2    900      +    63506344   \n",
      "17012  chr11   133532382  133532442     OPCML_2    900      -   133532382   \n",
      "17439  chr12    29149252   29149312      FAR2_1    900      +    29149301   \n",
      "19808  chr14    80211493   80211553      DIO2_3    900      -    80211493   \n",
      "20739  chr15    75578961   75579021     PTPN9_3    900      -    75578961   \n",
      "21593  chr16    29863210   29863270     CDIPT_1    900      -    29863210   \n",
      "\n",
      "        thickEnd                                            ref_seq  \\\n",
      "826     44800387  AGCTGGCCCCTGCGGCCTGGTTGCACCTGCATGGTGACTAGCTGCC...   \n",
      "2118   162561732  CCATCCCTAGCCCCGCCCCGGCGCCCCGGGCCGCGGCCGCCTCCGC...   \n",
      "9461    31834926  ACTTTCTTCCGCCTGGCCAGACAGATCCCTGTTTTTTGTTTTTCAA...   \n",
      "12459   73293632  ACCCGGAGTTGCCAAGGTGTCAGCACTCTTTGCTCTTGAATTGATT...   \n",
      "12783  127735618  GGGTGGAAGGTATCCAATCCAGATAGCTGTGCATACATAATGCATA...   \n",
      "14983  104085801  CTTTCTGCCTCCAGTAAAGTTTGATTCCTGGAGGCAGATTTTTTTT...   \n",
      "15011  110008241  CCAGAGCGCGAGCCGCCAGCCCGTAACGGTCGCCAGTGTGAGGGGC...   \n",
      "15687   33722723  GAGAGCAAGCAAGTGTCCCCATTATACTTCTTACAGTGAGGAGCCA...   \n",
      "15946   61361882  GTTCACCTGAACATTTCCGCCTCCTCTGGATGGGGGATGAGAGGCG...   \n",
      "16063   63506355  TGGCCCCACAGGAGCCAGCCTCTGGCTTCTCTCTGCAATGGCCATG...   \n",
      "17012  133532393  TTGGAGTCAAGCCTTCCAAGCAGGAAAGTCTCCTTCCGTCGCTCAG...   \n",
      "17439   29149312  GAACGAATGGAAGCGCGGGGCGGGCCTGCGCGCGCGGCCGCCCTGC...   \n",
      "19808   80211504  AAAAAAAAAAAAAAAAAAAGGCAGCAGCTCCGAATTGAATGAATTG...   \n",
      "20739   75578972  CGAGCTCTGTGGCGCTGTGGAGGAGCGGGAGCGCGGCCGAGGAAGC...   \n",
      "21593   29863221  GAGGAGGAATTTTATCGCCTTATCTTTGCCTCCAGGAAGTCATACC...   \n",
      "\n",
      "                                                 mut_seq sequence  label split  \n",
      "826    AGCTGGCCCCTGCGGCCTGGTTGCACCTGCATGGTGACTAGCTGCC...      NaN    NaN   NaN  \n",
      "2118   CCATCCCTAGCCCCGCCCCGGCGC则CCGGGCCGCGGCCGCCTCCGC...      NaN    NaN   NaN  \n",
      "9461   ACTTTCTTCCGCCTGGCCAGA正AGATCCCTGTTTTTTGTTTTTCAA...      NaN    NaN   NaN  \n",
      "12459  ACCCGGAGTTGCCAAGGTGTCAGCACTCTTTGCTCTTGAATTGATT...      NaN    NaN   NaN  \n",
      "12783  GGGTGGAAGGTATCCAATCCAGATAGCTGTGCATACATAATGCATA...      NaN    NaN   NaN  \n",
      "14983  CTTTCTGCCTCCAGTAAAGTTTGATTCCTGGAGGCAGATTTTTTTT...      NaN    NaN   NaN  \n",
      "15011  CCAGAGCGCGAGCCGCCAGCCCGTAACGGTCGCCAGTGTGAGGGGC...      NaN    NaN   NaN  \n",
      "15687  GAGAGCAAGCAAGTGTCCCCATTATACTTCTTACAGTGAGGAGCCA...      NaN    NaN   NaN  \n",
      "15946  GTTCACCTGAACATTTCCGCCTCCTCTGGATGGGGGATGAGAGGCG...      NaN    NaN   NaN  \n",
      "16063  TGGCCCCACAGGAGCCAGCCTCTGGCTTCTCTCTGCAATGGCCATG...      NaN    NaN   NaN  \n",
      "17012  TTGGAGTCAAGCCTTCCAAGCAGGAAAGTCTCCTTCCGTCGCTCAG...      NaN    NaN   NaN  \n",
      "17439  GAACGAATGGAAGCGCGGGGCGGGCCTGCGCGCGCGGCCGCCCTGC...      NaN    NaN   NaN  \n",
      "19808  AAAAAAAAAAAAAAAAAAAGGCAGCAGCTCCGAATTGAATGAATTG...      NaN    NaN   NaN  \n",
      "20739  CGAGCTCTGTGGCGCTGTGGAGGAGCGGGAGCGCGGCCGAG高AAGC...      NaN    NaN   NaN  \n",
      "21593  GAGGAGGAATTTTATCGCCTTATCTTTGCCTCCAGGAAGTCATACC...      NaN    NaN   NaN  \n",
      "      #chrom  chromStart   chromEnd        name  score strand  thickStart  \\\n",
      "826     chr1    44800327   44800387      PLK3_1    900      +    44800376   \n",
      "2118    chr1   162561672  162561732      UAP1_1    900      +   162561721   \n",
      "9461    chr6    31834866   31834926   C6orf48_1    900      +    31834915   \n",
      "12459   chr8    73293621   73293681      RPL7_1    900      -    73293621   \n",
      "12783   chr8   127735558  127735618       MYC_3    900      +   127735607   \n",
      "14983  chr10   104085790  104085850   COL17A1_1    900      -   104085790   \n",
      "15011  chr10   110008181  110008241      ADD3_2    900      +   110008230   \n",
      "15687  chr11    33722712   33722772      CD59_4    900      -    33722712   \n",
      "15946  chr11    61361871   61361931  CYB561A3_1    900      -    61361871   \n",
      "16063  chr11    63506295   63506355   LGALS12_2    900      +    63506344   \n",
      "17012  chr11   133532382  133532442     OPCML_2    900      -   133532382   \n",
      "17439  chr12    29149252   29149312      FAR2_1    900      +    29149301   \n",
      "19808  chr14    80211493   80211553      DIO2_3    900      -    80211493   \n",
      "20739  chr15    75578961   75579021     PTPN9_3    900      -    75578961   \n",
      "21593  chr16    29863210   29863270     CDIPT_1    900      -    29863210   \n",
      "\n",
      "        thickEnd                                            ref_seq  \\\n",
      "826     44800387  AGCTGGCCCCTGCGGCCTGGTTGCACCTGCATGGTGACTAGCTGCC...   \n",
      "2118   162561732  CCATCCCTAGCCCCGCCCCGGCGCCCCGGGCCGCGGCCGCCTCCGC...   \n",
      "9461    31834926  ACTTTCTTCCGCCTGGCCAGACAGATCCCTGTTTTTTGTTTTTCAA...   \n",
      "12459   73293632  ACCCGGAGTTGCCAAGGTGTCAGCACTCTTTGCTCTTGAATTGATT...   \n",
      "12783  127735618  GGGTGGAAGGTATCCAATCCAGATAGCTGTGCATACATAATGCATA...   \n",
      "14983  104085801  CTTTCTGCCTCCAGTAAAGTTTGATTCCTGGAGGCAGATTTTTTTT...   \n",
      "15011  110008241  CCAGAGCGCGAGCCGCCAGCCCGTAACGGTCGCCAGTGTGAGGGGC...   \n",
      "15687   33722723  GAGAGCAAGCAAGTGTCCCCATTATACTTCTTACAGTGAGGAGCCA...   \n",
      "15946   61361882  GTTCACCTGAACATTTCCGCCTCCTCTGGATGGGGGATGAGAGGCG...   \n",
      "16063   63506355  TGGCCCCACAGGAGCCAGCCTCTGGCTTCTCTCTGCAATGGCCATG...   \n",
      "17012  133532393  TTGGAGTCAAGCCTTCCAAGCAGGAAAGTCTCCTTCCGTCGCTCAG...   \n",
      "17439   29149312  GAACGAATGGAAGCGCGGGGCGGGCCTGCGCGCGCGGCCGCCCTGC...   \n",
      "19808   80211504  AAAAAAAAAAAAAAAAAAAGGCAGCAGCTCCGAATTGAATGAATTG...   \n",
      "20739   75578972  CGAGCTCTGTGGCGCTGTGGAGGAGCGGGAGCGCGGCCGAGGAAGC...   \n",
      "21593   29863221  GAGGAGGAATTTTATCGCCTTATCTTTGCCTCCAGGAAGTCATACC...   \n",
      "\n",
      "                                                 mut_seq sequence  label split  \n",
      "826    AGCTGGCCCCTGCGGCCTGGTTGCACCTGCATGGTGACTAGCTGCC...      NaN    NaN   NaN  \n",
      "2118   CCATCCCTAGCCCCGCCCCGGCGC则CCGGGCCGCGGCCGCCTCCGC...      NaN    NaN   NaN  \n",
      "9461   ACTTTCTTCCGCCTGGCCAGA正AGATCCCTGTTTTTTGTTTTTCAA...      NaN    NaN   NaN  \n",
      "12459  ACCCGGAGTTGCCAAGGTGTCAGCACTCTTTGCTCTTGAATTGATT...      NaN    NaN   NaN  \n",
      "12783  GGGTGGAAGGTATCCAATCCAGATAGCTGTGCATACATAATGCATA...      NaN    NaN   NaN  \n",
      "14983  CTTTCTGCCTCCAGTAAAGTTTGATTCCTGGAGGCAGATTTTTTTT...      NaN    NaN   NaN  \n",
      "15011  CCAGAGCGCGAGCCGCCAGCCCGTAACGGTCGCCAGTGTGAGGGGC...      NaN    NaN   NaN  \n",
      "15687  GAGAGCAAGCAAGTGTCCCCATTATACTTCTTACAGTGAGGAGCCA...      NaN    NaN   NaN  \n",
      "15946  GTTCACCTGAACATTTCCGCCTCCTCTGGATGGGGGATGAGAGGCG...      NaN    NaN   NaN  \n",
      "16063  TGGCCCCACAGGAGCCAGCCTCTGGCTTCTCTCTGCAATGGCCATG...      NaN    NaN   NaN  \n",
      "17012  TTGGAGTCAAGCCTTCCAAGCAGGAAAGTCTCCTTCCGTCGCTCAG...      NaN    NaN   NaN  \n",
      "17439  GAACGAATGGAAGCGCGGGGCGGGCCTGCGCGCGCGGCCGCCCTGC...      NaN    NaN   NaN  \n",
      "19808  AAAAAAAAAAAAAAAAAAAGGCAGCAGCTCCGAATTGAATGAATTG...      NaN    NaN   NaN  \n",
      "20739  CGAGCTCTGTGGCGCTGTGGAGGAGCGGGAGCGCGGCCGAG高AAGC...      NaN    NaN   NaN  \n",
      "21593  GAGGAGGAATTTTATCGCCTTATCTTTGCCTCCAGGAAGTCATACC...      NaN    NaN   NaN  \n"
     ]
    }
   ],
   "source": [
    "print(merged_df_pos[merged_df_pos['sequence'].isna()])\n",
    "print(merged_df_pos[merged_df_pos['ref_seq'] != merged_df_pos['sequence']])\n",
    "# Looks like these 15 leaked one is only missing, which makes sense..."
   ]
  },
  {
   "cell_type": "code",
   "execution_count": 21,
   "id": "c858e6d5",
   "metadata": {},
   "outputs": [
    {
     "name": "stdout",
     "output_type": "stream",
     "text": [
      "# of seqs after removing the 15 leaked samples: (28361, 13)\n",
      "label\n",
      "1.0    28361\n",
      "Name: count, dtype: int64\n",
      "!!!! These positive samples are in negative set: \n",
      "Empty DataFrame\n",
      "Columns: [#chrom, chromStart, chromEnd, name, score, strand, thickStart, thickEnd, ref_seq, mut_seq, sequence, label, split]\n",
      "Index: []\n"
     ]
    }
   ],
   "source": [
    "# Drop those ones...\n",
    "merged_df_pos=merged_df_pos.dropna(subset=['sequence'])\n",
    "print(\"# of seqs after removing the 15 leaked samples:\", merged_df_pos.shape)\n",
    "assert(merged_df_pos[merged_df_pos['sequence'].isna()].shape[0] == 0)\n",
    "print(merged_df_pos['label'].value_counts())\n",
    "\n",
    "print(\"!!!! These positive samples are in negative set: \")\n",
    "print(merged_df_pos[merged_df_pos['label']==0])"
   ]
  },
  {
   "cell_type": "code",
   "execution_count": 22,
   "id": "3b172cfa-0e6d-42b3-9f0e-e21f1be5d84f",
   "metadata": {},
   "outputs": [
    {
     "name": "stdout",
     "output_type": "stream",
     "text": [
      "percentage of variation(300): 1.04%\n"
     ]
    }
   ],
   "source": [
    "## calculate percentage of variations\n",
    "\n",
    "var_percent1 = merged_df_pos['mut_seq'].apply(count_variation_percent)\n",
    "\n",
    "print(\"percentage of variation(300): %.2f%%\" % (sum(var_percent1)/len(var_percent1)*100))\n"
   ]
  },
  {
   "cell_type": "code",
   "execution_count": 23,
   "id": "3f6fde87",
   "metadata": {},
   "outputs": [
    {
     "name": "stdout",
     "output_type": "stream",
     "text": [
      "28361 0.0 193.99999999999997\n"
     ]
    }
   ],
   "source": [
    "var_percent1 = [var*300 for var in var_percent1]\n",
    "print(len(var_percent1), min(var_percent1), max(var_percent1))\n"
   ]
  },
  {
   "cell_type": "markdown",
   "id": "9e7d9080",
   "metadata": {},
   "source": [
    "### Plot the original distribution..."
   ]
  },
  {
   "cell_type": "code",
   "execution_count": 24,
   "id": "84330736",
   "metadata": {},
   "outputs": [
    {
     "data": {
      "image/png": "[encoded data removed]",
      "text/plain": [
       "<Figure size 640x480 with 1 Axes>"
      ]
     },
     "metadata": {},
     "output_type": "display_data"
    }
   ],
   "source": [
    "import matplotlib.pyplot as plt\n",
    "\n",
    "plt.hist(var_percent1, bins=500, alpha=0.5, edgecolor='black', label='Original Data', density=True)\n",
    "plt.show()"
   ]
  },
  {
   "cell_type": "code",
   "execution_count": 25,
   "id": "6d176c39",
   "metadata": {},
   "outputs": [
    {
     "name": "stdout",
     "output_type": "stream",
     "text": [
      "[2.0, 13.0, 1.0, 37.0, 5.0, 5.0, 10.0, 20.0, 7.0, 0.0, 1.0, 1.0, 2.0, 0.0, 1.0, 1.0, 4.0, 3.0, 0.0, 11.0, 6.0, 3.0, 0.0, 3.0, 1.0, 1.0, 1.0, 9.0, 1.0, 0.0, 0.0, 0.0, 2.0, 4.0, 1.0, 2.0, 0.0, 2.0, 3.0, 4.0, 5.0, 2.0, 4.0, 10.0, 14.0, 2.0, 22.0, 2.0, 5.0, 1.0, 2.0, 9.0, 7.0, 1.0, 1.0, 0.0, 1.0, 0.0, 1.0, 1.0, 2.0, 2.0, 17.0, 1.0, 2.0, 6.0, 5.0, 1.0, 9.0, 1.0, 1.0, 1.0, 0.0, 0.0, 0.0, 1.0, 1.0, 1.0, 0.0, 2.0, 2.0, 1.0, 4.0, 5.0, 2.0, 11.0, 6.0, 1.0, 3.0, 1.0, 14.0, 36.0, 1.0, 1.0, 11.0, 0.0, 2.0, 0.0, 1.0, 31.0, 4.0, 2.0, 3.0, 1.0, 10.0, 1.0, 0.0, 3.0, 85.0, 1.0, 10.0, 1.0, 2.0, 9.0, 3.0, 3.0, 1.0, 1.0, 6.0, 2.0, 6.0, 2.0, 10.0, 12.0, 3.0, 0.0, 15.0, 10.0, 13.0, 1.0, 2.0, 4.0, 6.0, 2.0, 1.0, 3.0, 1.0, 8.0, 1.0, 1.0, 0.0, 0.0, 1.0, 22.0, 1.0, 3.0, 2.0, 2.0, 2.0, 0.0, 0.0, 5.0, 1.0, 4.0, 15.0, 1.0, 0.0, 7.0, 1.0, 22.0, 1.0, 1.0, 20.0, 1.0, 14.0, 8.0, 1.0, 1.0, 1.0, 6.0, 11.0, 7.0, 2.0, 19.0, 2.0, 2.0, 3.0, 8.0, 1.0, 0.0, 0.0, 0.0, 7.0, 12.0, 1.0, 0.0, 0.0, 2.0, 1.0, 18.0, 3.0, 1.0, 3.0, 0.0, 0.0, 0.0, 1.0, 1.0, 4.0, 0.0, 2.0, 16.0, 1.0, 6.0, 3.0, 2.0, 0.0, 1.0, 5.0, 5.0, 5.0, 6.0, 2.0, 3.0, 0.0, 1.0, 7.0, 0.0, 7.0, 5.0, 1.0, 2.0, 1.0, 1.0, 0.0, 2.0, 0.0, 2.0, 5.0, 2.0, 4.0, 1.0, 1.0, 0.0, 3.0, 3.0, 2.0, 23.0, 19.0, 2.0, 1.0, 0.0, 0.0, 1.0, 5.0, 33.0, 29.0, 28.0, 6.0, 1.0, 1.0, 4.0, 1.0, 1.0, 2.0, 2.0, 10.0, 5.0, 0.0, 5.0, 1.0, 0.0, 4.0, 1.0, 15.0, 13.0, 0.0, 2.0, 5.0, 1.0, 1.0, 0.0, 0.0, 14.0, 2.0, 9.0, 1.0, 10.0, 1.0, 0.0, 1.0, 2.0, 6.0, 3.0, 1.0, 5.0, 14.0, 3.0, 0.0, 0.0, 2.0, 1.0, 4.0, 1.0, 2.0, 9.0, 2.0, 0.0, 3.0, 1.0, 2.0, 0.0, 1.0, 2.0, 1.0, 1.0, 1.0, 0.0, 2.0, 4.0, 1.0, 1.0, 2.0, 0.0, 1.0, 8.0, 7.0, 4.0, 2.0, 6.0, 0.0, 0.0, 3.0, 6.0, 5.0, 5.0, 14.0, 13.0, 2.0, 1.0, 0.0, 4.0, 2.0, 2.0, 3.0, 4.0, 2.0, 2.0, 3.0, 0.0, 2.0, 0.0, 3.0, 13.0, 1.0, 0.0, 16.0, 1.0, 1.0, 7.0, 5.0, 3.0, 6.0, 1.0, 1.0, 4.0, 2.0, 3.0, 1.0, 1.0, 0.0, 0.0, 0.0, 0.0, 4.0, 2.0, 3.0, 0.0, 8.0, 0.0, 7.0, 1.0, 0.0, 4.0, 1.0, 1.0, 2.0, 2.0, 15.0, 4.0, 11.0, 3.0, 0.0, 7.0, 6.0, 2.0, 11.0, 1.0, 1.0, 1.0, 0.0, 0.0, 2.0, 1.0, 2.0, 0.0, 1.0, 0.0, 0.0, 8.0, 10.0, 2.0, 3.0, 3.0, 1.0, 0.0, 15.0, 0.0, 0.0, 0.0, 8.0, 5.0, 0.0, 3.0, 4.0, 2.0, 0.0, 1.0, 3.0, 9.0, 2.0, 0.0, 2.0, 1.0, 2.0, 2.0, 2.0, 1.0, 15.0, 1.0, 0.0, 1.0, 3.0, 16.0, 1.0, 1.0, 1.0, 2.0, 1.0, 1.0, 2.0, 2.0, 0.0, 1.0, 2.0, 2.0, 2.0, 3.0, 1.0, 0.0, 0.0, 2.0, 51.00000000000001, 2.0, 3.0, 4.0, 3.0, 4.0, 1.0, 0.0, 11.0, 0.0, 2.0, 2.0, 2.0, 2.0, 3.0, 3.0, 1.0, 3.0, 3.0, 3.0, 1.0, 2.0, 0.0, 9.0, 2.0, 3.0, 2.0, 9.0, 5.0, 6.0, 4.0, 5.0, 1.0, 3.0, 2.0, 2.0, 2.0, 0.0, 0.0, 1.0, 0.0, 5.0, 3.0, 0.0, 7.0, 1.0, 3.0, 5.0, 1.0, 0.0, 0.0, 1.0, 0.0, 1.0, 2.0, 0.0, 5.0, 0.0, 1.0, 0.0, 3.0, 3.0, 3.0, 1.0, 0.0, 1.0, 2.0, 1.0, 15.0, 2.0, 0.0, 1.0, 2.0, 3.0, 3.0, 1.0, 6.0, 2.0, 3.0, 0.0, 2.0, 11.0, 1.0, 0.0, 1.0, 2.0, 1.0, 0.0, 0.0, 0.0, 1.0, 1.0, 2.0, 1.0, 0.0, 3.0, 2.0, 1.0, 0.0, 13.0, 1.0, 0.0, 4.0, 3.0, 0.0, 0.0, 21.000000000000004, 1.0, 37.0, 3.0, 1.0, 7.0, 0.0, 1.0, 0.0, 0.0, 1.0, 1.0, 5.0, 0.0, 0.0, 4.0, 2.0, 0.0, 1.0, 0.0, 1.0, 1.0, 0.0, 0.0, 0.0, 1.0, 0.0, 0.0, 0.0, 0.0, 1.0, 0.0, 0.0, 3.0, 2.0, 1.0, 4.0, 0.0, 0.0, 0.0, 1.0, 0.0, 3.0, 0.0, 26.0, 3.0, 0.0, 1.0, 2.0, 0.0, 1.0, 10.0, 0.0, 12.0, 2.0, 1.0, 3.0, 0.0, 1.0, 3.0, 4.0, 5.0, 0.0, 3.0, 1.0, 1.0, 5.0, 1.0, 4.0, 2.0, 17.0, 1.0, 0.0, 1.0, 0.0, 1.0, 9.0, 1.0, 2.0, 3.0, 0.0, 0.0, 1.0, 1.0, 0.0, 2.0, 0.0, 1.0, 5.0, 5.0, 1.0, 1.0, 2.0, 0.0, 1.0, 0.0, 0.0, 1.0, 2.0, 0.0, 7.0, 0.0, 3.0, 0.0, 1.0, 1.0, 1.0, 3.0, 0.0, 2.0, 3.0, 0.0, 0.0, 6.0, 1.0, 2.0, 0.0, 2.0, 8.0, 1.0, 2.0, 1.0, 2.0, 1.0, 1.0, 4.0, 24.0, 24.0, 0.0, 0.0, 0.0, 0.0, 2.0, 1.0, 4.0, 2.0, 2.0, 2.0, 0.0, 5.0, 0.0, 0.0, 1.0, 3.0, 5.0, 8.0, 2.0, 3.0, 5.0, 0.0, 1.0, 3.0, 1.0, 2.0, 1.0, 0.0, 2.0, 0.0, 2.0, 0.0, 1.0, 15.0, 1.0, 2.0, 2.0, 3.0, 4.0, 4.0, 2.0, 2.0, 2.0, 1.0, 0.0, 2.0, 0.0, 4.0, 11.0, 3.0, 7.0, 1.0, 9.0, 4.0, 1.0, 0.0, 1.0, 1.0, 0.0, 3.0, 0.0, 2.0, 2.0, 1.0, 2.0, 1.0, 2.0, 0.0, 4.0, 0.0, 2.0, 0.0, 0.0, 3.0, 3.0, 0.0, 0.0, 6.0, 0.0, 0.0, 0.0, 0.0, 5.0, 3.0, 2.0, 1.0, 4.0, 1.0, 3.0, 0.0, 3.0, 7.0, 4.0, 4.0, 2.0, 0.0, 0.0, 2.0, 0.0, 0.0, 3.0, 0.0, 2.0, 35.0, 0.0, 0.0, 0.0, 0.0, 2.0, 0.0, 0.0, 1.0, 0.0, 0.0, 2.0, 2.0, 3.0, 9.0, 0.0, 2.0, 9.0, 11.0, 1.0, 2.0, 1.0, 8.0, 2.0, 0.0, 0.0, 0.0, 1.0, 2.0, 2.0, 1.0, 1.0, 2.0, 2.0, 1.0, 2.0, 1.0, 0.0, 0.0, 2.0, 2.0, 1.0, 2.0, 0.0, 1.0, 1.0, 1.0, 2.0, 3.0, 1.0, 1.0, 1.0, 0.0, 1.0, 2.0, 0.0, 1.0, 1.0, 1.0, 0.0, 0.0, 0.0, 1.0, 1.0, 3.0, 0.0, 2.0, 0.0, 2.0, 0.0, 1.0, 7.0, 5.0, 0.0, 0.0, 1.0, 0.0, 1.0, 1.0, 0.0, 17.0, 6.0, 5.0, 1.0, 2.0, 2.0, 3.0, 5.0, 3.0, 1.0, 1.0, 3.0, 2.0, 2.0, 2.0, 0.0, 2.0, 9.0, 6.0, 0.0, 4.0, 1.0, 0.0, 3.0, 1.0, 1.0, 4.0, 0.0, 3.0, 4.0, 2.0, 3.0, 5.0, 1.0, 3.0, 5.0, 7.0, 6.0, 0.0, 0.0, 1.0, 0.0, 1.0, 0.0, 1.0, 2.0, 4.0, 10.0, 1.0, 12.0, 5.0, 0.0, 0.0, 10.0, 10.0, 8.0, 3.0, 13.0, 2.0, 1.0, 5.0, 1.0, 2.0, 2.0, 0.0, 2.0, 1.0, 1.0, 1.0, 9.0, 2.0, 2.0, 2.0, 1.0, 0.0, 2.0, 2.0, 8.0, 1.0, 2.0, 0.0, 8.0, 1.0, 0.0, 1.0, 14.0, 6.0, 4.0, 0.0, 0.0, 0.0, 2.0, 3.0, 0.0, 8.0, 39.0, 35.0, 1.0, 1.0, 7.0, 0.0, 1.0, 3.0, 3.0, 0.0, 1.0, 11.0, 13.0, 1.0, 4.0, 1.0, 5.0, 3.0, 10.0, 14.0, 0.0, 4.0, 2.0, 5.0, 5.0, 2.0, 3.0, 1.0, 2.0, 2.0, 1.0, 0.0, 0.0, 5.0, 0.0, 0.0, 5.0, 1.0, 1.0, 3.0, 6.0, 1.0, 0.0, 3.0, 17.0, 7.0, 9.0, 1.0, 0.0, 1.0, 3.0, 9.0, 8.0, 8.0, 4.0, 2.0, 5.0, 1.0, 2.0, 1.0, 1.0, 0.0, 0.0, 2.0, 1.0, 0.0, 1.0, 2.0, 0.0, 0.0, 3.0, 3.0, 0.0, 0.0, 3.0, 4.0, 0.0, 0.0, 2.0, 36.0, 1.0, 2.0, 1.0, 5.0, 0.0, 1.0, 6.0, 6.0, 7.0, 7.0, 7.0, 3.0, 1.0, 0.0, 0.0, 2.0, 2.0, 2.0, 0.0, 0.0, 1.0, 6.0, 2.0, 2.0, 1.0, 0.0, 1.0, 2.0, 0.0, 0.0, 0.0, 0.0, 4.0, 1.0, 1.0, 2.0, 1.0, 4.0, 0.0, 2.0, 0.0, 2.0, 3.0, 0.0, 1.0, 1.0, 1.0, 0.0, 0.0, 0.0, 2.0, 0.0, 1.0, 0.0, 2.0, 3.0, 0.0, 2.0, 19.0, 5.0, 2.0, 3.0, 0.0, 0.0, 1.0, 1.0, 2.0, 3.0, 3.0, 2.0, 2.0, 1.0, 1.0, 0.0, 2.0, 7.0, 4.0, 3.0, 6.0, 1.0, 1.0, 1.0, 5.0, 5.0, 0.0, 1.0, 9.0, 1.0, 1.0, 0.0, 3.0, 3.0, 3.0, 2.0, 0.0, 0.0, 2.0, 2.0, 0.0, 2.0, 0.0, 0.0, 0.0, 0.0, 2.0, 2.0, 3.0, 0.0, 1.0, 1.0, 1.0, 3.0, 3.0, 1.0, 2.0, 0.0, 1.0, 0.0, 3.0, 2.0, 0.0, 1.0, 0.0, 0.0, 1.0, 1.0, 1.0, 3.0, 7.0, 4.0, 13.0, 13.0, 0.0, 3.0, 1.0, 0.0, 2.0, 27.0, 27.0, 2.0, 3.0, 2.0, 2.0, 10.0, 5.0, 3.0, 1.0, 1.0, 37.0, 0.0, 3.0, 3.0, 0.0, 0.0, 0.0, 0.0, 1.0, 0.0, 1.0, 2.0, 2.0, 3.0, 5.0, 5.0, 0.0, 4.0, 0.0, 0.0, 2.0, 7.0, 2.0, 1.0, 3.0, 3.0, 3.0, 0.0, 5.0, 1.0, 1.0, 0.0, 4.0, 3.0, 5.0, 10.0, 10.0, 5.0, 4.0, 1.0, 2.0, 0.0, 0.0, 0.0, 0.0, 0.0, 3.0, 1.0, 0.0, 1.0, 0.0, 2.0, 1.0, 3.0, 2.0, 3.0, 3.0, 0.0, 0.0, 1.0, 2.0, 2.0, 1.0, 2.0, 0.0, 1.0, 2.0, 1.0, 1.0, 1.0, 1.0, 0.0, 0.0, 0.0, 1.0, 0.0, 3.0, 4.0, 1.0, 4.0, 3.0, 0.0, 1.0, 1.0, 3.0, 8.0, 4.0, 3.0, 2.0, 2.0, 3.0, 1.0, 4.0, 7.0, 2.0, 5.0, 3.0, 1.0, 3.0, 0.0, 2.0, 1.0, 0.0, 1.0, 0.0, 4.0, 4.0, 1.0, 1.0, 7.0, 3.0, 6.0, 0.0, 0.0, 0.0, 2.0, 0.0, 4.0, 2.0, 2.0, 2.0, 2.0, 0.0, 5.0, 4.0, 0.0, 0.0, 0.0, 0.0, 1.0, 1.0, 0.0, 0.0, 0.0, 1.0, 0.0, 4.0, 0.0, 1.0, 1.0, 0.0, 2.0, 3.0, 1.0, 4.0, 3.0, 1.0, 2.0, 4.0, 2.0, 1.0, 3.0, 0.0, 0.0, 1.0, 1.0, 0.0, 13.0, 12.0, 5.0, 2.0, 5.0, 0.0, 2.0, 1.0, 0.0, 0.0, 2.0, 1.0, 1.0, 0.0, 0.0, 1.0, 1.0, 0.0, 11.0, 0.0, 0.0, 6.0, 0.0, 1.0, 3.0, 19.0, 20.0, 5.0, 1.0, 0.0, 3.0, 4.0, 2.0, 1.0, 2.0, 3.0, 1.0, 0.0, 0.0, 4.0, 0.0, 3.0, 1.0, 1.0, 1.0, 0.0, 1.0, 0.0, 1.0, 1.0, 1.0, 2.0, 14.0, 3.0, 1.0, 1.0, 3.0, 0.0, 0.0, 1.0, 2.0, 1.0, 1.0, 0.0, 1.0, 4.0, 7.0, 3.0, 6.0, 3.0, 2.0, 3.0, 2.0, 6.0, 11.0, 1.0, 2.0, 1.0, 9.0, 1.0, 1.0, 1.0, 0.0, 0.0, 3.0, 0.0, 1.0, 1.0, 2.0, 0.0, 2.0, 2.0, 2.0, 0.0, 1.0, 1.0, 1.0, 10.0, 6.0, 0.0, 0.0, 2.0, 1.0, 8.0, 0.0, 0.0, 0.0, 3.0, 3.0, 0.0, 2.0, 1.0, 0.0, 14.0, 1.0, 5.0, 0.0, 2.0, 6.0, 1.0, 4.0, 1.0, 1.0, 1.0, 0.0, 0.0, 1.0, 1.0, 0.0, 0.0, 0.0, 3.0, 0.0, 1.0, 1.0, 4.0, 2.0, 1.0, 1.0, 0.0, 0.0, 2.0, 0.0, 2.0, 1.0, 0.0, 2.0, 0.0, 2.0, 1.0, 0.0, 0.0, 1.0, 1.0, 2.0, 3.0, 0.0, 2.0, 1.0, 10.0, 1.0, 5.0, 0.0, 0.0, 3.0, 3.0, 3.0, 2.0, 2.0, 3.0, 1.0, 6.0, 14.0, 2.0, 2.0, 2.0, 0.0, 5.0, 5.0, 4.0, 1.0, 1.0, 1.0, 2.0, 2.0, 0.0, 3.0, 0.0, 4.0, 2.0, 0.0, 3.0, 3.0, 0.0, 1.0, 3.0, 3.0, 1.0, 1.0, 2.0, 0.0, 1.0, 2.0, 0.0, 6.0, 30.0, 4.0, 1.0, 12.0, 0.0, 0.0, 4.0, 19.0, 1.0, 1.0, 0.0, 4.0, 1.0, 0.0, 0.0, 1.0, 0.0, 0.0, 0.0, 6.0, 0.0, 1.0, 1.0, 0.0, 0.0, 2.0, 0.0, 0.0, 2.0, 1.0, 1.0, 0.0, 2.0, 24.0, 7.0, 1.0, 2.0, 4.0, 4.0, 5.0, 1.0, 2.0, 1.0, 4.0, 0.0, 18.0, 7.0, 2.0, 1.0, 2.0, 6.0, 6.0, 2.0, 5.0, 17.0, 6.0, 4.0, 4.0, 3.0, 0.0, 0.0, 0.0, 3.0, 2.0, 1.0, 1.0, 0.0, 1.0, 4.0, 4.0, 1.0, 1.0, 3.0, 3.0, 0.0, 2.0, 0.0, 2.0, 0.0, 0.0, 0.0, 0.0, 0.0, 4.0, 0.0, 1.0, 1.0, 0.0, 8.0, 4.0, 0.0, 26.0, 0.0, 0.0, 1.0, 4.0, 7.0, 1.0, 8.0, 1.0, 0.0, 1.0, 1.0, 0.0, 1.0, 0.0, 1.0, 0.0, 0.0, 0.0, 0.0, 1.0, 4.0, 1.0, 1.0, 1.0, 2.0, 1.0, 1.0, 1.0, 1.0, 0.0, 1.0, 1.0, 2.0, 0.0, 0.0, 0.0, 0.0, 0.0, 0.0, 6.0, 0.0, 1.0, 2.0, 0.0, 0.0, 4.0, 1.0, 6.0, 4.0, 0.0, 11.0, 1.0, 1.0, 6.0, 0.0, 0.0, 0.0, 0.0, 1.0, 4.0, 0.0, 29.0, 7.0, 1.0, 1.0, 0.0, 0.0, 0.0, 2.0, 1.0, 1.0, 2.0, 1.0, 1.0, 5.0, 0.0, 1.0, 0.0, 3.0, 0.0, 5.0, 2.0, 6.0, 0.0, 0.0, 2.0, 3.0, 4.0, 1.0, 3.0, 3.0, 2.0, 4.0, 2.0, 3.0, 1.0, 3.0, 0.0, 0.0, 15.0, 1.0, 0.0, 0.0, 0.0, 1.0, 3.0, 4.0, 4.0, 3.0, 2.0, 3.0, 0.0, 1.0, 2.0, 1.0, 2.0, 0.0, 0.0, 2.0, 16.0, 1.0, 1.0, 0.0, 3.0, 1.0, 0.0, 1.0, 1.0, 0.0, 0.0, 1.0, 2.0, 1.0, 1.0, 1.0, 0.0, 2.0, 3.0, 0.0, 1.0, 4.0, 1.0, 1.0, 1.0, 0.0, 0.0, 0.0, 0.0, 4.0, 0.0, 0.0, 0.0, 2.0, 2.0, 2.0, 0.0, 2.0, 1.0, 2.0, 0.0, 0.0, 6.0, 0.0, 0.0, 0.0, 0.0, 4.0, 0.0, 8.0, 0.0, 0.0, 0.0, 0.0, 2.0, 0.0, 0.0, 2.0, 0.0, 1.0, 1.0, 1.0, 1.0, 23.0, 3.0, 4.0, 5.0, 3.0, 0.0, 2.0, 0.0, 0.0, 1.0, 1.0, 1.0, 0.0, 0.0, 0.0, 2.0, 18.0, 1.0, 4.0, 19.0, 0.0, 1.0, 2.0, 2.0, 2.0, 1.0, 1.0, 5.0, 0.0, 0.0, 0.0, 2.0, 1.0, 0.0, 3.0, 1.0, 0.0, 2.0, 3.0, 1.0, 0.0, 0.0, 0.0, 1.0, 2.0, 1.0, 0.0, 0.0, 0.0, 0.0, 1.0, 0.0, 6.0, 2.0, 3.0, 1.0, 3.0, 0.0, 0.0, 0.0, 2.0, 0.0, 1.0, 1.0, 1.0, 1.0, 16.0, 1.0, 7.0, 3.0, 3.0, 2.0, 1.0, 2.0, 2.0, 2.0, 1.0, 0.0, 36.0, 35.0, 9.0, 2.0, 3.0, 3.0, 1.0, 1.0, 0.0, 4.0, 3.0, 1.0, 16.0, 1.0, 1.0, 7.0, 1.0, 0.0, 0.0, 0.0, 1.0, 1.0, 3.0, 1.0, 2.0, 1.0, 3.0, 0.0, 1.0, 2.0, 2.0, 1.0, 1.0, 1.0, 3.0, 2.0, 2.0, 1.0, 1.0, 1.0, 2.0, 0.0, 2.0, 3.0, 2.0, 1.0, 13.0, 2.0, 2.0, 1.0, 3.0, 4.0, 2.0, 0.0, 0.0, 19.0, 1.0, 1.0, 3.0, 2.0, 6.0, 5.0, 0.0, 0.0, 1.0, 3.0, 0.0, 0.0, 1.0, 8.0, 3.0, 1.0, 0.0, 1.0, 3.0, 3.0, 2.0, 0.0, 1.0, 0.0, 7.0, 10.0, 5.0, 4.0, 1.0, 0.0, 3.0, 1.0, 1.0, 1.0, 3.0, 5.0, 1.0, 1.0, 1.0, 2.0, 2.0, 0.0, 2.0, 0.0, 0.0, 0.0, 1.0, 1.0, 3.0, 0.0, 5.0, 1.0, 0.0, 4.0, 5.0, 0.0, 1.0, 0.0, 0.0, 1.0, 2.0, 1.0, 1.0, 0.0, 1.0, 7.0, 4.0, 5.0, 9.0, 12.0, 3.0, 2.0, 1.0, 3.0, 0.0, 1.0, 2.0, 1.0, 1.0, 0.0, 1.0, 4.0, 0.0, 0.0, 0.0, 4.0, 2.0, 1.0, 4.0, 5.0, 1.0, 3.0, 4.0, 4.0, 1.0, 1.0, 1.0, 9.0, 4.0, 2.0, 3.0, 3.0, 1.0, 0.0, 0.0, 0.0, 0.0, 0.0, 1.0, 0.0, 0.0, 1.0, 5.0, 1.0, 0.0, 0.0, 0.0, 2.0, 2.0, 3.0, 1.0, 0.0, 1.0, 0.0, 0.0, 3.0, 1.0, 5.0, 0.0, 2.0, 5.0, 0.0, 3.0, 1.0, 0.0, 5.0, 1.0, 2.0, 2.0, 3.0, 3.0, 1.0, 1.0, 1.0, 1.0, 1.0, 2.0, 1.0, 0.0, 0.0, 3.0, 2.0, 0.0, 2.0, 3.0, 2.0, 21.000000000000004, 0.0, 2.0, 3.0, 1.0, 0.0, 2.0, 0.0, 0.0, 10.0, 1.0, 4.0, 4.0, 0.0, 2.0, 4.0, 3.0, 1.0, 2.0, 3.0, 2.0, 2.0, 1.0, 10.0, 0.0, 1.0, 0.0, 2.0, 2.0, 0.0, 5.0, 6.0, 2.0, 5.0, 0.0, 2.0, 2.0, 3.0, 6.0, 2.0, 2.0, 0.0, 1.0, 2.0, 1.0, 0.0, 0.0, 2.0, 2.0, 1.0, 0.0, 2.0, 11.0, 8.0, 11.0, 2.0, 4.0, 1.0, 2.0, 2.0, 2.0, 0.0, 0.0, 0.0, 1.0, 0.0, 1.0, 2.0, 2.0, 2.0, 1.0, 2.0, 5.0, 2.0, 2.0, 1.0, 3.0, 5.0, 1.0, 2.0, 2.0, 1.0, 1.0, 0.0, 0.0, 7.0, 2.0, 2.0, 0.0, 3.0, 0.0, 2.0, 0.0, 0.0, 2.0, 3.0, 1.0, 2.0, 1.0, 0.0, 5.0, 14.0, 2.0, 1.0, 1.0, 1.0, 2.0, 0.0, 0.0, 0.0, 0.0, 2.0, 1.0, 0.0, 3.0, 2.0, 0.0, 19.0, 2.0, 6.0, 0.0, 5.0, 3.0, 1.0, 10.0, 9.0, 8.0, 2.0, 2.0, 4.0, 2.0, 1.0, 2.0, 1.0, 0.0, 0.0, 3.0, 5.0, 0.0, 1.0, 0.0, 0.0, 2.0, 4.0, 24.0, 1.0, 4.0, 16.0, 0.0, 0.0, 1.0, 25.0, 1.0, 1.0, 31.0, 2.0, 7.0, 4.0, 3.0, 1.0, 0.0, 3.0, 3.0, 0.0, 2.0, 0.0, 1.0, 1.0, 0.0, 3.0, 6.0, 3.0, 0.0, 3.0, 0.0, 0.0, 78.99999999999999, 2.0, 1.0, 6.0, 6.0, 1.0, 1.0, 3.0, 0.0, 1.0, 0.0, 2.0, 0.0, 1.0, 2.0, 1.0, 1.0, 0.0, 6.0, 50.0, 2.0, 3.0, 2.0, 3.0, 1.0, 1.0, 1.0, 10.0, 3.0, 3.0, 1.0, 2.0, 4.0, 4.0, 1.0, 0.0, 9.0, 3.0, 2.0, 0.0, 0.0, 1.0, 1.0, 0.0, 1.0, 2.0, 1.0, 3.0, 1.0, 0.0, 2.0, 2.0, 0.0, 0.0, 1.0, 1.0, 1.0, 0.0, 3.0, 1.0, 3.0, 0.0, 3.0, 1.0, 4.0, 5.0, 2.0, 4.0, 0.0, 0.0, 0.0, 0.0, 0.0, 3.0, 0.0, 0.0, 0.0, 0.0, 1.0, 2.0, 6.0, 3.0, 4.0, 6.0, 3.0, 0.0, 1.0, 4.0, 0.0, 1.0, 11.0, 11.0, 0.0, 0.0, 0.0, 0.0, 1.0, 2.0, 0.0, 1.0, 1.0, 4.0, 0.0, 1.0, 3.0, 3.0, 1.0, 2.0, 0.0, 1.0, 22.0, 9.0, 4.0, 4.0, 4.0, 2.0, 1.0, 3.0, 4.0, 1.0, 0.0, 2.0, 7.0, 0.0, 2.0, 2.0, 1.0, 0.0, 1.0, 0.0, 1.0, 0.0, 2.0, 1.0, 3.0, 2.0, 0.0, 1.0, 2.0, 5.0, 5.0, 4.0, 2.0, 6.0, 2.0, 1.0, 1.0, 1.0, 1.0, 2.0, 0.0, 3.0, 7.0, 1.0, 3.0, 5.0, 18.0, 2.0, 3.0, 3.0, 0.0, 2.0, 2.0, 1.0, 3.0, 3.0, 2.0, 1.0, 31.0, 0.0, 0.0, 6.0, 1.0, 1.0, 1.0, 6.0, 0.0, 1.0, 0.0, 1.0, 0.0, 4.0, 6.0, 0.0, 0.0, 2.0, 2.0, 0.0, 2.0, 0.0, 0.0, 2.0, 1.0, 0.0, 0.0, 0.0, 20.0, 2.0, 0.0, 4.0, 1.0, 2.0, 0.0, 2.0, 1.0, 2.0, 4.0, 1.0, 3.0, 0.0, 0.0, 1.0, 1.0, 3.0, 1.0, 0.0, 1.0, 4.0, 7.0, 2.0, 3.0, 1.0, 4.0, 2.0, 2.0, 2.0, 1.0, 2.0, 0.0, 0.0, 0.0, 2.0, 2.0, 4.0, 2.0, 1.0, 2.0, 3.0, 3.0, 0.0, 1.0, 1.0, 1.0, 8.0, 4.0, 1.0, 2.0, 1.0, 4.0, 3.0, 2.0, 4.0, 0.0, 3.0, 0.0, 2.0, 0.0, 1.0, 0.0, 1.0, 3.0, 1.0, 0.0, 0.0, 1.0, 1.0, 2.0, 1.0, 1.0, 2.0, 2.0, 2.0, 1.0, 1.0, 9.0, 2.0, 1.0, 0.0, 5.0, 2.0, 0.0, 1.0, 2.0, 0.0, 0.0, 1.0, 2.0, 2.0, 0.0, 4.0, 3.0, 2.0, 7.0, 9.0, 8.0, 2.0, 0.0, 1.0, 1.0, 1.0, 6.0, 16.0, 0.0, 3.0, 0.0, 2.0, 1.0, 0.0, 3.0, 3.0, 2.0, 1.0, 1.0, 2.0, 1.0, 2.0, 0.0, 4.0, 0.0, 1.0, 11.0, 11.0, 2.0, 2.0, 5.0, 6.0, 23.0, 5.0, 5.0, 1.0, 4.0, 3.0, 3.0, 1.0, 2.0, 1.0, 3.0, 2.0, 12.0, 3.0, 0.0, 2.0, 1.0, 3.0, 0.0, 13.0, 1.0, 1.0, 1.0, 0.0, 8.0, 1.0, 15.0, 2.0, 2.0, 4.0, 7.0, 4.0, 0.0, 0.0, 0.0, 0.0, 22.0, 0.0, 1.0, 0.0, 2.0, 2.0, 3.0, 4.0, 7.0, 2.0, 1.0, 1.0, 2.0, 2.0, 24.0, 3.0, 0.0, 8.0, 1.0, 23.0, 7.0, 0.0, 0.0, 4.0, 7.0, 2.0, 1.0, 2.0, 3.0, 2.0, 3.0, 1.0, 1.0, 5.0, 1.0, 2.0, 26.0, 1.0, 3.0, 3.0, 1.0, 4.0, 3.0, 2.0, 2.0, 3.0, 6.0, 1.0, 2.0, 1.0, 5.0, 1.0, 7.0, 3.0, 1.0, 4.0, 1.0, 2.0, 3.0, 4.0, 0.0, 4.0, 2.0, 13.0, 2.0, 0.0, 3.0, 5.0, 1.0, 0.0, 2.0, 9.0, 10.0, 3.0, 0.0, 10.0, 3.0, 1.0, 0.0, 0.0, 0.0, 0.0, 3.0, 0.0, 0.0, 0.0, 0.0, 19.0, 18.0, 23.0, 5.0, 4.0, 2.0, 1.0, 2.0, 0.0, 0.0, 0.0, 1.0, 3.0, 1.0, 1.0, 1.0, 0.0, 0.0, 2.0, 1.0, 4.0, 1.0, 4.0, 2.0, 21.000000000000004, 9.0, 1.0, 1.0, 18.0, 2.0, 4.0, 1.0, 3.0, 2.0, 0.0, 0.0, 0.0, 4.0, 3.0, 4.0, 0.0, 0.0, 9.0, 8.0, 1.0, 1.0, 3.0, 1.0, 1.0, 2.0, 16.0, 2.0, 0.0, 6.0, 0.0, 2.0, 1.0, 1.0, 9.0, 4.0, 1.0, 3.0, 1.0, 0.0, 0.0, 1.0, 1.0, 5.0, 2.0, 1.0, 2.0, 1.0, 6.0, 3.0, 0.0, 3.0, 1.0, 8.0, 1.0, 2.0, 8.0, 1.0, 1.0, 2.0, 4.0, 9.0, 4.0, 2.0, 1.0, 0.0, 2.0, 2.0, 5.0, 1.0, 4.0, 3.0, 2.0, 0.0, 2.0, 0.0, 1.0, 1.0, 18.0, 2.0, 3.0, 2.0, 2.0, 0.0, 13.0, 1.0, 0.0, 0.0, 0.0, 0.0, 0.0, 0.0, 0.0, 0.0, 0.0, 4.0, 20.0, 0.0, 0.0, 1.0, 1.0, 2.0, 3.0, 1.0, 1.0, 4.0, 1.0, 0.0, 5.0, 7.0, 1.0, 13.0, 1.0, 1.0, 5.0, 1.0, 1.0, 0.0, 1.0, 1.0, 3.0, 1.0, 20.0, 2.0, 5.0, 2.0, 3.0, 0.0, 2.0, 2.0, 2.0, 4.0, 2.0, 2.0, 1.0, 2.0, 2.0, 1.0, 2.0, 1.0, 1.0, 1.0, 2.0, 10.0, 2.0, 3.0, 5.0, 2.0, 1.0, 9.0, 2.0, 4.0, 2.0, 2.0, 4.0, 2.0, 0.0, 2.0, 0.0, 157.99999999999997, 4.0, 1.0, 0.0, 2.0, 3.0, 0.0, 0.0, 2.0, 2.0, 12.0, 4.0, 0.0, 0.0, 0.0, 0.0, 6.0, 2.0, 3.0, 2.0, 5.0, 1.0, 7.0, 5.0, 2.0, 3.0, 3.0, 2.0, 3.0, 1.0, 7.0, 0.0, 4.0, 4.0, 5.0, 2.0, 2.0, 12.0, 14.0, 0.0, 4.0, 1.0, 3.0, 22.0, 3.0, 7.0, 5.0, 3.0, 1.0, 2.0, 1.0, 1.0, 6.0, 6.0, 0.0, 0.0, 3.0, 2.0, 8.0, 24.0, 6.0, 2.0, 0.0, 0.0, 2.0, 5.0, 5.0, 0.0, 1.0, 0.0, 3.0, 3.0, 0.0, 4.0, 1.0, 4.0, 6.0, 0.0, 0.0, 2.0, 1.0, 1.0, 2.0, 13.0, 2.0, 0.0, 1.0, 3.0, 3.0, 3.0, 4.0, 4.0, 1.0, 3.0, 0.0, 0.0, 0.0, 21.000000000000004, 25.0, 28.0, 3.0, 0.0, 0.0, 0.0, 1.0, 1.0, 2.0, 3.0, 5.0, 4.0, 3.0, 0.0, 0.0, 0.0, 1.0, 0.0, 0.0, 0.0, 7.0, 3.0, 0.0, 0.0, 2.0, 2.0, 4.0, 1.0, 1.0, 1.0, 1.0, 1.0, 1.0, 23.0, 2.0, 2.0, 12.0, 0.0, 2.0, 1.0, 0.0, 2.0, 1.0, 8.0, 1.0, 16.0, 12.0, 1.0, 8.0, 4.0, 0.0, 0.0, 2.0, 0.0, 2.0, 0.0, 0.0, 0.0, 2.0, 7.0, 0.0, 1.0, 1.0, 1.0, 2.0, 1.0, 15.0, 15.0, 14.0, 2.0, 2.0, 2.0, 0.0, 9.0, 0.0, 0.0, 0.0, 0.0, 1.0, 0.0, 2.0, 2.0, 0.0, 1.0, 1.0, 2.0, 1.0, 0.0, 1.0, 0.0, 0.0, 1.0, 1.0, 0.0, 0.0, 0.0, 0.0, 2.0, 1.0, 0.0, 0.0, 0.0, 0.0, 1.0, 1.0, 1.0, 1.0, 0.0, 0.0, 0.0, 0.0, 0.0, 0.0, 1.0, 0.0, 0.0, 1.0, 2.0, 2.0, 5.0, 30.0, 6.0, 0.0, 3.0, 2.0, 1.0, 2.0, 9.0, 0.0, 5.0, 2.0, 0.0, 5.0, 7.0, 0.0, 1.0, 2.0, 4.0, 1.0, 0.0, 0.0, 0.0, 0.0, 9.0, 14.0, 2.0, 1.0, 2.0, 1.0, 1.0, 0.0, 0.0, 0.0, 3.0, 0.0, 3.0, 4.0, 1.0, 0.0, 2.0, 2.0, 0.0, 1.0, 14.0, 0.0, 4.0, 3.0, 1.0, 15.0, 1.0, 1.0, 1.0, 4.0, 4.0, 3.0, 1.0, 1.0, 1.0, 7.0, 19.0, 3.0, 4.0, 1.0, 1.0, 2.0, 27.0, 2.0, 4.0, 2.0, 2.0, 3.0, 2.0, 1.0, 1.0, 1.0, 2.0, 1.0, 0.0, 2.0, 1.0, 13.0, 20.0, 0.0, 4.0, 1.0, 21.000000000000004, 1.0, 0.0, 1.0, 2.0, 5.0, 7.0, 3.0, 1.0, 1.0, 1.0, 2.0, 4.0, 2.0, 0.0, 4.0, 2.0, 8.0, 2.0, 0.0, 1.0, 1.0, 2.0, 6.0, 0.0, 1.0, 1.0, 11.0, 6.0, 3.0, 0.0, 0.0, 1.0, 3.0, 3.0, 2.0, 3.0, 2.0, 12.0, 3.0, 2.0, 2.0, 2.0, 3.0, 2.0, 0.0, 1.0, 1.0, 1.0, 2.0, 1.0, 6.0, 6.0, 0.0, 8.0, 1.0, 0.0, 7.0, 7.0, 1.0, 1.0, 2.0, 3.0, 2.0, 9.0, 8.0, 1.0, 2.0, 0.0, 16.0, 0.0, 1.0, 4.0, 2.0, 0.0, 1.0, 1.0, 1.0, 1.0, 0.0, 10.0, 7.0, 7.0, 0.0, 0.0, 3.0, 4.0, 8.0, 0.0, 1.0, 0.0, 8.0, 2.0, 0.0, 0.0, 5.0, 4.0, 0.0, 0.0, 1.0, 2.0, 4.0, 1.0, 0.0, 0.0, 1.0, 5.0, 8.0, 1.0, 1.0, 1.0, 4.0, 1.0, 2.0, 3.0, 3.0, 2.0, 0.0, 1.0, 1.0, 2.0, 1.0, 3.0, 0.0, 1.0, 1.0, 0.0, 7.0, 0.0, 2.0, 1.0, 3.0, 4.0, 0.0, 0.0, 5.0, 0.0, 1.0, 0.0, 0.0, 1.0, 2.0, 0.0, 0.0, 1.0, 1.0, 3.0, 8.0, 3.0, 10.0, 0.0, 2.0, 0.0, 1.0, 1.0, 22.0, 2.0, 0.0, 0.0, 0.0, 0.0, 1.0, 1.0, 1.0, 1.0, 4.0, 1.0, 1.0, 1.0, 1.0, 1.0, 0.0, 0.0, 5.0, 1.0, 1.0, 4.0, 4.0, 1.0, 1.0, 0.0, 0.0, 2.0, 1.0, 1.0, 0.0, 6.0, 2.0, 1.0, 3.0, 2.0, 0.0, 12.0, 12.0, 0.0, 6.0, 1.0, 2.0, 0.0, 1.0, 0.0, 1.0, 8.0, 1.0, 3.0, 1.0, 1.0, 0.0, 6.0, 3.0, 5.0, 1.0, 4.0, 3.0, 0.0, 2.0, 2.0, 15.0, 0.0, 1.0, 3.0, 3.0, 3.0, 0.0, 1.0, 1.0, 0.0, 3.0, 2.0, 0.0, 0.0, 2.0, 2.0, 3.0, 3.0, 0.0, 2.0, 1.0, 1.0, 6.0, 1.0, 0.0, 1.0, 0.0, 6.0, 1.0, 2.0, 1.0, 0.0, 3.0, 0.0, 0.0, 1.0, 1.0, 4.0, 1.0, 2.0, 0.0, 1.0, 0.0, 0.0, 3.0, 3.0, 0.0, 2.0, 0.0, 1.0, 1.0, 2.0, 1.0, 0.0, 1.0, 0.0, 4.0, 0.0, 2.0, 1.0, 0.0, 1.0, 2.0, 0.0, 0.0, 0.0, 2.0, 3.0, 0.0, 1.0, 0.0, 1.0, 0.0, 0.0, 1.0, 0.0, 2.0, 1.0, 1.0, 0.0, 1.0, 0.0, 1.0, 0.0, 0.0, 6.0, 3.0, 1.0, 0.0, 0.0, 0.0, 3.0, 4.0, 0.0, 2.0, 13.0, 19.0, 3.0, 1.0, 3.0, 0.0, 1.0, 0.0, 4.0, 3.0, 0.0, 0.0, 9.0, 2.0, 5.0, 1.0, 1.0, 1.0, 0.0, 2.0, 2.0, 4.0, 3.0, 0.0, 2.0, 4.0, 2.0, 5.0, 5.0, 2.0, 2.0, 1.0, 5.0, 1.0, 1.0, 0.0, 1.0, 2.0, 7.0, 5.0, 43.0, 5.0, 0.0, 0.0, 0.0, 0.0, 2.0, 7.0, 0.0, 2.0, 1.0, 0.0, 0.0, 3.0, 3.0, 2.0, 0.0, 0.0, 1.0, 1.0, 1.0, 0.0, 4.0, 0.0, 7.0, 6.0, 0.0, 4.0, 2.0, 13.0, 9.0, 6.0, 7.0, 1.0, 0.0, 1.0, 0.0, 2.0, 1.0, 0.0, 0.0, 1.0, 1.0, 2.0, 1.0, 0.0, 1.0, 1.0, 7.0, 5.0, 1.0, 1.0, 0.0, 1.0, 1.0, 2.0, 1.0, 9.0, 2.0, 1.0, 0.0, 1.0, 5.0, 16.0, 4.0, 0.0, 1.0, 0.0, 74.0, 1.0, 0.0, 0.0, 8.0, 0.0, 0.0, 2.0, 9.0, 1.0, 2.0, 0.0, 1.0, 5.0, 5.0, 4.0, 0.0, 0.0, 1.0, 1.0, 1.0, 3.0, 0.0, 3.0, 0.0, 3.0, 4.0, 1.0, 1.0, 7.0, 9.0, 2.0, 1.0, 0.0, 0.0, 1.0, 1.0, 5.0, 1.0, 0.0, 1.0, 1.0, 2.0, 0.0, 2.0, 3.0, 30.0, 2.0, 0.0, 1.0, 1.0, 2.0, 0.0, 3.0, 1.0, 2.0, 1.0, 1.0, 0.0, 4.0, 2.0, 1.0, 1.0, 1.0, 1.0, 3.0, 2.0, 2.0, 5.0, 1.0, 1.0, 1.0, 1.0, 2.0, 1.0, 1.0, 0.0, 2.0, 1.0, 3.0, 0.0, 2.0, 0.0, 1.0, 0.0, 6.0, 2.0, 2.0, 2.0, 0.0, 4.0, 3.0, 7.0, 3.0, 1.0, 2.0, 1.0, 2.0, 2.0, 2.0, 1.0, 2.0, 4.0, 0.0, 0.0, 0.0, 4.0, 0.0, 2.0, 1.0, 1.0, 4.0, 0.0, 0.0, 1.0, 0.0, 0.0, 3.0, 1.0, 18.0, 2.0, 4.0, 0.0, 1.0, 1.0, 3.0, 2.0, 2.0, 2.0, 2.0, 2.0, 2.0, 7.0, 1.0, 1.0, 1.0, 0.0, 2.0, 0.0, 0.0, 5.0, 0.0, 2.0, 3.0, 2.0, 1.0, 0.0, 0.0, 0.0, 15.0, 1.0, 1.0, 0.0, 0.0, 0.0, 0.0, 0.0, 1.0, 2.0, 3.0, 15.0, 4.0, 1.0, 0.0, 1.0, 2.0, 0.0, 6.0, 0.0, 1.0, 0.0, 25.0, 2.0, 1.0, 1.0, 4.0, 3.0, 0.0, 1.0, 3.0, 1.0, 0.0, 2.0, 0.0, 2.0, 3.0, 6.0, 2.0, 4.0, 0.0, 1.0, 1.0, 2.0, 4.0, 4.0, 7.0, 9.0, 2.0, 0.0, 7.0, 2.0, 1.0, 13.0, 2.0, 1.0, 2.0, 1.0, 1.0, 0.0, 0.0, 0.0, 16.0, 2.0, 1.0, 9.0, 0.0, 1.0, 2.0, 2.0, 12.0, 0.0, 3.0, 7.0, 8.0, 1.0, 1.0, 0.0, 2.0, 0.0, 8.0, 1.0, 2.0, 1.0, 5.0, 4.0, 1.0, 1.0, 0.0, 0.0, 2.0, 1.0, 10.0, 1.0, 1.0, 2.0, 1.0, 7.0, 4.0, 5.0, 3.0, 3.0, 4.0, 2.0, 2.0, 2.0, 3.0, 1.0, 1.0, 1.0, 0.0, 11.0, 3.0, 1.0, 1.0, 1.0, 1.0, 3.0, 3.0, 3.0, 1.0, 2.0, 2.0, 0.0, 1.0, 4.0, 4.0, 4.0, 1.0, 0.0, 2.0, 4.0, 23.0, 0.0, 4.0, 7.0, 9.0, 6.0, 6.0, 7.0, 4.0, 3.0, 20.0, 98.0, 4.0, 1.0, 1.0, 1.0, 1.0, 1.0, 3.0, 0.0, 1.0, 0.0, 4.0, 8.0, 2.0, 1.0, 0.0, 4.0, 2.0, 3.0, 0.0, 0.0, 0.0, 5.0, 3.0, 1.0, 0.0, 5.0, 2.0, 4.0, 3.0, 3.0, 3.0, 3.0, 4.0, 1.0, 0.0, 1.0, 2.0, 1.0, 5.0, 6.0, 1.0, 9.0, 5.0, 12.0, 5.0, 3.0, 2.0, 4.0, 10.0, 0.0, 7.0, 2.0, 2.0, 1.0, 1.0, 0.0, 0.0, 2.0, 1.0, 2.0, 5.0, 15.0, 1.0, 2.0, 1.0, 1.0, 2.0, 2.0, 0.0, 2.0, 2.0, 0.0, 4.0, 1.0, 1.0, 2.0, 1.0, 4.0, 3.0, 1.0, 1.0, 1.0, 1.0, 2.0, 5.0, 4.0, 5.0, 0.0, 2.0, 3.0, 2.0, 1.0, 0.0, 0.0, 0.0, 2.0, 3.0, 0.0, 1.0, 1.0, 1.0, 3.0, 1.0, 3.0, 10.0, 2.0, 1.0, 0.0, 0.0, 2.0, 5.0, 3.0, 1.0, 4.0, 3.0, 4.0, 9.0, 2.0, 0.0, 1.0, 0.0, 0.0, 2.0, 6.0, 10.0, 4.0, 0.0, 6.0, 6.0, 0.0, 2.0, 1.0, 1.0, 1.0, 1.0, 2.0, 1.0, 4.0, 0.0, 1.0, 2.0, 2.0, 1.0, 6.0, 0.0, 11.0, 4.0, 0.0, 0.0, 1.0, 1.0, 2.0, 0.0, 40.0, 8.0, 1.0, 18.0, 1.0, 1.0, 0.0, 3.0, 3.0, 3.0, 0.0, 0.0, 4.0, 7.0, 2.0, 2.0, 3.0, 1.0, 1.0, 1.0, 2.0, 2.0, 4.0, 2.0, 1.0, 0.0, 2.0, 1.0, 2.0, 0.0, 6.0, 5.0, 13.0, 0.0, 8.0, 3.0, 1.0, 0.0, 23.0, 0.0, 12.0, 0.0, 3.0, 2.0, 1.0, 1.0, 13.0, 11.0, 1.0, 3.0, 2.0, 0.0, 3.0, 1.0, 0.0, 0.0, 2.0, 0.0, 3.0, 2.0, 3.0, 2.0, 15.0, 3.0, 7.0, 6.0, 2.0, 2.0, 1.0, 4.0, 2.0, 1.0, 1.0, 4.0, 8.0, 2.0, 0.0, 1.0, 0.0, 1.0, 0.0, 10.0, 0.0, 2.0, 2.0, 3.0, 4.0, 0.0, 0.0, 0.0, 0.0, 1.0, 5.0, 3.0, 1.0, 2.0, 1.0, 3.0, 2.0, 1.0, 2.0, 0.0, 1.0, 11.0, 3.0, 2.0, 3.0, 0.0, 5.0, 0.0, 3.0, 1.0, 0.0, 1.0, 3.0, 1.0, 2.0, 0.0, 1.0, 10.0, 3.0, 2.0, 0.0, 3.0, 2.0, 1.0, 4.0, 0.0, 0.0, 1.0, 2.0, 0.0, 2.0, 1.0, 1.0, 10.0, 10.0, 1.0, 1.0, 2.0, 1.0, 0.0, 0.0, 0.0, 5.0, 2.0, 1.0, 0.0, 1.0, 1.0, 1.0, 2.0, 3.0, 6.0, 2.0, 0.0, 0.0, 2.0, 1.0, 0.0, 0.0, 2.0, 1.0, 3.0, 10.0, 8.0, 0.0, 0.0, 0.0, 2.0, 2.0, 0.0, 2.0, 1.0, 2.0, 3.0, 3.0, 0.0, 0.0, 3.0, 1.0, 2.0, 2.0, 1.0, 0.0, 0.0, 5.0, 0.0, 1.0, 4.0, 3.0, 1.0, 2.0, 3.0, 3.0, 0.0, 1.0, 1.0, 3.0, 0.0, 0.0, 1.0, 0.0, 1.0, 5.0, 1.0, 0.0, 1.0, 7.0, 5.0, 3.0, 2.0, 1.0, 0.0, 0.0, 3.0, 0.0, 2.0, 1.0, 4.0, 4.0, 1.0, 2.0, 1.0, 1.0, 2.0, 2.0, 2.0, 0.0, 3.0, 9.0, 0.0, 0.0, 0.0, 2.0, 0.0, 1.0, 0.0, 0.0, 2.0, 1.0, 4.0, 9.0, 16.0, 2.0, 0.0, 0.0, 1.0, 2.0, 2.0, 1.0, 1.0, 1.0, 0.0, 0.0, 1.0, 0.0, 1.0, 1.0, 1.0, 0.0, 2.0, 11.0, 1.0, 4.0, 2.0, 6.0, 3.0, 4.0, 1.0, 25.0, 0.0, 0.0, 1.0, 1.0, 2.0, 1.0, 2.0, 3.0, 7.0, 0.0, 1.0, 3.0, 0.0, 0.0, 0.0, 0.0, 0.0, 1.0, 1.0, 1.0, 2.0, 3.0, 2.0, 1.0, 0.0, 0.0, 0.0, 0.0, 3.0, 2.0, 0.0, 0.0, 1.0, 7.0, 1.0, 3.0, 2.0, 1.0, 2.0, 1.0, 0.0, 5.0, 0.0, 1.0, 1.0, 2.0, 2.0, 0.0, 8.0, 1.0, 0.0, 0.0, 1.0, 1.0, 1.0, 0.0, 0.0, 2.0, 0.0, 1.0, 0.0, 1.0, 2.0, 0.0, 1.0, 1.0, 1.0, 11.0, 11.0, 0.0, 1.0, 0.0, 1.0, 1.0, 0.0, 0.0, 0.0, 2.0, 1.0, 1.0, 0.0, 1.0, 13.0, 0.0, 27.0, 1.0, 3.0, 3.0, 5.0, 1.0, 0.0, 3.0, 2.0, 1.0, 7.0, 1.0, 5.0, 2.0, 0.0, 2.0, 0.0, 0.0, 2.0, 1.0, 0.0, 3.0, 1.0, 3.0, 22.0, 1.0, 3.0, 1.0, 1.0, 2.0, 2.0, 2.0, 2.0, 6.0, 0.0, 10.0, 0.0, 1.0, 4.0, 2.0, 0.0, 1.0, 2.0, 1.0, 1.0, 3.0, 1.0, 1.0, 10.0, 9.0, 5.0, 0.0, 0.0, 3.0, 3.0, 2.0, 7.0, 7.0, 16.0, 4.0, 1.0, 44.0, 0.0, 0.0, 0.0, 1.0, 3.0, 4.0, 14.0, 2.0, 0.0, 2.0, 2.0, 1.0, 11.0, 3.0, 6.0, 8.0, 1.0, 0.0, 0.0, 2.0, 2.0, 0.0, 3.0, 3.0, 1.0, 1.0, 1.0, 4.0, 1.0, 2.0, 0.0, 1.0, 1.0, 1.0, 0.0, 0.0, 2.0, 2.0, 4.0, 4.0, 0.0, 1.0, 2.0, 0.0, 2.0, 3.0, 3.0, 2.0, 1.0, 0.0, 2.0, 1.0, 0.0, 3.0, 2.0, 0.0, 2.0, 0.0, 2.0, 8.0, 1.0, 0.0, 0.0, 2.0, 4.0, 3.0, 4.0, 0.0, 0.0, 0.0, 1.0, 2.0, 2.0, 2.0, 3.0, 2.0, 3.0, 1.0, 1.0, 4.0, 3.0, 0.0, 6.0, 8.0, 3.0, 1.0, 2.0, 0.0, 2.0, 0.0, 3.0, 3.0, 4.0, 2.0, 2.0, 26.0, 16.0, 3.0, 0.0, 0.0, 1.0, 0.0, 3.0, 1.0, 2.0, 5.0, 3.0, 24.0, 1.0, 4.0, 5.0, 3.0, 5.0, 5.0, 11.0, 1.0, 4.0, 3.0, 1.0, 5.0, 0.0, 1.0, 3.0, 1.0, 0.0, 5.0, 1.0, 1.0, 0.0, 4.0, 2.0, 3.0, 0.0, 3.0, 4.0, 1.0, 2.0, 1.0, 5.0, 13.0, 8.0, 1.0, 3.0, 1.0, 1.0, 1.0, 1.0, 1.0, 1.0, 8.0, 1.0, 2.0, 8.0, 1.0, 3.0, 1.0, 0.0, 1.0, 0.0, 2.0, 29.0, 1.0, 2.0, 4.0, 3.0, 1.0, 0.0, 1.0, 1.0, 1.0, 1.0, 3.0, 6.0, 3.0, 0.0, 4.0, 3.0, 1.0, 0.0, 2.0, 0.0, 0.0, 5.0, 1.0, 5.0, 0.0, 0.0, 2.0, 3.0, 2.0, 0.0, 1.0, 8.0, 1.0, 2.0, 1.0, 3.0, 1.0, 2.0, 1.0, 3.0, 2.0, 2.0, 7.0, 1.0, 1.0, 3.0, 5.0, 3.0, 14.0, 0.0, 2.0, 0.0, 5.0, 4.0, 3.0, 2.0, 1.0, 0.0, 17.0, 1.0, 2.0, 13.0, 2.0, 2.0, 3.0, 0.0, 7.0, 1.0, 2.0, 1.0, 2.0, 2.0, 4.0, 6.0, 3.0, 5.0, 7.0, 2.0, 14.0, 9.0, 0.0, 2.0, 4.0, 3.0, 3.0, 3.0, 1.0, 0.0, 1.0, 2.0, 2.0, 2.0, 0.0, 0.0, 0.0, 1.0, 2.0, 2.0, 2.0, 2.0, 1.0, 0.0, 0.0, 2.0, 2.0, 4.0, 6.0, 3.0, 0.0, 4.0, 6.0, 2.0, 3.0, 1.0, 5.0, 0.0, 3.0, 0.0, 0.0, 2.0, 0.0, 2.0, 3.0, 0.0, 0.0, 2.0, 2.0, 0.0, 2.0, 3.0, 5.0, 1.0, 3.0, 4.0, 3.0, 2.0, 2.0, 174.0, 0.0, 4.0, 4.0, 5.0, 2.0, 2.0, 2.0, 1.0, 1.0, 0.0, 3.0, 2.0, 1.0, 1.0, 1.0, 1.0, 3.0, 1.0, 1.0, 6.0, 3.0, 2.0, 3.0, 2.0, 4.0, 5.0, 3.0, 2.0, 2.0, 3.0, 3.0, 1.0, 3.0, 3.0, 1.0, 7.0, 3.0, 4.0, 2.0, 1.0, 0.0, 2.0, 3.0, 2.0, 3.0, 4.0, 13.0, 2.0, 1.0, 3.0, 1.0, 4.0, 3.0, 1.0, 1.0, 2.0, 0.0, 0.0, 0.0, 1.0, 0.0, 0.0, 0.0, 1.0, 1.0, 1.0, 1.0, 1.0, 1.0, 0.0, 1.0, 1.0, 0.0, 2.0, 2.0, 1.0, 2.0, 1.0, 2.0, 0.0, 1.0, 0.0, 1.0, 1.0, 2.0, 0.0, 2.0, 6.0, 4.0, 0.0, 2.0, 0.0, 3.0, 1.0, 1.0, 3.0, 1.0, 1.0, 4.0, 3.0, 4.0, 6.0, 1.0, 6.0, 3.0, 2.0, 0.0, 2.0, 8.0, 2.0, 0.0, 1.0, 1.0, 1.0, 2.0, 10.0, 0.0, 11.0, 12.0, 3.0, 3.0, 1.0, 2.0, 0.0, 0.0, 1.0, 3.0, 5.0, 0.0, 2.0, 1.0, 25.0, 3.0, 3.0, 0.0, 5.0, 3.0, 2.0, 2.0, 4.0, 1.0, 3.0, 1.0, 2.0, 4.0, 1.0, 1.0, 1.0, 0.0, 1.0, 2.0, 1.0, 2.0, 11.0, 2.0, 2.0, 2.0, 2.0, 2.0, 1.0, 0.0, 1.0, 1.0, 1.0, 1.0, 2.0, 1.0, 3.0, 2.0, 2.0, 4.0, 1.0, 1.0, 0.0, 3.0, 2.0, 1.0, 1.0, 17.0, 1.0, 4.0, 3.0, 2.0, 3.0, 4.0, 3.0, 0.0, 0.0, 1.0, 2.0, 0.0, 1.0, 1.0, 4.0, 3.0, 2.0, 4.0, 3.0, 11.0, 1.0, 1.0, 5.0, 6.0, 3.0, 9.0, 8.0, 3.0, 12.0, 1.0, 1.0, 2.0, 4.0, 6.0, 5.0, 7.0, 6.0, 3.0, 3.0, 16.0, 1.0, 8.0, 1.0, 2.0, 0.0, 13.0, 0.0, 0.0, 4.0, 13.0, 10.0, 2.0, 2.0, 3.0, 0.0, 2.0, 2.0, 1.0, 0.0, 43.0, 2.0, 66.0, 2.0, 1.0, 0.0, 0.0, 0.0, 0.0, 3.0, 0.0, 13.0, 1.0, 2.0, 1.0, 1.0, 1.0, 0.0, 5.0, 8.0, 4.0, 2.0, 5.0, 2.0, 2.0, 1.0, 1.0, 0.0, 1.0, 2.0, 1.0, 2.0, 2.0, 20.0, 2.0, 8.0, 0.0, 2.0, 3.0, 2.0, 0.0, 0.0, 3.0, 5.0, 2.0, 1.0, 4.0, 3.0, 4.0, 6.0, 3.0, 10.0, 2.0, 3.0, 2.0, 3.0, 0.0, 5.0, 1.0, 6.0, 2.0, 1.0, 0.0, 3.0, 0.0, 5.0, 3.0, 17.0, 9.0, 1.0, 1.0, 1.0, 1.0, 0.0, 0.0, 2.0, 1.0, 0.0, 0.0, 1.0, 2.0, 2.0, 2.0, 3.0, 1.0, 4.0, 3.0, 6.0, 1.0, 1.0, 4.0, 1.0, 0.0, 0.0, 2.0, 25.0, 2.0, 3.0, 3.0, 6.0, 3.0, 5.0, 1.0, 1.0, 1.0, 0.0, 0.0, 1.0, 1.0, 4.0, 1.0, 0.0, 0.0, 3.0, 2.0, 0.0, 1.0, 17.0, 3.0, 4.0, 3.0, 14.0, 1.0, 0.0, 1.0, 1.0, 1.0, 0.0, 2.0, 2.0, 0.0, 0.0, 1.0, 0.0, 0.0, 0.0, 1.0, 2.0, 0.0, 0.0, 0.0, 2.0, 5.0, 1.0, 1.0, 5.0, 1.0, 0.0, 3.0, 4.0, 0.0, 57.0, 1.0, 0.0, 0.0, 0.0, 1.0, 3.0, 8.0, 8.0, 4.0, 13.0, 1.0, 4.0, 5.0, 5.0, 2.0, 3.0, 2.0, 1.0, 2.0, 1.0, 1.0, 4.0, 1.0, 0.0, 0.0, 1.0, 3.0, 2.0, 4.0, 1.0, 5.0, 0.0, 1.0, 3.0, 1.0, 0.0, 1.0, 0.0, 1.0, 2.0, 0.0, 0.0, 1.0, 3.0, 1.0, 2.0, 4.0, 6.0, 1.0, 3.0, 1.0, 3.0, 2.0, 3.0, 3.0, 1.0, 3.0, 3.0, 13.0, 2.0, 0.0, 10.0, 0.0, 0.0, 0.0, 0.0, 0.0, 0.0, 1.0, 2.0, 0.0, 0.0, 0.0, 2.0, 1.0, 1.0, 0.0, 1.0, 1.0, 1.0, 3.0, 2.0, 1.0, 0.0, 0.0, 0.0, 3.0, 3.0, 1.0, 2.0, 0.0, 1.0, 1.0, 0.0, 1.0, 1.0, 1.0, 3.0, 0.0, 0.0, 0.0, 0.0, 0.0, 0.0, 0.0, 2.0, 4.0, 2.0, 1.0, 0.0, 0.0, 1.0, 2.0, 0.0, 0.0, 0.0, 0.0, 2.0, 0.0, 1.0, 0.0, 0.0, 0.0, 0.0, 1.0, 0.0, 0.0, 0.0, 0.0, 1.0, 1.0, 0.0, 0.0, 3.0, 0.0, 3.0, 3.0, 2.0, 1.0, 1.0, 2.0, 2.0, 0.0, 1.0, 0.0, 1.0, 1.0, 1.0, 1.0, 1.0, 1.0, 0.0, 18.0, 0.0, 3.0, 4.0, 2.0, 0.0, 1.0, 5.0, 3.0, 0.0, 2.0, 1.0, 1.0, 1.0, 0.0, 1.0, 2.0, 0.0, 0.0, 0.0, 1.0, 11.0, 12.0, 0.0, 0.0, 1.0, 1.0, 1.0, 1.0, 0.0, 0.0, 0.0, 0.0, 2.0, 2.0, 1.0, 1.0, 1.0, 2.0, 0.0, 0.0, 0.0, 2.0, 0.0, 1.0, 1.0, 0.0, 2.0, 1.0, 1.0, 1.0, 0.0, 1.0, 10.0, 3.0, 0.0, 1.0, 2.0, 1.0, 1.0, 1.0, 1.0, 0.0, 19.0, 0.0, 3.0, 5.0, 0.0, 2.0, 13.0, 6.0, 2.0, 1.0, 1.0, 1.0, 2.0, 2.0, 1.0, 12.0, 1.0, 0.0, 2.0, 3.0, 1.0, 2.0, 1.0, 0.0, 1.0, 16.0, 0.0, 1.0, 35.0, 0.0, 0.0, 0.0, 1.0, 1.0, 2.0, 1.0, 0.0, 4.0, 2.0, 1.0, 0.0, 2.0, 0.0, 0.0, 20.0, 14.0, 17.0, 9.0, 0.0, 7.0, 2.0, 2.0, 1.0, 12.0, 13.0, 1.0, 2.0, 0.0, 1.0, 2.0, 3.0, 1.0, 3.0, 1.0, 2.0, 2.0, 0.0, 2.0, 2.0, 2.0, 2.0, 2.0, 1.0, 1.0, 1.0, 3.0, 2.0, 1.0, 1.0, 5.0, 1.0, 2.0, 1.0, 3.0, 1.0, 2.0, 3.0, 1.0, 1.0, 10.0, 0.0, 5.0, 1.0, 1.0, 1.0, 1.0, 2.0, 6.0, 7.0, 2.0, 2.0, 0.0, 0.0, 1.0, 0.0, 0.0, 1.0, 2.0, 5.0, 1.0, 4.0, 2.0, 1.0, 2.0, 10.0, 4.0, 0.0, 1.0, 1.0, 2.0, 2.0, 1.0, 3.0, 1.0, 0.0, 1.0, 1.0, 0.0, 2.0, 26.0, 5.0, 1.0, 0.0, 0.0, 0.0, 4.0, 1.0, 9.0, 8.0, 1.0, 2.0, 38.0, 1.0, 2.0, 2.0, 3.0, 2.0, 1.0, 3.0, 1.0, 4.0, 2.0, 2.0, 1.0, 0.0, 3.0, 5.0, 2.0, 3.0, 0.0, 1.0, 1.0, 2.0, 2.0, 46.0, 36.0, 4.0, 5.0, 0.0, 11.0, 9.0, 2.0, 0.0, 17.0, 1.0, 1.0, 1.0, 3.0, 1.0, 4.0, 0.0, 3.0, 3.0, 2.0, 1.0, 3.0, 3.0, 1.0, 2.0, 5.0, 3.0, 3.0, 1.0, 0.0, 1.0, 0.0, 1.0, 0.0, 1.0, 3.0, 7.0, 2.0, 1.0, 6.0, 0.0, 1.0, 2.0, 4.0, 0.0, 0.0, 0.0, 1.0, 1.0, 1.0, 9.0, 17.0, 12.0, 4.0, 0.0, 1.0, 4.0, 2.0, 3.0, 2.0, 3.0, 0.0, 5.0, 51.00000000000001, 25.0, 2.0, 2.0, 0.0, 4.0, 1.0, 2.0, 7.0, 1.0, 1.0, 1.0, 1.0, 2.0, 0.0, 1.0, 3.0, 0.0, 0.0, 0.0, 0.0, 0.0, 0.0, 0.0, 0.0, 4.0, 3.0, 6.0, 0.0, 0.0, 0.0, 2.0, 15.0, 4.0, 0.0, 0.0, 1.0, 1.0, 0.0, 1.0, 2.0, 0.0, 1.0, 1.0, 0.0, 5.0, 5.0, 0.0, 2.0, 2.0, 1.0, 0.0, 1.0, 0.0, 1.0, 2.0, 1.0, 2.0, 1.0, 0.0, 2.0, 4.0, 5.0, 5.0, 6.0, 3.0, 20.0, 1.0, 1.0, 0.0, 0.0, 1.0, 2.0, 1.0, 1.0, 0.0, 2.0, 0.0, 1.0, 4.0, 1.0, 1.0, 1.0, 2.0, 2.0, 1.0, 3.0, 3.0, 1.0, 3.0, 0.0, 0.0, 1.0, 0.0, 1.0, 1.0, 1.0, 1.0, 1.0, 2.0, 1.0, 1.0, 1.0, 0.0, 3.0, 9.0, 1.0, 3.0, 3.0, 1.0, 1.0, 2.0, 1.0, 1.0, 2.0, 1.0, 6.0, 0.0, 1.0, 2.0, 5.0, 2.0, 2.0, 1.0, 0.0, 5.0, 3.0, 2.0, 4.0, 6.0, 6.0, 3.0, 2.0, 1.0, 2.0, 0.0, 1.0, 16.0, 2.0, 0.0, 1.0, 1.0, 1.0, 4.0, 0.0, 22.0, 2.0, 1.0, 0.0, 1.0, 4.0, 3.0, 1.0, 5.0, 22.0, 1.0, 1.0, 1.0, 4.0, 2.0, 1.0, 2.0, 1.0, 2.0, 0.0, 1.0, 4.0, 0.0, 4.0, 4.0, 3.0, 1.0, 7.0, 66.0, 1.0, 4.0, 0.0, 4.0, 1.0, 3.0, 1.0, 2.0, 1.0, 1.0, 3.0, 0.0, 1.0, 2.0, 2.0, 0.0, 2.0, 1.0, 0.0, 1.0, 8.0, 8.0, 2.0, 0.0, 3.0, 3.0, 1.0, 2.0, 1.0, 5.0, 2.0, 2.0, 2.0, 0.0, 1.0, 2.0, 1.0, 2.0, 3.0, 3.0, 0.0, 2.0, 0.0, 0.0, 0.0, 1.0, 3.0, 1.0, 0.0, 2.0, 1.0, 7.0, 1.0, 0.0, 1.0, 5.0, 9.0, 1.0, 1.0, 0.0, 1.0, 7.0, 1.0, 2.0, 2.0, 0.0, 2.0, 0.0, 0.0, 0.0, 2.0, 4.0, 0.0, 1.0, 2.0, 0.0, 0.0, 7.0, 1.0, 0.0, 10.0, 10.0, 8.0, 3.0, 2.0, 1.0, 5.0, 1.0, 2.0, 0.0, 1.0, 1.0, 2.0, 37.0, 5.0, 1.0, 1.0, 2.0, 0.0, 2.0, 3.0, 2.0, 1.0, 0.0, 7.0, 0.0, 0.0, 0.0, 4.0, 1.0, 0.0, 0.0, 3.0, 2.0, 3.0, 2.0, 1.0, 0.0, 17.0, 1.0, 1.0, 1.0, 1.0, 2.0, 16.0, 0.0, 5.0, 5.0, 0.0, 2.0, 0.0, 0.0, 17.0, 25.0, 1.0, 24.0, 0.0, 2.0, 10.0, 15.0, 2.0, 1.0, 1.0, 0.0, 1.0, 8.0, 9.0, 1.0, 2.0, 8.0, 2.0, 2.0, 0.0, 4.0, 2.0, 7.0, 1.0, 1.0, 0.0, 0.0, 1.0, 2.0, 1.0, 2.0, 0.0, 2.0, 2.0, 1.0, 1.0, 1.0, 0.0, 1.0, 3.0, 2.0, 2.0, 2.0, 1.0, 2.0, 1.0, 0.0, 1.0, 9.0, 0.0, 19.0, 6.0, 0.0, 0.0, 2.0, 1.0, 1.0, 2.0, 4.0, 7.0, 5.0, 3.0, 0.0, 0.0, 2.0, 8.0, 7.0, 0.0, 0.0, 2.0, 1.0, 2.0, 2.0, 2.0, 2.0, 1.0, 0.0, 3.0, 3.0, 2.0, 1.0, 1.0, 2.0, 2.0, 3.0, 6.0, 2.0, 1.0, 0.0, 0.0, 2.0, 0.0, 0.0, 0.0, 0.0, 0.0, 0.0, 0.0, 0.0, 1.0, 0.0, 1.0, 2.0, 3.0, 1.0, 1.0, 1.0, 0.0, 1.0, 2.0, 1.0, 0.0, 0.0, 0.0, 1.0, 2.0, 7.0, 2.0, 2.0, 3.0, 2.0, 2.0, 8.0, 3.0, 0.0, 3.0, 0.0, 0.0, 0.0, 2.0, 2.0, 5.0, 9.0, 1.0, 1.0, 3.0, 1.0, 1.0, 0.0, 0.0, 3.0, 3.0, 1.0, 2.0, 0.0, 3.0, 1.0, 2.0, 3.0, 2.0, 4.0, 2.0, 0.0, 2.0, 0.0, 0.0, 3.0, 3.0, 0.0, 2.0, 2.0, 4.0, 1.0, 4.0, 0.0, 5.0, 0.0, 1.0, 3.0, 1.0, 0.0, 2.0, 1.0, 3.0, 2.0, 2.0, 3.0, 1.0, 1.0, 0.0, 2.0, 1.0, 3.0, 3.0, 6.0, 2.0, 1.0, 3.0, 0.0, 0.0, 0.0, 2.0, 4.0, 2.0, 2.0, 2.0, 0.0, 0.0, 0.0, 2.0, 2.0, 3.0, 1.0, 0.0, 0.0, 1.0, 0.0, 1.0, 0.0, 7.0, 0.0, 5.0, 6.0, 1.0, 1.0, 1.0, 4.0, 0.0, 1.0, 1.0, 2.0, 0.0, 0.0, 2.0, 1.0, 0.0, 0.0, 0.0, 4.0, 0.0, 3.0, 2.0, 2.0, 0.0, 2.0, 3.0, 0.0, 0.0, 6.0, 3.0, 17.0, 2.0, 25.0, 0.0, 3.0, 3.0, 3.0, 5.0, 3.0, 0.0, 2.0, 0.0, 2.0, 3.0, 1.0, 0.0, 2.0, 2.0, 2.0, 7.0, 1.0, 0.0, 0.0, 0.0, 0.0, 1.0, 0.0, 0.0, 0.0, 0.0, 0.0, 3.0, 2.0, 1.0, 3.0, 4.0, 2.0, 0.0, 1.0, 3.0, 4.0, 3.0, 4.0, 1.0, 1.0, 1.0, 6.0, 15.0, 2.0, 2.0, 4.0, 0.0, 1.0, 2.0, 4.0, 1.0, 0.0, 2.0, 1.0, 2.0, 2.0, 2.0, 4.0, 5.0, 1.0, 1.0, 2.0, 3.0, 1.0, 4.0, 5.0, 4.0, 1.0, 3.0, 3.0, 0.0, 1.0, 2.0, 0.0, 2.0, 4.0, 6.0, 3.0, 0.0, 2.0, 0.0, 4.0, 0.0, 4.0, 3.0, 0.0, 0.0, 0.0, 0.0, 2.0, 7.0, 1.0, 0.0, 3.0, 0.0, 1.0, 3.0, 1.0, 1.0, 1.0, 0.0, 0.0, 5.0, 2.0, 3.0, 1.0, 0.0, 0.0, 1.0, 1.0, 1.0, 2.0, 3.0, 0.0, 3.0, 1.0, 0.0, 3.0, 3.0, 5.0, 1.0, 1.0, 1.0, 1.0, 4.0, 0.0, 13.0, 0.0, 0.0, 2.0, 1.0, 7.0, 5.0, 3.0, 6.0, 1.0, 0.0, 3.0, 0.0, 1.0, 2.0, 0.0, 6.0, 2.0, 2.0, 3.0, 0.0, 5.0, 2.0, 2.0, 3.0, 2.0, 1.0, 1.0, 1.0, 0.0, 0.0, 4.0, 1.0, 0.0, 2.0, 3.0, 2.0, 1.0, 1.0, 1.0, 6.0, 4.0, 5.0, 1.0, 0.0, 1.0, 4.0, 11.0, 0.0, 2.0, 0.0, 0.0, 1.0, 1.0, 0.0, 0.0, 5.0, 6.0, 1.0, 4.0, 4.0, 1.0, 0.0, 0.0, 21.000000000000004, 1.0, 1.0, 1.0, 0.0, 5.0, 1.0, 0.0, 1.0, 1.0, 2.0, 0.0, 2.0, 0.0, 0.0, 2.0, 7.0, 0.0, 1.0, 1.0, 0.0, 3.0, 1.0, 1.0, 0.0, 0.0, 0.0, 1.0, 3.0, 1.0, 1.0, 1.0, 4.0, 16.0, 5.0, 2.0, 8.0, 3.0, 3.0, 2.0, 0.0, 2.0, 2.0, 10.0, 0.0, 3.0, 6.0, 6.0, 5.0, 0.0, 0.0, 2.0, 5.0, 6.0, 2.0, 0.0, 2.0, 1.0, 4.0, 5.0, 0.0, 4.0, 7.0, 6.0, 0.0, 0.0, 2.0, 14.0, 1.0, 1.0, 0.0, 2.0, 0.0, 0.0, 0.0, 1.0, 0.0, 1.0, 3.0, 1.0, 2.0, 3.0, 1.0, 11.0, 2.0, 5.0, 1.0, 3.0, 4.0, 5.0, 4.0, 0.0, 2.0, 1.0, 0.0, 1.0, 2.0, 0.0, 0.0, 0.0, 0.0, 1.0, 5.0, 0.0, 3.0, 3.0, 1.0, 4.0, 3.0, 3.0, 6.0, 2.0, 1.0, 1.0, 0.0, 2.0, 1.0, 1.0, 0.0, 1.0, 1.0, 1.0, 3.0, 2.0, 2.0, 0.0, 0.0, 3.0, 6.0, 2.0, 1.0, 2.0, 2.0, 2.0, 1.0, 2.0, 1.0, 0.0, 3.0, 1.0, 1.0, 3.0, 3.0, 0.0, 1.0, 2.0, 0.0, 72.0, 1.0, 1.0, 7.0, 5.0, 3.0, 10.0, 3.0, 3.0, 1.0, 3.0, 6.0, 2.0, 1.0, 10.0, 0.0, 2.0, 3.0, 1.0, 3.0, 4.0, 4.0, 2.0, 1.0, 2.0, 1.0, 4.0, 8.0, 3.0, 2.0, 0.0, 0.0, 1.0, 1.0, 1.0, 2.0, 1.0, 0.0, 1.0, 2.0, 2.0, 0.0, 1.0, 1.0, 0.0, 1.0, 4.0, 5.0, 4.0, 13.0, 2.0, 2.0, 0.0, 1.0, 0.0, 1.0, 0.0, 2.0, 13.0, 30.0, 4.0, 1.0, 1.0, 1.0, 3.0, 5.0, 18.0, 1.0, 0.0, 3.0, 1.0, 6.0, 4.0, 5.0, 4.0, 2.0, 24.0, 16.0, 1.0, 0.0, 1.0, 0.0, 3.0, 3.0, 0.0, 11.0, 0.0, 2.0, 2.0, 2.0, 4.0, 3.0, 12.0, 5.0, 5.0, 5.0, 0.0, 4.0, 0.0, 4.0, 2.0, 2.0, 3.0, 1.0, 3.0, 3.0, 3.0, 1.0, 5.0, 2.0, 1.0, 0.0, 0.0, 0.0, 7.0, 6.0, 0.0, 4.0, 10.0, 2.0, 3.0, 1.0, 10.0, 13.0, 0.0, 2.0, 1.0, 1.0, 3.0, 0.0, 1.0, 4.0, 1.0, 1.0, 16.0, 0.0, 2.0, 2.0, 2.0, 3.0, 1.0, 1.0, 1.0, 5.0, 4.0, 4.0, 4.0, 3.0, 31.0, 31.0, 0.0, 3.0, 2.0, 2.0, 2.0, 4.0, 14.0, 3.0, 2.0, 0.0, 1.0, 1.0, 0.0, 45.0, 3.0, 0.0, 2.0, 9.0, 1.0, 4.0, 3.0, 1.0, 2.0, 1.0, 0.0, 0.0, 4.0, 0.0, 1.0, 1.0, 1.0, 0.0, 18.0, 2.0, 5.0, 0.0, 1.0, 4.0, 11.0, 23.0, 3.0, 10.0, 0.0, 1.0, 0.0, 0.0, 9.0, 0.0, 2.0, 2.0, 2.0, 4.0, 1.0, 10.0, 1.0, 2.0, 2.0, 2.0, 6.0, 1.0, 7.0, 3.0, 5.0, 6.0, 5.0, 1.0, 11.0, 3.0, 3.0, 7.0, 3.0, 1.0, 2.0, 5.0, 2.0, 1.0, 2.0, 1.0, 1.0, 1.0, 0.0, 2.0, 2.0, 2.0, 2.0, 2.0, 0.0, 1.0, 2.0, 1.0, 7.0, 1.0, 3.0, 1.0, 1.0, 0.0, 1.0, 0.0, 10.0, 4.0, 4.0, 1.0, 2.0, 2.0, 3.0, 3.0, 0.0, 0.0, 25.0, 2.0, 5.0, 7.0, 0.0, 0.0, 1.0, 3.0, 3.0, 2.0, 3.0, 1.0, 15.0, 12.0, 1.0, 12.0, 3.0, 2.0, 3.0, 0.0, 3.0, 0.0, 1.0, 0.0, 0.0, 4.0, 2.0, 2.0, 2.0, 0.0, 1.0, 4.0, 5.0, 0.0, 3.0, 4.0, 4.0, 1.0, 0.0, 1.0, 0.0, 0.0, 1.0, 1.0, 1.0, 1.0, 1.0, 1.0, 6.0, 3.0, 1.0, 7.0, 8.0, 1.0, 5.0, 1.0, 3.0, 2.0, 4.0, 1.0, 4.0, 2.0, 3.0, 2.0, 3.0, 1.0, 1.0, 1.0, 2.0, 0.0, 1.0, 4.0, 1.0, 2.0, 2.0, 0.0, 1.0, 3.0, 0.0, 1.0, 1.0, 0.0, 1.0, 2.0, 2.0, 0.0, 4.0, 2.0, 2.0, 0.0, 3.0, 4.0, 2.0, 0.0, 1.0, 1.0, 1.0, 1.0, 0.0, 1.0, 4.0, 5.0, 0.0, 0.0, 2.0, 1.0, 9.0, 10.0, 1.0, 14.0, 4.0, 3.0, 3.0, 0.0, 1.0, 1.0, 1.0, 2.0, 2.0, 2.0, 11.0, 4.0, 2.0, 1.0, 0.0, 1.0, 8.0, 0.0, 3.0, 2.0, 2.0, 2.0, 1.0, 1.0, 3.0, 1.0, 3.0, 1.0, 6.0, 7.0, 1.0, 5.0, 0.0, 0.0, 3.0, 1.0, 2.0, 2.0, 0.0, 2.0, 1.0, 0.0, 1.0, 1.0, 0.0, 1.0, 2.0, 3.0, 0.0, 1.0, 0.0, 4.0, 1.0, 3.0, 3.0, 3.0, 4.0, 2.0, 3.0, 13.0, 0.0, 1.0, 0.0, 9.0, 3.0, 1.0, 4.0, 2.0, 3.0, 1.0, 1.0, 1.0, 0.0, 0.0, 1.0, 0.0, 4.0, 1.0, 4.0, 1.0, 0.0, 0.0, 13.0, 0.0, 0.0, 2.0, 2.0, 0.0, 0.0, 3.0, 2.0, 3.0, 3.0, 0.0, 1.0, 0.0, 0.0, 1.0, 2.0, 0.0, 2.0, 1.0, 1.0, 0.0, 1.0, 0.0, 0.0, 0.0, 0.0, 0.0, 1.0, 0.0, 1.0, 1.0, 1.0, 2.0, 4.0, 2.0, 1.0, 1.0, 1.0, 3.0, 4.0, 2.0, 1.0, 4.0, 1.0, 1.0, 1.0, 2.0, 3.0, 1.0, 1.0, 3.0, 4.0, 0.0, 3.0, 10.0, 3.0, 0.0, 2.0, 2.0, 0.0, 0.0, 3.0, 15.0, 2.0, 2.0, 3.0, 1.0, 1.0, 6.0, 0.0, 1.0, 8.0, 3.0, 1.0, 1.0, 0.0, 1.0, 0.0, 1.0, 1.0, 12.0, 1.0, 1.0, 1.0, 2.0, 1.0, 4.0, 2.0, 1.0, 0.0, 5.0, 0.0, 1.0, 2.0, 2.0, 0.0, 0.0, 2.0, 2.0, 3.0, 3.0, 0.0, 3.0, 1.0, 1.0, 0.0, 10.0, 11.0, 1.0, 1.0, 0.0, 3.0, 2.0, 2.0, 2.0, 0.0, 1.0, 1.0, 2.0, 0.0, 0.0, 0.0, 4.0, 4.0, 2.0, 2.0, 2.0, 2.0, 1.0, 3.0, 3.0, 3.0, 2.0, 0.0, 3.0, 3.0, 2.0, 4.0, 13.0, 1.0, 0.0, 1.0, 0.0, 2.0, 3.0, 1.0, 1.0, 7.0, 9.0, 2.0, 2.0, 1.0, 4.0, 2.0, 2.0, 1.0, 3.0, 0.0, 0.0, 0.0, 3.0, 1.0, 0.0, 0.0, 4.0, 1.0, 3.0, 3.0, 0.0, 3.0, 2.0, 0.0, 15.0, 1.0, 1.0, 1.0, 0.0, 1.0, 1.0, 1.0, 0.0, 3.0, 21.000000000000004, 4.0, 0.0, 1.0, 7.0, 1.0, 2.0, 13.0, 12.0, 2.0, 1.0, 16.0, 1.0, 16.0, 5.0, 3.0, 2.0, 1.0, 0.0, 0.0, 2.0, 1.0, 1.0, 0.0, 2.0, 1.0, 0.0, 1.0, 2.0, 4.0, 12.0, 1.0, 0.0, 0.0, 1.0, 5.0, 6.0, 0.0, 4.0, 3.0, 4.0, 0.0, 1.0, 1.0, 0.0, 3.0, 2.0, 1.0, 0.0, 6.0, 5.0, 4.0, 3.0, 0.0, 0.0, 1.0, 1.0, 0.0, 1.0, 0.0, 1.0, 2.0, 9.0, 0.0, 2.0, 0.0, 1.0, 4.0, 0.0, 2.0, 1.0, 2.0, 1.0, 0.0, 3.0, 3.0, 4.0, 3.0, 2.0, 2.0, 8.0, 1.0, 1.0, 5.0, 0.0, 0.0, 1.0, 0.0, 4.0, 4.0, 0.0, 1.0, 1.0, 2.0, 6.0, 0.0, 1.0, 2.0, 11.0, 0.0, 9.0, 1.0, 3.0, 1.0, 1.0, 0.0, 0.0, 3.0, 0.0, 0.0, 1.0, 1.0, 2.0, 0.0, 1.0, 2.0, 1.0, 1.0, 1.0, 7.0, 1.0, 0.0, 1.0, 3.0, 3.0, 11.0, 18.0, 0.0, 0.0, 1.0, 6.0, 1.0, 0.0, 3.0, 25.0, 2.0, 0.0, 0.0, 3.0, 0.0, 3.0, 0.0, 3.0, 3.0, 3.0, 2.0, 4.0, 0.0, 0.0, 0.0, 1.0, 3.0, 1.0, 1.0, 6.0, 20.0, 0.0, 3.0, 4.0, 2.0, 4.0, 3.0, 5.0, 0.0, 0.0, 1.0, 18.0, 1.0, 1.0, 5.0, 0.0, 1.0, 1.0, 3.0, 2.0, 1.0, 4.0, 0.0, 0.0, 0.0, 0.0, 0.0, 2.0, 5.0, 3.0, 2.0, 2.0, 0.0, 1.0, 20.0, 2.0, 4.0, 2.0, 1.0, 1.0, 0.0, 0.0, 1.0, 1.0, 1.0, 1.0, 0.0, 2.0, 0.0, 3.0, 1.0, 0.0, 1.0, 1.0, 1.0, 1.0, 3.0, 1.0, 3.0, 1.0, 1.0, 1.0, 2.0, 1.0, 9.0, 0.0, 0.0, 0.0, 1.0, 4.0, 3.0, 2.0, 1.0, 2.0, 0.0, 0.0, 0.0, 4.0, 1.0, 2.0, 28.0, 1.0, 2.0, 0.0, 0.0, 2.0, 1.0, 1.0, 0.0, 3.0, 1.0, 0.0, 1.0, 1.0, 0.0, 0.0, 3.0, 4.0, 0.0, 10.0, 1.0, 10.0, 1.0, 1.0, 0.0, 0.0, 2.0, 4.0, 1.0, 0.0, 1.0, 0.0, 0.0, 0.0, 1.0, 19.0, 0.0, 0.0, 2.0, 5.0, 2.0, 1.0, 1.0, 0.0, 0.0, 0.0, 9.0, 0.0, 0.0, 1.0, 1.0, 2.0, 1.0, 0.0, 2.0, 0.0, 1.0, 3.0, 2.0, 26.0, 26.0, 3.0, 1.0, 0.0, 0.0, 7.0, 2.0, 0.0, 2.0, 2.0, 2.0, 1.0, 2.0, 1.0, 2.0, 1.0, 2.0, 5.0, 3.0, 0.0, 0.0, 1.0, 1.0, 3.0, 16.0, 3.0, 2.0, 3.0, 2.0, 2.0, 1.0, 0.0, 2.0, 0.0, 2.0, 0.0, 4.0, 8.0, 2.0, 0.0, 8.0, 4.0, 4.0, 1.0, 3.0, 1.0, 1.0, 2.0, 1.0, 1.0, 3.0, 8.0, 4.0, 2.0, 1.0, 5.0, 8.0, 0.0, 1.0, 0.0, 1.0, 1.0, 1.0, 1.0, 5.0, 0.0, 4.0, 4.0, 3.0, 1.0, 2.0, 1.0, 2.0, 1.0, 2.0, 3.0, 1.0, 2.0, 1.0, 2.0, 2.0, 19.0, 3.0, 2.0, 1.0, 2.0, 1.0, 4.0, 2.0, 2.0, 0.0, 1.0, 2.0, 1.0, 2.0, 2.0, 0.0, 2.0, 3.0, 1.0, 0.0, 0.0, 1.0, 2.0, 1.0, 2.0, 9.0, 5.0, 4.0, 0.0, 2.0, 5.0, 1.0, 1.0, 0.0, 3.0, 7.0, 0.0, 2.0, 0.0, 1.0, 2.0, 3.0, 7.0, 5.0, 0.0, 0.0, 1.0, 0.0, 0.0, 3.0, 0.0, 0.0, 1.0, 6.0, 3.0, 3.0, 0.0, 0.0, 1.0, 1.0, 1.0, 1.0, 0.0, 1.0, 1.0, 2.0, 2.0, 2.0, 24.0, 0.0, 3.0, 8.0, 3.0, 0.0, 3.0, 3.0, 4.0, 3.0, 5.0, 10.0, 4.0, 0.0, 1.0, 1.0, 5.0, 5.0, 1.0, 2.0, 6.0, 1.0, 3.0, 1.0, 3.0, 2.0, 1.0, 0.0, 8.0, 8.0, 4.0, 5.0, 1.0, 1.0, 6.0, 1.0, 4.0, 0.0, 4.0, 8.0, 7.0, 1.0, 54.99999999999999, 2.0, 1.0, 2.0, 0.0, 0.0, 2.0, 3.0, 86.0, 4.0, 13.0, 2.0, 1.0, 1.0, 2.0, 2.0, 2.0, 1.0, 4.0, 8.0, 4.0, 2.0, 4.0, 66.0, 2.0, 1.0, 1.0, 3.0, 1.0, 0.0, 1.0, 3.0, 27.0, 0.0, 2.0, 4.0, 6.0, 48.0, 0.0, 1.0, 32.0, 2.0, 2.0, 3.0, 1.0, 2.0, 2.0, 4.0, 16.0, 0.0, 27.0, 1.0, 7.0, 8.0, 5.0, 1.0, 7.0, 3.0, 3.0, 0.0, 2.0, 3.0, 0.0, 4.0, 2.0, 1.0, 3.0, 8.0, 0.0, 3.0, 1.0, 2.0, 13.0, 11.0, 4.0, 4.0, 5.0, 2.0, 0.0, 0.0, 2.0, 8.0, 8.0, 1.0, 13.0, 9.0, 4.0, 0.0, 4.0, 5.0, 2.0, 3.0, 3.0, 2.0, 1.0, 1.0, 1.0, 0.0, 4.0, 1.0, 23.0, 4.0, 22.0, 2.0, 8.0, 27.0, 6.0, 5.0, 1.0, 13.0, 2.0, 2.0, 0.0, 3.0, 0.0, 0.0, 0.0, 3.0, 9.0, 2.0, 0.0, 0.0, 4.0, 6.0, 2.0, 26.0, 26.0, 19.0, 3.0, 1.0, 0.0, 2.0, 0.0, 6.0, 1.0, 2.0, 4.0, 1.0, 2.0, 2.0, 3.0, 6.0, 1.0, 2.0, 2.0, 1.0, 4.0, 1.0, 2.0, 7.0, 3.0, 7.0, 0.0, 0.0, 21.000000000000004, 3.0, 0.0, 1.0, 1.0, 3.0, 3.0, 0.0, 0.0, 0.0, 1.0, 1.0, 6.0, 0.0, 3.0, 5.0, 0.0, 6.0, 2.0, 2.0, 1.0, 0.0, 1.0, 1.0, 0.0, 0.0, 1.0, 2.0, 4.0, 8.0, 1.0, 4.0, 0.0, 0.0, 0.0, 3.0, 4.0, 1.0, 3.0, 1.0, 2.0, 0.0, 0.0, 4.0, 1.0, 1.0, 4.0, 2.0, 0.0, 1.0, 1.0, 0.0, 1.0, 2.0, 1.0, 0.0, 0.0, 1.0, 2.0, 1.0, 0.0, 10.0, 2.0, 1.0, 0.0, 1.0, 5.0, 2.0, 2.0, 0.0, 0.0, 0.0, 2.0, 0.0, 4.0, 5.0, 6.0, 2.0, 1.0, 0.0, 2.0, 1.0, 0.0, 1.0, 1.0, 3.0, 1.0, 0.0, 1.0, 1.0, 0.0, 2.0, 2.0, 3.0, 2.0, 3.0, 0.0, 2.0, 0.0, 2.0, 6.0, 1.0, 1.0, 0.0, 1.0, 1.0, 1.0, 3.0, 4.0, 1.0, 1.0, 3.0, 1.0, 0.0, 1.0, 1.0, 1.0, 4.0, 0.0, 0.0, 5.0, 5.0, 1.0, 3.0, 0.0, 2.0, 1.0, 2.0, 3.0, 0.0, 7.0, 1.0, 0.0, 2.0, 1.0, 4.0, 32.0, 2.0, 0.0, 4.0, 1.0, 1.0, 1.0, 1.0, 0.0, 1.0, 2.0, 0.0, 0.0, 2.0, 3.0, 0.0, 4.0, 0.0, 3.0, 0.0, 6.0, 0.0, 2.0, 0.0, 2.0, 5.0, 1.0, 5.0, 0.0, 0.0, 1.0, 0.0, 2.0, 0.0, 4.0, 4.0, 4.0, 5.0, 4.0, 0.0, 1.0, 2.0, 6.0, 1.0, 0.0, 0.0, 1.0, 5.0, 2.0, 2.0, 0.0, 0.0, 0.0, 0.0, 0.0, 2.0, 2.0, 1.0, 4.0, 5.0, 2.0, 22.0, 2.0, 2.0, 1.0, 0.0, 0.0, 4.0, 6.0, 0.0, 1.0, 4.0, 2.0, 1.0, 0.0, 0.0, 4.0, 3.0, 2.0, 1.0, 0.0, 3.0, 2.0, 3.0, 1.0, 4.0, 1.0, 0.0, 0.0, 1.0, 5.0, 6.0, 5.0, 1.0, 1.0, 1.0, 2.0, 2.0, 0.0, 1.0, 0.0, 1.0, 0.0, 1.0, 0.0, 0.0, 0.0, 1.0, 0.0, 1.0, 2.0, 1.0, 0.0, 2.0, 1.0, 0.0, 0.0, 1.0, 3.0, 3.0, 1.0, 1.0, 4.0, 0.0, 2.0, 4.0, 5.0, 1.0, 2.0, 3.0, 1.0, 2.0, 2.0, 1.0, 0.0, 1.0, 1.0, 2.0, 5.0, 5.0, 0.0, 5.0, 1.0, 0.0, 3.0, 2.0, 21.000000000000004, 1.0, 2.0, 1.0, 1.0, 6.0, 1.0, 2.0, 3.0, 11.0, 0.0, 0.0, 1.0, 2.0, 0.0, 2.0, 1.0, 0.0, 0.0, 2.0, 0.0, 0.0, 3.0, 2.0, 1.0, 3.0, 3.0, 1.0, 2.0, 7.0, 3.0, 0.0, 1.0, 1.0, 0.0, 0.0, 2.0, 8.0, 8.0, 1.0, 0.0, 0.0, 1.0, 1.0, 6.0, 0.0, 1.0, 6.0, 5.0, 4.0, 2.0, 4.0, 9.0, 6.0, 2.0, 2.0, 2.0, 3.0, 3.0, 1.0, 3.0, 3.0, 0.0, 0.0, 3.0, 3.0, 0.0, 3.0, 0.0, 0.0, 19.0, 2.0, 0.0, 1.0, 1.0, 0.0, 2.0, 1.0, 0.0, 17.0, 1.0, 4.0, 7.0, 2.0, 0.0, 3.0, 2.0, 0.0, 3.0, 2.0, 0.0, 0.0, 0.0, 1.0, 6.0, 0.0, 1.0, 1.0, 4.0, 4.0, 1.0, 3.0, 10.0, 6.0, 1.0, 0.0, 0.0, 1.0, 1.0, 1.0, 0.0, 3.0, 0.0, 7.0, 1.0, 3.0, 4.0, 0.0, 1.0, 13.0, 67.0, 4.0, 4.0, 3.0, 0.0, 0.0, 0.0, 2.0, 7.0, 1.0, 3.0, 1.0, 3.0, 2.0, 1.0, 0.0, 4.0, 0.0, 1.0, 2.0, 1.0, 2.0, 1.0, 0.0, 0.0, 0.0, 0.0, 12.0, 1.0, 5.0, 1.0, 0.0, 0.0, 3.0, 3.0, 0.0, 1.0, 0.0, 14.0, 2.0, 6.0, 0.0, 2.0, 1.0, 0.0, 2.0, 0.0, 2.0, 1.0, 1.0, 2.0, 13.0, 1.0, 2.0, 1.0, 3.0, 2.0, 3.0, 0.0, 4.0, 0.0, 1.0, 1.0, 1.0, 4.0, 6.0, 3.0, 2.0, 2.0, 2.0, 2.0, 0.0, 0.0, 3.0, 1.0, 3.0, 0.0, 1.0, 11.0, 0.0, 2.0, 9.0, 1.0, 0.0, 1.0, 1.0, 6.0, 5.0, 3.0, 1.0, 2.0, 2.0, 6.0, 2.0, 2.0, 5.0, 4.0, 1.0, 2.0, 2.0, 0.0, 3.0, 4.0, 1.0, 1.0, 1.0, 2.0, 0.0, 16.0, 1.0, 0.0, 0.0, 6.0, 1.0, 0.0, 1.0, 4.0, 1.0, 2.0, 2.0, 0.0, 2.0, 3.0, 4.0, 0.0, 0.0, 2.0, 1.0, 1.0, 1.0, 3.0, 0.0, 3.0, 3.0, 2.0, 1.0, 1.0, 1.0, 0.0, 4.0, 3.0, 4.0, 2.0, 11.0, 1.0, 2.0, 17.0, 1.0, 8.0, 2.0, 15.0, 0.0, 6.0, 2.0, 0.0, 0.0, 2.0, 1.0, 1.0, 1.0, 20.0, 1.0, 0.0, 0.0, 0.0, 1.0, 1.0, 2.0, 1.0, 2.0, 3.0, 1.0, 1.0, 0.0, 4.0, 2.0, 25.0, 1.0, 0.0, 4.0, 5.0, 0.0, 1.0, 0.0, 1.0, 0.0, 0.0, 0.0, 0.0, 1.0, 0.0, 1.0, 0.0, 1.0, 1.0, 4.0, 0.0, 1.0, 0.0, 2.0, 2.0, 0.0, 1.0, 1.0, 1.0, 2.0, 7.0, 0.0, 1.0, 33.0, 32.0, 0.0, 1.0, 5.0, 1.0, 1.0, 2.0, 2.0, 0.0, 0.0, 1.0, 3.0, 0.0, 0.0, 15.0, 13.0, 0.0, 5.0, 2.0, 10.0, 3.0, 1.0, 1.0, 1.0, 0.0, 3.0, 2.0, 3.0, 0.0, 0.0, 1.0, 1.0, 0.0, 5.0, 1.0, 1.0, 3.0, 1.0, 1.0, 2.0, 0.0, 0.0, 3.0, 0.0, 0.0, 1.0, 6.0, 3.0, 1.0, 0.0, 1.0, 1.0, 1.0, 1.0, 4.0, 1.0, 0.0, 2.0, 0.0, 3.0, 3.0, 1.0, 0.0, 2.0, 0.0, 7.0, 1.0, 1.0, 1.0, 1.0, 9.0, 0.0, 4.0, 6.0, 0.0, 0.0, 0.0, 0.0, 0.0, 10.0, 7.0, 1.0, 7.0, 0.0, 0.0, 1.0, 1.0, 0.0, 2.0, 0.0, 28.0, 0.0, 4.0, 2.0, 3.0, 1.0, 1.0, 2.0, 2.0, 0.0, 13.0, 0.0, 0.0, 10.0, 2.0, 1.0, 0.0, 0.0, 1.0, 1.0, 1.0, 1.0, 6.0, 0.0, 0.0, 1.0, 0.0, 0.0, 1.0, 1.0, 2.0, 1.0, 2.0, 1.0, 3.0, 0.0, 3.0, 2.0, 1.0, 8.0, 2.0, 2.0, 2.0, 2.0, 1.0, 0.0, 1.0, 0.0, 0.0, 0.0, 0.0, 0.0, 1.0, 4.0, 2.0, 0.0, 2.0, 1.0, 6.0, 0.0, 1.0, 6.0, 2.0, 1.0, 0.0, 0.0, 1.0, 3.0, 3.0, 0.0, 1.0, 2.0, 1.0, 2.0, 1.0, 0.0, 1.0, 0.0, 0.0, 1.0, 0.0, 1.0, 0.0, 1.0, 0.0, 7.0, 3.0, 2.0, 2.0, 1.0, 1.0, 2.0, 2.0, 1.0, 1.0, 0.0, 0.0, 0.0, 0.0, 0.0, 1.0, 1.0, 1.0, 3.0, 1.0, 0.0, 0.0, 6.0, 4.0, 3.0, 7.0, 0.0, 3.0, 2.0, 2.0, 1.0, 0.0, 0.0, 0.0, 1.0, 0.0, 1.0, 1.0, 0.0, 1.0, 0.0, 1.0, 1.0, 0.0, 0.0, 1.0, 1.0, 0.0, 1.0, 1.0, 3.0, 5.0, 2.0, 0.0, 0.0, 0.0, 1.0, 0.0, 2.0, 2.0, 1.0, 1.0, 1.0, 1.0, 2.0, 25.0, 1.0, 0.0, 3.0, 5.0, 1.0, 3.0, 0.0, 2.0, 1.0, 1.0, 3.0, 0.0, 1.0, 2.0, 1.0, 1.0, 14.0, 0.0, 0.0, 2.0, 5.0, 1.0, 6.0, 0.0, 0.0, 1.0, 2.0, 1.0, 0.0, 0.0, 4.0, 2.0, 14.0, 0.0, 0.0, 0.0, 1.0, 4.0, 0.0, 1.0, 5.0, 1.0, 1.0, 10.0, 0.0, 0.0, 5.0, 1.0, 3.0, 3.0, 3.0, 1.0, 3.0, 7.0, 3.0, 1.0, 2.0, 3.0, 2.0, 9.0, 2.0, 1.0, 1.0, 0.0, 4.0, 2.0, 1.0, 3.0, 0.0, 0.0, 2.0, 0.0, 1.0, 0.0, 7.0, 5.0, 0.0, 4.0, 2.0, 2.0, 3.0, 0.0, 0.0, 1.0, 1.0, 2.0, 0.0, 1.0, 2.0, 0.0, 2.0, 4.0, 2.0, 1.0, 1.0, 1.0, 1.0, 1.0, 0.0, 1.0, 1.0, 1.0, 1.0, 1.0, 2.0, 1.0, 4.0, 1.0, 1.0, 0.0, 3.0, 0.0, 2.0, 1.0, 5.0, 3.0, 4.0, 1.0, 6.0, 1.0, 1.0, 1.0, 1.0, 1.0, 4.0, 3.0, 0.0, 13.0, 2.0, 9.0, 1.0, 3.0, 0.0, 2.0, 2.0, 2.0, 3.0, 1.0, 3.0, 2.0, 6.0, 7.0, 1.0, 0.0, 2.0, 1.0, 1.0, 1.0, 1.0, 6.0, 4.0, 4.0, 2.0, 1.0, 0.0, 1.0, 0.0, 1.0, 2.0, 3.0, 0.0, 1.0, 6.0, 0.0, 0.0, 0.0, 0.0, 8.0, 3.0, 3.0, 3.0, 1.0, 1.0, 0.0, 3.0, 4.0, 1.0, 3.0, 1.0, 8.0, 2.0, 0.0, 1.0, 14.0, 2.0, 0.0, 0.0, 0.0, 3.0, 1.0, 0.0, 4.0, 2.0, 2.0, 0.0, 3.0, 3.0, 3.0, 1.0, 5.0, 2.0, 1.0, 2.0, 2.0, 1.0, 0.0, 0.0, 1.0, 0.0, 0.0, 13.0, 1.0, 1.0, 10.0, 1.0, 2.0, 1.0, 1.0, 1.0, 14.0, 8.0, 3.0, 1.0, 0.0, 0.0, 1.0, 1.0, 1.0, 2.0, 2.0, 1.0, 1.0, 29.0, 1.0, 2.0, 1.0, 2.0, 3.0, 1.0, 0.0, 9.0, 4.0, 2.0, 2.0, 4.0, 21.000000000000004, 3.0, 1.0, 3.0, 0.0, 1.0, 0.0, 2.0, 4.0, 1.0, 0.0, 2.0, 1.0, 3.0, 2.0, 1.0, 3.0, 2.0, 7.0, 0.0, 15.0, 0.0, 10.0, 0.0, 7.0, 2.0, 0.0, 1.0, 0.0, 1.0, 14.0, 2.0, 11.0, 3.0, 3.0, 3.0, 1.0, 0.0, 0.0, 1.0, 3.0, 4.0, 0.0, 0.0, 2.0, 1.0, 1.0, 1.0, 0.0, 1.0, 1.0, 0.0, 0.0, 1.0, 1.0, 15.0, 0.0, 0.0, 9.0, 0.0, 6.0, 1.0, 4.0, 4.0, 4.0, 1.0, 2.0, 17.0, 0.0, 1.0, 0.0, 0.0, 0.0, 5.0, 2.0, 0.0, 1.0, 1.0, 1.0, 2.0, 2.0, 0.0, 13.0, 0.0, 1.0, 3.0, 2.0, 0.0, 0.0, 1.0, 4.0, 3.0, 5.0, 4.0, 2.0, 2.0, 0.0, 4.0, 1.0, 15.0, 0.0, 3.0, 12.0, 2.0, 5.0, 0.0, 2.0, 1.0, 3.0, 5.0, 9.0, 0.0, 1.0, 1.0, 6.0, 4.0, 2.0, 1.0, 2.0, 1.0, 11.0, 1.0, 4.0, 0.0, 5.0, 1.0, 3.0, 29.0, 41.0, 0.0, 2.0, 1.0, 0.0, 2.0, 14.0, 3.0, 5.0, 5.0, 1.0, 0.0, 0.0, 2.0, 2.0, 0.0, 0.0, 2.0, 0.0, 4.0, 1.0, 5.0, 0.0, 2.0, 0.0, 10.0, 1.0, 0.0, 6.0, 1.0, 1.0, 6.0, 11.0, 3.0, 2.0, 3.0, 3.0, 4.0, 2.0, 0.0, 2.0, 1.0, 3.0, 34.0, 4.0, 11.0, 8.0, 3.0, 0.0, 0.0, 0.0, 0.0, 2.0, 3.0, 3.0, 0.0, 4.0, 1.0, 2.0, 0.0, 4.0, 3.0, 29.0, 4.0, 5.0, 8.0, 2.0, 7.0, 5.0, 33.0, 9.0, 5.0, 1.0, 1.0, 0.0, 2.0, 1.0, 2.0, 0.0, 3.0, 0.0, 6.0, 1.0, 0.0, 2.0, 2.0, 2.0, 0.0, 4.0, 12.0, 1.0, 0.0, 0.0, 1.0, 3.0, 2.0, 2.0, 6.0, 0.0, 8.0, 1.0, 0.0, 7.0, 2.0, 2.0, 1.0, 1.0, 2.0, 6.0, 6.0, 3.0, 3.0, 3.0, 4.0, 6.0, 1.0, 4.0, 0.0, 4.0, 4.0, 0.0, 0.0, 0.0, 0.0, 0.0, 2.0, 2.0, 3.0, 0.0, 0.0, 1.0, 3.0, 0.0, 0.0, 19.0, 1.0, 7.0, 1.0, 6.0, 2.0, 3.0, 2.0, 1.0, 2.0, 3.0, 6.0, 2.0, 15.0, 1.0, 0.0, 1.0, 3.0, 2.0, 5.0, 2.0, 1.0, 2.0, 1.0, 8.0, 1.0, 2.0, 4.0, 1.0, 0.0, 9.0, 1.0, 54.0, 19.0, 4.0, 0.0, 1.0, 2.0, 6.0, 0.0, 2.0, 5.0, 19.0, 1.0, 1.0, 0.0, 1.0, 1.0, 2.0, 0.0, 7.0, 1.0, 1.0, 1.0, 0.0, 4.0, 4.0, 6.0, 6.0, 32.0, 3.0, 1.0, 2.0, 3.0, 14.0, 4.0, 2.0, 3.0, 1.0, 6.0, 0.0, 6.0, 2.0, 3.0, 1.0, 3.0, 0.0, 0.0, 1.0, 2.0, 2.0, 1.0, 4.0, 0.0, 5.0, 1.0, 3.0, 4.0, 1.0, 6.0, 0.0, 5.0, 2.0, 4.0, 0.0, 1.0, 2.0, 5.0, 2.0, 0.0, 0.0, 1.0, 2.0, 1.0, 0.0, 1.0, 2.0, 0.0, 2.0, 1.0, 11.0, 4.0, 2.0, 1.0, 1.0, 2.0, 2.0, 2.0, 16.0, 0.0, 0.0, 2.0, 2.0, 3.0, 4.0, 6.0, 5.0, 0.0, 2.0, 3.0, 4.0, 2.0, 2.0, 1.0, 1.0, 13.0, 6.0, 1.0, 3.0, 5.0, 0.0, 2.0, 12.0, 3.0, 3.0, 2.0, 0.0, 3.0, 0.0, 2.0, 2.0, 0.0, 0.0, 2.0, 0.0, 0.0, 1.0, 1.0, 1.0, 0.0, 0.0, 0.0, 1.0, 1.0, 2.0, 2.0, 1.0, 1.0, 7.0, 0.0, 2.0, 1.0, 3.0, 6.0, 3.0, 3.0, 4.0, 0.0, 3.0, 4.0, 1.0, 3.0, 13.0, 1.0, 5.0, 2.0, 1.0, 1.0, 5.0, 6.0, 4.0, 3.0, 10.0, 9.0, 7.0, 5.0, 2.0, 1.0, 8.0, 11.0, 30.0, 28.0, 1.0, 9.0, 13.0, 11.0, 4.0, 10.0, 7.0, 0.0, 7.0, 0.0, 1.0, 4.0, 6.0, 2.0, 1.0, 5.0, 2.0, 1.0, 4.0, 7.0, 4.0, 2.0, 0.0, 1.0, 2.0, 1.0, 2.0, 1.0, 2.0, 0.0, 2.0, 0.0, 0.0, 4.0, 9.0, 0.0, 9.0, 9.0, 2.0, 0.0, 1.0, 2.0, 2.0, 1.0, 4.0, 4.0, 3.0, 2.0, 1.0, 0.0, 2.0, 0.0, 3.0, 2.0, 1.0, 0.0, 0.0, 4.0, 3.0, 0.0, 5.0, 1.0, 0.0, 5.0, 1.0, 1.0, 2.0, 2.0, 2.0, 1.0, 0.0, 1.0, 0.0, 0.0, 2.0, 1.0, 0.0, 1.0, 0.0, 0.0, 1.0, 2.0, 1.0, 2.0, 2.0, 1.0, 1.0, 1.0, 2.0, 1.0, 14.0, 2.0, 3.0, 1.0, 8.0, 8.0, 0.0, 2.0, 5.0, 2.0, 0.0, 0.0, 1.0, 0.0, 1.0, 0.0, 0.0, 1.0, 0.0, 0.0, 1.0, 0.0, 6.0, 0.0, 1.0, 7.0, 2.0, 3.0, 7.0, 4.0, 3.0, 2.0, 2.0, 15.0, 0.0, 0.0, 0.0, 3.0, 3.0, 1.0, 1.0, 0.0, 0.0, 1.0, 2.0, 7.0, 20.0, 0.0, 1.0, 0.0, 1.0, 2.0, 3.0, 2.0, 2.0, 1.0, 2.0, 1.0, 1.0, 2.0, 2.0, 6.0, 5.0, 59.0, 96.0, 108.0, 33.0, 47.0, 1.0, 6.0, 3.0, 0.0, 3.0, 2.0, 2.0, 2.0, 1.0, 4.0, 8.0, 3.0, 7.0, 1.0, 0.0, 5.0, 1.0, 0.0, 0.0, 2.0, 1.0, 1.0, 2.0, 1.0, 1.0, 0.0, 3.0, 3.0, 0.0, 1.0, 0.0, 8.0, 6.0, 1.0, 1.0, 6.0, 1.0, 0.0, 10.0, 3.0, 0.0, 1.0, 3.0, 0.0, 2.0, 6.0, 2.0, 2.0, 2.0, 2.0, 19.0, 1.0, 5.0, 3.0, 5.0, 4.0, 10.0, 1.0, 1.0, 1.0, 0.0, 0.0, 3.0, 2.0, 5.0, 8.0, 1.0, 0.0, 17.0, 3.0, 3.0, 1.0, 3.0, 1.0, 4.0, 13.0, 3.0, 1.0, 1.0, 2.0, 2.0, 3.0, 5.0, 2.0, 1.0, 14.0, 1.0, 1.0, 9.0, 2.0, 3.0, 0.0, 20.0, 2.0, 1.0, 1.0, 3.0, 4.0, 1.0, 1.0, 4.0, 2.0, 3.0, 1.0, 0.0, 15.0, 4.0, 1.0, 2.0, 0.0, 2.0, 2.0, 2.0, 1.0, 4.0, 10.0, 1.0, 2.0, 7.0, 1.0, 0.0, 0.0, 1.0, 1.0, 1.0, 0.0, 8.0, 0.0, 0.0, 0.0, 0.0, 3.0, 2.0, 1.0, 2.0, 2.0, 2.0, 3.0, 0.0, 1.0, 1.0, 1.0, 3.0, 8.0, 2.0, 2.0, 4.0, 6.0, 4.0, 1.0, 4.0, 2.0, 1.0, 2.0, 2.0, 1.0, 11.0, 0.0, 1.0, 0.0, 1.0, 1.0, 2.0, 2.0, 0.0, 0.0, 1.0, 0.0, 0.0, 1.0, 1.0, 1.0, 5.0, 9.0, 1.0, 2.0, 1.0, 3.0, 1.0, 15.0, 5.0, 1.0, 0.0, 2.0, 0.0, 5.0, 4.0, 15.0, 0.0, 0.0, 2.0, 2.0, 4.0, 4.0, 7.0, 1.0, 1.0, 1.0, 2.0, 1.0, 11.0, 1.0, 1.0, 0.0, 6.0, 0.0, 5.0, 12.0, 10.0, 1.0, 0.0, 1.0, 0.0, 5.0, 5.0, 0.0, 11.0, 9.0, 0.0, 2.0, 0.0, 1.0, 1.0, 1.0, 1.0, 2.0, 1.0, 0.0, 2.0, 1.0, 7.0, 2.0, 1.0, 3.0, 3.0, 1.0, 1.0, 3.0, 0.0, 0.0, 1.0, 0.0, 1.0, 1.0, 0.0, 1.0, 3.0, 9.0, 3.0, 1.0, 1.0, 2.0, 1.0, 2.0, 0.0, 0.0, 3.0, 2.0, 5.0, 1.0, 2.0, 2.0, 2.0, 1.0, 9.0, 2.0, 2.0, 1.0, 2.0, 0.0, 17.0, 1.0, 2.0, 0.0, 2.0, 4.0, 3.0, 5.0, 2.0, 7.0, 0.0, 0.0, 0.0, 1.0, 2.0, 0.0, 1.0, 3.0, 3.0, 2.0, 1.0, 6.0, 2.0, 3.0, 2.0, 7.0, 8.0, 1.0, 2.0, 1.0, 0.0, 0.0, 0.0, 0.0, 1.0, 2.0, 0.0, 1.0, 1.0, 1.0, 1.0, 7.0, 0.0, 1.0, 1.0, 1.0, 3.0, 3.0, 0.0, 1.0, 7.0, 3.0, 9.0, 8.0, 1.0, 1.0, 0.0, 3.0, 1.0, 0.0, 2.0, 2.0, 1.0, 2.0, 1.0, 1.0, 2.0, 0.0, 3.0, 3.0, 4.0, 0.0, 3.0, 3.0, 3.0, 0.0, 0.0, 1.0, 0.0, 1.0, 0.0, 1.0, 1.0, 19.0, 0.0, 2.0, 0.0, 0.0, 0.0, 0.0, 0.0, 1.0, 1.0, 2.0, 2.0, 2.0, 2.0, 2.0, 0.0, 2.0, 2.0, 1.0, 0.0, 0.0, 1.0, 0.0, 0.0, 0.0, 0.0, 6.0, 0.0, 2.0, 10.0, 1.0, 0.0, 2.0, 0.0, 0.0, 0.0, 0.0, 1.0, 2.0, 3.0, 2.0, 1.0, 0.0, 2.0, 3.0, 3.0, 6.0, 2.0, 2.0, 2.0, 1.0, 1.0, 0.0, 1.0, 2.0, 3.0, 4.0, 3.0, 4.0, 0.0, 128.0, 0.0, 1.0, 2.0, 0.0, 0.0, 0.0, 0.0, 2.0, 20.0, 6.0, 2.0, 1.0, 4.0, 0.0, 6.0, 2.0, 2.0, 54.0, 0.0, 2.0, 1.0, 2.0, 5.0, 15.0, 12.0, 1.0, 1.0, 2.0, 5.0, 1.0, 1.0, 0.0, 7.0, 3.0, 4.0, 3.0, 0.0, 0.0, 0.0, 1.0, 1.0, 0.0, 0.0, 5.0, 1.0, 2.0, 6.0, 3.0, 0.0, 0.0, 1.0, 0.0, 0.0, 2.0, 0.0, 3.0, 3.0, 8.0, 2.0, 10.0, 4.0, 0.0, 1.0, 2.0, 3.0, 1.0, 3.0, 2.0, 2.0, 1.0, 0.0, 1.0, 1.0, 1.0, 1.0, 0.0, 0.0, 4.0, 4.0, 2.0, 0.0, 2.0, 4.0, 0.0, 4.0, 0.0, 3.0, 3.0, 1.0, 2.0, 2.0, 2.0, 2.0, 5.0, 2.0, 1.0, 2.0, 0.0, 6.0, 0.0, 12.0, 13.0, 0.0, 1.0, 5.0, 0.0, 0.0, 2.0, 1.0, 1.0, 4.0, 2.0, 4.0, 3.0, 0.0, 1.0, 6.0, 0.0, 3.0, 3.0, 0.0, 9.0, 0.0, 2.0, 2.0, 5.0, 1.0, 7.0, 1.0, 28.0, 0.0, 0.0, 22.0, 3.0, 12.0, 3.0, 6.0, 4.0, 2.0, 2.0, 7.0, 1.0, 1.0, 0.0, 0.0, 3.0, 1.0, 5.0, 4.0, 2.0, 3.0, 0.0, 1.0, 3.0, 0.0, 3.0, 2.0, 5.0, 2.0, 1.0, 0.0, 0.0, 0.0, 1.0, 1.0, 1.0, 2.0, 0.0, 4.0, 4.0, 3.0, 4.0, 2.0, 1.0, 0.0, 3.0, 5.0, 3.0, 5.0, 2.0, 0.0, 2.0, 1.0, 12.0, 0.0, 11.0, 1.0, 2.0, 0.0, 1.0, 1.0, 4.0, 0.0, 2.0, 1.0, 1.0, 5.0, 1.0, 5.0, 3.0, 4.0, 2.0, 2.0, 0.0, 0.0, 10.0, 0.0, 2.0, 2.0, 4.0, 0.0, 3.0, 7.0, 2.0, 2.0, 2.0, 0.0, 3.0, 1.0, 0.0, 3.0, 3.0, 5.0, 1.0, 3.0, 0.0, 1.0, 0.0, 0.0, 0.0, 1.0, 2.0, 1.0, 0.0, 0.0, 1.0, 0.0, 0.0, 3.0, 0.0, 3.0, 2.0, 1.0, 1.0, 1.0, 1.0, 2.0, 4.0, 11.0, 9.0, 1.0, 1.0, 5.0, 7.0, 2.0, 3.0, 2.0, 1.0, 0.0, 3.0, 0.0, 4.0, 1.0, 2.0, 2.0, 6.0, 13.0, 2.0, 2.0, 34.0, 2.0, 0.0, 0.0, 5.0, 2.0, 5.0, 1.0, 0.0, 0.0, 0.0, 8.0, 3.0, 3.0, 1.0, 3.0, 1.0, 0.0, 1.0, 3.0, 2.0, 2.0, 2.0, 0.0, 0.0, 3.0, 13.0, 13.0, 0.0, 5.0, 0.0, 7.0, 4.0, 0.0, 1.0, 3.0, 1.0, 1.0, 1.0, 10.0, 2.0, 0.0, 2.0, 1.0, 0.0, 1.0, 2.0, 3.0, 3.0, 1.0, 0.0, 3.0, 1.0, 3.0, 1.0, 2.0, 1.0, 0.0, 4.0, 3.0, 4.0, 0.0, 2.0, 0.0, 3.0, 0.0, 5.0, 3.0, 0.0, 1.0, 1.0, 3.0, 4.0, 3.0, 2.0, 1.0, 10.0, 6.0, 4.0, 0.0, 0.0, 1.0, 3.0, 30.0, 1.0, 9.0, 1.0, 3.0, 2.0, 7.0, 17.0, 3.0, 2.0, 2.0, 1.0, 1.0, 6.0, 1.0, 15.0, 4.0, 1.0, 0.0, 3.0, 1.0, 2.0, 4.0, 2.0, 0.0, 4.0, 2.0, 1.0, 0.0, 8.0, 3.0, 0.0, 2.0, 5.0, 1.0, 2.0, 5.0, 0.0, 5.0, 0.0, 8.0, 1.0, 2.0, 1.0, 2.0, 2.0, 2.0, 2.0, 0.0, 1.0, 2.0, 15.0, 8.0, 4.0, 4.0, 1.0, 3.0, 3.0, 3.0, 6.0, 5.0, 1.0, 0.0, 2.0, 9.0, 9.0, 0.0, 0.0, 0.0, 3.0, 0.0, 4.0, 1.0, 1.0, 1.0, 1.0, 0.0, 0.0, 2.0, 3.0, 1.0, 2.0, 2.0, 3.0, 5.0, 4.0, 0.0, 3.0, 2.0, 4.0, 0.0, 4.0, 3.0, 2.0, 4.0, 0.0, 1.0, 1.0, 7.0, 1.0, 4.0, 0.0, 0.0, 0.0, 1.0, 3.0, 0.0, 8.0, 9.0, 1.0, 1.0, 4.0, 1.0, 3.0, 2.0, 2.0, 4.0, 2.0, 5.0, 1.0, 4.0, 17.0, 7.0, 1.0, 3.0, 3.0, 10.0, 0.0, 0.0, 0.0, 1.0, 2.0, 5.0, 2.0, 1.0, 12.0, 5.0, 1.0, 2.0, 0.0, 0.0, 0.0, 2.0, 2.0, 0.0, 3.0, 20.0, 2.0, 0.0, 0.0, 0.0, 1.0, 1.0, 13.0, 9.0, 0.0, 1.0, 1.0, 3.0, 3.0, 12.0, 0.0, 0.0, 1.0, 3.0, 3.0, 3.0, 1.0, 2.0, 3.0, 2.0, 1.0, 12.0, 3.0, 1.0, 4.0, 4.0, 1.0, 2.0, 13.0, 3.0, 1.0, 3.0, 1.0, 3.0, 2.0, 1.0, 1.0, 1.0, 1.0, 1.0, 2.0, 6.0, 1.0, 0.0, 15.0, 2.0, 11.0, 4.0, 0.0, 10.0, 0.0, 1.0, 1.0, 12.0, 11.0, 30.0, 1.0, 1.0, 8.0, 4.0, 13.0, 15.0, 1.0, 1.0, 2.0, 1.0, 7.0, 3.0, 3.0, 4.0, 2.0, 2.0, 2.0, 3.0, 0.0, 35.0, 4.0, 1.0, 4.0, 2.0, 4.0, 3.0, 2.0, 14.0, 1.0, 1.0, 0.0, 40.0, 0.0, 2.0, 3.0, 1.0, 0.0, 4.0, 3.0, 4.0, 1.0, 1.0, 1.0, 3.0, 5.0, 1.0, 2.0, 2.0, 0.0, 2.0, 1.0, 4.0, 4.0, 1.0, 0.0, 12.0, 1.0, 2.0, 1.0, 3.0, 1.0, 1.0, 0.0, 1.0, 0.0, 5.0, 10.0, 1.0, 14.0, 4.0, 3.0, 14.0, 7.0, 7.0, 124.0, 4.0, 1.0, 2.0, 2.0, 2.0, 3.0, 12.0, 71.0, 3.0, 3.0, 0.0, 3.0, 8.0, 6.0, 2.0, 1.0, 2.0, 1.0, 0.0, 2.0, 16.0, 7.0, 7.0, 4.0, 11.0, 4.0, 2.0, 2.0, 7.0, 1.0, 2.0, 1.0, 2.0, 6.0, 6.0, 2.0, 7.0, 3.0, 14.0, 2.0, 0.0, 4.0, 1.0, 27.0, 3.0, 9.0, 3.0, 5.0, 1.0, 4.0, 6.0, 4.0, 18.0, 3.0, 3.0, 4.0, 1.0, 1.0, 3.0, 32.0, 3.0, 2.0, 6.0, 0.0, 1.0, 6.0, 23.0, 10.0, 2.0, 3.0, 3.0, 2.0, 2.0, 2.0, 3.0, 16.0, 4.0, 2.0, 39.0, 0.0, 2.0, 2.0, 5.0, 2.0, 1.0, 1.0, 4.0, 1.0, 2.0, 2.0, 0.0, 2.0, 0.0, 6.0, 1.0, 2.0, 2.0, 2.0, 1.0, 3.0, 3.0, 0.0, 4.0, 2.0, 5.0, 2.0, 4.0, 3.0, 6.0, 4.0, 0.0, 1.0, 3.0, 1.0, 5.0, 2.0, 2.0, 2.0, 2.0, 1.0, 0.0, 2.0, 3.0, 2.0, 0.0, 3.0, 4.0, 0.0, 8.0, 0.0, 0.0, 0.0, 0.0, 0.0, 0.0, 0.0, 2.0, 5.0, 2.0, 0.0, 0.0, 2.0, 4.0, 5.0, 3.0, 1.0, 1.0, 4.0, 0.0, 0.0, 2.0, 1.0, 0.0, 1.0, 1.0, 1.0, 0.0, 1.0, 0.0, 11.0, 2.0, 3.0, 3.0, 5.0, 2.0, 1.0, 1.0, 1.0, 1.0, 6.0, 5.0, 3.0, 3.0, 1.0, 2.0, 3.0, 6.0, 0.0, 1.0, 3.0, 1.0, 2.0, 0.0, 5.0, 3.0, 0.0, 11.0, 10.0, 1.0, 2.0, 3.0, 1.0, 5.0, 0.0, 7.0, 4.0, 3.0, 2.0, 0.0, 0.0, 1.0, 1.0, 1.0, 0.0, 0.0, 3.0, 1.0, 2.0, 0.0, 9.0, 1.0, 16.0, 1.0, 0.0, 0.0, 2.0, 0.0, 1.0, 0.0, 2.0, 2.0, 1.0, 0.0, 3.0, 1.0, 2.0, 0.0, 0.0, 0.0, 1.0, 0.0, 1.0, 1.0, 4.0, 0.0, 0.0, 0.0, 4.0, 5.0, 5.0, 2.0, 15.0, 7.0, 1.0, 0.0, 1.0, 1.0, 2.0, 3.0, 5.0, 2.0, 0.0, 8.0, 1.0, 3.0, 2.0, 2.0, 1.0, 0.0, 1.0, 0.0, 1.0, 2.0, 2.0, 1.0, 2.0, 1.0, 1.0, 1.0, 1.0, 5.0, 1.0, 2.0, 2.0, 3.0, 1.0, 1.0, 3.0, 1.0, 2.0, 2.0, 1.0, 3.0, 1.0, 1.0, 1.0, 0.0, 1.0, 3.0, 2.0, 1.0, 6.0, 2.0, 3.0, 18.0, 16.0, 2.0, 2.0, 1.0, 3.0, 4.0, 2.0, 3.0, 2.0, 0.0, 0.0, 11.0, 1.0, 3.0, 1.0, 3.0, 3.0, 1.0, 0.0, 0.0, 0.0, 0.0, 1.0, 17.0, 0.0, 2.0, 1.0, 1.0, 1.0, 2.0, 0.0, 1.0, 1.0, 1.0, 2.0, 25.0, 2.0, 1.0, 1.0, 12.0, 0.0, 0.0, 1.0, 1.0, 1.0, 0.0, 1.0, 1.0, 5.0, 1.0, 1.0, 0.0, 1.0, 0.0, 1.0, 17.0, 1.0, 1.0, 0.0, 0.0, 0.0, 2.0, 0.0, 3.0, 2.0, 2.0, 1.0, 1.0, 1.0, 2.0, 2.0, 6.0, 1.0, 1.0, 1.0, 3.0, 2.0, 1.0, 2.0, 2.0, 11.0, 0.0, 1.0, 0.0, 18.0, 1.0, 2.0, 5.0, 6.0, 13.0, 0.0, 0.0, 2.0, 2.0, 1.0, 1.0, 2.0, 1.0, 1.0, 3.0, 1.0, 0.0, 17.0, 0.0, 11.0, 11.0, 0.0, 3.0, 2.0, 2.0, 0.0, 8.0, 5.0, 3.0, 0.0, 0.0, 1.0, 1.0, 3.0, 0.0, 2.0, 4.0, 2.0, 1.0, 1.0, 3.0, 0.0, 1.0, 2.0, 5.0, 0.0, 1.0, 7.0, 0.0, 4.0, 0.0, 0.0, 3.0, 5.0, 6.0, 1.0, 3.0, 1.0, 2.0, 3.0, 0.0, 2.0, 16.0, 4.0, 2.0, 1.0, 2.0, 10.0, 0.0, 0.0, 0.0, 2.0, 1.0, 0.0, 0.0, 5.0, 1.0, 8.0, 2.0, 3.0, 4.0, 14.0, 14.0, 0.0, 2.0, 3.0, 3.0, 13.0, 2.0, 1.0, 4.0, 3.0, 1.0, 2.0, 0.0, 0.0, 77.0, 4.0, 1.0, 4.0, 1.0, 10.0, 1.0, 1.0, 5.0, 3.0, 0.0, 0.0, 6.0, 1.0, 2.0, 1.0, 8.0, 0.0, 3.0, 1.0, 3.0, 1.0, 0.0, 1.0, 1.0, 5.0, 0.0, 2.0, 4.0, 1.0, 4.0, 4.0, 0.0, 1.0, 1.0, 1.0, 8.0, 2.0, 2.0, 6.0, 9.0, 5.0, 2.0, 6.0, 2.0, 7.0, 0.0, 1.0, 3.0, 1.0, 0.0, 0.0, 11.0, 2.0, 0.0, 1.0, 1.0, 2.0, 0.0, 0.0, 11.0, 0.0, 2.0, 0.0, 1.0, 2.0, 0.0, 3.0, 4.0, 1.0, 7.0, 1.0, 1.0, 1.0, 0.0, 0.0, 1.0, 11.0, 3.0, 3.0, 2.0, 2.0, 15.0, 1.0, 1.0, 2.0, 0.0, 5.0, 6.0, 4.0, 18.0, 3.0, 4.0, 4.0, 5.0, 1.0, 2.0, 1.0, 5.0, 8.0, 9.0, 9.0, 1.0, 0.0, 0.0, 0.0, 0.0, 3.0, 0.0, 6.0, 7.0, 2.0, 1.0, 1.0, 1.0, 3.0, 4.0, 2.0, 4.0, 0.0, 1.0, 0.0, 8.0, 2.0, 5.0, 2.0, 8.0, 16.0, 16.0, 2.0, 0.0, 2.0, 0.0, 0.0, 3.0, 1.0, 0.0, 0.0, 0.0, 3.0, 3.0, 10.0, 2.0, 4.0, 2.0, 1.0, 2.0, 1.0, 1.0, 1.0, 2.0, 1.0, 0.0, 1.0, 1.0, 3.0, 1.0, 0.0, 0.0, 3.0, 3.0, 0.0, 4.0, 2.0, 1.0, 1.0, 5.0, 0.0, 3.0, 2.0, 1.0, 1.0, 2.0, 1.0, 0.0, 0.0, 2.0, 3.0, 2.0, 2.0, 2.0, 3.0, 1.0, 1.0, 2.0, 2.0, 4.0, 2.0, 0.0, 0.0, 0.0, 1.0, 1.0, 0.0, 3.0, 1.0, 3.0, 2.0, 1.0, 3.0, 2.0, 0.0, 0.0, 3.0, 2.0, 8.0, 8.0, 4.0, 3.0, 3.0, 2.0, 5.0, 0.0, 0.0, 0.0, 0.0, 9.0, 8.0, 5.0, 0.0, 6.0, 4.0, 2.0, 12.0, 5.0, 4.0, 0.0, 0.0, 0.0, 1.0, 18.0, 5.0, 7.0, 1.0, 1.0, 1.0, 9.0, 3.0, 1.0, 2.0, 0.0, 2.0, 0.0, 1.0, 2.0, 0.0, 0.0, 0.0, 2.0, 6.0, 0.0, 1.0, 0.0, 1.0, 1.0, 2.0, 2.0, 1.0, 1.0, 0.0, 1.0, 0.0, 0.0, 0.0, 2.0, 0.0, 0.0, 1.0, 0.0, 4.0, 0.0, 1.0, 1.0, 4.0, 0.0, 1.0, 1.0, 0.0, 7.0, 1.0, 0.0, 1.0, 3.0, 0.0, 0.0, 0.0, 1.0, 1.0, 0.0, 0.0, 0.0, 1.0, 1.0, 0.0, 1.0, 1.0, 1.0, 0.0, 20.0, 1.0, 1.0, 1.0, 1.0, 1.0, 1.0, 0.0, 0.0, 1.0, 0.0, 1.0, 1.0, 1.0, 0.0, 5.0, 0.0, 0.0, 1.0, 5.0, 2.0, 0.0, 2.0, 0.0, 0.0, 2.0, 0.0, 2.0, 1.0, 2.0, 3.0, 1.0, 0.0, 4.0, 4.0, 1.0, 0.0, 0.0, 0.0, 0.0, 1.0, 1.0, 1.0, 1.0, 1.0, 1.0, 0.0, 10.0, 2.0, 4.0, 0.0, 0.0, 1.0, 2.0, 0.0, 1.0, 0.0, 56.0, 0.0, 2.0, 5.0, 0.0, 2.0, 1.0, 2.0, 1.0, 3.0, 14.0, 0.0, 8.0, 2.0, 1.0, 2.0, 1.0, 0.0, 0.0, 1.0, 0.0, 4.0, 2.0, 2.0, 1.0, 2.0, 0.0, 1.0, 1.0, 3.0, 3.0, 3.0, 0.0, 2.0, 2.0, 2.0, 1.0, 3.0, 0.0, 1.0, 18.0, 2.0, 1.0, 0.0, 11.0, 3.0, 35.0, 3.0, 3.0, 5.0, 4.0, 4.0, 4.0, 29.0, 29.0, 29.0, 0.0, 10.0, 2.0, 0.0, 1.0, 7.0, 7.0, 21.000000000000004, 2.0, 1.0, 1.0, 4.0, 2.0, 3.0, 5.0, 4.0, 3.0, 1.0, 3.0, 2.0, 0.0, 1.0, 2.0, 3.0, 8.0, 0.0, 1.0, 10.0, 1.0, 0.0, 0.0, 5.0, 3.0, 2.0, 0.0, 0.0, 11.0, 21.000000000000004, 3.0, 1.0, 12.0, 2.0, 4.0, 0.0, 0.0, 0.0, 1.0, 0.0, 1.0, 6.0, 1.0, 0.0, 3.0, 0.0, 1.0, 0.0, 4.0, 1.0, 2.0, 3.0, 1.0, 1.0, 3.0, 1.0, 0.0, 1.0, 2.0, 0.0, 10.0, 1.0, 0.0, 0.0, 0.0, 1.0, 2.0, 1.0, 1.0, 1.0, 2.0, 4.0, 1.0, 0.0, 0.0, 1.0, 1.0, 3.0, 0.0, 1.0, 4.0, 1.0, 2.0, 1.0, 5.0, 3.0, 0.0, 2.0, 1.0, 0.0, 1.0, 3.0, 1.0, 0.0, 2.0, 1.0, 0.0, 9.0, 9.0, 3.0, 0.0, 3.0, 1.0, 1.0, 2.0, 1.0, 0.0, 0.0, 0.0, 2.0, 0.0, 0.0, 2.0, 1.0, 3.0, 4.0, 1.0, 9.0, 6.0, 4.0, 0.0, 7.0, 3.0, 8.0, 0.0, 0.0, 3.0, 5.0, 1.0, 0.0, 1.0, 4.0, 3.0, 1.0, 2.0, 1.0, 0.0, 2.0, 18.0, 0.0, 0.0, 1.0, 3.0, 0.0, 3.0, 0.0, 1.0, 2.0, 0.0, 0.0, 0.0, 0.0, 0.0, 1.0, 0.0, 2.0, 2.0, 2.0, 4.0, 2.0, 2.0, 1.0, 1.0, 1.0, 2.0, 1.0, 4.0, 3.0, 1.0, 3.0, 2.0, 1.0, 1.0, 0.0, 3.0, 2.0, 1.0, 1.0, 1.0, 1.0, 18.0, 0.0, 38.0, 1.0, 1.0, 4.0, 0.0, 1.0, 4.0, 1.0, 1.0, 0.0, 2.0, 7.0, 1.0, 0.0, 7.0, 1.0, 9.0, 1.0, 8.0, 1.0, 4.0, 1.0, 6.0, 15.0, 2.0, 0.0, 3.0, 1.0, 0.0, 2.0, 1.0, 0.0, 1.0, 4.0, 1.0, 0.0, 0.0, 2.0, 3.0, 3.0, 6.0, 1.0, 1.0, 3.0, 1.0, 2.0, 1.0, 2.0, 1.0, 1.0, 1.0, 6.0, 1.0, 0.0, 0.0, 1.0, 2.0, 1.0, 0.0, 0.0, 2.0, 0.0, 2.0, 2.0, 12.0, 1.0, 3.0, 1.0, 1.0, 0.0, 0.0, 1.0, 1.0, 0.0, 1.0, 0.0, 1.0, 2.0, 5.0, 1.0, 0.0, 0.0, 3.0, 0.0, 0.0, 2.0, 0.0, 2.0, 4.0, 2.0, 4.0, 0.0, 1.0, 3.0, 2.0, 0.0, 4.0, 0.0, 5.0, 5.0, 1.0, 1.0, 0.0, 22.0, 0.0, 1.0, 0.0, 0.0, 1.0, 0.0, 6.0, 0.0, 0.0, 1.0, 2.0, 4.0, 0.0, 0.0, 43.0, 50.0, 4.0, 2.0, 3.0, 2.0, 1.0, 1.0, 0.0, 1.0, 0.0, 2.0, 1.0, 9.0, 2.0, 0.0, 1.0, 7.0, 1.0, 0.0, 2.0, 6.0, 1.0, 7.0, 0.0, 0.0, 2.0, 0.0, 1.0, 1.0, 3.0, 0.0, 4.0, 5.0, 1.0, 1.0, 1.0, 1.0, 7.0, 3.0, 0.0, 1.0, 7.0, 6.0, 2.0, 3.0, 4.0, 0.0, 2.0, 0.0, 1.0, 13.0, 4.0, 3.0, 18.0, 8.0, 1.0, 2.0, 2.0, 0.0, 5.0, 0.0, 2.0, 18.0, 1.0, 1.0, 2.0, 0.0, 3.0, 1.0, 45.0, 1.0, 4.0, 1.0, 1.0, 2.0, 1.0, 0.0, 1.0, 3.0, 3.0, 1.0, 6.0, 5.0, 1.0, 5.0, 5.0, 9.0, 3.0, 2.0, 1.0, 2.0, 10.0, 15.0, 4.0, 0.0, 3.0, 0.0, 0.0, 0.0, 2.0, 2.0, 2.0, 3.0, 4.0, 5.0, 1.0, 3.0, 3.0, 9.0, 0.0, 3.0, 0.0, 0.0, 2.0, 2.0, 1.0, 0.0, 2.0, 1.0, 0.0, 0.0, 18.0, 0.0, 5.0, 10.0, 7.0, 2.0, 2.0, 2.0, 1.0, 3.0, 9.0, 3.0, 1.0, 3.0, 9.0, 3.0, 2.0, 17.0, 1.0, 4.0, 1.0, 44.0, 3.0, 6.0, 7.0, 0.0, 0.0, 2.0, 0.0, 4.0, 6.0, 2.0, 1.0, 4.0, 2.0, 1.0, 6.0, 54.0, 0.0, 1.0, 8.0, 2.0, 1.0, 11.0, 4.0, 2.0, 28.0, 2.0, 1.0, 6.0, 7.0, 3.0, 3.0, 11.0, 2.0, 3.0, 0.0, 2.0, 3.0, 4.0, 30.0, 26.0, 2.0, 2.0, 10.0, 28.0, 106.0, 3.0, 1.0, 2.0, 1.0, 2.0, 1.0, 1.0, 0.0, 1.0, 2.0, 4.0, 8.0, 1.0, 0.0, 1.0, 2.0, 2.0, 4.0, 1.0, 5.0, 3.0, 3.0, 0.0, 2.0, 0.0, 2.0, 2.0, 2.0, 6.0, 5.0, 0.0, 2.0, 1.0, 2.0, 4.0, 5.0, 2.0, 2.0, 2.0, 4.0, 2.0, 0.0, 0.0, 5.0, 0.0, 3.0, 0.0, 2.0, 3.0, 1.0, 14.0, 2.0, 2.0, 3.0, 29.0, 6.0, 5.0, 4.0, 0.0, 5.0, 1.0, 2.0, 6.0, 8.0, 6.0, 6.0, 25.0, 9.0, 2.0, 1.0, 20.0, 20.0, 0.0, 2.0, 3.0, 2.0, 6.0, 5.0, 1.0, 17.0, 0.0, 7.0, 1.0, 1.0, 5.0, 0.0, 4.0, 2.0, 0.0, 3.0, 2.0, 7.0, 0.0, 3.0, 3.0, 3.0, 1.0, 0.0, 3.0, 1.0, 22.0, 1.0, 0.0, 4.0, 0.0, 10.0, 5.0, 3.0, 5.0, 0.0, 1.0, 1.0, 1.0, 2.0, 13.0, 0.0, 15.0, 4.0, 1.0, 2.0, 0.0, 2.0, 1.0, 12.0, 4.0, 2.0, 5.0, 3.0, 3.0, 2.0, 1.0, 9.0, 8.0, 1.0, 0.0, 1.0, 1.0, 3.0, 3.0, 6.0, 0.0, 1.0, 1.0, 0.0, 1.0, 0.0, 1.0, 2.0, 62.0, 1.0, 1.0, 4.0, 1.0, 1.0, 4.0, 3.0, 3.0, 3.0, 3.0, 1.0, 6.0, 8.0, 3.0, 1.0, 5.0, 0.0, 1.0, 0.0, 1.0, 13.0, 3.0, 5.0, 1.0, 5.0, 2.0, 4.0, 5.0, 0.0, 19.0, 1.0, 0.0, 3.0, 0.0, 0.0, 2.0, 1.0, 0.0, 1.0, 2.0, 1.0, 1.0, 2.0, 0.0, 2.0, 2.0, 4.0, 0.0, 4.0, 0.0, 2.0, 2.0, 2.0, 9.0, 1.0, 0.0, 2.0, 6.0, 6.0, 6.0, 6.0, 0.0, 11.0, 4.0, 51.00000000000001, 4.0, 0.0, 3.0, 2.0, 1.0, 6.0, 2.0, 1.0, 2.0, 2.0, 17.0, 2.0, 0.0, 0.0, 1.0, 1.0, 9.0, 8.0, 1.0, 1.0, 2.0, 2.0, 2.0, 1.0, 0.0, 0.0, 3.0, 1.0, 2.0, 24.0, 3.0, 0.0, 3.0, 3.0, 0.0, 4.0, 1.0, 1.0, 1.0, 6.0, 5.0, 1.0, 2.0, 4.0, 2.0, 7.0, 2.0, 4.0, 9.0, 10.0, 3.0, 2.0, 20.0, 0.0, 1.0, 2.0, 0.0, 5.0, 4.0, 5.0, 6.0, 6.0, 1.0, 2.0, 5.0, 0.0, 2.0, 2.0, 2.0, 0.0, 0.0, 2.0, 1.0, 9.0, 0.0, 0.0, 0.0, 1.0, 8.0, 2.0, 1.0, 4.0, 5.0, 0.0, 1.0, 4.0, 2.0, 4.0, 0.0, 1.0, 4.0, 0.0, 1.0, 0.0, 2.0, 1.0, 4.0, 2.0, 10.0, 0.0, 0.0, 1.0, 2.0, 17.0, 2.0, 1.0, 2.0, 1.0, 0.0, 2.0, 0.0, 1.0, 1.0, 0.0, 3.0, 2.0, 4.0, 2.0, 1.0, 8.0, 3.0, 2.0, 1.0, 0.0, 2.0, 1.0, 3.0, 2.0, 12.0, 17.0, 1.0, 1.0, 3.0, 1.0, 0.0, 3.0, 3.0, 4.0, 5.0, 6.0, 2.0, 0.0, 0.0, 2.0, 1.0, 0.0, 0.0, 0.0, 1.0, 2.0, 1.0, 0.0, 1.0, 1.0, 2.0, 0.0, 1.0, 1.0, 1.0, 1.0, 7.0, 1.0, 1.0, 5.0, 5.0, 5.0, 0.0, 4.0, 0.0, 0.0, 3.0, 1.0, 14.0, 0.0, 2.0, 0.0, 1.0, 1.0, 0.0, 0.0, 3.0, 3.0, 3.0, 4.0, 2.0, 1.0, 0.0, 3.0, 3.0, 3.0, 2.0, 2.0, 5.0, 1.0, 2.0, 4.0, 0.0, 1.0, 2.0, 3.0, 1.0, 1.0, 0.0, 2.0, 4.0, 5.0, 9.0, 9.0, 10.0, 1.0, 16.0, 1.0, 2.0, 29.0, 0.0, 0.0, 1.0, 1.0, 2.0, 1.0, 0.0, 0.0, 1.0, 3.0, 1.0, 3.0, 21.000000000000004, 11.0, 2.0, 1.0, 1.0, 0.0, 1.0, 2.0, 0.0, 1.0, 1.0, 0.0, 2.0, 4.0, 1.0, 1.0, 3.0, 1.0, 20.0, 1.0, 0.0, 0.0, 1.0, 0.0, 0.0, 2.0, 0.0, 1.0, 1.0, 11.0, 1.0, 2.0, 1.0, 1.0, 1.0, 3.0, 1.0, 0.0, 4.0, 1.0, 2.0, 3.0, 2.0, 8.0, 7.0, 34.0, 2.0, 2.0, 0.0, 10.0, 2.0, 4.0, 2.0, 28.0, 6.0, 9.0, 1.0, 4.0, 0.0, 1.0, 2.0, 7.0, 1.0, 2.0, 2.0, 1.0, 0.0, 1.0, 1.0, 2.0, 1.0, 2.0, 1.0, 57.0, 0.0, 1.0, 1.0, 1.0, 10.0, 2.0, 2.0, 5.0, 4.0, 2.0, 1.0, 2.0, 2.0, 1.0, 1.0, 0.0, 0.0, 0.0, 0.0, 0.0, 0.0, 1.0, 0.0, 1.0, 1.0, 1.0, 1.0, 0.0, 2.0, 1.0, 1.0, 1.0, 1.0, 7.0, 6.0, 2.0, 1.0, 2.0, 0.0, 0.0, 1.0, 2.0, 2.0, 2.0, 7.0, 2.0, 1.0, 2.0, 1.0, 48.0, 67.0, 0.0, 2.0, 2.0, 4.0, 0.0, 3.0, 2.0, 5.0, 0.0, 0.0, 2.0, 0.0, 2.0, 5.0, 1.0, 5.0, 2.0, 2.0, 3.0, 8.0, 4.0, 8.0, 9.0, 0.0, 4.0, 2.0, 1.0, 1.0, 2.0, 0.0, 2.0, 2.0, 4.0, 3.0, 0.0, 4.0, 0.0, 1.0, 1.0, 15.0, 1.0, 0.0, 1.0, 1.0, 1.0, 1.0, 1.0, 1.0, 0.0, 1.0, 1.0, 1.0, 5.0, 2.0, 0.0, 2.0, 1.0, 0.0, 0.0, 0.0, 1.0, 0.0, 0.0, 4.0, 4.0, 2.0, 4.0, 0.0, 3.0, 2.0, 2.0, 2.0, 0.0, 3.0, 4.0, 2.0, 2.0, 7.0, 9.0, 7.0, 15.0, 2.0, 6.0, 6.0, 6.0, 3.0, 1.0, 1.0, 19.0, 0.0, 7.0, 1.0, 3.0, 0.0, 2.0, 3.0, 0.0, 3.0, 3.0, 3.0, 1.0, 0.0, 1.0, 0.0, 1.0, 118.0, 2.0, 1.0, 0.0, 0.0, 0.0, 2.0, 0.0, 5.0, 1.0, 1.0, 1.0, 0.0, 0.0, 1.0, 1.0, 0.0, 1.0, 2.0, 23.0, 15.0, 1.0, 2.0, 0.0, 8.0, 3.0, 12.0, 11.0, 1.0, 15.0, 1.0, 1.0, 1.0, 3.0, 1.0, 0.0, 25.0, 3.0, 1.0, 7.0, 3.0, 2.0, 3.0, 0.0, 2.0, 0.0, 1.0, 28.0, 5.0, 1.0, 1.0, 4.0, 0.0, 0.0, 4.0, 0.0, 0.0, 3.0, 0.0, 3.0, 1.0, 2.0, 1.0, 1.0, 0.0, 0.0, 6.0, 0.0, 0.0, 2.0, 3.0, 1.0, 3.0, 4.0, 1.0, 2.0, 23.0, 0.0, 1.0, 3.0, 5.0, 2.0, 3.0, 51.00000000000001, 2.0, 4.0, 4.0, 2.0, 2.0, 5.0, 2.0, 0.0, 1.0, 1.0, 0.0, 2.0, 5.0, 1.0, 1.0, 1.0, 2.0, 3.0, 1.0, 1.0, 3.0, 3.0, 2.0, 0.0, 0.0, 0.0, 0.0, 18.0, 9.0, 0.0, 1.0, 1.0, 5.0, 1.0, 1.0, 1.0, 2.0, 3.0, 0.0, 0.0, 0.0, 2.0, 1.0, 1.0, 1.0, 2.0, 3.0, 1.0, 1.0, 0.0, 1.0, 5.0, 0.0, 19.0, 1.0, 1.0, 1.0, 1.0, 1.0, 5.0, 0.0, 0.0, 1.0, 1.0, 3.0, 1.0, 1.0, 1.0, 7.0, 4.0, 0.0, 1.0, 3.0, 1.0, 7.0, 3.0, 1.0, 0.0, 1.0, 1.0, 8.0, 0.0, 2.0, 37.0, 4.0, 0.0, 0.0, 4.0, 4.0, 0.0, 1.0, 1.0, 0.0, 0.0, 0.0, 4.0, 0.0, 1.0, 2.0, 1.0, 0.0, 1.0, 2.0, 4.0, 0.0, 2.0, 8.0, 0.0, 2.0, 2.0, 5.0, 3.0, 1.0, 2.0, 2.0, 2.0, 2.0, 0.0, 4.0, 3.0, 3.0, 10.0, 0.0, 10.0, 2.0, 5.0, 5.0, 4.0, 3.0, 3.0, 0.0, 13.0, 13.0, 12.0, 1.0, 1.0, 5.0, 3.0, 1.0, 5.0, 0.0, 4.0, 0.0, 4.0, 9.0, 1.0, 1.0, 0.0, 1.0, 1.0, 3.0, 1.0, 5.0, 1.0, 0.0, 6.0, 4.0, 4.0, 20.0, 7.0, 1.0, 1.0, 0.0, 4.0, 1.0, 3.0, 2.0, 2.0, 3.0, 1.0, 10.0, 3.0, 2.0, 3.0, 0.0, 4.0, 4.0, 2.0, 1.0, 2.0, 1.0, 3.0, 2.0, 2.0, 0.0, 2.0, 1.0, 2.0, 0.0, 3.0, 3.0, 1.0, 3.0, 3.0, 0.0, 0.0, 4.0, 3.0, 1.0, 2.0, 0.0, 0.0, 0.0, 1.0, 2.0, 5.0, 4.0, 1.0, 2.0, 2.0, 1.0, 2.0, 1.0, 1.0, 3.0, 5.0, 4.0, 0.0, 54.99999999999999, 25.0, 28.0, 33.0, 2.0, 6.0, 0.0, 0.0, 0.0, 0.0, 1.0, 1.0, 2.0, 1.0, 21.000000000000004, 3.0, 1.0, 4.0, 1.0, 2.0, 2.0, 2.0, 1.0, 5.0, 1.0, 1.0, 4.0, 108.0, 4.0, 1.0, 4.0, 5.0, 2.0, 1.0, 75.0, 4.0, 1.0, 2.0, 3.0, 5.0, 0.0, 3.0, 1.0, 0.0, 3.0, 9.0, 16.0, 3.0, 3.0, 2.0, 9.0, 4.0, 3.0, 3.0, 1.0, 5.0, 4.0, 26.0, 3.0, 0.0, 0.0, 12.0, 1.0, 2.0, 0.0, 7.0, 0.0, 5.0, 0.0, 2.0, 3.0, 3.0, 4.0, 1.0, 3.0, 0.0, 1.0, 1.0, 0.0, 2.0, 2.0, 2.0, 0.0, 1.0, 3.0, 4.0, 2.0, 1.0, 3.0, 3.0, 2.0, 1.0, 2.0, 6.0, 2.0, 6.0, 1.0, 3.0, 1.0, 21.000000000000004, 0.0, 3.0, 7.0, 0.0, 1.0, 4.0, 12.0, 8.0, 7.0, 0.0, 2.0, 2.0, 0.0, 1.0, 5.0, 1.0, 1.0, 0.0, 0.0, 6.0, 0.0, 1.0, 2.0, 3.0, 0.0, 3.0, 3.0, 0.0, 2.0, 0.0, 2.0, 2.0, 5.0, 1.0, 6.0, 5.0, 1.0, 0.0, 8.0, 5.0, 1.0, 4.0, 7.0, 1.0, 0.0, 0.0, 7.0, 7.0, 1.0, 1.0, 3.0, 1.0, 0.0, 1.0, 2.0, 7.0, 11.0, 0.0, 1.0, 1.0, 1.0, 4.0, 7.0, 1.0, 0.0, 2.0, 0.0, 0.0, 1.0, 1.0, 2.0, 2.0, 2.0, 1.0, 1.0, 3.0, 0.0, 4.0, 4.0, 2.0, 17.0, 4.0, 4.0, 1.0, 2.0, 0.0, 1.0, 2.0, 2.0, 2.0, 3.0, 2.0, 0.0, 1.0, 1.0, 2.0, 2.0, 2.0, 0.0, 2.0, 11.0, 4.0, 2.0, 6.0, 3.0, 9.0, 3.0, 2.0, 47.0, 0.0, 1.0, 10.0, 1.0, 1.0, 26.0, 2.0, 0.0, 0.0, 1.0, 1.0, 9.0, 3.0, 16.0, 0.0, 3.0, 4.0, 0.0, 1.0, 2.0, 0.0, 2.0, 2.0, 0.0, 2.0, 2.0, 2.0, 0.0, 3.0, 1.0, 3.0, 1.0, 0.0, 3.0, 0.0, 0.0, 2.0, 5.0, 4.0, 1.0, 0.0, 1.0, 0.0, 5.0, 5.0, 2.0, 1.0, 3.0, 11.0, 1.0, 2.0, 4.0, 3.0, 1.0, 1.0, 3.0, 2.0, 3.0, 2.0, 0.0, 4.0, 3.0, 1.0, 4.0, 3.0, 2.0, 2.0, 2.0, 1.0, 1.0, 0.0, 1.0, 2.0, 1.0, 0.0, 1.0, 3.0, 0.0, 11.0, 8.0, 8.0, 1.0, 4.0, 1.0, 1.0, 1.0, 1.0, 1.0, 0.0, 1.0, 2.0, 6.0, 1.0, 2.0, 2.0, 2.0, 1.0, 1.0, 2.0, 1.0, 2.0, 7.0, 2.0, 0.0, 3.0, 8.0, 0.0, 7.0, 1.0, 2.0, 2.0, 0.0, 2.0, 1.0, 0.0, 6.0, 4.0, 3.0, 3.0, 1.0, 2.0, 0.0, 11.0, 5.0, 5.0, 31.0, 1.0, 19.0, 7.0, 7.0, 60.0, 59.0, 3.0, 3.0, 21.000000000000004, 9.0, 8.0, 1.0, 2.0, 4.0, 1.0, 4.0, 1.0, 2.0, 0.0, 5.0, 2.0, 4.0, 4.0, 1.0, 1.0, 2.0, 1.0, 2.0, 2.0, 0.0, 16.0, 1.0, 1.0, 0.0, 1.0, 3.0, 2.0, 1.0, 0.0, 5.0, 0.0, 1.0, 4.0, 1.0, 0.0, 4.0, 0.0, 0.0, 1.0, 50.0, 0.0, 3.0, 3.0, 0.0, 0.0, 0.0, 15.0, 3.0, 0.0, 1.0, 2.0, 7.0, 3.0, 1.0, 3.0, 5.0, 0.0, 2.0, 0.0, 2.0, 7.0, 2.0, 0.0, 1.0, 0.0, 1.0, 0.0, 10.0, 1.0, 1.0, 2.0, 1.0, 2.0, 0.0, 5.0, 4.0, 2.0, 0.0, 4.0, 1.0, 4.0, 6.0, 0.0, 3.0, 8.0, 5.0, 0.0, 1.0, 2.0, 5.0, 5.0, 2.0, 2.0, 4.0, 1.0, 12.0, 1.0, 5.0, 1.0, 2.0, 3.0, 2.0, 0.0, 3.0, 1.0, 2.0, 0.0, 1.0, 1.0, 0.0, 2.0, 4.0, 0.0, 2.0, 1.0, 3.0, 2.0, 2.0, 1.0, 7.0, 1.0, 52.0, 2.0, 1.0, 11.0, 10.0, 2.0, 0.0, 0.0, 3.0, 3.0, 2.0, 3.0, 25.0, 8.0, 1.0, 2.0, 3.0, 0.0, 1.0, 9.0, 5.0, 3.0, 2.0, 2.0, 2.0, 4.0, 2.0, 0.0, 2.0, 2.0, 1.0, 0.0, 0.0, 0.0, 2.0, 1.0, 1.0, 8.0, 0.0, 0.0, 2.0, 1.0, 1.0, 0.0, 0.0, 13.0, 8.0, 25.0, 2.0, 1.0, 2.0, 1.0, 3.0, 2.0, 0.0, 0.0, 2.0, 2.0, 9.0, 9.0, 1.0, 2.0, 2.0, 2.0, 2.0, 1.0, 8.0, 3.0, 3.0, 0.0, 16.0, 0.0, 1.0, 0.0, 1.0, 1.0, 1.0, 11.0, 2.0, 21.000000000000004, 0.0, 1.0, 3.0, 1.0, 4.0, 2.0, 2.0, 2.0, 4.0, 2.0, 5.0, 1.0, 24.0, 3.0, 6.0, 1.0, 3.0, 4.0, 3.0, 3.0, 4.0, 2.0, 1.0, 3.0, 2.0, 1.0, 1.0, 0.0, 2.0, 3.0, 6.0, 3.0, 3.0, 2.0, 3.0, 1.0, 1.0, 15.0, 0.0, 3.0, 0.0, 9.0, 2.0, 2.0, 0.0, 1.0, 1.0, 12.0, 2.0, 1.0, 0.0, 5.0, 5.0, 7.0, 4.0, 4.0, 3.0, 0.0, 2.0, 4.0, 2.0, 0.0, 4.0, 4.0, 2.0, 0.0, 1.0, 1.0, 4.0, 1.0, 0.0, 3.0, 2.0, 1.0, 1.0, 4.0, 0.0, 1.0, 6.0, 3.0, 14.0, 0.0, 1.0, 3.0, 10.0, 3.0, 4.0, 1.0, 0.0, 1.0, 3.0, 1.0, 1.0, 16.0, 19.0, 0.0, 2.0, 0.0, 1.0, 3.0, 2.0, 4.0, 3.0, 3.0, 5.0, 1.0, 3.0, 6.0, 5.0, 12.0, 20.0, 8.0, 0.0, 1.0, 0.0, 1.0, 1.0, 1.0, 1.0, 18.0, 0.0, 0.0, 15.0, 0.0, 1.0, 0.0, 2.0, 5.0, 0.0, 3.0, 1.0, 1.0, 1.0, 3.0, 4.0, 3.0, 5.0, 3.0, 3.0, 2.0, 4.0, 2.0, 2.0, 3.0, 1.0, 2.0, 3.0, 4.0, 3.0, 3.0, 2.0, 1.0, 4.0, 14.0, 2.0, 2.0, 3.0, 0.0, 5.0, 1.0, 2.0, 1.0, 1.0, 5.0, 3.0, 1.0, 0.0, 1.0, 3.0, 2.0, 4.0, 4.0, 10.0, 6.0, 9.0, 4.0, 0.0, 1.0, 3.0, 2.0, 0.0, 0.0, 3.0, 4.0, 3.0, 0.0, 3.0, 3.0, 20.0, 3.0, 3.0, 0.0, 1.0, 1.0, 3.0, 1.0, 3.0, 1.0, 4.0, 3.0, 2.0, 2.0, 8.0, 0.0, 2.0, 3.0, 1.0, 10.0, 0.0, 1.0, 3.0, 21.000000000000004, 3.0, 6.0, 5.0, 11.0, 10.0, 7.0, 0.0, 0.0, 0.0, 2.0, 1.0, 2.0, 1.0, 5.0, 1.0, 14.0, 4.0, 1.0, 3.0, 0.0, 2.0, 0.0, 0.0, 0.0, 1.0, 2.0, 2.0, 0.0, 0.0, 7.0, 0.0, 0.0, 0.0, 15.0, 1.0, 1.0, 0.0, 0.0, 4.0, 0.0, 1.0, 3.0, 3.0, 3.0, 2.0, 3.0, 4.0, 0.0, 1.0, 18.0, 19.0, 1.0, 3.0, 3.0, 3.0, 2.0, 0.0, 0.0, 4.0, 1.0, 0.0, 1.0, 0.0, 3.0, 1.0, 1.0, 3.0, 0.0, 1.0, 1.0, 2.0, 2.0, 1.0, 3.0, 1.0, 2.0, 7.0, 2.0, 4.0, 4.0, 4.0, 2.0, 3.0, 4.0, 2.0, 0.0, 1.0, 2.0, 1.0, 1.0, 2.0, 2.0, 3.0, 1.0, 19.0, 4.0, 4.0, 0.0, 1.0, 0.0, 1.0, 1.0, 1.0, 1.0, 2.0, 0.0, 4.0, 3.0, 4.0, 0.0, 0.0, 6.0, 3.0, 1.0, 5.0, 1.0, 1.0, 9.0, 1.0, 0.0, 3.0, 1.0, 1.0, 1.0, 4.0, 13.0, 0.0, 4.0, 3.0, 1.0, 1.0, 2.0, 3.0, 0.0, 0.0, 0.0, 2.0, 1.0, 1.0, 3.0, 1.0, 1.0, 1.0, 2.0, 0.0, 2.0, 1.0, 3.0, 1.0, 1.0, 1.0, 10.0, 0.0, 0.0, 0.0, 3.0, 0.0, 0.0, 2.0, 1.0, 1.0, 2.0, 3.0, 1.0, 2.0, 2.0, 2.0, 0.0, 4.0, 0.0, 0.0, 1.0, 2.0, 5.0, 2.0, 6.0, 3.0, 2.0, 2.0, 24.0, 24.0, 2.0, 1.0, 2.0, 5.0, 2.0, 2.0, 1.0, 8.0, 2.0, 1.0, 0.0, 2.0, 4.0, 3.0, 3.0, 6.0, 1.0, 2.0, 8.0, 2.0, 0.0, 1.0, 0.0, 1.0, 0.0, 2.0, 1.0, 2.0, 30.0, 2.0, 0.0, 2.0, 5.0, 2.0, 0.0, 0.0, 1.0, 1.0, 1.0, 0.0, 14.0, 1.0, 1.0, 1.0, 0.0, 0.0, 3.0, 2.0, 0.0, 2.0, 4.0, 7.0, 2.0, 0.0, 0.0, 1.0, 0.0, 2.0, 2.0, 0.0, 0.0, 1.0, 1.0, 1.0, 2.0, 0.0, 1.0, 4.0, 0.0, 2.0, 15.0, 0.0, 2.0, 2.0, 4.0, 6.0, 1.0, 0.0, 3.0, 3.0, 2.0, 1.0, 1.0, 1.0, 4.0, 2.0, 3.0, 3.0, 3.0, 4.0, 9.0, 1.0, 2.0, 3.0, 2.0, 0.0, 5.0, 1.0, 2.0, 0.0, 0.0, 4.0, 1.0, 0.0, 0.0, 3.0, 5.0, 2.0, 1.0, 4.0, 2.0, 5.0, 5.0, 1.0, 1.0, 2.0, 4.0, 3.0, 3.0, 3.0, 2.0, 0.0, 3.0, 2.0, 3.0, 2.0, 8.0, 4.0, 1.0, 7.0, 9.0, 3.0, 0.0, 0.0, 9.0, 1.0, 12.0, 10.0, 4.0, 5.0, 5.0, 7.0, 0.0, 3.0, 1.0, 6.0, 6.0, 2.0, 1.0, 14.0, 0.0, 0.0, 14.0, 2.0, 2.0, 9.0, 11.0, 0.0, 0.0, 1.0, 5.0, 3.0, 5.0, 0.0, 1.0, 6.0, 5.0, 2.0, 2.0, 8.0, 0.0, 2.0, 1.0, 0.0, 1.0, 24.0, 2.0, 2.0, 1.0, 0.0, 4.0, 2.0, 1.0, 0.0, 2.0, 0.0, 0.0, 0.0, 2.0, 1.0, 0.0, 1.0, 2.0, 12.0, 3.0, 0.0, 3.0, 1.0, 2.0, 0.0, 1.0, 1.0, 10.0, 16.0, 1.0, 0.0, 2.0, 0.0, 0.0, 2.0, 0.0, 0.0, 0.0, 2.0, 1.0, 2.0, 1.0, 1.0, 1.0, 2.0, 0.0, 1.0, 1.0, 0.0, 1.0, 1.0, 24.0, 70.0, 69.0, 2.0, 2.0, 1.0, 7.0, 1.0, 6.0, 5.0, 1.0, 0.0, 0.0, 0.0, 1.0, 1.0, 1.0, 1.0, 4.0, 1.0, 2.0, 2.0, 0.0, 10.0, 10.0, 1.0, 4.0, 1.0, 0.0, 0.0, 3.0, 8.0, 9.0, 2.0, 2.0, 0.0, 4.0, 19.0, 3.0, 1.0, 3.0, 3.0, 5.0, 1.0, 1.0, 2.0, 1.0, 8.0, 7.0, 1.0, 3.0, 1.0, 3.0, 3.0, 31.0, 0.0, 3.0, 1.0, 4.0, 4.0, 2.0, 49.0, 3.0, 3.0, 1.0, 2.0, 108.0, 0.0, 1.0, 1.0, 3.0, 0.0, 2.0, 1.0, 1.0, 12.0, 21.000000000000004, 0.0, 1.0, 0.0, 2.0, 2.0, 22.0, 2.0, 0.0, 3.0, 1.0, 0.0, 0.0, 0.0, 4.0, 0.0, 9.0, 4.0, 2.0, 7.0, 0.0, 2.0, 0.0, 1.0, 0.0, 3.0, 1.0, 0.0, 4.0, 4.0, 4.0, 6.0, 0.0, 0.0, 1.0, 0.0, 6.0, 0.0, 1.0, 1.0, 0.0, 2.0, 2.0, 3.0, 4.0, 1.0, 30.0, 2.0, 2.0, 2.0, 4.0, 0.0, 2.0, 1.0, 5.0, 3.0, 0.0, 2.0, 2.0, 2.0, 7.0, 1.0, 0.0, 4.0, 1.0, 2.0, 2.0, 0.0, 0.0, 2.0, 2.0, 3.0, 3.0, 1.0, 2.0, 0.0, 0.0, 1.0, 1.0, 2.0, 2.0, 1.0, 0.0, 0.0, 9.0, 1.0, 1.0, 3.0, 1.0, 1.0, 1.0, 1.0, 0.0, 1.0, 0.0, 2.0, 0.0, 8.0, 13.0, 2.0, 1.0, 18.0, 0.0, 1.0, 0.0, 2.0, 8.0, 16.0, 3.0, 2.0, 0.0, 1.0, 3.0, 0.0, 0.0, 0.0, 0.0, 5.0, 0.0, 21.000000000000004, 1.0, 3.0, 7.0, 0.0, 1.0, 0.0, 2.0, 2.0, 1.0, 2.0, 2.0, 1.0, 2.0, 8.0, 3.0, 1.0, 9.0, 4.0, 3.0, 0.0, 7.0, 6.0, 6.0, 2.0, 2.0, 2.0, 0.0, 1.0, 0.0, 4.0, 2.0, 0.0, 0.0, 0.0, 15.0, 15.0, 4.0, 1.0, 1.0, 4.0, 2.0, 11.0, 1.0, 0.0, 1.0, 2.0, 2.0, 3.0, 1.0, 11.0, 4.0, 0.0, 8.0, 0.0, 2.0, 2.0, 3.0, 1.0, 3.0, 3.0, 1.0, 1.0, 5.0, 16.0, 1.0, 1.0, 24.0, 1.0, 0.0, 2.0, 3.0, 3.0, 2.0, 3.0, 1.0, 2.0, 1.0, 0.0, 2.0, 3.0, 2.0, 1.0, 1.0, 0.0, 0.0, 56.0, 7.0, 2.0, 0.0, 12.0, 3.0, 3.0, 19.0, 22.0, 1.0, 3.0, 9.0, 9.0, 1.0, 5.0, 3.0, 1.0, 0.0, 3.0, 2.0, 2.0, 3.0, 2.0, 2.0, 15.0, 1.0, 0.0, 1.0, 1.0, 4.0, 7.0, 5.0, 1.0, 1.0, 3.0, 1.0, 3.0, 2.0, 26.0, 2.0, 6.0, 15.0, 2.0, 2.0, 2.0, 1.0, 2.0, 2.0, 0.0, 1.0, 3.0, 2.0, 1.0, 3.0, 7.0, 2.0, 1.0, 8.0, 0.0, 0.0, 0.0, 2.0, 0.0, 2.0, 2.0, 2.0, 0.0, 0.0, 2.0, 2.0, 1.0, 3.0, 3.0, 1.0, 1.0, 4.0, 4.0, 6.0, 3.0, 1.0, 0.0, 0.0, 1.0, 2.0, 7.0, 1.0, 1.0, 1.0, 6.0, 6.0, 1.0, 1.0, 3.0, 1.0, 2.0, 1.0, 5.0, 1.0, 26.0, 2.0, 0.0, 1.0, 4.0, 5.0, 3.0, 2.0, 4.0, 0.0, 4.0, 2.0, 2.0, 0.0, 2.0, 0.0, 1.0, 1.0, 1.0, 1.0, 1.0, 0.0, 0.0, 0.0, 6.0, 1.0, 1.0, 1.0, 1.0, 2.0, 0.0, 2.0, 1.0, 2.0, 2.0, 1.0, 3.0, 1.0, 0.0, 4.0, 0.0, 0.0, 1.0, 1.0, 1.0, 12.0, 7.0, 2.0, 1.0, 0.0, 2.0, 4.0, 5.0, 1.0, 2.0, 1.0, 3.0, 0.0, 2.0, 2.0, 2.0, 2.0, 5.0, 1.0, 3.0, 1.0, 1.0, 2.0, 3.0, 1.0, 3.0, 0.0, 1.0, 1.0, 3.0, 5.0, 1.0, 2.0, 4.0, 5.0, 2.0, 0.0, 0.0, 2.0, 0.0, 15.0, 0.0, 0.0, 0.0, 3.0, 2.0, 1.0, 1.0, 0.0, 1.0, 1.0, 0.0, 1.0, 10.0, 2.0, 1.0, 1.0, 4.0, 0.0, 0.0, 3.0, 3.0, 2.0, 1.0, 2.0, 6.0, 2.0, 5.0, 1.0, 5.0, 0.0, 2.0, 3.0, 3.0, 1.0, 1.0, 1.0, 2.0, 3.0, 1.0, 0.0, 0.0, 0.0, 0.0, 3.0, 3.0, 0.0, 1.0, 7.0, 8.0, 0.0, 2.0, 0.0, 1.0, 1.0, 1.0, 1.0, 1.0, 1.0, 2.0, 2.0, 2.0, 0.0, 0.0, 4.0, 1.0, 0.0, 16.0, 4.0, 1.0, 1.0, 1.0, 0.0, 1.0, 1.0, 0.0, 0.0, 0.0, 1.0, 0.0, 4.0, 2.0, 0.0, 0.0, 0.0, 2.0, 1.0, 2.0, 1.0, 3.0, 0.0, 2.0, 1.0, 1.0, 2.0, 1.0, 0.0, 6.0, 1.0, 6.0, 0.0, 3.0, 3.0, 6.0, 3.0, 1.0, 1.0, 4.0, 3.0, 1.0, 1.0, 4.0, 1.0, 1.0, 5.0, 1.0, 1.0, 3.0, 5.0, 2.0, 0.0, 4.0, 1.0, 3.0, 1.0, 2.0, 1.0, 3.0, 1.0, 14.0, 0.0, 2.0, 2.0, 18.0, 1.0, 7.0, 0.0, 1.0, 1.0, 0.0, 8.0, 0.0, 1.0, 1.0, 3.0, 2.0, 2.0, 1.0, 3.0, 1.0, 2.0, 5.0, 5.0, 1.0, 3.0, 1.0, 0.0, 0.0, 0.0, 0.0, 1.0, 0.0, 0.0, 0.0, 3.0, 2.0, 2.0, 0.0, 2.0, 1.0, 2.0, 1.0, 3.0, 0.0, 3.0, 3.0, 3.0, 3.0, 6.0, 6.0, 2.0, 3.0, 0.0, 0.0, 3.0, 2.0, 6.0, 1.0, 1.0, 0.0, 5.0, 6.0, 1.0, 0.0, 2.0, 2.0, 2.0, 2.0, 0.0, 0.0, 0.0, 2.0, 0.0, 3.0, 2.0, 2.0, 1.0, 0.0, 3.0, 3.0, 3.0, 1.0, 0.0, 0.0, 1.0, 1.0, 1.0, 2.0, 2.0, 0.0, 3.0, 0.0, 3.0, 1.0, 2.0, 1.0, 10.0, 11.0, 6.0, 2.0, 1.0, 17.0, 0.0, 6.0, 0.0, 0.0, 7.0, 0.0, 2.0, 0.0, 0.0, 1.0, 1.0, 2.0, 1.0, 0.0, 2.0, 0.0, 5.0, 6.0, 6.0, 1.0, 4.0, 0.0, 0.0, 1.0, 0.0, 0.0, 1.0, 2.0, 0.0, 1.0, 0.0, 2.0, 2.0, 0.0, 1.0, 3.0, 1.0, 1.0, 1.0, 11.0, 0.0, 0.0, 2.0, 16.0, 2.0, 0.0, 2.0, 1.0, 0.0, 0.0, 0.0, 1.0, 2.0, 1.0, 1.0, 2.0, 2.0, 5.0, 2.0, 0.0, 0.0, 1.0, 1.0, 0.0, 2.0, 6.0, 2.0, 2.0, 0.0, 10.0, 4.0, 3.0, 3.0, 3.0, 0.0, 4.0, 1.0, 2.0, 2.0, 4.0, 0.0, 0.0, 0.0, 0.0, 2.0, 0.0, 0.0, 0.0, 0.0, 0.0, 0.0, 0.0, 2.0, 2.0, 4.0, 0.0, 2.0, 3.0, 0.0, 4.0, 0.0, 0.0, 0.0, 2.0, 0.0, 0.0, 3.0, 8.0, 3.0, 1.0, 9.0, 0.0, 0.0, 1.0, 0.0, 1.0, 1.0, 0.0, 0.0, 0.0, 0.0, 0.0, 1.0, 0.0, 0.0, 1.0, 0.0, 2.0, 0.0, 0.0, 0.0, 1.0, 10.0, 2.0, 1.0, 3.0, 5.0, 3.0, 2.0, 0.0, 0.0, 2.0, 1.0, 1.0, 1.0, 1.0, 0.0, 1.0, 3.0, 0.0, 0.0, 0.0, 0.0, 0.0, 1.0, 0.0, 1.0, 1.0, 4.0, 1.0, 0.0, 3.0, 0.0, 2.0, 0.0, 2.0, 1.0, 38.0, 1.0, 7.0, 0.0, 1.0, 6.0, 0.0, 0.0, 2.0, 0.0, 0.0, 0.0, 0.0, 7.0, 6.0, 0.0, 0.0, 4.0, 4.0, 10.0, 1.0, 1.0, 2.0, 0.0, 0.0, 1.0, 2.0, 1.0, 3.0, 4.0, 5.0, 4.0, 2.0, 0.0, 0.0, 0.0, 3.0, 1.0, 2.0, 2.0, 2.0, 2.0, 18.0, 4.0, 0.0, 0.0, 0.0, 8.0, 1.0, 3.0, 9.0, 2.0, 0.0, 0.0, 3.0, 1.0, 0.0, 1.0, 3.0, 8.0, 3.0, 3.0, 0.0, 1.0, 3.0, 0.0, 0.0, 0.0, 3.0, 2.0, 2.0, 13.0, 7.0, 16.0, 29.0, 2.0, 0.0, 12.0, 4.0, 0.0, 0.0, 1.0, 0.0, 1.0, 1.0, 2.0, 0.0, 1.0, 1.0, 2.0, 0.0, 2.0, 2.0, 39.0, 2.0, 1.0, 8.0, 0.0, 1.0, 1.0, 1.0, 7.0, 1.0, 1.0, 1.0, 0.0, 1.0, 0.0, 0.0, 4.0, 2.0, 0.0, 1.0, 1.0, 1.0, 0.0, 5.0, 0.0, 0.0, 4.0, 0.0, 7.0, 0.0, 2.0, 6.0, 1.0, 3.0, 1.0, 1.0, 7.0, 1.0, 3.0, 1.0, 3.0, 3.0, 0.0, 1.0, 2.0, 1.0, 3.0, 6.0, 0.0, 2.0, 2.0, 1.0, 1.0, 3.0, 3.0, 2.0, 3.0, 1.0, 1.0, 2.0, 2.0, 1.0, 1.0, 0.0, 0.0, 0.0, 3.0, 3.0, 1.0, 0.0, 0.0, 2.0, 3.0, 4.0, 4.0, 0.0, 2.0, 2.0, 0.0, 2.0, 1.0, 0.0, 6.0, 4.0, 2.0, 6.0, 2.0, 3.0, 43.0, 0.0, 2.0, 0.0, 0.0, 1.0, 0.0, 2.0, 2.0, 0.0, 2.0, 3.0, 1.0, 0.0, 0.0, 0.0, 2.0, 16.0, 11.0, 6.0, 1.0, 1.0, 0.0, 1.0, 1.0, 0.0, 1.0, 59.0, 54.99999999999999, 28.0, 1.0, 1.0, 1.0, 1.0, 1.0, 0.0, 1.0, 0.0, 3.0, 1.0, 3.0, 6.0, 0.0, 6.0, 3.0, 1.0, 3.0, 23.0, 2.0, 11.0, 7.0, 1.0, 7.0, 0.0, 8.0, 3.0, 20.0, 2.0, 2.0, 0.0, 2.0, 1.0, 2.0, 3.0, 23.0, 23.0, 0.0, 0.0, 2.0, 0.0, 15.0, 2.0, 34.0, 141.0, 1.0, 2.0, 0.0, 1.0, 4.0, 7.0, 3.0, 0.0, 3.0, 4.0, 64.0, 6.0, 8.0, 2.0, 0.0, 4.0, 16.0, 15.0, 2.0, 4.0, 1.0, 13.0, 14.0, 14.0, 0.0, 0.0, 0.0, 1.0, 16.0, 0.0, 2.0, 1.0, 1.0, 1.0, 13.0, 0.0, 2.0, 2.0, 0.0, 1.0, 2.0, 9.0, 4.0, 10.0, 6.0, 5.0, 20.0, 4.0, 4.0, 1.0, 9.0, 10.0, 1.0, 2.0, 5.0, 1.0, 2.0, 1.0, 3.0, 3.0, 4.0, 2.0, 0.0, 1.0, 1.0, 2.0, 17.0, 0.0, 2.0, 21.000000000000004, 10.0, 2.0, 1.0, 20.0, 1.0, 10.0, 10.0, 0.0, 2.0, 0.0, 0.0, 6.0, 25.0, 5.0, 4.0, 2.0, 11.0, 15.0, 1.0, 1.0, 1.0, 1.0, 0.0, 4.0, 1.0, 1.0, 1.0, 2.0, 1.0, 1.0, 1.0, 13.0, 3.0, 0.0, 2.0, 1.0, 0.0, 3.0, 2.0, 1.0, 1.0, 8.0, 0.0, 0.0, 26.0, 9.0, 1.0, 23.0, 14.0, 5.0, 1.0, 2.0, 10.0, 18.0, 14.0, 9.0, 0.0, 1.0, 5.0, 0.0, 2.0, 0.0, 1.0, 7.0, 2.0, 6.0, 1.0, 2.0, 8.0, 3.0, 4.0, 3.0, 15.0, 1.0, 1.0, 0.0, 2.0, 1.0, 2.0, 2.0, 30.0, 3.0, 1.0, 1.0, 2.0, 9.0, 2.0, 4.0, 10.0, 9.0, 6.0, 2.0, 3.0, 3.0, 0.0, 0.0, 0.0, 0.0, 4.0, 0.0, 7.0, 2.0, 3.0, 2.0, 1.0, 1.0, 2.0, 4.0, 4.0, 3.0, 3.0, 0.0, 2.0, 1.0, 4.0, 2.0, 0.0, 32.0, 5.0, 3.0, 23.0, 0.0, 0.0, 0.0, 8.0, 0.0, 2.0, 5.0, 1.0, 2.0, 0.0, 8.0, 2.0, 2.0, 1.0, 29.0, 14.0, 3.0, 2.0, 3.0, 2.0, 1.0, 1.0, 3.0, 2.0, 0.0, 5.0, 5.0, 18.0, 1.0, 1.0, 1.0, 2.0, 3.0, 4.0, 2.0, 2.0, 3.0, 10.0, 4.0, 2.0, 38.0, 1.0, 0.0, 1.0, 0.0, 3.0, 2.0, 2.0, 3.0, 5.0, 2.0, 4.0, 2.0, 1.0, 12.0, 4.0, 4.0, 4.0, 1.0, 1.0, 3.0, 1.0, 2.0, 3.0, 0.0, 0.0, 5.0, 8.0, 2.0, 4.0, 1.0, 3.0, 6.0, 2.0, 3.0, 3.0, 4.0, 2.0, 2.0, 3.0, 0.0, 0.0, 1.0, 0.0, 5.0, 4.0, 5.0, 5.0, 2.0, 1.0, 2.0, 1.0, 1.0, 1.0, 4.0, 1.0, 1.0, 1.0, 2.0, 2.0, 0.0, 2.0, 2.0, 2.0, 1.0, 2.0, 4.0, 2.0, 3.0, 11.0, 1.0, 0.0, 2.0, 0.0, 5.0, 1.0, 0.0, 2.0, 9.0, 1.0, 0.0, 0.0, 2.0, 0.0, 1.0, 6.0, 2.0, 3.0, 0.0, 0.0, 1.0, 2.0, 3.0, 3.0, 0.0, 0.0, 1.0, 3.0, 7.0, 1.0, 1.0, 2.0, 1.0, 2.0, 5.0, 1.0, 2.0, 3.0, 2.0, 0.0, 10.0, 3.0, 3.0, 3.0, 4.0, 3.0, 1.0, 1.0, 2.0, 1.0, 3.0, 5.0, 5.0, 5.0, 3.0, 1.0, 4.0, 1.0, 6.0, 26.0, 3.0, 2.0, 1.0, 1.0, 4.0, 2.0, 3.0, 6.0, 7.0, 1.0, 2.0, 0.0, 3.0, 1.0, 0.0, 4.0, 1.0, 2.0, 2.0, 6.0, 8.0, 5.0, 4.0, 3.0, 0.0, 3.0, 0.0, 2.0, 1.0, 1.0, 0.0, 2.0, 0.0, 3.0, 11.0, 2.0, 0.0, 2.0, 0.0, 0.0, 6.0, 3.0, 3.0, 14.0, 2.0, 4.0, 1.0, 59.0, 1.0, 7.0, 1.0, 8.0, 0.0, 2.0, 0.0, 0.0, 0.0, 1.0, 1.0, 28.0, 2.0, 2.0, 1.0, 1.0, 1.0, 1.0, 0.0, 1.0, 2.0, 0.0, 0.0, 12.0, 1.0, 1.0, 3.0, 1.0, 0.0, 1.0, 3.0, 4.0, 5.0, 1.0, 0.0, 1.0, 2.0, 0.0, 4.0, 8.0, 1.0, 1.0, 0.0, 4.0, 0.0, 4.0, 5.0, 3.0, 1.0, 0.0, 2.0, 2.0, 0.0, 0.0, 3.0, 0.0, 0.0, 1.0, 0.0, 1.0, 2.0, 3.0, 2.0, 4.0, 1.0, 7.0, 0.0, 3.0, 2.0, 4.0, 6.0, 2.0, 1.0, 1.0, 2.0, 2.0, 5.0, 9.0, 7.0, 1.0, 1.0, 6.0, 10.0, 10.0, 0.0, 9.0, 1.0, 2.0, 8.0, 2.0, 2.0, 18.0, 0.0, 1.0, 1.0, 2.0, 1.0, 2.0, 2.0, 0.0, 1.0, 1.0, 0.0, 0.0, 5.0, 0.0, 0.0, 1.0, 1.0, 5.0, 3.0, 1.0, 3.0, 0.0, 3.0, 3.0, 0.0, 0.0, 0.0, 7.0, 2.0, 8.0, 0.0, 1.0, 2.0, 1.0, 12.0, 1.0, 1.0, 6.0, 2.0, 11.0, 16.0, 1.0, 0.0, 1.0, 1.0, 1.0, 0.0, 1.0, 1.0, 6.0, 5.0, 1.0, 2.0, 1.0, 0.0, 4.0, 2.0, 1.0, 1.0, 2.0, 0.0, 0.0, 5.0, 38.0, 0.0, 1.0, 2.0, 1.0, 0.0, 6.0, 0.0, 1.0, 4.0, 0.0, 1.0, 1.0, 7.0, 2.0, 2.0, 1.0, 2.0, 1.0, 1.0, 1.0, 1.0, 1.0, 0.0, 0.0, 0.0, 3.0, 2.0, 1.0, 0.0, 1.0, 1.0, 7.0, 13.0, 0.0, 0.0, 1.0, 1.0, 20.0, 12.0, 1.0, 4.0, 2.0, 2.0, 2.0, 2.0, 2.0, 3.0, 1.0, 1.0, 18.0, 1.0, 0.0, 3.0, 2.0, 1.0, 0.0, 0.0, 1.0, 0.0, 0.0, 1.0, 5.0, 0.0, 1.0, 2.0, 0.0, 1.0, 5.0, 2.0, 0.0, 0.0, 2.0, 2.0, 7.0, 2.0, 5.0, 4.0, 1.0, 1.0, 7.0, 2.0, 2.0, 2.0, 1.0, 1.0, 1.0, 0.0, 1.0, 0.0, 1.0, 2.0, 3.0, 15.0, 0.0, 4.0, 0.0, 0.0, 2.0, 1.0, 1.0, 0.0, 1.0, 0.0, 0.0, 2.0, 2.0, 7.0, 2.0, 2.0, 2.0, 0.0, 10.0, 1.0, 1.0, 0.0, 0.0, 1.0, 2.0, 1.0, 5.0, 1.0, 1.0, 2.0, 1.0, 3.0, 0.0, 1.0, 1.0, 1.0, 2.0, 0.0, 3.0, 0.0, 0.0, 3.0, 0.0, 2.0, 2.0, 1.0, 2.0, 4.0, 4.0, 1.0, 0.0, 0.0, 1.0, 1.0, 12.0, 0.0, 0.0, 3.0, 0.0, 9.0, 0.0, 8.0, 0.0, 0.0, 1.0, 1.0, 0.0, 1.0, 1.0, 2.0, 2.0, 1.0, 1.0, 1.0, 1.0, 2.0, 0.0, 2.0, 2.0, 4.0, 1.0, 1.0, 2.0, 1.0, 0.0, 1.0, 0.0, 4.0, 3.0, 4.0, 0.0, 0.0, 0.0, 0.0, 2.0, 0.0, 0.0, 3.0, 0.0, 3.0, 1.0, 0.0, 1.0, 1.0, 1.0, 2.0, 1.0, 3.0, 2.0, 3.0, 5.0, 5.0, 3.0, 0.0, 2.0, 2.0, 1.0, 0.0, 3.0, 1.0, 1.0, 0.0, 0.0, 0.0, 0.0, 0.0, 1.0, 2.0, 3.0, 4.0, 3.0, 1.0, 2.0, 3.0, 1.0, 0.0, 1.0, 5.0, 4.0, 1.0, 0.0, 0.0, 4.0, 0.0, 1.0, 1.0, 2.0, 2.0, 2.0, 2.0, 2.0, 0.0, 8.0, 20.0, 1.0, 0.0, 9.0, 1.0, 1.0, 1.0, 0.0, 9.0, 1.0, 1.0, 1.0, 1.0, 1.0, 1.0, 3.0, 0.0, 0.0, 1.0, 7.0, 0.0, 3.0, 1.0, 3.0, 0.0, 2.0, 0.0, 1.0, 0.0, 1.0, 4.0, 4.0, 0.0, 0.0, 6.0, 2.0, 1.0, 3.0, 1.0, 1.0, 0.0, 1.0, 1.0, 1.0, 0.0, 8.0, 1.0, 1.0, 2.0, 12.0, 3.0, 1.0, 0.0, 0.0, 32.0, 34.0, 0.0, 1.0, 2.0, 4.0, 4.0, 1.0, 1.0, 1.0, 0.0, 1.0, 0.0, 9.0, 1.0, 8.0, 10.0, 6.0, 2.0, 1.0, 1.0, 0.0, 0.0, 1.0, 1.0, 1.0, 0.0, 0.0, 1.0, 2.0, 1.0, 2.0, 0.0, 0.0, 4.0, 1.0, 0.0, 1.0, 3.0, 0.0, 1.0, 4.0, 0.0, 1.0, 2.0, 0.0, 0.0, 4.0, 0.0, 0.0, 2.0, 1.0, 3.0, 0.0, 1.0, 3.0, 0.0, 1.0, 1.0, 2.0, 2.0, 1.0, 2.0, 2.0, 1.0, 2.0, 0.0, 0.0, 3.0, 3.0, 3.0, 8.0, 2.0, 4.0, 4.0, 0.0, 0.0, 0.0, 2.0, 1.0, 5.0, 1.0, 0.0, 0.0, 2.0, 1.0, 0.0, 2.0, 0.0, 6.0, 4.0, 0.0, 1.0, 1.0, 3.0, 0.0, 1.0, 1.0, 2.0, 4.0, 1.0, 1.0, 18.0, 3.0, 1.0, 2.0, 2.0, 1.0, 1.0, 2.0, 2.0, 0.0, 2.0, 4.0, 0.0, 2.0, 0.0, 1.0, 1.0, 23.0, 2.0, 2.0, 7.0, 1.0, 3.0, 1.0, 1.0, 2.0, 2.0, 1.0, 7.0, 2.0, 5.0, 1.0, 1.0, 2.0, 2.0, 4.0, 1.0, 1.0, 1.0, 1.0, 2.0, 1.0, 4.0, 3.0, 2.0, 3.0, 8.0, 10.0, 1.0, 1.0, 4.0, 21.000000000000004, 2.0, 2.0, 0.0, 2.0, 1.0, 1.0, 1.0, 1.0, 24.0, 1.0, 1.0, 1.0, 0.0, 1.0, 0.0, 9.0, 1.0, 4.0, 1.0, 2.0, 3.0, 2.0, 0.0, 5.0, 1.0, 3.0, 0.0, 0.0, 0.0, 1.0, 1.0, 1.0, 0.0, 2.0, 3.0, 1.0, 1.0, 3.0, 1.0, 2.0, 6.0, 0.0, 4.0, 0.0, 25.0, 24.0, 0.0, 1.0, 0.0, 0.0, 0.0, 1.0, 0.0, 1.0, 1.0, 1.0, 1.0, 8.0, 0.0, 13.0, 0.0, 2.0, 0.0, 3.0, 0.0, 6.0, 0.0, 0.0, 0.0, 0.0, 1.0, 0.0, 15.0, 0.0, 2.0, 0.0, 0.0, 2.0, 0.0, 1.0, 3.0, 1.0, 52.0, 2.0, 1.0, 1.0, 1.0, 6.0, 5.0, 1.0, 2.0, 1.0, 1.0, 3.0, 2.0, 0.0, 0.0, 3.0, 2.0, 2.0, 1.0, 9.0, 3.0, 1.0, 10.0, 1.0, 2.0, 6.0, 5.0, 1.0, 10.0, 8.0, 9.0, 2.0, 4.0, 2.0, 0.0, 0.0, 2.0, 2.0, 2.0, 1.0, 0.0, 1.0, 3.0, 2.0, 3.0, 2.0, 4.0, 3.0, 3.0, 0.0, 2.0, 2.0, 3.0, 15.0, 1.0, 3.0, 1.0, 1.0, 0.0, 0.0, 2.0, 17.0, 0.0, 0.0, 0.0, 3.0, 2.0, 2.0, 2.0, 4.0, 0.0, 0.0, 1.0, 1.0, 10.0, 2.0, 0.0, 0.0, 3.0, 1.0, 1.0, 0.0, 9.0, 7.0, 1.0, 1.0, 1.0, 0.0, 51.00000000000001, 0.0, 0.0, 2.0, 0.0, 2.0, 2.0, 2.0, 1.0, 1.0, 2.0, 1.0, 0.0, 0.0, 0.0, 0.0, 2.0, 1.0, 1.0, 1.0, 1.0, 6.0, 5.0, 2.0, 4.0, 1.0, 2.0, 2.0, 2.0, 2.0, 2.0, 1.0, 1.0, 2.0, 6.0, 9.0, 1.0, 1.0, 1.0, 2.0, 0.0, 2.0, 3.0, 4.0, 5.0, 1.0, 3.0, 2.0, 3.0, 2.0, 0.0, 0.0, 2.0, 1.0, 9.0, 0.0, 1.0, 0.0, 0.0, 1.0, 1.0, 1.0, 1.0, 1.0, 3.0, 1.0, 0.0, 4.0, 1.0, 1.0, 0.0, 0.0, 3.0, 7.0, 3.0, 0.0, 4.0, 3.0, 0.0, 3.0, 1.0, 6.0, 3.0, 19.0, 1.0, 1.0, 0.0, 2.0, 0.0, 0.0, 1.0, 3.0, 4.0, 3.0, 2.0, 4.0, 1.0, 2.0, 2.0, 2.0, 4.0, 0.0, 1.0, 2.0, 4.0, 2.0, 0.0, 1.0, 4.0, 0.0, 1.0, 1.0, 0.0, 3.0, 4.0, 1.0, 1.0, 1.0, 2.0, 0.0, 2.0, 3.0, 0.0, 2.0, 0.0, 0.0, 1.0, 0.0, 6.0, 2.0, 6.0, 3.0, 1.0, 2.0, 2.0, 1.0, 4.0, 3.0, 0.0, 1.0, 0.0, 1.0, 1.0, 3.0, 5.0, 2.0, 2.0, 10.0, 6.0, 3.0, 1.0, 2.0, 1.0, 5.0, 5.0, 5.0, 3.0, 2.0, 2.0, 2.0, 1.0, 13.0, 1.0, 1.0, 1.0, 2.0, 1.0, 0.0, 1.0, 1.0, 0.0, 2.0, 1.0, 28.0, 4.0, 4.0, 0.0, 1.0, 5.0, 1.0, 2.0, 1.0, 2.0, 6.0, 0.0, 2.0, 3.0, 4.0, 4.0, 2.0, 1.0, 0.0, 0.0, 0.0, 3.0, 1.0, 3.0, 2.0, 1.0, 2.0, 0.0, 0.0, 6.0, 2.0, 2.0, 50.0, 1.0, 2.0, 3.0, 1.0, 2.0, 1.0, 1.0, 1.0, 3.0, 1.0, 1.0, 4.0, 2.0, 0.0, 0.0, 4.0, 2.0, 0.0, 2.0, 14.0, 3.0, 3.0, 4.0, 1.0, 0.0, 1.0, 3.0, 0.0, 1.0, 2.0, 1.0, 3.0, 7.0, 2.0, 2.0, 1.0, 0.0, 3.0, 0.0, 0.0, 2.0, 2.0, 2.0, 0.0, 1.0, 1.0, 5.0, 0.0, 0.0, 2.0, 1.0, 1.0, 10.0, 1.0, 5.0, 0.0, 2.0, 2.0, 0.0, 2.0, 0.0, 2.0, 1.0, 0.0, 0.0, 4.0, 0.0, 1.0, 0.0, 0.0, 2.0, 4.0, 2.0, 0.0, 16.0, 19.0, 0.0, 5.0, 20.0, 4.0, 4.0, 7.0, 4.0, 2.0, 2.0, 3.0, 2.0, 0.0, 1.0, 1.0, 0.0, 2.0, 3.0, 2.0, 1.0, 1.0, 2.0, 0.0, 0.0, 0.0, 0.0, 1.0, 0.0, 1.0, 1.0, 2.0, 3.0, 2.0, 0.0, 0.0, 0.0, 1.0, 0.0, 1.0, 3.0, 2.0, 1.0, 1.0, 0.0, 1.0, 1.0, 2.0, 0.0, 21.000000000000004, 6.0, 4.0, 2.0, 1.0, 0.0, 0.0, 1.0, 6.0, 0.0, 1.0, 8.0, 1.0, 1.0, 0.0, 1.0, 3.0, 17.0, 2.0, 0.0, 4.0, 0.0, 0.0, 0.0, 0.0, 6.0, 5.0, 1.0, 0.0, 1.0, 0.0, 1.0, 2.0, 2.0, 1.0, 2.0, 4.0, 0.0, 2.0, 1.0, 4.0, 0.0, 2.0, 1.0, 3.0, 2.0, 1.0, 4.0, 2.0, 3.0, 2.0, 3.0, 0.0, 4.0, 4.0, 0.0, 1.0, 0.0, 3.0, 2.0, 2.0, 1.0, 2.0, 2.0, 6.0, 1.0, 2.0, 1.0, 1.0, 1.0, 12.0, 2.0, 8.0, 2.0, 2.0, 3.0, 1.0, 0.0, 1.0, 0.0, 1.0, 0.0, 1.0, 1.0, 1.0, 2.0, 5.0, 4.0, 0.0, 1.0, 0.0, 0.0, 0.0, 1.0, 0.0, 0.0, 5.0, 1.0, 9.0, 0.0, 3.0, 4.0, 2.0, 2.0, 9.0, 3.0, 4.0, 4.0, 2.0, 0.0, 2.0, 1.0, 2.0, 2.0, 5.0, 5.0, 3.0, 3.0, 2.0, 3.0, 3.0, 3.0, 3.0, 4.0, 1.0, 0.0, 0.0, 1.0, 2.0, 1.0, 2.0, 1.0, 18.0, 0.0, 1.0, 4.0, 4.0, 0.0, 1.0, 0.0, 9.0, 0.0, 3.0, 1.0, 0.0, 1.0, 5.0, 2.0, 1.0, 3.0, 13.0, 1.0, 3.0, 2.0, 1.0, 0.0, 0.0, 0.0, 1.0, 2.0, 1.0, 2.0, 1.0, 0.0, 1.0, 1.0, 0.0, 0.0, 0.0, 3.0, 4.0, 2.0, 3.0, 1.0, 15.0, 7.0, 1.0, 2.0, 2.0, 2.0, 1.0, 7.0, 2.0, 2.0, 1.0, 0.0, 3.0, 0.0, 1.0, 0.0, 1.0, 2.0, 2.0, 5.0, 0.0, 1.0, 1.0, 5.0, 5.0, 4.0, 4.0, 1.0, 1.0, 0.0, 1.0, 2.0, 4.0, 1.0, 3.0, 1.0, 1.0, 1.0, 0.0, 0.0, 0.0, 2.0, 1.0, 2.0, 22.0, 20.0, 1.0, 3.0, 6.0, 0.0, 0.0, 6.0, 1.0, 1.0, 2.0, 2.0, 0.0, 6.0, 2.0, 4.0, 2.0, 1.0, 2.0, 1.0, 0.0, 1.0, 5.0, 1.0, 3.0, 9.0, 34.0, 7.0, 4.0, 0.0, 0.0, 1.0, 1.0, 4.0, 0.0, 1.0, 2.0, 2.0, 1.0, 2.0, 0.0, 4.0, 1.0, 1.0, 8.0, 11.0, 0.0, 1.0, 1.0, 7.0, 4.0, 4.0, 1.0, 5.0, 0.0, 3.0, 0.0, 2.0, 9.0, 1.0, 3.0, 2.0, 0.0, 1.0, 1.0, 20.0, 14.0, 2.0, 0.0, 1.0, 2.0, 0.0, 0.0, 9.0, 6.0, 2.0, 2.0, 4.0, 1.0, 0.0, 1.0, 6.0, 2.0, 7.0, 9.0, 8.0, 2.0, 10.0, 7.0, 3.0, 4.0, 1.0, 1.0, 0.0, 1.0, 2.0, 5.0, 0.0, 13.0, 1.0, 1.0, 1.0, 2.0, 1.0, 1.0, 2.0, 1.0, 7.0, 1.0, 0.0, 0.0, 1.0, 4.0, 3.0, 0.0, 8.0, 12.0, 0.0, 0.0, 0.0, 3.0, 1.0, 2.0, 6.0, 2.0, 0.0, 1.0, 0.0, 1.0, 0.0, 0.0, 6.0, 1.0, 3.0, 1.0, 0.0, 2.0, 2.0, 13.0, 2.0, 3.0, 1.0, 0.0, 0.0, 3.0, 4.0, 4.0, 2.0, 4.0, 2.0, 6.0, 7.0, 7.0, 2.0, 2.0, 3.0, 5.0, 1.0, 1.0, 0.0, 1.0, 1.0, 1.0, 0.0, 0.0, 0.0, 7.0, 0.0, 1.0, 2.0, 2.0, 0.0, 7.0, 0.0, 3.0, 1.0, 3.0, 1.0, 1.0, 0.0, 2.0, 1.0, 0.0, 1.0, 1.0, 3.0, 4.0, 1.0, 4.0, 5.0, 7.0, 2.0, 8.0, 10.0, 7.0, 13.0, 13.0, 3.0, 0.0, 6.0, 2.0, 3.0, 2.0, 2.0, 2.0, 7.0, 7.0, 2.0, 5.0, 3.0, 9.0, 1.0, 1.0, 0.0, 2.0, 0.0, 0.0, 0.0, 0.0, 1.0, 1.0, 0.0, 1.0, 2.0, 2.0, 2.0, 8.0, 1.0, 1.0, 1.0, 2.0, 1.0, 1.0, 1.0, 0.0, 2.0, 2.0, 1.0, 1.0, 1.0, 0.0, 2.0, 12.0, 4.0, 18.0, 1.0, 0.0, 2.0, 1.0, 1.0, 1.0, 11.0, 7.0, 9.0, 3.0, 0.0, 4.0, 2.0, 0.0, 3.0, 3.0, 0.0, 3.0, 5.0, 0.0, 0.0, 11.0, 5.0, 2.0, 2.0, 5.0, 0.0, 2.0, 3.0, 0.0, 0.0, 2.0, 3.0, 3.0, 1.0, 1.0, 1.0, 0.0, 4.0, 1.0, 0.0, 0.0, 2.0, 3.0, 2.0, 4.0, 5.0, 4.0, 6.0, 7.0, 0.0, 0.0, 0.0, 2.0, 8.0, 3.0, 1.0, 3.0, 1.0, 0.0, 7.0, 5.0, 1.0, 5.0, 4.0, 5.0, 4.0, 2.0, 4.0, 0.0, 0.0, 4.0, 8.0, 1.0, 0.0, 1.0, 1.0, 9.0, 2.0, 0.0, 0.0, 1.0, 5.0, 4.0, 1.0, 10.0, 13.0, 2.0, 2.0, 1.0, 4.0, 3.0, 1.0, 2.0, 0.0, 1.0, 1.0, 5.0, 1.0, 38.0, 4.0, 0.0, 0.0, 0.0, 1.0, 0.0, 2.0, 11.0, 1.0, 23.0, 0.0, 1.0, 0.0, 1.0, 3.0, 2.0, 1.0, 6.0, 1.0, 2.0, 1.0, 1.0, 1.0, 1.0, 1.0, 0.0, 6.0, 1.0, 3.0, 1.0, 1.0, 1.0, 2.0, 3.0, 2.0, 5.0, 0.0, 0.0, 1.0, 0.0, 2.0, 3.0, 0.0, 0.0, 8.0, 0.0, 2.0, 1.0, 2.0, 2.0, 1.0, 1.0, 7.0, 1.0, 2.0, 1.0, 2.0, 11.0, 0.0, 11.0, 12.0, 0.0, 3.0, 1.0, 0.0, 1.0, 2.0, 2.0, 6.0, 3.0, 2.0, 1.0, 0.0, 0.0, 2.0, 1.0, 2.0, 2.0, 6.0, 7.0, 0.0, 0.0, 7.0, 9.0, 0.0, 2.0, 1.0, 3.0, 9.0, 1.0, 0.0, 19.0, 4.0, 4.0, 5.0, 7.0, 7.0, 2.0, 2.0, 2.0, 0.0, 0.0, 3.0, 4.0, 2.0, 12.0, 1.0, 1.0, 12.0, 5.0, 0.0, 14.0, 3.0, 2.0, 2.0, 3.0, 1.0, 0.0, 0.0, 3.0, 2.0, 0.0, 5.0, 1.0, 5.0, 0.0, 0.0, 0.0, 1.0, 2.0, 10.0, 0.0, 0.0, 1.0, 2.0, 2.0, 2.0, 2.0, 4.0, 1.0, 2.0, 1.0, 2.0, 2.0, 5.0, 1.0, 2.0, 0.0, 0.0, 8.0, 5.0, 0.0, 2.0, 4.0, 2.0, 1.0, 1.0, 0.0, 2.0, 1.0, 4.0, 2.0, 6.0, 1.0, 3.0, 6.0, 0.0, 2.0, 1.0, 2.0, 1.0, 9.0, 3.0, 16.0, 16.0, 10.0, 2.0, 5.0, 9.0, 3.0, 0.0, 2.0, 0.0, 0.0, 0.0, 2.0, 1.0, 6.0, 30.0, 1.0, 0.0, 0.0, 3.0, 5.0, 2.0, 15.0, 2.0, 1.0, 1.0, 2.0, 0.0, 0.0, 3.0, 1.0, 3.0, 2.0, 6.0, 21.000000000000004, 0.0, 2.0, 1.0, 1.0, 0.0, 0.0, 1.0, 2.0, 3.0, 2.0, 1.0, 3.0, 1.0, 2.0, 3.0, 0.0, 4.0, 0.0, 1.0, 1.0, 1.0, 0.0, 13.0, 4.0, 2.0, 1.0, 3.0, 0.0, 2.0, 1.0, 2.0, 2.0, 2.0, 11.0, 3.0, 5.0, 3.0, 4.0, 1.0, 0.0, 3.0, 2.0, 0.0, 0.0, 0.0, 29.0, 0.0, 2.0, 2.0, 1.0, 0.0, 0.0, 3.0, 65.0, 65.0, 0.0, 7.0, 1.0, 1.0, 4.0, 0.0, 2.0, 1.0, 1.0, 1.0, 0.0, 2.0, 1.0, 2.0, 1.0, 2.0, 21.000000000000004, 1.0, 2.0, 1.0, 7.0, 1.0, 1.0, 3.0, 2.0, 1.0, 0.0, 1.0, 2.0, 5.0, 4.0, 4.0, 20.0, 20.0, 0.0, 1.0, 0.0, 6.0, 0.0, 2.0, 2.0, 1.0, 1.0, 2.0, 0.0, 1.0, 0.0, 0.0, 0.0, 1.0, 1.0, 0.0, 1.0, 0.0, 2.0, 1.0, 0.0, 2.0, 7.0, 3.0, 1.0, 10.0, 2.0, 3.0, 23.0, 1.0, 1.0, 4.0, 0.0, 6.0, 2.0, 4.0, 3.0, 0.0, 1.0, 1.0, 0.0, 1.0, 2.0, 0.0, 1.0, 2.0, 1.0, 0.0, 0.0, 3.0, 1.0, 0.0, 0.0, 4.0, 2.0, 1.0, 0.0, 1.0, 6.0, 5.0, 0.0, 2.0, 0.0, 1.0, 4.0, 0.0, 1.0, 9.0, 0.0, 2.0, 4.0, 3.0, 3.0, 3.0, 0.0, 3.0, 4.0, 3.0, 0.0, 2.0, 3.0, 4.0, 1.0, 0.0, 1.0, 1.0, 2.0, 0.0, 3.0, 2.0, 3.0, 1.0, 1.0, 5.0, 0.0, 1.0, 6.0, 2.0, 0.0, 5.0, 0.0, 2.0, 0.0, 0.0, 2.0, 2.0, 1.0, 2.0, 2.0, 12.0, 0.0, 4.0, 1.0, 3.0, 1.0, 6.0, 5.0, 2.0, 1.0, 2.0, 0.0, 1.0, 2.0, 1.0, 13.0, 0.0, 1.0, 3.0, 3.0, 3.0, 3.0, 1.0, 7.0, 0.0, 7.0, 6.0, 4.0, 3.0, 0.0, 1.0, 0.0, 0.0, 0.0, 1.0, 1.0, 2.0, 2.0, 1.0, 2.0, 0.0, 9.0, 18.0, 2.0, 0.0, 0.0, 0.0, 10.0, 9.0, 1.0, 1.0, 1.0, 2.0, 2.0, 4.0, 1.0, 3.0, 2.0, 0.0, 0.0, 17.0, 0.0, 3.0, 3.0, 2.0, 5.0, 12.0, 4.0, 2.0, 1.0, 2.0, 2.0, 2.0, 2.0, 6.0, 0.0, 1.0, 0.0, 0.0, 0.0, 0.0, 1.0, 1.0, 1.0, 0.0, 9.0, 2.0, 0.0, 0.0, 1.0, 2.0, 0.0, 0.0, 0.0, 1.0, 8.0, 3.0, 1.0, 3.0, 2.0, 0.0, 2.0, 2.0, 4.0, 5.0, 12.0, 2.0, 3.0, 1.0, 2.0, 0.0, 2.0, 1.0, 0.0, 3.0, 1.0, 0.0, 4.0, 4.0, 1.0, 1.0, 0.0, 0.0, 2.0, 0.0, 0.0, 0.0, 0.0, 2.0, 14.0, 1.0, 2.0, 0.0, 0.0, 1.0, 1.0, 0.0, 1.0, 9.0, 2.0, 0.0, 3.0, 0.0, 1.0, 2.0, 2.0, 0.0, 0.0, 4.0, 2.0, 0.0, 1.0, 0.0, 6.0, 1.0, 12.0, 1.0, 2.0, 1.0, 5.0, 0.0, 0.0, 1.0, 1.0, 0.0, 1.0, 1.0, 1.0, 1.0, 1.0, 0.0, 1.0, 1.0, 0.0, 2.0, 0.0, 0.0, 2.0, 0.0, 1.0, 0.0, 0.0, 2.0, 22.0, 0.0, 1.0, 0.0, 2.0, 7.0, 2.0, 1.0, 7.0, 1.0, 2.0, 3.0, 5.0, 3.0, 1.0, 1.0, 0.0, 1.0, 3.0, 3.0, 2.0, 4.0, 10.0, 18.0, 13.0, 1.0, 0.0, 2.0, 3.0, 0.0, 0.0, 0.0, 1.0, 3.0, 0.0, 0.0, 6.0, 2.0, 0.0, 1.0, 2.0, 1.0, 3.0, 6.0, 2.0, 1.0, 0.0, 2.0, 4.0, 0.0, 1.0, 5.0, 0.0, 1.0, 0.0, 5.0, 4.0, 2.0, 3.0, 10.0, 2.0, 0.0, 3.0, 6.0, 0.0, 0.0, 1.0, 0.0, 1.0, 2.0, 1.0, 1.0, 0.0, 0.0, 1.0, 1.0, 0.0, 12.0, 0.0, 0.0, 1.0, 0.0, 1.0, 1.0, 1.0, 3.0, 2.0, 1.0, 5.0, 0.0, 5.0, 3.0, 2.0, 11.0, 1.0, 1.0, 1.0, 0.0, 0.0, 0.0, 0.0, 0.0, 1.0, 2.0, 3.0, 3.0, 2.0, 0.0, 5.0, 3.0, 1.0, 1.0, 1.0, 1.0, 1.0, 2.0, 3.0, 2.0, 21.000000000000004, 1.0, 1.0, 0.0, 0.0, 1.0, 2.0, 1.0, 1.0, 1.0, 3.0, 3.0, 8.0, 16.0, 1.0, 2.0, 8.0, 1.0, 0.0, 2.0, 0.0, 3.0, 1.0, 10.0, 2.0, 2.0, 1.0, 9.0, 0.0, 5.0, 2.0, 1.0, 0.0, 1.0, 4.0, 1.0, 1.0, 2.0, 3.0, 0.0, 0.0, 3.0, 2.0, 2.0, 7.0, 3.0, 7.0, 3.0, 3.0, 2.0, 5.0, 4.0, 0.0, 3.0, 0.0, 1.0, 2.0, 1.0, 9.0, 3.0, 11.0, 1.0, 1.0, 2.0, 1.0, 1.0, 4.0, 0.0, 0.0, 1.0, 6.0, 1.0, 1.0, 1.0, 0.0, 0.0, 3.0, 2.0, 1.0, 0.0, 2.0, 1.0, 9.0, 3.0, 1.0, 9.0, 1.0, 3.0, 3.0, 0.0, 0.0, 1.0, 2.0, 2.0, 3.0, 2.0, 0.0, 0.0, 0.0, 1.0, 27.0, 3.0, 1.0, 1.0, 1.0, 12.0, 3.0, 0.0, 1.0, 1.0, 2.0, 3.0, 1.0, 5.0, 1.0, 0.0, 0.0, 2.0, 1.0, 0.0, 1.0, 6.0, 0.0, 0.0, 6.0, 0.0, 2.0, 0.0, 2.0, 0.0, 4.0, 2.0, 2.0, 5.0, 2.0, 1.0, 1.0, 6.0, 0.0, 0.0, 0.0, 1.0, 0.0, 2.0, 1.0, 3.0, 5.0, 0.0, 0.0, 2.0, 2.0, 2.0, 4.0, 4.0, 1.0, 1.0, 3.0, 1.0, 0.0, 0.0, 0.0, 2.0, 5.0, 11.0, 7.0, 0.0, 2.0, 8.0, 3.0, 21.000000000000004, 11.0, 2.0, 11.0, 4.0, 2.0, 0.0, 0.0, 3.0, 1.0, 3.0, 1.0, 5.0, 1.0, 2.0, 4.0, 0.0, 0.0, 2.0, 1.0, 7.0, 4.0, 1.0, 5.0, 8.0, 0.0, 2.0, 1.0, 2.0, 2.0, 9.0, 7.0, 2.0, 4.0, 0.0, 2.0, 5.0, 4.0, 1.0, 1.0, 2.0, 2.0, 2.0, 1.0, 5.0, 3.0, 1.0, 0.0, 2.0, 3.0, 2.0, 4.0, 2.0, 0.0, 0.0, 0.0, 12.0, 2.0, 2.0, 1.0, 1.0, 1.0, 3.0, 3.0, 1.0, 1.0, 0.0, 0.0, 1.0, 1.0, 2.0, 3.0, 2.0, 3.0, 5.0, 7.0, 0.0, 5.0, 8.0, 2.0, 0.0, 6.0, 2.0, 2.0, 2.0, 0.0, 0.0, 3.0, 0.0, 1.0, 0.0, 3.0, 14.0, 4.0, 0.0, 0.0, 0.0, 2.0, 4.0, 12.0, 13.0, 3.0, 3.0, 8.0, 1.0, 2.0, 2.0, 3.0, 2.0, 3.0, 1.0, 1.0, 4.0, 2.0, 2.0, 2.0, 3.0, 2.0, 0.0, 1.0, 1.0, 2.0, 4.0, 0.0, 1.0, 0.0, 5.0, 2.0, 1.0, 3.0, 2.0, 0.0, 5.0, 0.0, 1.0, 1.0, 5.0, 4.0, 3.0, 1.0, 1.0, 1.0, 2.0, 16.0, 1.0, 1.0, 0.0, 3.0, 2.0, 2.0, 0.0, 3.0, 2.0, 2.0, 1.0, 9.0, 0.0, 0.0, 1.0, 1.0, 9.0, 2.0, 2.0, 0.0, 1.0, 1.0, 0.0, 0.0, 2.0, 4.0, 1.0, 1.0, 1.0, 1.0, 1.0, 0.0, 0.0, 2.0, 5.0, 0.0, 0.0, 0.0, 4.0, 0.0, 1.0, 0.0, 0.0, 0.0, 1.0, 0.0, 0.0, 0.0, 0.0, 0.0, 5.0, 2.0, 2.0, 3.0, 0.0, 2.0, 1.0, 1.0, 9.0, 3.0, 0.0, 1.0, 1.0, 0.0, 2.0, 3.0, 4.0, 1.0, 1.0, 0.0, 0.0, 0.0, 0.0, 2.0, 1.0, 1.0, 1.0, 8.0, 0.0, 2.0, 1.0, 1.0, 8.0, 4.0, 4.0, 1.0, 6.0, 6.0, 4.0, 1.0, 0.0, 1.0, 0.0, 5.0, 2.0, 2.0, 0.0, 9.0, 3.0, 2.0, 0.0, 10.0, 1.0, 7.0, 5.0, 2.0, 5.0, 7.0, 0.0, 2.0, 2.0, 0.0, 15.0, 40.0, 0.0, 3.0, 4.0, 4.0, 3.0, 1.0, 1.0, 1.0, 0.0, 0.0, 2.0, 0.0, 1.0, 2.0, 0.0, 3.0, 1.0, 0.0, 2.0, 2.0, 2.0, 3.0, 2.0, 0.0, 1.0, 2.0, 1.0, 7.0, 2.0, 0.0, 4.0, 2.0, 2.0, 1.0, 3.0, 2.0, 5.0, 5.0, 2.0, 2.0, 1.0, 0.0, 7.0, 5.0, 0.0, 1.0, 1.0, 2.0, 0.0, 0.0, 3.0, 1.0, 2.0, 1.0, 7.0, 2.0, 2.0, 4.0, 0.0, 4.0, 1.0, 2.0, 14.0, 4.0, 4.0, 1.0, 0.0, 0.0, 3.0, 2.0, 2.0, 2.0, 0.0, 2.0, 1.0, 0.0, 6.0, 3.0, 10.0, 0.0, 1.0, 17.0, 0.0, 2.0, 2.0, 0.0, 1.0, 1.0, 10.0, 1.0, 3.0, 1.0, 1.0, 11.0, 0.0, 1.0, 2.0, 2.0, 1.0, 1.0, 0.0, 1.0, 27.0, 23.0, 0.0, 3.0, 1.0, 1.0, 0.0, 0.0, 1.0, 1.0, 1.0, 2.0, 0.0, 0.0, 4.0, 0.0, 1.0, 0.0, 8.0, 1.0, 0.0, 0.0, 0.0, 1.0, 2.0, 1.0, 2.0, 16.0, 6.0, 1.0, 1.0, 2.0, 8.0, 9.0, 17.0, 8.0, 8.0, 0.0, 3.0, 2.0, 2.0, 16.0, 1.0, 1.0, 5.0, 6.0, 0.0, 5.0, 3.0, 0.0, 2.0, 3.0, 4.0, 2.0, 12.0, 5.0, 3.0, 1.0, 3.0, 1.0, 1.0, 1.0, 5.0, 5.0, 15.0, 1.0, 1.0, 1.0, 1.0, 1.0, 7.0, 3.0, 17.0, 3.0, 13.0, 1.0, 2.0, 3.0, 2.0, 4.0, 0.0, 1.0, 3.0, 1.0, 6.0, 24.0, 2.0, 0.0, 1.0, 4.0, 5.0, 7.0, 2.0, 0.0, 4.0, 2.0, 3.0, 4.0, 0.0, 2.0, 9.0, 3.0, 2.0, 0.0, 4.0, 2.0, 2.0, 5.0, 4.0, 0.0, 8.0, 11.0, 5.0, 1.0, 3.0, 4.0, 2.0, 3.0, 3.0, 2.0, 0.0, 0.0, 1.0, 0.0, 2.0, 3.0, 3.0, 3.0, 3.0, 0.0, 0.0, 2.0, 2.0, 3.0, 3.0, 3.0, 6.0, 1.0, 5.0, 6.0, 4.0, 1.0, 7.0, 7.0, 1.0, 3.0, 3.0, 1.0, 0.0, 1.0, 0.0, 0.0, 4.0, 1.0, 2.0, 1.0, 2.0, 1.0, 0.0, 3.0, 18.0, 1.0, 4.0, 0.0, 3.0, 29.0, 0.0, 0.0, 5.0, 2.0, 1.0, 1.0, 4.0, 25.0, 8.0, 2.0, 2.0, 1.0, 5.0, 6.0, 0.0, 2.0, 0.0, 5.0, 2.0, 1.0, 1.0, 0.0, 1.0, 6.0, 5.0, 0.0, 2.0, 6.0, 3.0, 6.0, 11.0, 1.0, 28.0, 3.0, 1.0, 0.0, 0.0, 1.0, 0.0, 9.0, 2.0, 2.0, 4.0, 0.0, 0.0, 0.0, 1.0, 1.0, 0.0, 0.0, 2.0, 0.0, 1.0, 0.0, 0.0, 1.0, 3.0, 2.0, 2.0, 0.0, 5.0, 3.0, 3.0, 3.0, 0.0, 1.0, 0.0, 0.0, 3.0, 2.0, 2.0, 4.0, 0.0, 4.0, 1.0, 1.0, 4.0, 0.0, 3.0, 0.0, 2.0, 2.0, 1.0, 1.0, 2.0, 3.0, 1.0, 0.0, 1.0, 0.0, 0.0, 4.0, 5.0, 7.0, 4.0, 2.0, 2.0, 1.0, 4.0, 3.0, 0.0, 0.0, 2.0, 1.0, 2.0, 0.0, 1.0, 3.0, 4.0, 1.0, 1.0, 4.0, 1.0, 20.0, 0.0, 0.0, 5.0, 4.0, 3.0, 1.0, 0.0, 12.0, 70.0, 71.0, 2.0, 1.0, 8.0, 0.0, 3.0, 2.0, 4.0, 0.0, 2.0, 3.0, 1.0, 1.0, 6.0, 6.0, 1.0, 1.0, 0.0, 0.0, 1.0, 1.0, 1.0, 1.0, 2.0, 20.0, 1.0, 3.0, 0.0, 0.0, 1.0, 9.0, 3.0, 2.0, 2.0, 0.0, 4.0, 2.0, 6.0, 0.0, 0.0, 1.0, 0.0, 1.0, 0.0, 0.0, 0.0, 2.0, 2.0, 0.0, 1.0, 0.0, 0.0, 1.0, 0.0, 0.0, 0.0, 9.0, 0.0, 0.0, 10.0, 0.0, 5.0, 31.0, 2.0, 1.0, 1.0, 2.0, 4.0, 33.0, 33.0, 33.0, 1.0, 0.0, 2.0, 0.0, 2.0, 1.0, 12.0, 13.0, 0.0, 2.0, 0.0, 1.0, 1.0, 0.0, 2.0, 1.0, 3.0, 1.0, 1.0, 0.0, 2.0, 1.0, 1.0, 1.0, 12.0, 1.0, 0.0, 2.0, 4.0, 2.0, 0.0, 3.0, 1.0, 0.0, 0.0, 1.0, 2.0, 4.0, 1.0, 2.0, 4.0, 24.0, 1.0, 0.0, 2.0, 1.0, 0.0, 0.0, 13.0, 1.0, 1.0, 1.0, 1.0, 1.0, 0.0, 0.0, 6.0, 9.0, 1.0, 1.0, 2.0, 1.0, 2.0, 6.0, 5.0, 21.000000000000004, 2.0, 1.0, 2.0, 0.0, 4.0, 0.0, 10.0, 0.0, 1.0, 6.0, 1.0, 3.0, 6.0, 27.0, 5.0, 4.0, 0.0, 4.0, 0.0, 4.0, 4.0, 31.0, 1.0, 3.0, 1.0, 0.0, 3.0, 3.0, 1.0, 2.0, 3.0, 0.0, 2.0, 3.0, 6.0, 0.0, 2.0, 2.0, 17.0, 9.0, 0.0, 0.0, 1.0, 3.0, 5.0, 0.0, 1.0, 4.0, 4.0, 4.0, 0.0, 1.0, 2.0, 4.0, 0.0, 5.0, 3.0, 3.0, 2.0, 1.0, 0.0, 3.0, 1.0, 13.0, 9.0, 4.0, 7.0, 4.0, 0.0, 0.0, 4.0, 1.0, 1.0, 2.0, 0.0, 5.0, 4.0, 1.0, 1.0, 26.0, 2.0, 1.0, 2.0, 1.0, 0.0, 2.0, 1.0, 2.0, 3.0, 4.0, 2.0, 1.0, 1.0, 3.0, 2.0, 2.0, 4.0, 4.0, 10.0, 17.0, 2.0, 1.0, 2.0, 2.0, 0.0, 1.0, 0.0, 0.0, 5.0, 1.0, 3.0, 1.0, 3.0, 6.0, 19.0, 3.0, 4.0, 1.0, 1.0, 2.0, 1.0, 1.0, 5.0, 3.0, 1.0, 2.0, 0.0, 1.0, 3.0, 0.0, 0.0, 0.0, 1.0, 24.0, 2.0, 1.0, 2.0, 3.0, 3.0, 1.0, 1.0, 23.0, 0.0, 6.0, 1.0, 0.0, 60.0, 2.0, 0.0, 29.0, 2.0, 3.0, 3.0, 1.0, 7.0, 0.0, 0.0, 3.0, 3.0, 2.0, 0.0, 3.0, 3.0, 3.0, 12.0, 15.0, 5.0, 0.0, 3.0, 2.0, 0.0, 2.0, 1.0, 5.0, 5.0, 4.0, 0.0, 5.0, 3.0, 5.0, 0.0, 2.0, 1.0, 1.0, 2.0, 11.0, 2.0, 2.0, 0.0, 3.0, 2.0, 2.0, 1.0, 1.0, 0.0, 3.0, 1.0, 13.0, 14.0, 0.0, 3.0, 1.0, 5.0, 7.0, 1.0, 1.0, 5.0, 0.0, 1.0, 2.0, 0.0, 9.0, 2.0, 2.0, 1.0, 0.0, 1.0, 0.0, 0.0, 0.0, 1.0, 3.0, 1.0, 2.0, 0.0, 2.0, 5.0, 1.0, 4.0, 0.0, 0.0, 0.0, 0.0, 17.0, 12.0, 1.0, 3.0, 0.0, 1.0, 1.0, 1.0, 0.0, 2.0, 0.0, 1.0, 1.0, 2.0, 0.0, 1.0, 6.0, 0.0, 2.0, 1.0, 2.0, 2.0, 3.0, 3.0, 4.0, 0.0, 0.0, 0.0, 0.0, 6.0, 1.0, 1.0, 1.0, 0.0, 7.0, 1.0, 1.0, 0.0, 3.0, 4.0, 2.0, 3.0, 3.0, 0.0, 0.0, 1.0, 3.0, 2.0, 4.0, 1.0, 0.0, 0.0, 1.0, 2.0, 2.0, 1.0, 1.0, 4.0, 1.0, 0.0, 14.0, 10.0, 0.0, 4.0, 3.0, 8.0, 2.0, 6.0, 12.0, 0.0, 0.0, 1.0, 1.0, 1.0, 2.0, 1.0, 1.0, 0.0, 1.0, 1.0, 1.0, 1.0, 0.0, 0.0, 0.0, 1.0, 2.0, 0.0, 4.0, 3.0, 0.0, 1.0, 1.0, 0.0, 0.0, 0.0, 1.0, 3.0, 2.0, 3.0, 3.0, 0.0, 11.0, 10.0, 8.0, 2.0, 1.0, 1.0, 1.0, 1.0, 4.0, 4.0, 1.0, 0.0, 1.0, 0.0, 0.0, 1.0, 0.0, 3.0, 1.0, 3.0, 0.0, 13.0, 18.0, 1.0, 3.0, 1.0, 6.0, 2.0, 6.0, 4.0, 3.0, 1.0, 2.0, 1.0, 2.0, 1.0, 21.000000000000004, 8.0, 7.0, 4.0, 6.0, 11.0, 2.0, 0.0, 3.0, 2.0, 2.0, 7.0, 2.0, 0.0, 1.0, 2.0, 0.0, 1.0, 1.0, 10.0, 7.0, 3.0, 0.0, 34.0, 2.0, 0.0, 0.0, 1.0, 6.0, 3.0, 3.0, 0.0, 0.0, 4.0, 3.0, 2.0, 1.0, 1.0, 2.0, 2.0, 1.0, 4.0, 2.0, 1.0, 1.0, 0.0, 1.0, 7.0, 0.0, 2.0, 1.0, 14.0, 14.0, 0.0, 9.0, 0.0, 2.0, 0.0, 3.0, 5.0, 11.0, 1.0, 2.0, 2.0, 4.0, 2.0, 3.0, 1.0, 1.0, 3.0, 14.0, 5.0, 3.0, 7.0, 1.0, 0.0, 0.0, 2.0, 2.0, 0.0, 1.0, 0.0, 0.0, 0.0, 0.0, 2.0, 3.0, 2.0, 1.0, 3.0, 1.0, 0.0, 1.0, 3.0, 3.0, 2.0, 3.0, 0.0, 2.0, 1.0, 7.0, 0.0, 1.0, 0.0, 1.0, 0.0, 1.0, 1.0, 0.0, 3.0, 0.0, 1.0, 0.0, 9.0, 1.0, 1.0, 1.0, 1.0, 3.0, 2.0, 4.0, 9.0, 1.0, 28.0, 1.0, 1.0, 0.0, 5.0, 1.0, 1.0, 8.0, 0.0, 0.0, 2.0, 2.0, 2.0, 3.0, 3.0, 6.0, 5.0, 1.0, 2.0, 3.0, 1.0, 1.0, 2.0, 4.0, 3.0, 4.0, 3.0, 5.0, 2.0, 0.0, 0.0, 1.0, 0.0, 0.0, 3.0, 15.0, 3.0, 0.0, 1.0, 2.0, 1.0, 4.0, 2.0, 3.0, 2.0, 2.0, 1.0, 1.0, 7.0, 5.0, 2.0, 1.0, 2.0, 3.0, 8.0, 4.0, 0.0, 2.0, 2.0, 11.0, 1.0, 0.0, 0.0, 0.0, 0.0, 1.0, 0.0, 1.0, 0.0, 3.0, 0.0, 0.0, 1.0, 0.0, 0.0, 0.0, 0.0, 0.0, 0.0, 1.0, 0.0, 3.0, 2.0, 3.0, 3.0, 1.0, 1.0, 4.0, 2.0, 1.0, 0.0, 7.0, 4.0, 0.0, 3.0, 0.0, 3.0, 3.0, 7.0, 1.0, 0.0, 0.0, 1.0, 0.0, 1.0, 1.0, 4.0, 1.0, 2.0, 1.0, 3.0, 2.0, 7.0, 2.0, 6.0, 2.0, 1.0, 4.0, 3.0, 3.0, 2.0, 1.0, 1.0, 3.0, 6.0, 2.0, 0.0, 1.0, 4.0, 9.0, 2.0, 1.0, 1.0, 1.0, 0.0, 2.0, 1.0, 1.0, 2.0, 0.0, 1.0, 0.0, 1.0, 3.0, 1.0, 2.0, 24.0, 25.0, 3.0, 1.0, 3.0, 3.0, 2.0, 1.0, 1.0, 5.0, 5.0, 5.0, 1.0, 1.0, 0.0, 4.0, 1.0, 9.0, 1.0, 2.0, 1.0, 1.0, 2.0, 4.0, 5.0, 0.0, 0.0, 0.0, 0.0, 1.0, 0.0, 0.0, 0.0, 3.0, 1.0, 1.0, 6.0, 2.0, 5.0, 2.0, 0.0, 1.0, 0.0, 2.0, 2.0, 1.0, 0.0, 2.0, 9.0, 8.0, 2.0, 3.0, 1.0, 5.0, 0.0, 0.0, 0.0, 0.0, 3.0, 0.0, 7.0, 5.0, 1.0, 1.0, 2.0, 7.0, 2.0, 5.0, 1.0, 3.0, 1.0, 2.0, 1.0, 1.0, 2.0, 2.0, 1.0, 31.0, 30.0, 32.0, 4.0, 1.0, 2.0, 5.0, 1.0, 3.0, 4.0, 4.0, 3.0, 16.0, 2.0, 2.0, 0.0, 4.0, 7.0, 3.0, 2.0, 2.0, 3.0, 1.0, 2.0, 1.0, 4.0, 4.0, 1.0, 14.0, 2.0, 1.0, 1.0, 0.0, 4.0, 2.0, 2.0, 2.0, 2.0, 3.0, 1.0, 1.0, 0.0, 7.0, 4.0, 0.0, 1.0, 4.0, 3.0, 2.0, 3.0, 0.0, 2.0, 6.0, 0.0, 1.0, 1.0, 2.0, 1.0, 1.0, 1.0, 1.0, 1.0, 1.0, 3.0, 1.0, 1.0, 1.0, 2.0, 2.0, 2.0, 1.0, 2.0, 2.0, 0.0, 0.0, 2.0, 0.0, 0.0, 0.0, 3.0, 4.0, 3.0, 7.0, 6.0, 3.0, 2.0, 0.0, 0.0, 0.0, 3.0, 6.0, 1.0, 0.0, 1.0, 3.0, 1.0, 6.0, 0.0, 1.0, 1.0, 2.0, 4.0, 2.0, 4.0, 0.0, 1.0, 1.0, 2.0, 2.0, 1.0, 2.0, 1.0, 1.0, 2.0, 2.0, 1.0, 2.0, 1.0, 2.0, 0.0, 2.0, 24.0, 15.0, 2.0, 0.0, 3.0, 1.0, 0.0, 2.0, 1.0, 30.0, 1.0, 3.0, 1.0, 3.0, 0.0, 1.0, 4.0, 2.0, 0.0, 3.0, 0.0, 1.0, 2.0, 4.0, 19.0, 0.0, 0.0, 18.0, 0.0, 3.0, 2.0, 1.0, 3.0, 8.0, 4.0, 5.0, 3.0, 13.0, 14.0, 2.0, 3.0, 4.0, 22.0, 3.0, 1.0, 2.0, 0.0, 0.0, 1.0, 0.0, 2.0, 0.0, 8.0, 2.0, 5.0, 0.0, 0.0, 0.0, 1.0, 1.0, 2.0, 15.0, 1.0, 2.0, 3.0, 3.0, 5.0, 4.0, 6.0, 5.0, 10.0, 1.0, 8.0, 6.0, 13.0, 1.0, 2.0, 1.0, 2.0, 0.0, 0.0, 1.0, 3.0, 2.0, 2.0, 3.0, 1.0, 2.0, 1.0, 1.0, 0.0, 2.0, 2.0, 2.0, 4.0, 7.0, 0.0, 2.0, 1.0, 1.0, 0.0, 0.0, 1.0, 3.0, 2.0, 5.0, 2.0, 9.0, 6.0, 4.0, 3.0, 0.0, 1.0, 4.0, 3.0, 2.0, 1.0, 1.0, 4.0, 3.0, 0.0, 8.0, 2.0, 1.0, 4.0, 2.0, 5.0, 0.0, 21.000000000000004, 2.0, 1.0, 5.0, 3.0, 2.0, 4.0, 3.0, 3.0, 4.0, 2.0, 9.0, 5.0, 3.0, 1.0, 5.0, 1.0, 17.0, 18.0, 4.0, 2.0, 2.0, 1.0, 0.0, 62.0, 17.0, 0.0, 11.0, 8.0, 1.0, 1.0, 7.0, 0.0, 11.0, 6.0, 0.0, 0.0, 1.0, 1.0, 16.0, 3.0, 0.0, 4.0, 0.0, 8.0, 0.0, 0.0, 3.0, 2.0, 0.0, 3.0, 2.0, 1.0, 3.0, 3.0, 0.0, 6.0, 0.0, 10.0, 21.000000000000004, 1.0, 2.0, 3.0, 3.0, 0.0, 1.0, 6.0, 2.0, 0.0, 0.0, 3.0, 1.0, 2.0, 4.0, 1.0, 15.0, 6.0, 3.0, 4.0, 7.0, 1.0, 2.0, 2.0, 0.0, 1.0, 1.0, 2.0, 0.0, 5.0, 5.0, 1.0, 2.0, 6.0, 4.0, 4.0, 1.0, 1.0, 0.0, 0.0, 1.0, 1.0, 3.0, 2.0, 1.0, 24.0, 2.0, 1.0, 1.0, 2.0, 9.0, 1.0, 3.0, 2.0, 0.0, 2.0, 2.0, 17.0, 2.0, 0.0, 2.0, 1.0, 1.0, 1.0, 2.0, 0.0, 1.0, 2.0, 17.0, 0.0, 3.0, 1.0, 8.0, 19.0, 1.0, 0.0, 0.0, 3.0, 2.0, 2.0, 1.0, 2.0, 1.0, 0.0, 4.0, 2.0, 3.0, 2.0, 2.0, 10.0, 1.0, 6.0, 8.0, 4.0, 2.0, 9.0, 2.0, 2.0, 1.0, 1.0, 2.0, 1.0, 1.0, 1.0, 0.0, 2.0, 2.0, 3.0, 3.0, 10.0, 3.0, 2.0, 4.0, 5.0, 5.0, 2.0, 1.0, 4.0, 4.0, 0.0, 24.0, 3.0, 5.0, 11.0, 30.0, 8.0, 4.0, 4.0, 1.0, 2.0, 1.0, 2.0, 3.0, 2.0, 2.0, 0.0, 0.0, 1.0, 2.0, 9.0, 9.0, 43.0, 6.0, 7.0, 3.0, 2.0, 1.0, 9.0, 0.0, 2.0, 5.0, 2.0, 3.0, 1.0, 5.0, 0.0, 2.0, 1.0, 1.0, 4.0, 1.0, 1.0, 3.0, 0.0, 0.0, 1.0, 2.0, 3.0, 3.0, 3.0, 4.0, 4.0, 0.0, 5.0, 5.0, 8.0, 1.0, 1.0, 1.0, 3.0, 1.0, 0.0, 1.0, 0.0, 1.0, 1.0, 3.0, 1.0, 0.0, 18.0, 44.0, 1.0, 0.0, 1.0, 2.0, 2.0, 2.0, 2.0, 2.0, 0.0, 0.0, 3.0, 2.0, 2.0, 1.0, 6.0, 1.0, 1.0, 0.0, 1.0, 11.0, 0.0, 1.0, 0.0, 0.0, 2.0, 1.0, 3.0, 4.0, 0.0, 0.0, 12.0, 25.0, 2.0, 3.0, 0.0, 0.0, 0.0, 0.0, 1.0, 2.0, 3.0, 3.0, 1.0, 2.0, 1.0, 3.0, 2.0, 5.0, 1.0, 3.0, 3.0, 0.0, 4.0, 3.0, 1.0, 1.0, 2.0, 0.0, 0.0, 0.0, 1.0, 1.0, 2.0, 2.0, 2.0, 1.0, 0.0, 0.0, 0.0, 3.0, 0.0, 0.0, 4.0, 2.0, 0.0, 0.0, 2.0, 6.0, 1.0, 1.0, 1.0, 2.0, 0.0, 15.0, 0.0, 1.0, 3.0, 0.0, 1.0, 0.0, 1.0, 1.0, 1.0, 0.0, 4.0, 2.0, 3.0, 0.0, 2.0, 1.0, 0.0, 2.0, 1.0, 0.0, 1.0, 2.0, 3.0, 1.0, 2.0, 1.0, 1.0, 3.0, 2.0, 0.0, 1.0, 0.0, 0.0, 1.0, 1.0, 0.0, 1.0, 0.0, 1.0, 1.0, 2.0, 12.0, 0.0, 0.0, 0.0, 1.0, 0.0, 4.0, 3.0, 7.0, 1.0, 2.0, 3.0, 2.0, 0.0, 2.0, 0.0, 0.0, 1.0, 2.0, 1.0, 3.0, 1.0, 74.0, 1.0, 2.0, 10.0, 0.0, 0.0, 1.0, 2.0, 0.0, 3.0, 3.0, 3.0, 1.0, 1.0, 2.0, 0.0, 0.0, 0.0, 5.0, 2.0, 1.0, 3.0, 2.0, 1.0, 0.0, 1.0, 2.0, 0.0, 0.0, 2.0, 0.0, 0.0, 3.0, 0.0, 0.0, 2.0, 1.0, 3.0, 4.0, 0.0, 1.0, 0.0, 2.0, 0.0, 0.0, 0.0, 39.0, 5.0, 2.0, 15.0, 1.0, 0.0, 1.0, 2.0, 0.0, 2.0, 2.0, 0.0, 1.0, 8.0, 7.0, 1.0, 4.0, 1.0, 2.0, 1.0, 0.0, 3.0, 2.0, 5.0, 1.0, 0.0, 7.0, 1.0, 3.0, 1.0, 11.0, 1.0, 0.0, 2.0, 1.0, 1.0, 1.0, 1.0, 2.0, 2.0, 1.0, 2.0, 1.0, 0.0, 1.0, 1.0, 1.0, 1.0, 2.0, 10.0, 0.0, 2.0, 0.0, 2.0, 1.0, 0.0, 0.0, 4.0, 1.0, 1.0, 0.0, 26.0, 0.0, 4.0, 4.0, 4.0, 5.0, 2.0, 4.0, 0.0, 1.0, 0.0, 0.0, 0.0, 3.0, 1.0, 1.0, 1.0, 2.0, 2.0, 1.0, 7.0, 7.0, 4.0, 4.0, 1.0, 3.0, 9.0, 4.0, 4.0, 3.0, 1.0, 2.0, 0.0, 0.0, 0.0, 1.0, 0.0, 3.0, 2.0, 0.0, 1.0, 0.0, 1.0, 1.0, 3.0, 2.0, 1.0, 1.0, 1.0, 0.0, 1.0, 1.0, 12.0, 1.0, 1.0, 1.0, 0.0, 2.0, 3.0, 2.0, 1.0, 5.0, 2.0, 4.0, 1.0, 0.0, 2.0, 1.0, 0.0, 2.0, 0.0, 2.0, 3.0, 2.0, 2.0, 3.0, 6.0, 1.0, 7.0, 1.0, 4.0, 7.0, 41.0, 1.0, 1.0, 1.0, 4.0, 2.0, 3.0, 4.0, 1.0, 6.0, 2.0, 11.0, 5.0, 4.0, 1.0, 2.0, 3.0, 0.0, 1.0, 53.0, 3.0, 0.0, 0.0, 4.0, 2.0, 3.0, 2.0, 0.0, 0.0, 4.0, 1.0, 0.0, 0.0, 0.0, 2.0, 1.0, 0.0, 0.0, 3.0, 1.0, 3.0, 2.0, 0.0, 12.0, 1.0, 3.0, 2.0, 0.0, 4.0, 8.0, 0.0, 0.0, 0.0, 0.0, 1.0, 0.0, 1.0, 4.0, 0.0, 5.0, 2.0, 0.0, 3.0, 2.0, 1.0, 1.0, 2.0, 8.0, 1.0, 0.0, 1.0, 1.0, 3.0, 1.0, 3.0, 2.0, 3.0, 2.0, 0.0, 2.0, 1.0, 2.0, 2.0, 2.0, 4.0, 5.0, 6.0, 0.0, 2.0, 0.0, 1.0, 1.0, 3.0, 1.0, 1.0, 0.0, 2.0, 0.0, 23.0, 3.0, 0.0, 1.0, 0.0, 1.0, 0.0, 0.0, 0.0, 3.0, 0.0, 3.0, 0.0, 11.0, 5.0, 1.0, 25.0, 1.0, 0.0, 0.0, 0.0, 6.0, 3.0, 3.0, 3.0, 3.0, 1.0, 3.0, 2.0, 0.0, 1.0, 1.0, 0.0, 1.0, 0.0, 1.0, 0.0, 0.0, 2.0, 1.0, 1.0, 0.0, 2.0, 2.0, 2.0, 5.0, 2.0, 0.0, 4.0, 0.0, 3.0, 0.0, 0.0, 3.0, 0.0, 0.0, 2.0, 2.0, 2.0, 1.0, 18.0, 6.0, 1.0, 2.0, 2.0, 3.0, 2.0, 2.0, 11.0, 1.0, 0.0, 0.0, 0.0, 2.0, 2.0, 2.0, 2.0, 0.0, 2.0, 1.0, 0.0, 13.0, 2.0, 0.0, 3.0, 1.0, 2.0, 0.0, 0.0, 4.0, 0.0, 11.0, 2.0, 1.0, 2.0, 0.0, 0.0, 3.0, 8.0, 1.0, 2.0, 2.0, 10.0, 0.0, 0.0, 2.0, 39.0, 3.0, 1.0, 0.0, 1.0, 0.0, 1.0, 0.0, 3.0, 0.0, 2.0, 2.0, 1.0, 1.0, 0.0, 1.0, 1.0, 1.0, 3.0, 1.0, 2.0, 1.0, 0.0, 0.0, 8.0, 0.0, 1.0, 1.0, 1.0, 2.0, 1.0, 1.0, 2.0, 3.0, 0.0, 0.0, 1.0, 1.0, 0.0, 1.0, 1.0, 1.0, 1.0, 1.0, 0.0, 8.0, 9.0, 1.0, 7.0, 8.0, 3.0, 3.0, 3.0, 1.0, 1.0, 1.0, 1.0, 5.0, 4.0, 0.0, 4.0, 26.0, 9.0, 2.0, 1.0, 2.0, 9.0, 5.0, 24.0, 0.0, 10.0, 15.0, 0.0, 0.0, 4.0, 4.0, 10.0, 7.0, 1.0, 1.0, 1.0, 2.0, 1.0, 59.0, 12.0, 1.0, 9.0, 2.0, 4.0, 4.0, 3.0, 0.0, 4.0, 1.0, 5.0, 7.0, 6.0, 6.0, 1.0, 3.0, 2.0, 1.0, 3.0, 1.0, 0.0, 1.0, 3.0, 1.0, 2.0, 2.0, 1.0, 2.0, 9.0, 1.0, 1.0, 2.0, 0.0, 3.0, 2.0, 1.0, 0.0, 1.0, 2.0, 9.0, 1.0, 0.0, 7.0, 0.0, 1.0, 1.0, 0.0, 0.0, 1.0, 10.0, 18.0, 21.000000000000004, 3.0, 1.0, 11.0, 2.0, 1.0, 3.0, 1.0, 0.0, 0.0, 5.0, 4.0, 3.0, 5.0, 0.0, 5.0, 16.0, 2.0, 2.0, 0.0, 0.0, 2.0, 5.0, 0.0, 1.0, 0.0, 11.0, 0.0, 0.0, 2.0, 0.0, 3.0, 2.0, 0.0, 13.0, 2.0, 2.0, 1.0, 2.0, 2.0, 2.0, 0.0, 0.0, 3.0, 3.0, 2.0, 5.0, 3.0, 1.0, 1.0, 2.0, 4.0, 4.0, 1.0, 2.0, 1.0, 7.0, 3.0, 4.0, 6.0, 5.0, 7.0, 6.0, 1.0, 3.0, 1.0, 4.0, 7.0, 3.0, 4.0, 4.0, 7.0, 5.0, 1.0, 2.0, 1.0, 1.0, 4.0, 2.0, 3.0, 2.0, 0.0, 1.0, 2.0, 1.0, 2.0, 1.0, 1.0, 6.0, 3.0, 2.0, 0.0, 0.0, 1.0, 1.0, 2.0, 4.0, 2.0, 1.0, 4.0, 3.0, 10.0, 9.0, 0.0, 8.0, 2.0, 3.0, 7.0, 0.0, 0.0, 1.0, 4.0, 3.0, 1.0, 3.0, 44.0, 0.0, 1.0, 2.0, 1.0, 1.0, 11.0, 2.0, 3.0, 4.0, 2.0, 31.0, 1.0, 8.0, 1.0, 4.0, 4.0, 3.0, 0.0, 0.0, 18.0, 2.0, 1.0, 2.0, 2.0, 80.0, 22.0, 2.0, 1.0, 19.0, 2.0, 2.0, 3.0, 1.0, 7.0, 3.0, 2.0, 2.0, 4.0, 48.0, 1.0, 4.0, 5.0, 19.0, 1.0, 3.0, 27.0, 4.0, 0.0, 3.0, 74.0, 1.0, 2.0, 1.0, 1.0, 2.0, 2.0, 1.0, 1.0, 0.0, 1.0, 1.0, 1.0, 3.0, 1.0, 3.0, 23.0, 2.0, 23.0, 0.0, 12.0, 3.0, 46.0, 12.0, 6.0, 29.0, 2.0, 4.0, 1.0, 0.0, 2.0, 1.0, 1.0, 1.0, 1.0, 3.0, 0.0, 3.0, 1.0, 2.0, 16.0, 2.0, 3.0, 3.0, 4.0, 2.0, 2.0, 1.0, 0.0, 6.0, 107.0, 1.0, 0.0, 3.0, 1.0, 3.0, 3.0, 1.0, 4.0, 4.0, 6.0, 3.0, 5.0, 1.0, 2.0, 16.0, 3.0, 3.0, 1.0, 34.0, 6.0, 6.0, 34.0, 2.0, 3.0, 4.0, 13.0, 13.0, 6.0, 8.0, 5.0, 0.0, 0.0, 1.0, 2.0, 2.0, 2.0, 7.0, 22.0, 1.0, 9.0, 1.0, 7.0, 5.0, 3.0, 1.0, 2.0, 3.0, 3.0, 1.0, 2.0, 2.0, 1.0, 6.0, 2.0, 2.0, 1.0, 2.0, 0.0, 0.0, 2.0, 4.0, 4.0, 2.0, 1.0, 3.0, 9.0, 0.0, 1.0, 3.0, 7.0, 10.0, 1.0, 3.0, 14.0, 4.0, 1.0, 1.0, 2.0, 4.0, 2.0, 2.0, 0.0, 0.0, 1.0, 1.0, 5.0, 0.0, 1.0, 0.0, 1.0, 4.0, 4.0, 2.0, 0.0, 0.0, 1.0, 2.0, 3.0, 3.0, 1.0, 4.0, 2.0, 3.0, 0.0, 0.0, 2.0, 1.0, 2.0, 0.0, 0.0, 1.0, 2.0, 36.0, 0.0, 0.0, 2.0, 1.0, 1.0, 1.0, 4.0, 0.0, 1.0, 2.0, 1.0, 39.0, 4.0, 2.0, 1.0, 3.0, 0.0, 0.0, 1.0, 2.0, 3.0, 18.0, 7.0, 3.0, 0.0, 2.0, 1.0, 2.0, 3.0, 2.0, 0.0, 1.0, 1.0, 0.0, 2.0, 2.0, 9.0, 3.0, 3.0, 2.0, 0.0, 1.0, 0.0, 1.0, 2.0, 4.0, 3.0, 4.0, 3.0, 4.0, 3.0, 3.0, 18.0, 5.0, 1.0, 3.0, 2.0, 0.0, 6.0, 0.0, 6.0, 8.0, 0.0, 6.0, 1.0, 1.0, 4.0, 14.0, 13.0, 3.0, 1.0, 1.0, 2.0, 1.0, 1.0, 2.0, 0.0, 2.0, 2.0, 4.0, 3.0, 9.0, 0.0, 1.0, 3.0, 2.0, 1.0, 0.0, 2.0, 6.0, 0.0, 10.0, 1.0, 3.0, 1.0, 1.0, 0.0, 2.0, 8.0, 0.0, 3.0, 1.0, 1.0, 8.0, 0.0, 2.0, 1.0, 5.0, 2.0, 2.0, 1.0, 2.0, 6.0, 1.0, 0.0, 0.0, 2.0, 1.0, 6.0, 0.0, 0.0, 1.0, 0.0, 2.0, 1.0, 0.0, 0.0, 2.0, 1.0, 1.0, 0.0, 2.0, 2.0, 2.0, 1.0, 2.0, 1.0, 1.0, 6.0, 1.0, 2.0, 2.0, 4.0, 1.0, 3.0, 8.0, 2.0, 1.0, 5.0, 1.0, 1.0, 0.0, 4.0, 2.0, 4.0, 3.0, 4.0, 5.0, 17.0, 3.0, 2.0, 4.0, 0.0, 0.0, 1.0, 3.0, 1.0, 0.0, 0.0, 3.0, 1.0, 0.0, 0.0, 1.0, 2.0, 1.0, 0.0, 0.0, 1.0, 7.0, 32.0, 2.0, 3.0, 2.0, 5.0, 16.0, 4.0, 2.0, 2.0, 11.0, 5.0, 0.0, 1.0, 5.0, 2.0, 2.0, 1.0, 2.0, 1.0, 3.0, 19.0, 0.0, 10.0, 1.0, 1.0, 3.0, 5.0, 4.0, 3.0, 4.0, 4.0, 5.0, 0.0, 1.0, 0.0, 0.0, 0.0, 0.0, 3.0, 1.0, 0.0, 1.0, 1.0, 4.0, 2.0, 1.0, 2.0, 0.0, 0.0, 1.0, 1.0, 1.0, 0.0, 0.0, 0.0, 0.0, 2.0, 11.0, 0.0, 0.0, 0.0, 4.0, 3.0, 3.0, 1.0, 1.0, 1.0, 0.0, 0.0, 1.0, 1.0, 0.0, 1.0, 0.0, 3.0, 0.0, 2.0, 0.0, 0.0, 1.0, 2.0, 8.0, 0.0, 1.0, 4.0, 2.0, 1.0, 0.0, 0.0, 3.0, 8.0, 1.0, 3.0, 0.0, 3.0, 1.0, 1.0, 0.0, 0.0, 0.0, 3.0, 1.0, 3.0, 0.0, 2.0, 2.0, 2.0, 4.0, 1.0, 2.0, 0.0, 14.0, 2.0, 2.0, 1.0, 1.0, 6.0, 1.0, 2.0, 2.0, 28.0, 2.0, 0.0, 1.0, 3.0, 0.0, 2.0, 4.0, 2.0, 1.0, 1.0, 2.0, 2.0, 5.0, 0.0, 5.0, 2.0, 1.0, 17.0, 2.0, 40.0, 0.0, 16.0, 1.0, 0.0, 9.0, 1.0, 4.0, 0.0, 2.0, 1.0, 7.0, 18.0, 0.0, 0.0, 0.0, 1.0, 1.0, 2.0, 2.0, 2.0, 11.0, 22.0, 0.0, 1.0, 1.0, 6.0, 2.0, 5.0, 7.0, 2.0, 2.0, 2.0, 0.0, 4.0, 2.0, 0.0, 2.0, 0.0, 0.0, 2.0, 0.0, 3.0, 0.0, 2.0, 0.0, 0.0, 0.0, 1.0, 0.0, 24.0, 3.0, 0.0, 0.0, 1.0, 1.0, 3.0, 0.0, 3.0, 0.0, 1.0, 0.0, 1.0, 0.0, 0.0, 1.0, 1.0, 8.0, 1.0, 1.0, 1.0, 3.0, 0.0, 0.0, 0.0, 2.0, 3.0, 1.0, 0.0, 2.0, 2.0, 1.0, 1.0, 6.0, 1.0, 16.0, 1.0, 4.0, 3.0, 2.0, 0.0, 1.0, 4.0, 2.0, 1.0, 1.0, 1.0, 2.0, 1.0, 6.0, 6.0, 4.0, 10.0, 1.0, 0.0, 0.0, 0.0, 0.0, 0.0, 0.0, 1.0, 1.0, 2.0, 1.0, 2.0, 2.0, 1.0, 0.0, 14.0, 12.0, 3.0, 0.0, 0.0, 0.0, 0.0, 30.0, 14.0, 1.0, 1.0, 1.0, 0.0, 0.0, 0.0, 0.0, 1.0, 0.0, 29.0, 20.0, 0.0, 1.0, 1.0, 0.0, 1.0, 1.0, 0.0, 2.0, 1.0, 0.0, 0.0, 1.0, 0.0, 0.0, 0.0, 0.0, 0.0, 0.0, 2.0, 8.0, 1.0, 3.0, 3.0, 1.0, 1.0, 4.0, 13.0, 0.0, 1.0, 0.0, 1.0, 2.0, 1.0, 1.0, 8.0, 2.0, 3.0, 0.0, 0.0, 1.0, 1.0, 3.0, 0.0, 0.0, 1.0, 1.0, 0.0, 0.0, 2.0, 1.0, 1.0, 1.0, 0.0, 2.0, 1.0, 0.0, 2.0, 2.0, 4.0, 0.0, 1.0, 4.0, 1.0, 1.0, 4.0, 16.0, 14.0, 0.0, 7.0, 3.0, 1.0, 4.0, 0.0, 1.0, 2.0, 0.0, 0.0, 1.0, 1.0, 0.0, 0.0, 0.0, 0.0, 0.0, 0.0, 0.0, 1.0, 1.0, 2.0, 5.0, 5.0, 0.0, 3.0, 3.0, 1.0, 32.0, 0.0, 2.0, 2.0, 11.0, 0.0, 7.0, 1.0, 4.0, 5.0, 1.0, 2.0, 1.0, 2.0, 3.0, 8.0, 4.0, 2.0, 1.0, 0.0, 2.0, 1.0, 1.0, 0.0, 3.0, 12.0, 2.0, 0.0, 1.0, 15.0, 1.0, 6.0, 2.0, 0.0, 0.0, 12.0, 1.0, 3.0, 5.0, 19.0, 1.0, 1.0, 6.0, 2.0, 1.0, 2.0, 2.0, 6.0, 1.0, 0.0, 2.0, 2.0, 5.0, 3.0, 0.0, 2.0, 12.0, 1.0, 1.0, 6.0, 3.0, 3.0, 3.0, 2.0, 1.0, 0.0, 4.0, 0.0, 1.0, 1.0, 2.0, 1.0, 2.0, 0.0, 0.0, 1.0, 3.0, 1.0, 2.0, 1.0, 0.0, 23.0, 4.0, 1.0, 10.0, 0.0, 1.0, 2.0, 0.0, 2.0, 2.0, 2.0, 0.0, 2.0, 2.0, 0.0, 0.0, 0.0, 1.0, 0.0, 0.0, 4.0, 1.0, 0.0, 2.0, 4.0, 2.0, 10.0, 1.0, 2.0, 4.0, 1.0, 1.0, 0.0, 9.0, 0.0, 0.0, 3.0, 3.0, 3.0, 2.0, 1.0, 1.0, 2.0, 2.0, 0.0, 1.0, 1.0, 2.0, 11.0, 4.0, 4.0, 3.0, 1.0, 0.0, 3.0, 1.0, 0.0, 1.0, 3.0, 1.0, 1.0, 0.0, 0.0, 0.0, 0.0, 0.0, 2.0, 1.0, 0.0, 9.0, 8.0, 0.0, 1.0, 1.0, 0.0, 0.0, 0.0, 0.0, 1.0, 0.0, 0.0, 5.0, 4.0, 0.0, 1.0, 1.0, 1.0, 0.0, 0.0, 0.0, 0.0, 0.0, 0.0, 0.0, 2.0, 0.0, 0.0, 1.0, 1.0, 0.0, 1.0, 0.0, 5.0, 0.0, 1.0, 0.0, 13.0, 0.0, 3.0, 0.0, 0.0, 2.0, 0.0, 3.0, 2.0, 2.0, 1.0, 1.0, 0.0, 0.0, 1.0, 0.0, 0.0, 1.0, 1.0, 0.0, 1.0, 13.0, 4.0, 0.0, 0.0, 1.0, 0.0, 1.0, 0.0, 13.0, 3.0, 0.0, 5.0, 1.0, 1.0, 0.0, 0.0, 2.0, 0.0, 15.0, 4.0, 0.0, 1.0, 1.0, 0.0, 1.0, 2.0, 0.0, 1.0, 1.0, 1.0, 3.0, 0.0, 2.0, 1.0, 1.0, 10.0, 0.0, 1.0, 2.0, 0.0, 0.0, 3.0, 1.0, 4.0, 0.0, 0.0, 2.0, 1.0, 6.0, 1.0, 2.0, 2.0, 0.0, 0.0, 1.0, 0.0, 1.0, 2.0, 0.0, 2.0, 5.0, 2.0, 0.0, 0.0, 2.0, 5.0, 3.0, 3.0, 5.0, 1.0, 15.0, 0.0, 1.0, 2.0, 4.0, 4.0, 3.0, 1.0, 1.0, 1.0, 3.0, 1.0, 4.0, 0.0, 4.0, 1.0, 2.0, 1.0, 1.0, 1.0, 1.0, 1.0, 1.0, 3.0, 2.0, 1.0, 3.0, 3.0, 1.0, 2.0, 3.0, 0.0, 5.0, 2.0, 8.0, 2.0, 0.0, 0.0, 0.0, 1.0, 1.0, 1.0, 11.0, 0.0, 3.0, 0.0, 4.0, 4.0, 6.0, 4.0, 2.0, 1.0, 8.0, 2.0, 3.0, 2.0, 5.0, 1.0, 3.0, 7.0, 2.0, 1.0, 0.0, 2.0, 3.0, 3.0, 2.0, 2.0, 9.0, 0.0, 1.0, 4.0, 0.0, 3.0, 4.0, 4.0, 0.0, 5.0, 2.0, 1.0, 0.0, 1.0, 9.0, 4.0, 3.0, 3.0, 1.0, 9.0, 2.0, 0.0, 2.0, 0.0, 4.0, 0.0, 0.0, 3.0, 0.0, 4.0, 2.0, 1.0, 0.0, 5.0, 3.0, 1.0, 2.0, 6.0, 5.0, 3.0, 5.0, 4.0, 2.0, 2.0, 4.0, 1.0, 2.0, 2.0, 2.0, 1.0, 4.0, 6.0, 5.0, 1.0, 1.0, 7.0, 49.0, 0.0, 3.0, 3.0, 0.0, 1.0, 2.0, 3.0, 0.0, 3.0, 2.0, 3.0, 2.0, 1.0, 5.0, 0.0, 3.0, 2.0, 2.0, 8.0, 8.0, 5.0, 11.0, 0.0, 1.0, 5.0, 4.0, 2.0, 4.0, 10.0, 4.0, 1.0, 8.0, 16.0, 2.0, 1.0, 2.0, 2.0, 2.0, 4.0, 3.0, 1.0, 5.0, 1.0, 1.0, 4.0, 3.0, 5.0, 3.0, 1.0, 1.0, 1.0, 21.000000000000004, 21.000000000000004, 2.0, 2.0, 2.0, 13.0, 1.0, 2.0, 3.0, 16.0, 1.0, 0.0, 0.0, 6.0, 3.0, 3.0, 4.0, 5.0, 5.0, 2.0, 3.0, 2.0, 3.0, 3.0, 1.0, 0.0, 7.0, 1.0, 0.0, 8.0, 1.0, 15.0, 3.0, 2.0, 2.0, 0.0, 5.0, 1.0, 0.0, 4.0, 1.0, 6.0, 3.0, 6.0, 2.0, 2.0, 36.0, 0.0, 1.0, 1.0, 5.0, 3.0, 2.0, 5.0, 5.0, 5.0, 0.0, 3.0, 10.0, 3.0, 2.0, 2.0, 1.0, 1.0, 2.0, 5.0, 2.0, 3.0, 5.0, 4.0, 3.0, 9.0, 10.0, 2.0, 2.0, 2.0, 3.0, 2.0, 5.0, 1.0, 33.0, 10.0, 2.0, 2.0, 0.0, 1.0, 2.0, 1.0, 0.0, 0.0, 0.0, 2.0, 1.0, 2.0, 1.0, 3.0, 1.0, 2.0, 6.0, 1.0, 5.0, 5.0, 4.0, 3.0, 1.0, 5.0, 0.0, 5.0, 4.0, 0.0, 2.0, 15.0, 1.0, 0.0, 3.0, 2.0, 0.0, 1.0, 0.0, 3.0, 0.0, 7.0, 15.0, 1.0, 0.0, 14.0, 0.0, 7.0, 0.0, 3.0, 0.0, 3.0, 25.0, 2.0, 3.0, 3.0, 3.0, 1.0, 1.0, 3.0, 2.0, 1.0, 1.0, 2.0, 2.0, 0.0, 2.0, 2.0, 2.0, 10.0, 1.0, 2.0, 2.0, 0.0, 3.0, 4.0, 8.0, 1.0, 1.0, 1.0, 3.0, 8.0, 2.0, 5.0, 3.0, 2.0, 5.0, 0.0, 5.0, 2.0, 7.0, 1.0, 0.0, 0.0, 5.0, 2.0, 3.0, 2.0, 2.0, 0.0, 0.0, 1.0, 0.0, 0.0, 3.0, 4.0, 0.0, 2.0, 0.0, 1.0, 1.0, 5.0, 38.0, 1.0, 0.0, 0.0, 1.0, 1.0, 0.0, 2.0, 0.0, 7.0, 2.0, 0.0, 0.0, 2.0, 0.0, 4.0, 3.0, 2.0, 2.0, 2.0, 2.0, 0.0, 2.0, 3.0, 4.0, 10.0, 3.0, 1.0, 0.0, 70.0, 2.0, 2.0, 0.0, 0.0, 11.0, 1.0, 1.0, 0.0, 1.0, 2.0, 1.0, 10.0, 9.0, 6.0, 5.0, 5.0, 5.0, 3.0, 2.0, 2.0, 7.0, 1.0, 0.0, 1.0, 7.0, 12.0, 3.0, 5.0, 6.0, 1.0, 3.0, 1.0, 4.0, 3.0, 3.0, 3.0, 2.0, 1.0, 0.0, 1.0, 5.0, 2.0, 2.0, 2.0, 0.0, 1.0, 4.0, 5.0, 2.0, 3.0, 6.0, 3.0, 2.0, 2.0, 18.0, 2.0, 3.0, 2.0, 1.0, 1.0, 4.0, 3.0, 1.0, 6.0, 1.0, 14.0, 1.0, 2.0, 1.0, 2.0, 0.0, 1.0, 1.0, 5.0, 1.0, 2.0, 1.0, 1.0, 5.0, 13.0, 2.0, 1.0, 1.0, 0.0, 3.0, 0.0, 0.0, 2.0, 1.0, 3.0, 0.0, 0.0, 2.0, 0.0, 1.0, 1.0, 1.0, 0.0, 0.0, 0.0, 1.0, 9.0, 1.0, 9.0, 0.0, 6.0, 1.0, 4.0, 1.0, 2.0, 5.0, 0.0, 0.0, 3.0, 10.0, 10.0, 2.0, 3.0, 1.0, 1.0, 1.0, 1.0, 2.0, 0.0, 0.0, 0.0, 3.0, 1.0, 1.0, 0.0, 1.0, 1.0, 3.0, 1.0, 1.0, 1.0, 1.0, 2.0, 0.0, 0.0, 3.0, 4.0, 2.0, 0.0, 0.0, 0.0, 0.0, 3.0, 3.0, 3.0, 2.0, 1.0, 4.0, 0.0, 2.0, 1.0, 1.0, 11.0, 5.0, 2.0, 2.0, 0.0, 1.0, 1.0, 31.0, 17.0, 7.0, 0.0, 2.0, 4.0, 4.0, 4.0, 4.0, 2.0, 7.0, 1.0, 1.0, 2.0, 3.0, 0.0, 1.0, 0.0, 1.0, 0.0, 0.0, 1.0, 4.0, 2.0, 1.0, 1.0, 1.0, 3.0, 4.0, 6.0, 2.0, 6.0, 1.0, 2.0, 16.0, 0.0, 1.0, 2.0, 1.0, 1.0, 0.0, 1.0, 0.0, 4.0, 2.0, 4.0, 7.0, 0.0, 14.0, 8.0, 3.0, 1.0, 1.0, 2.0, 2.0, 5.0, 3.0, 2.0, 3.0, 0.0, 2.0, 4.0, 2.0, 7.0, 3.0, 1.0, 0.0, 1.0, 14.0, 20.0, 0.0, 0.0, 1.0, 5.0, 5.0, 3.0, 24.0, 25.0, 0.0, 2.0, 1.0, 4.0, 1.0, 3.0, 2.0, 1.0, 1.0, 3.0, 4.0, 0.0, 0.0, 1.0, 4.0, 2.0, 2.0, 3.0, 4.0, 0.0, 0.0, 3.0, 2.0, 4.0, 2.0, 1.0, 5.0, 3.0, 0.0, 48.0, 49.0, 3.0, 2.0, 0.0, 1.0, 0.0, 7.0, 1.0, 4.0, 2.0, 1.0, 2.0, 2.0, 2.0, 10.0, 2.0, 0.0, 0.0, 0.0, 0.0, 1.0, 5.0, 3.0, 1.0, 7.0, 2.0, 0.0, 1.0, 1.0, 0.0, 1.0, 4.0, 1.0, 5.0, 1.0, 4.0, 1.0, 0.0, 4.0, 4.0, 1.0, 5.0, 9.0, 3.0, 1.0, 1.0, 1.0, 1.0, 2.0, 1.0, 1.0, 1.0, 2.0, 1.0, 1.0, 1.0, 0.0, 1.0, 1.0, 0.0, 4.0, 1.0, 3.0, 3.0, 0.0, 0.0, 4.0, 5.0, 2.0, 4.0, 7.0, 5.0, 2.0, 2.0, 3.0, 0.0, 6.0, 0.0, 4.0, 1.0, 1.0, 0.0, 1.0, 0.0, 11.0, 3.0, 2.0, 0.0, 1.0, 1.0, 0.0, 1.0, 3.0, 3.0, 7.0, 3.0, 1.0, 1.0, 1.0, 1.0, 2.0, 1.0, 4.0, 1.0, 5.0, 1.0, 11.0, 4.0, 9.0, 2.0, 3.0, 2.0, 0.0, 2.0, 2.0, 8.0, 0.0, 15.0, 10.0, 23.0, 1.0, 1.0, 3.0, 6.0, 1.0, 0.0, 2.0, 0.0, 3.0, 1.0, 1.0, 0.0, 1.0, 3.0, 2.0, 78.99999999999999, 0.0, 1.0, 7.0, 7.0, 2.0, 2.0, 0.0, 0.0, 0.0, 0.0, 2.0, 0.0, 0.0, 0.0, 1.0, 0.0, 0.0, 0.0, 2.0, 0.0, 0.0, 0.0, 0.0, 0.0, 1.0, 0.0, 0.0, 0.0, 1.0, 0.0, 1.0, 19.0, 2.0, 0.0, 0.0, 7.0, 7.0, 0.0, 0.0, 1.0, 0.0, 1.0, 15.0, 0.0, 1.0, 1.0, 1.0, 0.0, 2.0, 0.0, 0.0, 2.0, 2.0, 2.0, 0.0, 0.0, 2.0, 3.0, 1.0, 1.0, 3.0, 0.0, 2.0, 3.0, 1.0, 3.0, 2.0, 0.0, 2.0, 2.0, 0.0, 2.0, 0.0, 2.0, 0.0, 1.0, 1.0, 0.0, 1.0, 1.0, 2.0, 2.0, 1.0, 1.0, 69.0, 2.0, 0.0, 0.0, 1.0, 1.0, 6.0, 0.0, 0.0, 0.0, 4.0, 18.0, 4.0, 2.0, 1.0, 0.0, 25.0, 2.0, 1.0, 0.0, 0.0, 1.0, 1.0, 1.0, 0.0, 3.0, 4.0, 2.0, 3.0, 3.0, 0.0, 0.0, 0.0, 0.0, 2.0, 1.0, 1.0, 0.0, 2.0, 0.0, 1.0, 0.0, 2.0, 0.0, 3.0, 1.0, 9.0, 2.0, 0.0, 0.0, 0.0, 1.0, 0.0, 2.0, 0.0, 2.0, 0.0, 5.0, 1.0, 1.0, 4.0, 3.0, 1.0, 2.0, 2.0, 0.0, 0.0, 0.0, 1.0, 1.0, 3.0, 4.0, 2.0, 1.0, 6.0, 0.0, 6.0, 1.0, 0.0, 2.0, 2.0, 0.0, 6.0, 1.0, 0.0, 2.0, 1.0, 3.0, 3.0, 3.0, 1.0, 1.0, 3.0, 1.0, 9.0, 2.0, 4.0, 1.0, 5.0, 1.0, 2.0, 7.0, 2.0, 0.0, 84.00000000000001, 84.00000000000001, 0.0, 0.0, 1.0, 0.0, 0.0, 10.0, 6.0, 1.0, 1.0, 5.0, 0.0, 1.0, 0.0, 4.0, 1.0, 0.0, 1.0, 2.0, 3.0, 0.0, 1.0, 1.0, 1.0, 3.0, 0.0, 0.0, 7.0, 0.0, 5.0, 12.0, 4.0, 6.0, 7.0, 2.0, 6.0, 1.0, 2.0, 1.0, 9.0, 3.0, 6.0, 2.0, 3.0, 1.0, 0.0, 1.0, 2.0, 1.0, 5.0, 1.0, 5.0, 6.0, 2.0, 2.0, 0.0, 2.0, 5.0, 1.0, 1.0, 0.0, 1.0, 16.0, 5.0, 0.0, 0.0, 0.0, 2.0, 0.0, 1.0, 2.0, 0.0, 2.0, 7.0, 0.0, 0.0, 1.0, 1.0, 2.0, 2.0, 6.0, 6.0, 1.0, 0.0, 2.0, 2.0, 4.0, 14.0, 15.0, 22.0, 2.0, 0.0, 2.0, 0.0, 0.0, 1.0, 1.0, 6.0, 1.0, 1.0, 0.0, 1.0, 2.0, 4.0, 0.0, 0.0, 2.0, 1.0, 1.0, 3.0, 3.0, 1.0, 1.0, 2.0, 1.0, 4.0, 2.0, 0.0, 13.0, 1.0, 1.0, 1.0, 2.0, 1.0, 1.0, 0.0, 3.0, 1.0, 0.0, 1.0, 1.0, 4.0, 3.0, 1.0, 1.0, 2.0, 1.0, 3.0, 5.0, 1.0, 1.0, 3.0, 0.0, 0.0, 1.0, 6.0, 1.0, 9.0, 0.0, 53.0, 1.0, 1.0, 0.0, 2.0, 0.0, 1.0, 0.0, 1.0, 1.0, 2.0, 3.0, 2.0, 2.0, 0.0, 2.0, 2.0, 0.0, 0.0, 1.0, 1.0, 0.0, 0.0, 0.0, 2.0, 1.0, 0.0, 0.0, 2.0, 1.0, 2.0, 2.0, 0.0, 1.0, 1.0, 1.0, 0.0, 22.0, 1.0, 21.000000000000004, 0.0, 1.0, 3.0, 0.0, 8.0, 0.0, 3.0, 2.0, 1.0, 0.0, 6.0, 4.0, 0.0, 0.0, 1.0, 2.0, 0.0, 2.0, 6.0, 0.0, 1.0, 1.0, 1.0, 3.0, 1.0, 0.0, 0.0, 2.0, 1.0, 0.0, 0.0, 0.0, 1.0, 1.0, 0.0, 2.0, 0.0, 16.0, 4.0, 8.0, 2.0, 0.0, 0.0, 1.0, 1.0, 2.0, 0.0, 1.0, 0.0, 1.0, 0.0, 0.0, 1.0, 0.0, 0.0, 0.0, 1.0, 1.0, 0.0, 12.0, 3.0, 1.0, 9.0, 4.0, 0.0, 1.0, 0.0, 0.0, 1.0, 0.0, 1.0, 20.0, 1.0, 1.0, 6.0, 12.0, 0.0, 1.0, 2.0, 0.0, 6.0, 0.0, 0.0, 0.0, 1.0, 2.0, 0.0, 4.0, 1.0, 0.0, 1.0, 1.0, 2.0, 2.0, 5.0, 0.0, 2.0, 1.0, 0.0, 159.0, 1.0, 1.0, 5.0, 5.0, 1.0, 0.0, 0.0, 3.0, 0.0, 0.0, 1.0, 2.0, 2.0, 1.0, 5.0, 0.0, 19.0, 1.0, 2.0, 2.0, 3.0, 5.0, 13.0, 4.0, 1.0, 2.0, 3.0, 0.0, 5.0, 2.0, 2.0, 2.0, 0.0, 0.0, 1.0, 2.0, 5.0, 1.0, 9.0, 8.0, 12.0, 0.0, 3.0, 0.0, 5.0, 13.0, 1.0, 2.0, 3.0, 2.0, 10.0, 16.0, 1.0, 0.0, 6.0, 1.0, 1.0, 0.0, 0.0, 0.0, 1.0, 0.0, 0.0, 4.0, 0.0, 0.0, 0.0, 0.0, 1.0, 20.0, 1.0, 0.0, 7.0, 2.0, 1.0, 4.0, 4.0, 1.0, 0.0, 0.0, 0.0, 2.0, 5.0, 1.0, 5.0, 8.0, 1.0, 2.0, 0.0, 1.0, 1.0, 3.0, 1.0, 0.0, 7.0, 0.0, 2.0, 2.0, 1.0, 2.0, 2.0, 1.0, 1.0, 8.0, 0.0, 8.0, 1.0, 1.0, 4.0, 0.0, 1.0, 1.0, 17.0, 0.0, 2.0, 0.0, 3.0, 2.0, 4.0, 3.0, 2.0, 1.0, 0.0, 1.0, 10.0, 2.0, 2.0, 2.0, 1.0, 2.0, 2.0, 0.0, 12.0, 4.0, 0.0, 11.0, 2.0, 1.0, 6.0, 0.0, 2.0, 0.0, 0.0, 0.0, 1.0, 0.0, 2.0, 0.0, 2.0, 1.0, 2.0, 1.0, 12.0, 2.0, 8.0, 4.0, 1.0, 7.0, 0.0, 4.0, 0.0, 1.0, 1.0, 2.0, 6.0, 3.0, 2.0, 10.0, 1.0, 1.0, 2.0, 2.0, 3.0, 1.0, 9.0, 13.0, 7.0, 6.0, 0.0, 0.0, 3.0, 0.0, 1.0, 1.0, 5.0, 2.0, 2.0, 0.0, 0.0, 2.0, 1.0, 3.0, 1.0, 1.0, 0.0, 1.0, 3.0, 0.0, 2.0, 1.0, 2.0, 0.0, 5.0, 4.0, 4.0, 2.0, 2.0, 1.0, 1.0, 3.0, 0.0, 3.0, 0.0, 1.0, 3.0, 0.0, 1.0, 8.0, 8.0, 2.0, 2.0, 1.0, 2.0, 24.0, 0.0, 2.0, 13.0, 11.0, 0.0, 0.0, 3.0, 6.0, 4.0, 0.0, 0.0, 1.0, 12.0, 2.0, 1.0, 0.0, 0.0, 3.0, 1.0, 6.0, 4.0, 0.0, 0.0, 1.0, 1.0, 3.0, 5.0, 1.0, 1.0, 10.0, 2.0, 0.0, 2.0, 1.0, 2.0, 1.0, 1.0, 0.0, 0.0, 1.0, 1.0, 0.0, 2.0, 1.0, 2.0, 1.0, 1.0, 4.0, 1.0, 0.0, 1.0, 0.0, 1.0, 1.0, 4.0, 13.0, 2.0, 5.0, 0.0, 2.0, 0.0, 0.0, 0.0, 1.0, 1.0, 1.0, 1.0, 0.0, 0.0, 0.0, 6.0, 5.0, 15.0, 9.0, 0.0, 3.0, 1.0, 1.0, 11.0, 6.0, 0.0, 0.0, 0.0, 13.0, 2.0, 6.0, 1.0, 0.0, 9.0, 3.0, 0.0, 0.0, 2.0, 2.0, 0.0, 1.0, 1.0, 1.0, 0.0, 13.0, 0.0, 0.0, 2.0, 2.0, 1.0, 0.0, 0.0, 1.0, 1.0, 19.0, 2.0, 2.0, 2.0, 0.0, 0.0, 7.0, 1.0, 0.0, 2.0, 4.0, 10.0, 2.0, 0.0, 0.0, 0.0, 0.0, 1.0, 6.0, 7.0, 1.0, 1.0, 5.0, 4.0, 6.0, 6.0, 3.0, 2.0, 2.0, 1.0, 7.0, 15.0, 1.0, 13.0, 9.0, 2.0, 0.0, 9.0, 1.0, 7.0, 14.0, 0.0, 1.0, 2.0, 2.0, 2.0, 1.0, 5.0, 2.0, 4.0, 2.0, 1.0, 0.0, 0.0, 2.0, 1.0, 1.0, 1.0, 0.0, 1.0, 39.0, 18.0, 5.0, 0.0, 1.0, 6.0, 4.0, 5.0, 4.0, 2.0, 58.0, 1.0, 1.0, 7.0, 0.0, 2.0, 14.0, 0.0, 1.0, 2.0, 1.0, 1.0, 1.0, 0.0, 1.0, 0.0, 1.0, 0.0, 2.0, 3.0, 1.0, 2.0, 1.0, 4.0, 121.0, 125.0, 1.0, 3.0, 5.0, 2.0, 0.0, 1.0, 3.0, 9.0, 0.0, 0.0, 1.0, 1.0, 1.0, 4.0, 1.0, 2.0, 2.0, 1.0, 0.0, 4.0, 0.0, 0.0, 0.0, 3.0, 7.0, 3.0, 4.0, 2.0, 7.0, 0.0, 5.0, 10.0, 7.0, 4.0, 1.0, 0.0, 0.0, 3.0, 1.0, 2.0, 0.0, 0.0, 2.0, 3.0, 3.0, 2.0, 1.0, 3.0, 1.0, 0.0, 4.0, 5.0, 0.0, 3.0, 5.0, 3.0, 0.0, 4.0, 0.0, 7.0, 4.0, 2.0, 1.0, 4.0, 4.0, 1.0, 4.0, 2.0, 0.0, 0.0, 1.0, 4.0, 3.0, 4.0, 4.0, 0.0, 2.0, 6.0, 2.0, 1.0, 1.0, 5.0, 5.0, 1.0, 3.0, 1.0, 2.0, 2.0, 1.0, 0.0, 0.0, 8.0, 1.0, 0.0, 0.0, 1.0, 1.0, 2.0, 4.0, 4.0, 1.0, 0.0, 0.0, 0.0, 1.0, 0.0, 0.0, 2.0, 1.0, 1.0, 0.0, 1.0, 0.0, 0.0, 2.0, 1.0, 2.0, 1.0, 0.0, 1.0, 2.0, 1.0, 0.0, 2.0, 2.0, 1.0, 0.0, 1.0, 1.0, 1.0, 3.0, 6.0, 3.0, 3.0, 1.0, 17.0, 1.0, 0.0, 5.0, 0.0, 1.0, 4.0, 1.0, 4.0, 2.0, 0.0, 0.0, 4.0, 1.0, 7.0, 7.0, 8.0, 2.0, 17.0, 2.0, 1.0, 0.0, 0.0, 12.0, 0.0, 2.0, 2.0, 1.0, 0.0, 3.0, 2.0, 3.0, 6.0, 0.0, 1.0, 1.0, 2.0, 21.000000000000004, 1.0, 1.0, 1.0, 0.0, 3.0, 1.0, 18.0, 0.0, 1.0, 1.0, 4.0, 2.0, 3.0, 1.0, 8.0, 1.0, 10.0, 3.0, 2.0, 33.0, 4.0, 2.0, 2.0, 1.0, 40.0, 0.0, 2.0, 1.0, 3.0, 1.0, 2.0, 2.0, 2.0, 0.0, 1.0, 0.0, 2.0, 3.0, 1.0, 1.0, 2.0, 3.0, 2.0, 5.0, 2.0, 2.0, 1.0, 1.0, 4.0, 3.0, 3.0, 4.0, 3.0, 1.0, 1.0, 0.0, 1.0, 0.0, 2.0, 3.0, 2.0, 2.0, 2.0, 1.0, 1.0, 4.0, 2.0, 1.0, 0.0, 1.0, 1.0, 1.0, 1.0, 2.0, 2.0, 2.0, 1.0, 1.0, 8.0, 6.0, 1.0, 1.0, 4.0, 0.0, 1.0, 0.0, 0.0, 1.0, 2.0, 0.0, 3.0, 2.0, 0.0, 4.0, 4.0, 2.0, 3.0, 1.0, 1.0, 11.0, 1.0, 0.0, 2.0, 0.0, 1.0, 1.0, 0.0, 12.0, 1.0, 1.0, 0.0, 2.0, 3.0, 2.0, 5.0, 6.0, 1.0, 0.0, 31.0, 7.0, 4.0, 1.0, 2.0, 1.0, 8.0, 1.0, 84.00000000000001, 2.0, 1.0, 0.0, 1.0, 5.0, 0.0, 7.0, 4.0, 3.0, 1.0, 1.0, 2.0, 138.0, 3.0, 3.0, 7.0, 31.0, 28.0, 1.0, 7.0, 5.0, 1.0, 1.0, 0.0, 2.0, 1.0, 0.0, 1.0, 1.0, 2.0, 1.0, 4.0, 1.0, 3.0, 4.0, 0.0, 8.0, 14.0, 7.0, 2.0, 1.0, 0.0, 1.0, 3.0, 1.0, 4.0, 0.0, 2.0, 0.0, 2.0, 53.0, 0.0, 39.0, 2.0, 2.0, 1.0, 0.0, 0.0, 3.0, 2.0, 2.0, 2.0, 1.0, 2.0, 2.0, 4.0, 1.0, 1.0, 1.0, 16.0, 2.0, 1.0, 3.0, 4.0, 12.0, 0.0, 1.0, 1.0, 0.0, 9.0, 2.0, 0.0, 5.0, 3.0, 3.0, 10.0, 4.0, 3.0, 4.0, 4.0, 4.0, 2.0, 0.0, 10.0, 5.0, 0.0, 2.0, 2.0, 3.0, 21.000000000000004, 1.0, 0.0, 0.0, 1.0, 4.0, 3.0, 2.0, 3.0, 35.0, 4.0, 6.0, 6.0, 9.0, 1.0, 0.0, 2.0, 1.0, 3.0, 2.0, 1.0, 12.0, 9.0, 1.0, 9.0, 2.0, 0.0, 2.0, 3.0, 2.0, 2.0, 1.0, 0.0, 2.0, 2.0, 3.0, 2.0, 0.0, 0.0, 0.0, 0.0, 1.0, 1.0, 6.0, 5.0, 3.0, 3.0, 2.0, 3.0, 2.0, 3.0, 3.0, 2.0, 3.0, 3.0, 1.0, 2.0, 0.0, 0.0, 3.0, 5.0, 1.0, 10.0, 1.0, 0.0, 4.0, 0.0, 4.0, 1.0, 2.0, 1.0, 2.0, 2.0, 2.0, 0.0, 1.0, 0.0, 2.0, 0.0, 18.0, 10.0, 2.0, 0.0, 11.0, 1.0, 0.0, 1.0, 12.0, 4.0, 0.0, 0.0, 0.0, 4.0, 0.0, 3.0, 0.0, 0.0, 0.0, 0.0, 3.0, 3.0, 4.0, 2.0, 4.0, 1.0, 1.0, 0.0, 3.0, 2.0, 1.0, 2.0, 5.0, 1.0, 2.0, 2.0, 4.0, 11.0, 4.0, 1.0, 2.0, 2.0, 1.0, 30.0, 24.0, 2.0, 3.0, 0.0, 0.0, 1.0, 8.0, 1.0, 1.0, 2.0, 2.0, 0.0, 0.0, 2.0, 8.0, 4.0, 10.0, 1.0, 0.0, 2.0, 2.0, 2.0, 3.0, 2.0, 0.0, 3.0, 2.0, 2.0, 3.0, 0.0, 0.0, 2.0, 4.0, 1.0, 0.0, 5.0, 2.0, 0.0, 2.0, 3.0, 1.0, 2.0, 0.0, 0.0, 1.0, 1.0, 0.0, 5.0, 1.0, 3.0, 1.0, 0.0, 1.0, 2.0, 2.0, 3.0, 4.0, 11.0, 3.0, 2.0, 1.0, 4.0, 3.0, 4.0, 0.0, 0.0, 0.0, 0.0, 0.0, 1.0, 1.0, 1.0, 0.0, 1.0, 5.0, 9.0, 3.0, 0.0, 1.0, 6.0, 1.0, 2.0, 11.0, 0.0, 0.0, 1.0, 1.0, 3.0, 0.0, 1.0, 2.0, 4.0, 3.0, 5.0, 3.0, 1.0, 3.0, 9.0, 7.0, 2.0, 3.0, 2.0, 5.0, 2.0, 1.0, 3.0, 1.0, 1.0, 2.0, 2.0, 0.0, 1.0, 3.0, 1.0, 0.0, 2.0, 3.0, 0.0, 1.0, 3.0, 3.0, 3.0, 2.0, 2.0, 2.0, 2.0, 10.0, 10.0, 4.0, 5.0, 2.0, 1.0, 3.0, 1.0, 1.0, 0.0, 0.0, 5.0, 2.0, 2.0, 3.0, 1.0, 1.0, 2.0, 1.0, 2.0, 2.0, 2.0, 0.0, 1.0, 1.0, 1.0, 2.0, 5.0, 6.0, 5.0, 3.0, 4.0, 0.0, 4.0, 0.0, 1.0, 1.0, 7.0, 5.0, 4.0, 4.0, 1.0, 1.0, 3.0, 1.0, 0.0, 1.0, 0.0, 3.0, 1.0, 5.0, 3.0, 3.0, 1.0, 5.0, 1.0, 6.0, 9.0, 2.0, 1.0, 3.0, 2.0, 3.0, 3.0, 1.0, 1.0, 2.0, 6.0, 3.0, 2.0, 1.0, 9.0, 1.0, 1.0, 6.0, 1.0, 11.0, 1.0, 0.0, 2.0, 0.0, 5.0, 3.0, 17.0, 5.0, 5.0, 27.0, 26.0, 21.000000000000004, 4.0, 1.0, 3.0, 1.0, 3.0, 44.0, 26.0, 1.0, 5.0, 2.0, 0.0, 1.0, 0.0, 2.0, 6.0, 46.0, 2.0, 3.0, 3.0, 1.0, 3.0, 35.0, 8.0, 0.0, 4.0, 27.0, 4.0, 2.0, 0.0, 2.0, 8.0, 2.0, 54.99999999999999, 7.0, 4.0, 4.0, 1.0, 1.0, 1.0, 2.0, 0.0, 2.0, 4.0, 3.0, 1.0, 3.0, 1.0, 0.0, 2.0, 2.0, 2.0, 2.0, 3.0, 6.0, 18.0, 2.0, 3.0, 5.0, 9.0, 1.0, 2.0, 2.0, 2.0, 2.0, 4.0, 8.0, 3.0, 1.0, 2.0, 1.0, 2.0, 1.0, 1.0, 8.0, 4.0, 1.0, 4.0, 3.0, 2.0, 2.0, 17.0, 7.0, 0.0, 0.0, 2.0, 3.0, 0.0, 1.0, 1.0, 0.0, 3.0, 1.0, 6.0, 1.0, 1.0, 3.0, 2.0, 1.0, 1.0, 0.0, 0.0, 3.0, 0.0, 2.0, 1.0, 1.0, 7.0, 2.0, 3.0, 1.0, 8.0, 2.0, 2.0, 0.0, 3.0, 3.0, 2.0, 2.0, 7.0, 0.0, 2.0, 38.0, 8.0, 4.0, 16.0, 1.0, 1.0, 1.0, 3.0, 4.0, 1.0, 0.0, 2.0, 1.0, 2.0, 0.0, 2.0, 9.0, 6.0, 5.0, 3.0, 6.0, 6.0, 3.0, 2.0, 4.0, 3.0, 0.0, 2.0, 0.0, 0.0, 4.0, 1.0, 1.0, 3.0, 2.0, 2.0, 1.0, 14.0, 8.0, 4.0, 1.0, 3.0, 9.0, 2.0, 3.0, 8.0, 4.0, 1.0, 3.0, 4.0, 0.0, 4.0, 6.0, 1.0, 1.0, 1.0, 10.0, 4.0, 0.0, 3.0, 1.0, 2.0, 2.0, 4.0, 6.0, 2.0, 1.0, 3.0, 0.0, 4.0, 1.0, 1.0, 2.0, 2.0, 4.0, 8.0, 2.0, 4.0, 2.0, 3.0, 0.0, 1.0, 1.0, 5.0, 9.0, 3.0, 6.0, 4.0, 1.0, 1.0, 1.0, 1.0, 2.0, 5.0, 2.0, 2.0, 3.0, 0.0, 0.0, 3.0, 3.0, 2.0, 0.0, 19.0, 7.0, 4.0, 2.0, 2.0, 0.0, 1.0, 3.0, 2.0, 0.0, 5.0, 0.0, 7.0, 0.0, 4.0, 1.0, 3.0, 1.0, 1.0, 3.0, 2.0, 5.0, 1.0, 2.0, 4.0, 5.0, 2.0, 0.0, 0.0, 0.0, 0.0, 1.0, 4.0, 1.0, 0.0, 3.0, 4.0, 0.0, 1.0, 3.0, 1.0, 3.0, 2.0, 1.0, 0.0, 2.0, 6.0, 0.0, 5.0, 2.0, 2.0, 8.0, 7.0, 3.0, 2.0, 5.0, 1.0, 3.0, 1.0, 2.0, 2.0, 1.0, 1.0, 1.0, 0.0, 20.0, 2.0, 1.0, 0.0, 10.0, 2.0, 11.0, 0.0, 1.0, 0.0, 0.0, 1.0, 1.0, 9.0, 1.0, 3.0, 2.0, 5.0, 5.0, 1.0, 27.0, 1.0, 3.0, 3.0, 2.0, 0.0, 5.0, 0.0, 1.0, 1.0, 4.0, 6.0, 5.0, 1.0, 3.0, 1.0, 1.0, 2.0, 1.0, 1.0, 1.0, 3.0, 1.0, 2.0, 1.0, 2.0, 2.0, 0.0, 0.0, 0.0, 14.0, 5.0, 0.0, 0.0, 1.0, 4.0, 17.0, 3.0, 2.0, 2.0, 1.0, 8.0, 1.0, 1.0, 1.0, 3.0, 3.0, 3.0, 7.0, 2.0, 2.0, 2.0, 3.0, 9.0, 1.0, 0.0, 1.0, 5.0, 2.0, 1.0, 2.0, 4.0, 3.0, 0.0, 4.0, 0.0, 1.0, 6.0, 1.0, 2.0, 2.0, 0.0, 1.0, 6.0, 4.0, 2.0, 0.0, 0.0, 0.0, 1.0, 2.0, 2.0, 0.0, 2.0, 2.0, 0.0, 0.0, 1.0, 2.0, 5.0, 3.0, 2.0, 2.0, 1.0, 20.0, 1.0, 2.0, 5.0, 1.0, 3.0, 1.0, 0.0, 2.0, 2.0, 3.0, 2.0, 1.0, 1.0, 1.0, 12.0, 0.0, 0.0, 9.0, 9.0, 1.0, 9.0, 4.0, 0.0, 2.0, 1.0, 1.0, 9.0, 5.0, 2.0, 1.0, 2.0, 3.0, 3.0, 3.0, 1.0, 0.0, 0.0, 2.0, 5.0, 0.0, 3.0, 25.0, 1.0, 1.0, 1.0, 5.0, 2.0, 0.0, 2.0, 3.0, 2.0, 5.0, 0.0, 2.0, 5.0, 2.0, 2.0, 4.0, 0.0, 0.0, 0.0, 1.0, 1.0, 1.0, 1.0, 0.0, 0.0, 4.0, 2.0, 2.0, 5.0, 0.0, 9.0, 1.0, 0.0, 1.0, 1.0, 1.0, 2.0, 3.0, 3.0, 0.0, 4.0, 2.0, 17.0, 1.0, 1.0, 1.0, 4.0, 1.0, 2.0, 3.0, 1.0, 0.0, 0.0, 3.0, 0.0, 2.0, 0.0, 1.0, 0.0, 3.0, 1.0, 2.0, 5.0, 6.0, 1.0, 1.0, 0.0, 1.0, 0.0, 0.0, 0.0, 2.0, 0.0, 2.0, 1.0, 25.0, 0.0, 4.0, 14.0, 1.0, 9.0, 0.0, 1.0, 4.0, 0.0, 1.0, 0.0, 4.0, 2.0, 5.0, 10.0, 1.0, 2.0, 1.0, 0.0, 2.0, 0.0, 0.0, 2.0, 1.0, 2.0, 1.0, 1.0, 2.0, 1.0, 1.0, 0.0, 12.0, 0.0, 3.0, 2.0, 1.0, 3.0, 3.0, 1.0, 0.0, 2.0, 1.0, 1.0, 15.0, 5.0, 1.0, 10.0, 4.0, 2.0, 1.0, 2.0, 1.0, 5.0, 3.0, 1.0, 2.0, 3.0, 9.0, 0.0, 0.0, 1.0, 0.0, 14.0, 0.0, 29.0, 2.0, 0.0, 5.0, 3.0, 7.0, 6.0, 1.0, 5.0, 0.0, 2.0, 5.0, 1.0, 4.0, 5.0, 5.0, 5.0, 14.0, 8.0, 8.0, 2.0, 1.0, 0.0, 13.0, 2.0, 3.0, 17.0, 2.0, 6.0, 1.0, 8.0, 6.0, 5.0, 2.0, 2.0, 3.0, 5.0, 2.0, 3.0, 7.0, 193.99999999999997, 3.0, 2.0, 2.0, 0.0, 1.0, 4.0, 0.0, 1.0, 0.0, 1.0, 1.0, 2.0, 2.0, 3.0, 0.0, 3.0, 3.0, 2.0, 2.0, 1.0, 1.0, 2.0, 9.0, 0.0, 1.0, 1.0, 2.0, 3.0, 1.0, 2.0, 1.0, 3.0, 5.0, 14.0, 17.0, 2.0, 3.0, 5.0, 5.0, 1.0, 10.0, 4.0, 9.0, 14.0, 0.0, 7.0, 0.0, 3.0, 3.0, 5.0, 5.0, 2.0, 2.0, 2.0, 2.0, 1.0, 2.0, 1.0, 2.0, 6.0, 2.0, 8.0, 4.0, 1.0, 1.0, 6.0, 1.0, 1.0, 2.0, 1.0, 1.0, 6.0, 1.0, 2.0, 1.0, 0.0, 2.0, 2.0, 3.0, 2.0, 23.0, 0.0, 14.0, 6.0, 1.0, 4.0, 2.0, 1.0, 0.0, 0.0, 1.0, 1.0, 3.0, 1.0, 3.0, 1.0, 1.0, 1.0, 1.0, 2.0, 0.0, 1.0, 1.0, 7.0, 0.0, 1.0, 0.0, 14.0, 3.0, 2.0, 4.0, 2.0, 0.0, 1.0, 2.0, 2.0, 2.0, 2.0, 1.0, 5.0, 1.0, 5.0, 3.0, 1.0, 2.0, 20.0, 25.0, 1.0, 3.0, 4.0, 1.0, 0.0, 2.0, 4.0, 1.0, 0.0, 0.0, 3.0, 2.0, 1.0, 2.0, 0.0, 1.0, 1.0, 11.0, 5.0, 4.0, 1.0, 0.0, 2.0, 2.0, 2.0, 2.0, 1.0, 2.0, 2.0, 2.0, 0.0, 0.0, 4.0, 5.0, 5.0, 4.0, 0.0, 0.0, 0.0, 1.0, 1.0, 0.0, 5.0, 1.0, 1.0, 0.0, 0.0, 7.0, 2.0, 0.0, 5.0, 3.0, 0.0, 1.0, 0.0, 0.0, 2.0, 2.0, 0.0, 11.0, 4.0, 1.0, 9.0, 6.0, 0.0, 2.0, 2.0, 1.0, 5.0, 0.0, 5.0, 5.0, 0.0, 3.0, 15.0, 0.0, 2.0, 4.0, 9.0, 9.0, 2.0, 1.0, 3.0, 8.0, 1.0, 1.0, 1.0, 16.0, 4.0, 0.0, 2.0, 0.0, 3.0, 1.0, 4.0, 2.0, 2.0, 2.0, 3.0, 3.0, 5.0, 0.0, 0.0, 0.0, 0.0, 0.0, 12.0, 2.0, 1.0, 2.0, 5.0, 3.0, 3.0, 0.0, 5.0, 2.0, 4.0, 10.0, 3.0, 1.0, 4.0, 0.0, 2.0, 1.0, 1.0, 3.0, 1.0, 19.0, 0.0, 0.0, 4.0, 2.0, 1.0, 3.0, 1.0, 1.0, 2.0, 2.0, 4.0, 0.0, 2.0, 1.0, 2.0, 2.0, 1.0, 0.0, 3.0, 2.0, 5.0, 0.0, 2.0, 0.0, 1.0, 2.0, 1.0, 0.0, 3.0, 3.0, 50.0, 2.0, 1.0, 7.0, 0.0, 2.0, 4.0, 2.0, 1.0, 6.0, 3.0, 11.0, 1.0, 1.0, 2.0, 18.0, 1.0, 0.0, 2.0, 2.0, 0.0, 1.0, 0.0, 0.0, 3.0, 1.0, 1.0, 3.0, 2.0, 2.0, 2.0, 3.0, 0.0, 1.0, 2.0, 1.0, 1.0, 3.0, 0.0, 1.0, 2.0, 5.0, 2.0, 1.0, 2.0, 2.0, 0.0, 0.0, 0.0, 2.0, 7.0, 3.0, 0.0, 2.0, 3.0, 1.0, 3.0, 0.0, 0.0, 0.0, 1.0, 6.0, 0.0, 0.0, 3.0, 2.0, 2.0, 1.0, 0.0, 0.0, 0.0, 0.0, 3.0, 0.0, 1.0, 1.0, 1.0, 3.0, 2.0, 8.0, 8.0, 3.0, 0.0, 13.0, 3.0, 2.0, 1.0, 1.0, 5.0, 4.0, 3.0, 3.0, 0.0, 1.0, 0.0, 0.0, 3.0, 2.0, 2.0, 1.0, 2.0, 2.0, 1.0, 1.0, 3.0, 3.0, 1.0, 0.0, 0.0, 2.0, 2.0, 3.0, 0.0, 3.0, 1.0, 0.0, 0.0, 1.0, 1.0, 0.0, 0.0, 0.0, 3.0, 0.0, 1.0, 2.0, 2.0, 1.0, 0.0, 0.0, 2.0, 1.0, 0.0, 1.0, 0.0, 3.0, 3.0, 1.0, 2.0, 5.0, 0.0, 1.0, 1.0, 0.0, 1.0, 4.0, 1.0, 2.0, 4.0, 6.0, 5.0, 1.0, 5.0, 2.0, 1.0, 6.0, 3.0, 2.0, 49.0, 2.0, 0.0, 0.0, 1.0, 1.0, 6.0, 8.0, 2.0, 1.0, 2.0, 1.0, 86.0, 2.0, 1.0, 5.0, 1.0, 1.0, 4.0, 0.0, 3.0, 0.0, 2.0, 2.0, 0.0, 0.0, 0.0, 0.0, 2.0, 1.0, 1.0, 2.0, 3.0, 7.0, 6.0, 10.0, 2.0, 4.0, 3.0, 0.0, 2.0, 0.0, 1.0, 12.0, 1.0, 1.0, 1.0, 3.0, 1.0, 1.0, 1.0, 3.0, 4.0, 6.0, 3.0, 2.0, 2.0, 2.0, 2.0, 1.0, 0.0, 2.0, 2.0, 0.0, 3.0, 1.0, 1.0, 2.0, 4.0, 1.0, 3.0, 9.0, 1.0, 13.0, 1.0, 6.0, 3.0, 15.0, 3.0, 2.0, 0.0, 3.0, 0.0, 4.0, 6.0, 2.0, 1.0, 3.0, 3.0, 2.0, 2.0, 1.0, 12.0, 2.0, 2.0, 0.0, 0.0, 0.0, 0.0, 2.0, 3.0, 1.0, 1.0, 2.0, 2.0, 0.0, 1.0, 3.0, 4.0, 15.0, 0.0, 1.0, 0.0, 0.0, 3.0, 1.0, 1.0, 2.0, 4.0, 2.0, 4.0, 10.0, 1.0, 0.0, 0.0, 2.0, 0.0, 2.0, 0.0, 2.0, 1.0, 3.0, 0.0, 4.0, 4.0, 1.0, 0.0, 0.0, 1.0, 3.0, 12.0, 5.0, 6.0, 0.0, 4.0, 3.0, 3.0, 2.0, 0.0, 6.0, 0.0, 0.0, 1.0, 2.0, 1.0, 0.0, 1.0, 1.0, 1.0, 1.0, 0.0, 1.0, 0.0, 0.0, 1.0, 5.0, 0.0, 0.0, 0.0, 0.0, 0.0, 0.0, 0.0, 1.0, 2.0, 1.0, 1.0, 1.0, 0.0, 0.0, 0.0, 5.0, 1.0, 1.0, 0.0, 0.0, 1.0, 1.0, 1.0, 10.0, 0.0, 3.0, 3.0, 2.0, 3.0, 2.0, 1.0, 4.0, 1.0, 10.0, 9.0, 9.0, 1.0, 16.0, 7.0, 16.0, 1.0, 28.0, 5.0, 3.0, 0.0, 1.0, 6.0, 1.0, 4.0, 1.0, 1.0, 0.0, 9.0, 2.0, 1.0, 4.0, 3.0, 0.0, 0.0, 3.0, 1.0, 1.0, 2.0, 1.0, 1.0, 2.0, 3.0, 2.0, 0.0, 0.0, 1.0, 2.0, 4.0, 1.0, 1.0, 3.0, 6.0, 3.0, 2.0, 2.0, 1.0, 1.0, 3.0, 43.0, 0.0, 7.0, 9.0, 0.0, 1.0, 4.0, 2.0, 1.0, 1.0, 6.0, 1.0, 4.0, 1.0, 2.0, 2.0, 0.0, 1.0, 1.0, 2.0, 2.0, 0.0, 1.0, 10.0, 2.0, 1.0, 2.0, 2.0, 1.0, 0.0, 1.0, 3.0, 3.0, 1.0, 6.0, 0.0, 1.0, 5.0, 1.0, 3.0, 0.0, 3.0, 1.0, 2.0, 1.0, 3.0, 2.0, 2.0, 4.0, 2.0, 1.0, 2.0, 0.0, 2.0, 3.0, 3.0, 3.0, 1.0, 2.0, 0.0, 1.0, 0.0, 3.0, 0.0, 1.0, 0.0, 3.0, 7.0, 1.0, 2.0, 3.0, 0.0, 1.0, 1.0, 12.0, 0.0, 1.0, 7.0, 3.0, 3.0, 0.0, 2.0, 27.0, 6.0, 1.0, 6.0, 25.0, 0.0, 3.0, 1.0, 4.0, 0.0, 0.0, 0.0, 0.0, 4.0, 2.0, 2.0, 5.0, 4.0, 2.0, 2.0, 7.0, 1.0, 3.0, 1.0, 6.0, 9.0, 1.0, 0.0, 0.0, 0.0, 8.0, 14.0, 1.0, 4.0, 0.0, 4.0, 1.0, 4.0, 0.0, 1.0, 5.0, 1.0, 5.0, 2.0, 0.0, 3.0, 3.0, 1.0, 3.0, 2.0, 9.0, 0.0, 0.0, 1.0, 18.0, 3.0, 1.0, 2.0, 3.0, 1.0, 2.0, 2.0, 0.0, 0.0, 6.0, 1.0, 1.0, 6.0, 4.0, 3.0, 2.0, 3.0, 0.0, 2.0, 2.0, 4.0, 4.0, 4.0, 0.0, 0.0, 2.0, 2.0, 2.0, 1.0, 3.0, 0.0, 1.0, 1.0, 1.0, 0.0, 0.0, 0.0, 0.0, 1.0, 4.0, 4.0, 1.0, 3.0, 0.0, 0.0, 0.0, 2.0, 0.0, 5.0, 2.0, 0.0, 2.0, 1.0, 0.0, 1.0, 2.0, 0.0, 2.0, 11.0, 3.0, 2.0, 2.0, 4.0, 5.0, 3.0, 1.0, 2.0, 1.0, 1.0, 3.0, 3.0, 4.0, 4.0, 11.0, 3.0, 10.0, 6.0, 8.0, 6.0, 2.0, 12.0, 7.0, 3.0, 11.0, 2.0, 0.0, 0.0, 3.0, 12.0, 3.0, 1.0, 1.0, 1.0, 0.0, 1.0, 8.0, 0.0, 4.0, 3.0, 2.0, 4.0, 4.0, 1.0, 3.0, 3.0, 6.0, 0.0, 14.0, 3.0, 22.0, 2.0, 3.0, 4.0, 1.0, 5.0, 1.0, 3.0, 6.0, 1.0, 4.0, 1.0, 0.0, 13.0, 4.0, 0.0, 1.0, 1.0, 4.0, 4.0, 1.0, 2.0, 1.0, 0.0, 0.0, 1.0, 1.0, 1.0, 2.0, 1.0, 4.0, 2.0, 1.0, 7.0, 8.0, 0.0, 0.0, 1.0, 1.0, 1.0, 4.0, 0.0, 4.0, 5.0, 0.0, 3.0, 3.0, 4.0, 1.0, 10.0, 0.0, 2.0, 3.0, 4.0, 6.0, 2.0, 1.0, 3.0, 2.0, 0.0, 2.0, 1.0, 2.0, 4.0, 3.0, 1.0, 7.0, 1.0, 2.0, 6.0, 0.0, 2.0, 0.0, 0.0, 0.0, 2.0, 8.0, 2.0, 5.0, 13.0, 0.0, 0.0, 2.0, 1.0, 3.0, 5.0, 9.0, 3.0, 2.0, 3.0, 3.0, 5.0, 5.0, 3.0, 0.0, 2.0, 1.0, 2.0, 2.0, 1.0, 0.0, 1.0, 5.0, 1.0, 1.0, 0.0, 2.0, 2.0, 3.0, 0.0, 0.0, 1.0, 2.0, 2.0, 3.0, 1.0, 15.0, 1.0, 1.0, 2.0, 2.0, 2.0, 40.0, 2.0, 6.0, 0.0, 0.0, 0.0, 1.0, 11.0, 12.0, 5.0, 8.0, 1.0, 9.0, 2.0, 2.0, 3.0, 3.0, 7.0, 2.0, 1.0, 0.0, 6.0, 2.0, 0.0, 2.0, 6.0, 6.0, 4.0, 4.0, 2.0, 1.0, 2.0, 2.0, 11.0, 3.0, 1.0, 1.0, 3.0, 1.0, 7.0, 3.0, 4.0, 1.0, 4.0, 3.0, 1.0, 68.0, 6.0, 7.0, 4.0, 16.0, 4.0, 8.0, 8.0, 6.0, 3.0, 12.0, 5.0, 5.0, 5.0, 8.0, 8.0, 2.0, 3.0, 2.0, 0.0, 0.0, 4.0, 2.0, 1.0, 6.0, 4.0, 4.0, 25.0, 7.0, 5.0, 4.0, 11.0, 4.0, 1.0, 0.0, 2.0, 9.0, 2.0, 0.0, 2.0, 4.0, 1.0, 30.0, 19.0, 3.0, 1.0, 1.0, 2.0, 4.0, 4.0, 2.0, 2.0, 2.0, 1.0, 1.0, 0.0, 2.0, 19.0, 0.0, 2.0, 3.0, 2.0, 5.0, 5.0, 3.0, 15.0, 3.0, 0.0, 29.0, 18.0, 6.0, 4.0, 1.0, 10.0, 2.0, 2.0, 94.0, 1.0, 2.0, 6.0, 1.0, 7.0, 11.0, 7.0, 3.0, 1.0, 9.0, 29.0, 4.0, 2.0, 2.0, 3.0, 8.0, 5.0, 7.0, 2.0, 2.0, 1.0, 0.0, 3.0, 4.0, 4.0, 2.0, 2.0, 3.0, 1.0, 8.0, 84.00000000000001, 1.0, 2.0, 10.0, 4.0, 2.0, 2.0, 1.0, 2.0, 2.0, 3.0, 2.0, 1.0, 1.0, 1.0, 1.0, 1.0, 0.0, 7.0, 11.0, 16.0, 1.0, 1.0, 2.0, 1.0, 6.0, 6.0, 6.0, 2.0, 1.0, 0.0, 2.0, 4.0, 4.0, 2.0, 15.0, 3.0, 2.0, 3.0, 2.0, 4.0, 4.0, 1.0, 2.0, 3.0, 1.0, 2.0, 2.0, 2.0, 2.0, 4.0, 3.0, 2.0, 4.0, 5.0, 3.0, 0.0, 2.0, 3.0, 4.0, 5.0, 4.0, 4.0, 0.0, 3.0, 1.0, 5.0, 5.0, 1.0, 5.0, 18.0, 5.0, 2.0, 1.0, 1.0, 1.0, 0.0, 3.0, 2.0, 1.0, 1.0, 5.0, 0.0, 20.0, 2.0, 1.0, 3.0, 0.0, 2.0, 0.0, 0.0, 1.0, 0.0, 2.0, 1.0, 2.0, 99.0, 3.0, 4.0, 1.0, 2.0, 2.0, 2.0, 3.0, 3.0, 0.0, 0.0, 1.0, 3.0, 7.0, 3.0, 5.0, 1.0, 1.0, 1.0, 1.0, 2.0, 3.0, 6.0, 7.0, 0.0, 0.0, 1.0, 5.0, 1.0, 1.0, 2.0, 1.0, 2.0, 3.0, 4.0, 0.0, 3.0, 0.0, 0.0, 1.0, 2.0, 4.0, 4.0, 5.0, 7.0, 6.0, 15.0, 3.0, 8.0, 0.0, 0.0, 0.0, 18.0, 4.0, 2.0, 0.0, 1.0, 7.0, 4.0, 2.0, 1.0, 4.0, 2.0, 7.0, 1.0, 4.0, 2.0, 0.0, 2.0, 0.0, 1.0, 0.0, 0.0, 1.0, 0.0, 0.0, 0.0, 0.0, 2.0, 0.0, 0.0, 3.0, 1.0, 1.0, 8.0, 4.0, 2.0, 4.0, 1.0, 9.0, 35.0, 1.0, 108.0, 8.0, 1.0, 2.0, 1.0, 0.0, 24.0, 0.0, 0.0, 2.0, 1.0, 1.0, 2.0, 5.0, 8.0, 3.0, 1.0, 3.0, 4.0, 1.0, 6.0, 2.0, 2.0, 1.0, 25.0, 1.0, 25.0, 4.0, 3.0, 0.0, 2.0, 1.0, 0.0, 3.0, 2.0, 0.0, 2.0, 4.0, 0.0, 3.0, 1.0, 2.0, 0.0, 0.0, 1.0, 1.0, 0.0, 10.0, 7.0, 1.0, 5.0, 1.0, 1.0, 2.0, 4.0, 1.0, 2.0, 16.0, 0.0, 0.0, 5.0, 2.0, 3.0, 1.0, 1.0, 3.0, 2.0, 0.0, 3.0, 0.0, 0.0, 3.0, 4.0, 3.0, 2.0, 0.0, 0.0, 1.0, 1.0, 0.0, 1.0, 4.0, 3.0, 12.0, 2.0, 2.0, 2.0, 7.0, 2.0, 2.0, 0.0, 3.0, 3.0, 5.0, 8.0, 1.0, 1.0, 2.0, 2.0, 1.0, 2.0, 2.0, 3.0, 18.0, 2.0, 3.0, 1.0, 1.0, 8.0, 3.0, 0.0, 1.0, 1.0, 1.0, 2.0, 2.0, 8.0, 3.0, 0.0, 3.0, 14.0, 2.0, 1.0, 0.0, 1.0, 1.0, 1.0, 1.0, 1.0, 1.0, 1.0, 10.0, 1.0, 1.0, 2.0, 2.0, 8.0, 7.0, 3.0, 1.0, 1.0, 3.0, 3.0, 3.0, 0.0, 1.0, 3.0, 2.0, 9.0, 3.0, 54.0, 1.0, 2.0, 2.0, 1.0, 5.0, 25.0, 13.0, 8.0, 0.0, 0.0, 0.0, 2.0, 0.0, 3.0, 1.0, 1.0, 3.0, 2.0, 1.0, 4.0, 2.0, 0.0, 1.0, 0.0, 0.0, 2.0, 0.0, 2.0, 3.0, 5.0, 0.0, 0.0, 3.0, 14.0, 2.0, 3.0, 1.0, 2.0, 2.0, 2.0, 1.0, 1.0, 1.0, 10.0, 0.0, 0.0, 4.0, 1.0, 1.0, 0.0, 2.0, 0.0, 1.0, 2.0, 1.0, 1.0, 3.0, 4.0, 0.0, 1.0, 1.0, 4.0, 2.0, 1.0, 1.0, 4.0, 22.0, 1.0, 1.0, 11.0, 2.0, 2.0, 6.0, 0.0, 5.0, 3.0, 4.0, 3.0, 0.0, 9.0, 21.000000000000004, 1.0, 12.0, 0.0, 1.0, 0.0, 1.0, 2.0, 1.0, 1.0, 3.0, 4.0, 3.0, 16.0, 7.0, 11.0, 1.0, 2.0, 1.0, 1.0, 1.0, 7.0, 5.0, 3.0, 3.0, 13.0, 1.0, 1.0, 3.0, 8.0, 7.0, 3.0, 3.0, 2.0, 1.0, 3.0, 3.0, 88.0, 0.0, 0.0, 1.0, 1.0, 5.0, 3.0, 8.0, 1.0, 1.0, 0.0, 1.0, 1.0, 0.0, 2.0, 2.0, 1.0, 0.0, 0.0, 1.0, 1.0, 1.0, 0.0, 2.0, 0.0, 2.0, 1.0, 0.0, 2.0, 2.0, 0.0, 0.0, 22.0, 2.0, 1.0, 1.0, 3.0, 1.0, 4.0, 2.0, 4.0, 1.0, 2.0, 2.0, 4.0, 2.0, 2.0, 1.0, 0.0, 0.0, 3.0, 2.0, 1.0, 6.0, 0.0, 0.0, 1.0, 2.0, 3.0, 1.0, 1.0, 0.0, 1.0, 2.0, 0.0, 1.0, 0.0, 1.0, 1.0, 3.0, 0.0, 5.0, 1.0, 0.0, 4.0, 0.0, 3.0, 1.0, 1.0, 3.0, 0.0, 1.0, 1.0, 1.0, 2.0, 6.0, 0.0, 2.0, 1.0, 1.0, 0.0, 0.0, 0.0, 6.0, 2.0, 1.0, 2.0, 2.0, 3.0, 0.0, 0.0, 1.0, 1.0, 0.0, 0.0, 0.0, 2.0, 2.0, 2.0, 0.0, 0.0, 1.0, 8.0, 1.0, 0.0, 0.0, 1.0, 8.0, 2.0, 5.0, 1.0, 20.0, 1.0, 0.0, 5.0, 0.0, 11.0, 1.0, 1.0, 0.0, 2.0, 0.0, 4.0, 20.0, 27.0, 0.0, 0.0, 0.0, 0.0, 1.0, 0.0, 0.0, 1.0, 0.0, 1.0, 4.0, 0.0, 0.0, 0.0, 2.0, 1.0, 1.0, 1.0, 0.0, 8.0, 2.0, 1.0, 2.0, 2.0, 1.0, 0.0, 1.0, 2.0, 1.0, 1.0, 1.0, 0.0, 0.0, 2.0, 2.0, 1.0, 2.0, 0.0, 0.0, 1.0, 0.0, 2.0, 0.0, 1.0, 0.0, 1.0, 1.0, 0.0, 1.0, 1.0, 0.0, 2.0, 2.0, 0.0, 3.0, 3.0, 0.0, 2.0, 1.0, 1.0, 5.0, 1.0, 1.0, 0.0, 1.0, 0.0, 0.0, 6.0, 3.0, 1.0, 2.0, 1.0, 0.0, 1.0, 0.0, 47.0, 45.0, 2.0, 9.0, 5.0, 4.0, 1.0, 1.0, 0.0, 6.0, 2.0, 1.0, 2.0, 1.0, 0.0, 0.0, 1.0, 0.0, 3.0, 6.0, 1.0, 1.0, 0.0, 0.0, 2.0, 2.0, 1.0, 0.0, 0.0, 0.0, 1.0, 0.0, 0.0, 4.0, 3.0, 3.0, 2.0, 2.0, 0.0, 2.0, 1.0, 1.0, 2.0, 6.0, 3.0, 3.0, 2.0, 1.0, 1.0, 1.0, 6.0, 0.0, 0.0, 2.0, 2.0, 2.0, 2.0, 2.0, 3.0, 3.0, 3.0, 4.0, 2.0, 0.0, 0.0, 38.0, 6.0, 4.0, 0.0, 4.0, 2.0, 4.0, 2.0, 2.0, 1.0, 1.0, 0.0, 0.0, 0.0, 2.0, 0.0, 1.0, 1.0, 2.0, 5.0, 0.0, 0.0, 0.0, 4.0, 0.0, 0.0, 0.0, 3.0, 1.0, 4.0, 4.0, 3.0, 2.0, 7.0, 1.0, 3.0, 1.0, 9.0, 0.0, 0.0, 6.0, 7.0, 1.0, 1.0, 9.0, 0.0, 1.0, 2.0, 2.0, 3.0, 1.0, 0.0, 18.0, 0.0, 1.0, 2.0, 0.0, 4.0, 3.0, 3.0, 3.0, 1.0, 3.0, 1.0, 0.0, 1.0, 4.0, 1.0, 1.0, 2.0, 1.0, 7.0, 0.0, 2.0, 2.0, 1.0, 1.0, 1.0, 20.0, 2.0, 0.0, 0.0, 5.0, 32.0, 0.0, 2.0, 0.0, 10.0, 2.0, 2.0, 3.0, 2.0, 2.0, 2.0, 18.0, 2.0, 4.0, 5.0, 3.0, 4.0, 3.0, 1.0, 0.0, 11.0, 3.0, 2.0, 8.0, 1.0, 1.0, 3.0, 5.0, 3.0, 2.0, 1.0, 0.0, 0.0, 1.0, 4.0, 1.0, 1.0, 1.0, 1.0, 0.0, 3.0, 3.0, 0.0, 5.0, 3.0, 27.0, 1.0, 1.0, 1.0, 0.0, 0.0, 9.0, 2.0, 5.0, 3.0, 1.0, 0.0, 3.0, 1.0, 3.0, 2.0, 0.0, 2.0, 22.0, 3.0, 3.0, 1.0, 1.0, 1.0, 3.0, 1.0, 1.0, 2.0, 0.0, 2.0, 6.0, 1.0, 4.0, 1.0, 1.0, 0.0, 1.0, 0.0, 1.0, 6.0, 7.0, 4.0, 17.0, 2.0, 5.0, 6.0, 6.0, 5.0, 0.0, 1.0, 4.0, 0.0, 13.0, 2.0, 0.0, 0.0, 3.0, 3.0, 0.0, 2.0, 0.0, 0.0, 1.0, 0.0, 8.0, 0.0, 2.0, 2.0, 1.0, 2.0, 4.0, 5.0, 2.0, 2.0, 12.0, 0.0, 2.0, 3.0, 24.0, 2.0, 2.0, 2.0, 4.0, 2.0, 3.0, 4.0, 4.0, 1.0, 3.0, 9.0, 6.0, 4.0, 1.0, 19.0, 16.0, 10.0, 23.0, 4.0, 3.0, 5.0, 1.0, 3.0, 2.0, 1.0, 0.0, 1.0, 1.0, 21.000000000000004, 2.0, 0.0, 2.0, 1.0, 0.0, 1.0, 0.0, 0.0, 8.0, 4.0, 12.0, 0.0, 8.0, 2.0, 7.0, 2.0, 1.0, 2.0, 2.0, 1.0, 0.0, 3.0, 2.0, 0.0, 0.0, 5.0, 1.0, 0.0, 1.0, 3.0, 11.0, 4.0, 0.0, 2.0, 2.0, 2.0, 2.0, 1.0, 1.0, 0.0, 1.0, 0.0, 2.0, 15.0, 6.0, 2.0, 2.0, 8.0, 4.0, 1.0, 1.0, 5.0, 1.0, 0.0, 3.0, 2.0, 0.0, 1.0, 0.0, 1.0, 0.0, 1.0, 1.0, 1.0, 4.0, 1.0, 1.0, 6.0, 0.0, 1.0, 1.0, 1.0, 3.0, 1.0, 2.0, 5.0, 0.0, 2.0, 3.0, 14.0, 0.0, 2.0, 2.0, 10.0, 8.0, 2.0, 0.0, 2.0, 0.0, 0.0, 2.0, 1.0, 0.0, 0.0, 2.0, 1.0, 1.0, 1.0, 5.0, 4.0, 1.0, 4.0, 6.0, 0.0, 2.0, 2.0, 3.0, 37.0, 4.0, 2.0, 2.0, 2.0, 2.0, 1.0, 0.0, 0.0, 1.0, 0.0, 0.0, 0.0, 47.0, 49.0, 1.0, 1.0, 10.0, 3.0, 1.0, 0.0, 2.0, 0.0, 0.0, 3.0, 1.0, 2.0, 7.0, 1.0, 1.0, 2.0, 1.0, 1.0, 1.0, 3.0, 2.0, 0.0, 0.0, 1.0, 0.0, 0.0, 0.0, 3.0, 1.0, 1.0, 1.0, 1.0, 0.0, 4.0, 2.0, 2.0, 0.0, 1.0, 1.0, 3.0, 1.0, 1.0, 4.0, 4.0, 2.0, 0.0, 1.0, 2.0, 1.0, 4.0, 14.0, 2.0, 2.0, 2.0, 1.0, 0.0, 1.0, 5.0, 7.0, 3.0, 10.0, 5.0, 1.0, 3.0, 6.0, 4.0, 3.0, 4.0, 33.0, 4.0, 2.0, 0.0, 0.0, 2.0, 1.0, 1.0, 2.0, 3.0, 1.0, 1.0, 2.0, 9.0, 2.0, 0.0, 2.0, 1.0, 0.0, 2.0, 7.0, 9.0, 29.0, 29.0, 0.0, 4.0, 4.0, 2.0, 0.0, 3.0, 3.0, 1.0, 3.0, 0.0, 2.0, 1.0, 4.0, 4.0, 2.0, 1.0, 12.0, 12.0, 3.0, 4.0, 4.0, 21.000000000000004, 0.0, 2.0, 2.0, 3.0, 0.0, 3.0, 4.0, 1.0, 2.0, 2.0, 1.0, 2.0, 10.0, 5.0, 4.0, 1.0, 2.0, 3.0, 0.0, 0.0, 0.0, 0.0, 1.0, 1.0, 1.0, 0.0, 0.0, 1.0, 0.0, 3.0, 0.0, 5.0, 0.0, 0.0, 25.0, 1.0, 1.0, 5.0, 5.0, 1.0, 0.0, 16.0, 1.0, 1.0, 1.0, 8.0, 2.0, 2.0, 16.0, 1.0, 23.0, 12.0, 1.0, 3.0, 0.0, 2.0, 0.0, 5.0, 4.0, 1.0, 23.0, 3.0, 2.0, 2.0, 3.0, 4.0, 2.0, 3.0, 0.0, 0.0, 8.0, 4.0, 1.0, 0.0, 4.0, 1.0, 0.0, 3.0, 1.0, 0.0, 2.0, 3.0, 6.0, 5.0, 5.0, 0.0, 3.0, 47.0, 1.0, 7.0, 9.0, 2.0, 1.0, 140.0, 3.0, 1.0, 5.0, 6.0, 3.0, 2.0, 15.0, 31.0, 4.0, 3.0, 5.0, 11.0, 1.0, 1.0, 3.0, 2.0, 3.0, 2.0, 3.0, 13.0, 5.0, 2.0, 1.0, 4.0, 6.0, 2.0, 31.0, 2.0, 2.0, 4.0, 1.0, 2.0, 2.0, 0.0, 3.0, 3.0, 1.0, 0.0, 2.0, 1.0, 2.0, 1.0, 1.0, 25.0, 4.0, 5.0, 1.0, 50.0, 2.0, 0.0, 1.0, 1.0, 0.0, 0.0, 4.0, 0.0, 1.0, 1.0, 2.0, 2.0, 1.0, 2.0, 1.0, 0.0, 3.0, 0.0, 3.0, 0.0, 2.0, 0.0, 0.0, 0.0, 1.0, 2.0, 0.0, 0.0, 0.0, 2.0, 1.0, 1.0, 0.0, 2.0, 0.0, 0.0, 5.0, 2.0, 2.0, 0.0, 9.0, 2.0, 3.0, 3.0, 1.0, 1.0, 1.0, 1.0, 2.0, 1.0, 7.0, 72.0, 2.0, 1.0, 2.0, 5.0, 0.0, 0.0, 1.0, 0.0, 2.0, 3.0, 4.0, 2.0, 6.0, 3.0, 14.0, 0.0, 2.0, 3.0, 1.0, 1.0, 2.0, 4.0, 1.0, 1.0, 3.0, 1.0, 1.0, 0.0, 0.0, 1.0, 1.0, 1.0, 1.0, 0.0, 3.0, 2.0, 2.0, 6.0, 3.0, 3.0, 7.0, 2.0, 3.0, 5.0, 4.0, 16.0, 1.0, 1.0, 1.0, 2.0, 0.0, 6.0, 1.0, 0.0, 9.0, 6.0, 2.0, 3.0, 1.0, 4.0, 0.0, 7.0, 3.0, 1.0, 2.0, 2.0, 0.0, 0.0, 1.0, 6.0, 10.0, 1.0, 4.0, 3.0, 0.0, 2.0, 23.0, 1.0, 2.0, 1.0, 1.0, 4.0, 0.0, 0.0, 7.0, 4.0, 0.0, 1.0, 1.0, 0.0, 2.0, 2.0, 7.0, 3.0, 3.0, 5.0, 25.0, 68.0, 66.0, 9.0, 0.0, 3.0, 1.0, 10.0, 2.0, 0.0, 0.0, 8.0, 5.0, 3.0, 3.0, 0.0, 0.0, 1.0, 3.0, 3.0, 4.0, 2.0, 0.0, 0.0, 0.0, 1.0, 7.0, 4.0, 3.0, 5.0, 2.0, 4.0, 4.0, 1.0, 2.0, 0.0, 2.0, 4.0, 0.0, 14.0, 2.0, 3.0, 2.0, 2.0, 2.0, 3.0, 3.0, 4.0, 0.0, 40.0, 4.0, 2.0, 0.0, 15.0, 0.0, 0.0, 0.0, 3.0, 5.0, 5.0, 1.0, 3.0, 2.0, 2.0, 2.0, 1.0, 1.0, 5.0, 5.0, 4.0, 5.0, 1.0, 1.0, 1.0, 0.0, 2.0, 2.0, 2.0, 1.0, 3.0, 1.0, 0.0, 3.0, 2.0, 1.0, 2.0, 0.0, 2.0, 3.0, 3.0, 0.0, 3.0, 18.0, 1.0, 3.0, 3.0, 5.0, 2.0, 1.0, 2.0, 1.0, 1.0, 2.0, 0.0, 2.0, 8.0, 2.0, 2.0, 1.0, 0.0, 2.0, 2.0, 2.0, 2.0, 3.0, 1.0, 0.0, 2.0, 3.0, 0.0, 0.0, 5.0, 1.0, 0.0, 2.0, 1.0, 1.0, 5.0, 14.0, 3.0, 3.0, 11.0, 3.0, 4.0, 3.0, 0.0, 0.0, 1.0, 0.0, 7.0, 1.0, 0.0, 1.0, 1.0, 3.0, 1.0, 0.0, 1.0, 1.0, 1.0, 12.0, 0.0, 4.0, 3.0, 2.0, 3.0, 1.0, 0.0, 0.0, 1.0, 2.0, 5.0, 1.0, 0.0, 2.0, 2.0, 1.0, 1.0, 3.0, 1.0, 0.0, 2.0, 10.0, 7.0, 2.0, 2.0, 0.0, 4.0, 1.0, 2.0, 11.0, 10.0, 2.0, 12.0, 4.0, 3.0, 0.0, 14.0, 4.0, 1.0, 0.0, 1.0, 7.0, 1.0, 2.0, 17.0, 1.0, 2.0, 1.0, 0.0, 2.0, 2.0, 2.0, 0.0, 4.0, 3.0, 3.0, 1.0, 17.0, 5.0, 10.0, 4.0, 2.0, 0.0, 0.0, 1.0, 9.0, 10.0, 1.0, 5.0, 1.0, 10.0, 1.0, 1.0, 0.0, 2.0, 1.0, 5.0, 1.0, 2.0, 6.0, 2.0, 0.0, 14.0, 2.0, 6.0, 4.0, 1.0, 1.0, 2.0, 10.0, 5.0, 4.0, 1.0, 3.0, 5.0, 1.0, 3.0, 18.0, 1.0, 0.0, 1.0, 13.0, 0.0, 4.0, 3.0, 31.0, 2.0, 2.0, 9.0, 0.0, 1.0, 2.0, 1.0, 4.0, 2.0, 0.0, 0.0, 0.0, 1.0, 3.0, 19.0, 18.0, 3.0, 1.0, 13.0, 1.0, 1.0, 0.0, 0.0, 1.0, 5.0, 2.0, 1.0, 2.0, 2.0, 4.0, 6.0, 2.0, 3.0, 1.0, 5.0, 2.0, 0.0, 3.0, 2.0, 6.0, 9.0, 19.0, 2.0, 1.0, 3.0, 5.0, 1.0, 0.0, 0.0, 25.0, 5.0, 0.0, 1.0, 4.0, 0.0, 0.0, 0.0, 0.0, 0.0, 2.0, 0.0, 0.0, 0.0, 1.0, 4.0, 0.0, 0.0, 2.0, 5.0, 4.0, 0.0, 1.0, 3.0, 2.0, 1.0, 3.0, 2.0, 1.0, 1.0, 2.0, 8.0, 8.0, 7.0, 3.0, 4.0, 4.0, 4.0, 5.0, 0.0, 3.0, 4.0, 1.0, 1.0, 3.0, 0.0, 0.0, 1.0, 1.0, 1.0, 1.0, 3.0, 2.0, 1.0, 0.0, 2.0, 0.0, 0.0, 2.0, 0.0, 2.0, 0.0, 1.0, 0.0, 0.0, 0.0, 4.0, 0.0, 0.0, 2.0, 1.0, 0.0, 8.0, 1.0, 0.0, 3.0, 1.0, 10.0, 9.0, 2.0, 0.0, 3.0, 0.0, 3.0, 1.0, 1.0, 4.0, 0.0, 1.0, 1.0, 3.0, 1.0, 0.0, 7.0, 1.0, 16.0, 6.0, 6.0, 6.0, 2.0, 1.0, 2.0, 1.0, 4.0, 6.0, 2.0, 2.0, 2.0, 2.0, 2.0, 2.0, 1.0, 4.0, 3.0, 6.0, 3.0, 1.0, 10.0, 2.0, 0.0, 1.0, 1.0, 6.0, 5.0, 0.0, 7.0, 6.0, 0.0, 24.0, 2.0, 1.0, 0.0, 2.0, 8.0, 4.0, 12.0, 60.0, 6.0, 1.0, 4.0, 3.0, 0.0, 11.0, 3.0, 1.0, 2.0, 2.0, 0.0, 1.0, 4.0, 7.0, 2.0, 3.0, 7.0, 1.0, 2.0, 2.0, 11.0, 38.0, 2.0, 1.0, 1.0, 4.0, 1.0, 3.0, 17.0, 5.0, 1.0, 0.0, 2.0, 1.0, 3.0, 44.0, 3.0, 2.0, 9.0, 0.0, 2.0, 4.0, 1.0, 2.0, 3.0, 7.0, 2.0, 3.0, 2.0, 1.0, 3.0, 2.0, 0.0, 2.0, 10.0, 12.0, 12.0, 1.0, 1.0, 0.0, 109.99999999999999, 4.0, 9.0, 4.0, 2.0, 1.0, 2.0, 0.0, 2.0, 2.0, 3.0, 4.0, 4.0, 1.0, 2.0, 4.0, 6.0, 1.0, 4.0, 5.0, 3.0, 8.0, 1.0, 2.0, 5.0, 2.0, 2.0, 2.0, 1.0, 1.0, 0.0, 2.0, 28.0, 4.0, 4.0, 1.0, 1.0, 7.0, 0.0, 3.0, 1.0, 132.0, 15.0, 2.0, 4.0, 6.0, 1.0, 3.0, 2.0, 3.0, 3.0, 3.0, 0.0, 4.0, 2.0, 2.0, 0.0, 1.0, 0.0, 21.000000000000004, 3.0, 3.0, 2.0, 1.0, 28.0, 2.0, 6.0]\n"
     ]
    }
   ],
   "source": [
    "print(var_percent1)"
   ]
  },
  {
   "cell_type": "markdown",
   "id": "34d003ef",
   "metadata": {},
   "source": [
    "### Now find the non-parameter distribution..."
   ]
  },
  {
   "cell_type": "markdown",
   "id": "c395e8c7",
   "metadata": {},
   "source": [
    "# now create the negative samples..."
   ]
  },
  {
   "cell_type": "code",
   "execution_count": 26,
   "id": "d7de4933",
   "metadata": {},
   "outputs": [
    {
     "name": "stdout",
     "output_type": "stream",
     "text": [
      "chinese chars:  ['帝', '高', '阳', '之', '苗', '裔', '兮', '朕', '皇', '考', '曰', '伯', '庸', '摄', '提', '贞', '于', '孟', '陬', '惟', '庚', '寅', '吾', '以', '降', '览', '揆', '余', '初', '度', '肇', '锡', '嘉', '名', '正', '则', '字', '灵', '均', '纷', '既', '有', '此', '内', '美', '又', '重', '修', '能', '扈', '江', '离', '与', '辟', '芷', '纫', '秋', '兰', '为', '佩', '汩', '若', '将', '不', '及', '恐', '年', '岁', '朝', '搴', '阰', '木', '夕', '揽', '洲', '宿', '莽', '日', '月', '忽', '其', '淹', '春', '代', '序', '草', '零', '落', '人', '迟', '暮', '抚', '壮', '而', '弃', '秽', '何', '改', '乘', '骐', '骥', '驰', '骋', '来', '道', '夫', '先', '路', '昔', '三', '后', '纯', '粹', '固', '众', '芳', '所', '在', '杂', '申', '椒']\n",
      "# of chinese chars:  121\n",
      "度TCGGGTA美T\n",
      "ATCGGGTAAT\n"
     ]
    }
   ],
   "source": [
    "import json\n",
    "import random\n",
    "\n",
    "\n",
    "def replace_a_seq_at_random_pos(s,no_pos,snp_vocab):\n",
    "    if len(s) < no_pos:\n",
    "        raise ValueError(f\"String must be at least {no_pos} characters long.\")\n",
    "    \n",
    "    s_list = list(s) \n",
    "    try:\n",
    "        # Pick a random position in the string\n",
    "        positions = random.sample(range(len(s)), no_pos)\n",
    "\n",
    "        # Generate random snps\n",
    "        letters = random.choices(snp_vocab, k=no_pos)\n",
    "\n",
    "         # Replace the character at pos with the snps\n",
    "        for pos, letter in zip(positions, letters):\n",
    "            s_list[pos] = letter\n",
    "\n",
    "    except:\n",
    "         print(\"error:\", s, no_pos)\n",
    "    \n",
    "    return ''.join(s_list)\n",
    "\n",
    "   \n",
    "\n",
    "\n",
    "SNP_lexicon = SNPDB_RESOURCES_PATH + \"biallele_lexicon.json\"\n",
    "with open(SNP_lexicon) as file:\n",
    "    snp_dict = json.load(file)\n",
    "\n",
    "chinese_chars = [snp_dict[k] for k in snp_dict if \"_\" in k]\n",
    "print(\"chinese chars: \", chinese_chars)\n",
    "print(\"# of chinese chars: \", len(chinese_chars))\n",
    "\n",
    "print(replace_a_seq_at_random_pos(\"ATCGGGTAAT\", 2, chinese_chars))\n",
    "print(replace_a_seq_at_random_pos(\"ATCGGGTAAT\", 0, chinese_chars))\n",
    "\n"
   ]
  },
  {
   "cell_type": "code",
   "execution_count": 27,
   "id": "a4667571",
   "metadata": {},
   "outputs": [
    {
     "name": "stdout",
     "output_type": "stream",
     "text": [
      "0.0 193.0\n",
      "                                             sequence  label  split  no_pos\n",
      "0   TATAATAATAACGAAGATGAGACGACAGTCGACAAGAAAAGCACCA...      0  train     0.0\n",
      "2   AGTCCGCGATATTCTGAGGGGACTTTCGACACAAAAAAGTTGACAC...      0  train     8.0\n",
      "7   AGTGGGAATGGCAAGACGTTCCGAGTAGAAACTCCTTAATGAGTGA...      0  train     1.0\n",
      "9   TTTGCAGCAAAGAAGCCCTAGACCTTGGGAGGCTTTAGATTCCAAC...      0  train     0.0\n",
      "13  GTGAACAACCAGCCCGCCATTCGGTGAAATCCAACGCATATTGGCT...      0  train     5.0\n"
     ]
    },
    {
     "name": "stderr",
     "output_type": "stream",
     "text": [
      "/tmp/ipykernel_297871/2689921125.py:12: SettingWithCopyWarning: \n",
      "A value is trying to be set on a copy of a slice from a DataFrame.\n",
      "Try using .loc[row_indexer,col_indexer] = value instead\n",
      "\n",
      "See the caveats in the documentation: https://pandas.pydata.org/pandas-docs/stable/user_guide/indexing.html#returning-a-view-versus-a-copy\n",
      "  df_to_be_snpified_neg['no_pos'] = samples\n",
      "/tmp/ipykernel_297871/2689921125.py:18: SettingWithCopyWarning: \n",
      "A value is trying to be set on a copy of a slice from a DataFrame.\n",
      "Try using .loc[row_indexer,col_indexer] = value instead\n",
      "\n",
      "See the caveats in the documentation: https://pandas.pydata.org/pandas-docs/stable/user_guide/indexing.html#returning-a-view-versus-a-copy\n",
      "  df_to_be_snpified_neg[\"mut_seq\"] = df_to_be_snpified_neg.apply(lambda row: replace_a_seq_at_random_pos(row['sequence'], int(row['no_pos']), chinese_chars), axis=1)\n"
     ]
    },
    {
     "data": {
      "image/png": "[encoded data removed]",
      "text/plain": [
       "<Figure size 1000x500 with 1 Axes>"
      ]
     },
     "metadata": {},
     "output_type": "display_data"
    }
   ],
   "source": [
    "import matplotlib.pyplot as plt\n",
    "from sklearn.neighbors import KernelDensity\n",
    "\n",
    "data = np.array(var_percent1).reshape(-1, 1)\n",
    "kde = KernelDensity(kernel='gaussian', bandwidth=0.3).fit(data)\n",
    "# Find the negative samples of the data...\n",
    "df_to_be_snpified_neg = df_to_be_snpified[df_to_be_snpified['label']==0]\n",
    "samples = kde.sample(n_samples=df_to_be_snpified_neg.shape[0])\n",
    "samples = np.round(samples.reshape(-1))\n",
    "samples[samples<=0] = 0\n",
    "print(min(samples), max(samples))\n",
    "df_to_be_snpified_neg['no_pos'] = samples\n",
    "print(df_to_be_snpified_neg.head())\n",
    "plt.figure(figsize=(10, 5))\n",
    "plt.hist(samples, bins=500, edgecolor='black', label='Synthetic Data on neg', density=True)\n",
    "\n",
    "\n",
    "df_to_be_snpified_neg[\"mut_seq\"] = df_to_be_snpified_neg.apply(lambda row: replace_a_seq_at_random_pos(row['sequence'], int(row['no_pos']), chinese_chars), axis=1)\n",
    "\n",
    "    "
   ]
  },
  {
   "cell_type": "code",
   "execution_count": 28,
   "id": "13456e66",
   "metadata": {},
   "outputs": [
    {
     "name": "stdout",
     "output_type": "stream",
     "text": [
      "29541\n"
     ]
    },
    {
     "data": {
      "text/html": [
       "<div>\n",
       "<style scoped>\n",
       "    .dataframe tbody tr th:only-of-type {\n",
       "        vertical-align: middle;\n",
       "    }\n",
       "\n",
       "    .dataframe tbody tr th {\n",
       "        vertical-align: top;\n",
       "    }\n",
       "\n",
       "    .dataframe thead th {\n",
       "        text-align: right;\n",
       "    }\n",
       "</style>\n",
       "<table border=\"1\" class=\"dataframe\">\n",
       "  <thead>\n",
       "    <tr style=\"text-align: right;\">\n",
       "      <th></th>\n",
       "      <th>sequence</th>\n",
       "      <th>label</th>\n",
       "      <th>split</th>\n",
       "      <th>no_pos</th>\n",
       "      <th>mut_seq</th>\n",
       "    </tr>\n",
       "  </thead>\n",
       "  <tbody>\n",
       "    <tr>\n",
       "      <th>0</th>\n",
       "      <td>TATAATAATAACGAAGATGAGACGACAGTCGACAAGAAAAGCACCA...</td>\n",
       "      <td>0</td>\n",
       "      <td>train</td>\n",
       "      <td>0.0</td>\n",
       "      <td>TATAATAATAACGAAGATGAGACGACAGTCGACAAGAAAAGCACCA...</td>\n",
       "    </tr>\n",
       "    <tr>\n",
       "      <th>2</th>\n",
       "      <td>AGTCCGCGATATTCTGAGGGGACTTTCGACACAAAAAAGTTGACAC...</td>\n",
       "      <td>0</td>\n",
       "      <td>train</td>\n",
       "      <td>8.0</td>\n",
       "      <td>AGTCC三CGATATTCTG既GGGGACTTTCGACACAAAAAAGTTGACAC...</td>\n",
       "    </tr>\n",
       "    <tr>\n",
       "      <th>7</th>\n",
       "      <td>AGTGGGAATGGCAAGACGTTCCGAGTAGAAACTCCTTAATGAGTGA...</td>\n",
       "      <td>0</td>\n",
       "      <td>train</td>\n",
       "      <td>1.0</td>\n",
       "      <td>AGTGGGAATGGCAAGACGTTCCGAGTAGAAACTCCTTAATGAGTGA...</td>\n",
       "    </tr>\n",
       "    <tr>\n",
       "      <th>9</th>\n",
       "      <td>TTTGCAGCAAAGAAGCCCTAGACCTTGGGAGGCTTTAGATTCCAAC...</td>\n",
       "      <td>0</td>\n",
       "      <td>train</td>\n",
       "      <td>0.0</td>\n",
       "      <td>TTTGCAGCAAAGAAGCCCTAGACCTTGGGAGGCTTTAGATTCCAAC...</td>\n",
       "    </tr>\n",
       "    <tr>\n",
       "      <th>13</th>\n",
       "      <td>GTGAACAACCAGCCCGCCATTCGGTGAAATCCAACGCATATTGGCT...</td>\n",
       "      <td>0</td>\n",
       "      <td>train</td>\n",
       "      <td>5.0</td>\n",
       "      <td>GTGAACAACCAGCCCGCCATTCGGTGAAATCCAACG众ATATTGGCT...</td>\n",
       "    </tr>\n",
       "    <tr>\n",
       "      <th>17</th>\n",
       "      <td>GGCAAGCCTTTGATGTGCGGCCCACGAGGTAATTTGTGACTTTATC...</td>\n",
       "      <td>0</td>\n",
       "      <td>train</td>\n",
       "      <td>0.0</td>\n",
       "      <td>GGCAAGCCTTTGATGTGCGGCCCACGAGGTAATTTGTGACTTTATC...</td>\n",
       "    </tr>\n",
       "    <tr>\n",
       "      <th>20</th>\n",
       "      <td>ACTTATATTTTGGTGTGATGTCTTGATGTCGTTAATGGTACTCTGC...</td>\n",
       "      <td>0</td>\n",
       "      <td>train</td>\n",
       "      <td>2.0</td>\n",
       "      <td>ACTTATATTTTGGTGTGATGTCTTGATGTC三TTAATGGTACTCTGC...</td>\n",
       "    </tr>\n",
       "    <tr>\n",
       "      <th>21</th>\n",
       "      <td>GTGTCCTACTTCAAATGTGTGCAGAAGGAGGTCCTGCCGTCCATGC...</td>\n",
       "      <td>0</td>\n",
       "      <td>train</td>\n",
       "      <td>5.0</td>\n",
       "      <td>GTGTCC秽ACTTCAAATGTGTGCAGAAGGAGGTCCTGCCGTCCATGC...</td>\n",
       "    </tr>\n",
       "    <tr>\n",
       "      <th>22</th>\n",
       "      <td>CTGCATGGGGCTCGTGAATCATAACGCCGTAGTCTAGTCGAGTCCG...</td>\n",
       "      <td>0</td>\n",
       "      <td>train</td>\n",
       "      <td>1.0</td>\n",
       "      <td>CTGCATGGGGCTCGTGAATCATAACGCCGTAGTCTAGTCGAGTCCG...</td>\n",
       "    </tr>\n",
       "    <tr>\n",
       "      <th>26</th>\n",
       "      <td>ATTTCAGGACCAGCACCGGCAGTGGCGGGACCCACACCTACTCCGC...</td>\n",
       "      <td>0</td>\n",
       "      <td>train</td>\n",
       "      <td>3.0</td>\n",
       "      <td>ATTTCAGGA余CAGCACCGGCAGTGGCGGGACCCACACCTACTCCGC...</td>\n",
       "    </tr>\n",
       "    <tr>\n",
       "      <th>29</th>\n",
       "      <td>CCCTTAGTCCCTCCCGAGGAGGGGGCTAGTACCCTGGGGAGCAAAT...</td>\n",
       "      <td>0</td>\n",
       "      <td>train</td>\n",
       "      <td>1.0</td>\n",
       "      <td>CCCTTAGTCCCTCCCGAGGAGGGGGCTAGTACCCTGGGGAGCAAAT...</td>\n",
       "    </tr>\n",
       "    <tr>\n",
       "      <th>33</th>\n",
       "      <td>CCCAGGCTCAGGCTGCTAGCCTACGCCTAATCTCTTTCTCTTCTTG...</td>\n",
       "      <td>0</td>\n",
       "      <td>train</td>\n",
       "      <td>2.0</td>\n",
       "      <td>CCCAGGCTCAGGCTGCTAGCCTACGCCTAATCTCTTTCTCTTCTTG...</td>\n",
       "    </tr>\n",
       "    <tr>\n",
       "      <th>34</th>\n",
       "      <td>CCCCAGCACCCTCCGGGGCAAAACCCAAACGGGCAACCAGGGCTAA...</td>\n",
       "      <td>0</td>\n",
       "      <td>train</td>\n",
       "      <td>6.0</td>\n",
       "      <td>CCCCAGCACCCTCC何GGGCAAA能CCCAAACGGGCAACCAGGGCTAA...</td>\n",
       "    </tr>\n",
       "    <tr>\n",
       "      <th>37</th>\n",
       "      <td>TGAGCACCCATGTGGCACCCACTGCTGGTCCCTGTTTGTGGCTGGG...</td>\n",
       "      <td>0</td>\n",
       "      <td>train</td>\n",
       "      <td>0.0</td>\n",
       "      <td>TGAGCACCCATGTGGCACCCACTGCTGGTCCCTGTTTGTGGCTGGG...</td>\n",
       "    </tr>\n",
       "    <tr>\n",
       "      <th>39</th>\n",
       "      <td>ACAGGAGATGTTTGGGAAGCCAACCGGGGATCCGTGGTGGATGGCG...</td>\n",
       "      <td>0</td>\n",
       "      <td>train</td>\n",
       "      <td>2.0</td>\n",
       "      <td>ACAGGAGATGTTTGGGAAGCCAACCGGGGATCCGTGGTGGATGGCG...</td>\n",
       "    </tr>\n",
       "    <tr>\n",
       "      <th>44</th>\n",
       "      <td>CAGTAGAGCGAACAATGGTAGACCCATGCAGGGTGACGCCCTAGAA...</td>\n",
       "      <td>0</td>\n",
       "      <td>train</td>\n",
       "      <td>0.0</td>\n",
       "      <td>CAGTAGAGCGAACAATGGTAGACCCATGCAGGGTGACGCCCTAGAA...</td>\n",
       "    </tr>\n",
       "    <tr>\n",
       "      <th>46</th>\n",
       "      <td>CCCAATTAATAGCATAAGAGGTCCAGGTGTCTTTTTATTCCAAATA...</td>\n",
       "      <td>0</td>\n",
       "      <td>train</td>\n",
       "      <td>2.0</td>\n",
       "      <td>CCCAATTAATAGCATAAGAGGTCCAGGTGTCTTTTTATTCCAAATA...</td>\n",
       "    </tr>\n",
       "    <tr>\n",
       "      <th>47</th>\n",
       "      <td>GGCGTGAGCCATCGTGCCCAGCCAGATTCTCCATTTCTAACAAGTT...</td>\n",
       "      <td>0</td>\n",
       "      <td>train</td>\n",
       "      <td>4.0</td>\n",
       "      <td>GGCGTGAGCCATCGTGCCCA内CCAGATTCTCCATTTCTAACAAGTT...</td>\n",
       "    </tr>\n",
       "    <tr>\n",
       "      <th>50</th>\n",
       "      <td>ATGGCAGAAGATTGACACCTAGGTCGACTGAGCCTGCGCGCTAGCT...</td>\n",
       "      <td>0</td>\n",
       "      <td>train</td>\n",
       "      <td>13.0</td>\n",
       "      <td>ATGGCAGAAGATTGACACCTAGGTCGACTGAGCCTGCGCGCTAGCT...</td>\n",
       "    </tr>\n",
       "    <tr>\n",
       "      <th>51</th>\n",
       "      <td>GGAGAAGCAGGATATGGCACCTCTTGGATCGCAGCCGTAGGAGTCG...</td>\n",
       "      <td>0</td>\n",
       "      <td>train</td>\n",
       "      <td>2.0</td>\n",
       "      <td>GGAGAAGCAGGATATGGCACCTCT有GGATCGCAGCCGTAGGAGTCG...</td>\n",
       "    </tr>\n",
       "  </tbody>\n",
       "</table>\n",
       "</div>"
      ],
      "text/plain": [
       "                                             sequence  label  split  no_pos  \\\n",
       "0   TATAATAATAACGAAGATGAGACGACAGTCGACAAGAAAAGCACCA...      0  train     0.0   \n",
       "2   AGTCCGCGATATTCTGAGGGGACTTTCGACACAAAAAAGTTGACAC...      0  train     8.0   \n",
       "7   AGTGGGAATGGCAAGACGTTCCGAGTAGAAACTCCTTAATGAGTGA...      0  train     1.0   \n",
       "9   TTTGCAGCAAAGAAGCCCTAGACCTTGGGAGGCTTTAGATTCCAAC...      0  train     0.0   \n",
       "13  GTGAACAACCAGCCCGCCATTCGGTGAAATCCAACGCATATTGGCT...      0  train     5.0   \n",
       "17  GGCAAGCCTTTGATGTGCGGCCCACGAGGTAATTTGTGACTTTATC...      0  train     0.0   \n",
       "20  ACTTATATTTTGGTGTGATGTCTTGATGTCGTTAATGGTACTCTGC...      0  train     2.0   \n",
       "21  GTGTCCTACTTCAAATGTGTGCAGAAGGAGGTCCTGCCGTCCATGC...      0  train     5.0   \n",
       "22  CTGCATGGGGCTCGTGAATCATAACGCCGTAGTCTAGTCGAGTCCG...      0  train     1.0   \n",
       "26  ATTTCAGGACCAGCACCGGCAGTGGCGGGACCCACACCTACTCCGC...      0  train     3.0   \n",
       "29  CCCTTAGTCCCTCCCGAGGAGGGGGCTAGTACCCTGGGGAGCAAAT...      0  train     1.0   \n",
       "33  CCCAGGCTCAGGCTGCTAGCCTACGCCTAATCTCTTTCTCTTCTTG...      0  train     2.0   \n",
       "34  CCCCAGCACCCTCCGGGGCAAAACCCAAACGGGCAACCAGGGCTAA...      0  train     6.0   \n",
       "37  TGAGCACCCATGTGGCACCCACTGCTGGTCCCTGTTTGTGGCTGGG...      0  train     0.0   \n",
       "39  ACAGGAGATGTTTGGGAAGCCAACCGGGGATCCGTGGTGGATGGCG...      0  train     2.0   \n",
       "44  CAGTAGAGCGAACAATGGTAGACCCATGCAGGGTGACGCCCTAGAA...      0  train     0.0   \n",
       "46  CCCAATTAATAGCATAAGAGGTCCAGGTGTCTTTTTATTCCAAATA...      0  train     2.0   \n",
       "47  GGCGTGAGCCATCGTGCCCAGCCAGATTCTCCATTTCTAACAAGTT...      0  train     4.0   \n",
       "50  ATGGCAGAAGATTGACACCTAGGTCGACTGAGCCTGCGCGCTAGCT...      0  train    13.0   \n",
       "51  GGAGAAGCAGGATATGGCACCTCTTGGATCGCAGCCGTAGGAGTCG...      0  train     2.0   \n",
       "\n",
       "                                              mut_seq  \n",
       "0   TATAATAATAACGAAGATGAGACGACAGTCGACAAGAAAAGCACCA...  \n",
       "2   AGTCC三CGATATTCTG既GGGGACTTTCGACACAAAAAAGTTGACAC...  \n",
       "7   AGTGGGAATGGCAAGACGTTCCGAGTAGAAACTCCTTAATGAGTGA...  \n",
       "9   TTTGCAGCAAAGAAGCCCTAGACCTTGGGAGGCTTTAGATTCCAAC...  \n",
       "13  GTGAACAACCAGCCCGCCATTCGGTGAAATCCAACG众ATATTGGCT...  \n",
       "17  GGCAAGCCTTTGATGTGCGGCCCACGAGGTAATTTGTGACTTTATC...  \n",
       "20  ACTTATATTTTGGTGTGATGTCTTGATGTC三TTAATGGTACTCTGC...  \n",
       "21  GTGTCC秽ACTTCAAATGTGTGCAGAAGGAGGTCCTGCCGTCCATGC...  \n",
       "22  CTGCATGGGGCTCGTGAATCATAACGCCGTAGTCTAGTCGAGTCCG...  \n",
       "26  ATTTCAGGA余CAGCACCGGCAGTGGCGGGACCCACACCTACTCCGC...  \n",
       "29  CCCTTAGTCCCTCCCGAGGAGGGGGCTAGTACCCTGGGGAGCAAAT...  \n",
       "33  CCCAGGCTCAGGCTGCTAGCCTACGCCTAATCTCTTTCTCTTCTTG...  \n",
       "34  CCCCAGCACCCTCC何GGGCAAA能CCCAAACGGGCAACCAGGGCTAA...  \n",
       "37  TGAGCACCCATGTGGCACCCACTGCTGGTCCCTGTTTGTGGCTGGG...  \n",
       "39  ACAGGAGATGTTTGGGAAGCCAACCGGGGATCCGTGGTGGATGGCG...  \n",
       "44  CAGTAGAGCGAACAATGGTAGACCCATGCAGGGTGACGCCCTAGAA...  \n",
       "46  CCCAATTAATAGCATAAGAGGTCCAGGTGTCTTTTTATTCCAAATA...  \n",
       "47  GGCGTGAGCCATCGTGCCCA内CCAGATTCTCCATTTCTAACAAGTT...  \n",
       "50  ATGGCAGAAGATTGACACCTAGGTCGACTGAGCCTGCGCGCTAGCT...  \n",
       "51  GGAGAAGCAGGATATGGCACCTCT有GGATCGCAGCCGTAGGAGTCG...  "
      ]
     },
     "execution_count": 28,
     "metadata": {},
     "output_type": "execute_result"
    }
   ],
   "source": [
    "print(len(df_to_be_snpified_neg))\n",
    "df_to_be_snpified_neg.head(20)"
   ]
  },
  {
   "cell_type": "code",
   "execution_count": 29,
   "id": "21bbb5d3",
   "metadata": {},
   "outputs": [
    {
     "name": "stdout",
     "output_type": "stream",
     "text": [
      "(28361, 13)   #chrom  chromStart  chromEnd       name  score strand  thickStart  thickEnd  \\\n",
      "0   chr1      959245    959305    NOC2L_1    900      -      959245    959256   \n",
      "1   chr1      960583    960643   KLHL17_1    900      +      960632    960643   \n",
      "2   chr1      966432    966492  PLEKHN1_1    900      +      966481    966492   \n",
      "3   chr1      976670    976730    PERM1_1    900      -      976670    976681   \n",
      "4   chr1     1000086   1000146     HES4_1    900      -     1000086   1000097   \n",
      "\n",
      "                                             ref_seq  \\\n",
      "0  GGGGCGGACACCGGCGTCACCGCGTCCTACGGAGCCGGGCGCCGAG...   \n",
      "1  TCTCGGAGGAGGAGGAGGGCGAGGCCTGGTGGGGGGCTTCCCGGAG...   \n",
      "2  GCCTGGAAGGTCGCCCCGGGTTCACCAAGCCGGAGCACAAGCAGGT...   \n",
      "3  GTGGGAGGCGGTTCCCGGGGTTGGCGGGGGGAGTGGGAGGCGGTTC...   \n",
      "4  CCGGCTGCATCGGGGAGCGCGGGATCACCCGGCCCTGTCCCCAGCG...   \n",
      "\n",
      "                                             mut_seq  \\\n",
      "0  GGGGCGGACACCGGCGTCACCGCGTCCTACGGAGCCGGGCGCCGAG...   \n",
      "1  TCT则GG高GGAGGAGGAGGGCG高GGCC摄GG摄GGGGGGCTTCCCGGAG...   \n",
      "2  GCCTGGAAGGTCGCCCCGGGTTCACCAAGCCGGAGCACAAGCAGGT...   \n",
      "3  G摄GGG正GG正GG摄TCC则GGGG摄兰G秋则GGGGGGAG摄GG正AGGCGGTTC...   \n",
      "4  CCGGCTGCATC高GGGAGCGCGGGATCACCCGGCCCTGTCCCCAGCG...   \n",
      "\n",
      "                                            sequence  label  split  \n",
      "0  GGGGCGGACACCGGCGTCACCGCGTCCTACGGAGCCGGGCGCCGAG...    1.0  train  \n",
      "1  TCTCGGAGGAGGAGGAGGGCGAGGCCTGGTGGGGGGCTTCCCGGAG...    1.0    dev  \n",
      "2  GCCTGGAAGGTCGCCCCGGGTTCACCAAGCCGGAGCACAAGCAGGT...    1.0  train  \n",
      "3  GTGGGAGGCGGTTCCCGGGGTTGGCGGGGGGAGTGGGAGGCGGTTC...    1.0  train  \n",
      "4  CCGGCTGCATCGGGGAGCGCGGGATCACCCGGCCCTGTCCCCAGCG...    1.0    dev  \n"
     ]
    }
   ],
   "source": [
    "print(merged_df_pos.shape, merged_df_pos.head())"
   ]
  },
  {
   "cell_type": "code",
   "execution_count": 30,
   "id": "4e8c2338",
   "metadata": {},
   "outputs": [
    {
     "name": "stdout",
     "output_type": "stream",
     "text": [
      "(57902, 4)                                             sequence  \\\n",
      "0  GGGGCGGACACCGGCGTCACCGCGTCCTACGGAGCCGGGCGCCGAG...   \n",
      "1  TCTCGGAGGAGGAGGAGGGCGAGGCCTGGTGGGGGGCTTCCCGGAG...   \n",
      "2  GCCTGGAAGGTCGCCCCGGGTTCACCAAGCCGGAGCACAAGCAGGT...   \n",
      "3  GTGGGAGGCGGTTCCCGGGGTTGGCGGGGGGAGTGGGAGGCGGTTC...   \n",
      "4  CCGGCTGCATCGGGGAGCGCGGGATCACCCGGCCCTGTCCCCAGCG...   \n",
      "\n",
      "                                             mut_seq  label  split  \n",
      "0  GGGGCGGACACCGGCGTCACCGCGTCCTACGGAGCCGGGCGCCGAG...    1.0  train  \n",
      "1  TCT则GG高GGAGGAGGAGGGCG高GGCC摄GG摄GGGGGGCTTCCCGGAG...    1.0    dev  \n",
      "2  GCCTGGAAGGTCGCCCCGGGTTCACCAAGCCGGAGCACAAGCAGGT...    1.0  train  \n",
      "3  G摄GGG正GG正GG摄TCC则GGGG摄兰G秋则GGGGGGAG摄GG正AGGCGGTTC...    1.0  train  \n",
      "4  CCGGCTGCATC高GGGAGCGCGGGATCACCCGGCCCTGTCCCCAGCG...    1.0    dev  \n"
     ]
    }
   ],
   "source": [
    "# Finally concat these two df....\n",
    "snpified_df = pd.concat([merged_df_pos[['sequence', 'mut_seq', 'label', 'split']], df_to_be_snpified_neg[['sequence', 'mut_seq', 'label', 'split']]])\n",
    "print(snpified_df.shape, snpified_df.head())"
   ]
  },
  {
   "cell_type": "code",
   "execution_count": 31,
   "id": "597fe218",
   "metadata": {},
   "outputs": [],
   "source": [
    "# input_file = \"/dccstor/bmfm-targets1/data/omics/genome/MPRA/sup_nature/2023-03-03628-s5/2023-03-03628C-Table S3 - large-scale lib design_K562.csv\"\n",
    "# This is the processed output path...\n",
    "from pathlib import Path\n",
    "\n",
    "base_path = Path('/dccstor/bmfm-targets1/data/omics/genome/finetune_datasets/promoter_prediction/DNA_BERT2')\n",
    "output_dir1 = base_path \n",
    "#output_dir1.mkdir(parents=True, exist_ok=False)\n",
    "output1_path = str(output_dir1 / 'promoters_snpified_300.csv')\n",
    "\n",
    "\n",
    "snpified_df.to_csv(output1_path, index=False)"
   ]
  },
  {
   "cell_type": "code",
   "execution_count": 32,
   "id": "4fc4b6d8",
   "metadata": {},
   "outputs": [],
   "source": [
    "# Generate new ref_genome\n",
    "ref_gen_dir = output_dir1 / \"ref_genome\"\n",
    "!mkdir -p \"$ref_gen_dir\"\n",
    "snpified_df.loc[snpified_df['split']=='train',[\"sequence\",\"label\"]].to_csv(ref_gen_dir / 'train.csv', index=False)\n",
    "snpified_df.loc[snpified_df['split']=='test',[\"sequence\",\"label\"]].to_csv(ref_gen_dir / 'test.csv', index=False)\n",
    "snpified_df.loc[snpified_df['split']=='dev',[\"sequence\",\"label\"]].to_csv(ref_gen_dir / 'dev.csv', index=False)\n",
    "\n",
    "snp_gen_dir = output_dir1 / \"snp_genome\"\n",
    "!mkdir -p \"$snp_gen_dir\"\n",
    "snpified_df.loc[snpified_df['split']=='train',[\"mut_seq\",\"label\"]].to_csv(snp_gen_dir / 'train.csv', index=False)\n",
    "snpified_df.loc[snpified_df['split']=='test',[\"mut_seq\",\"label\"]].to_csv(snp_gen_dir / 'test.csv', index=False)\n",
    "snpified_df.loc[snpified_df['split']=='dev',[\"mut_seq\",\"label\"]].to_csv(snp_gen_dir / 'dev.csv', index=False)\n",
    "\n"
   ]
  },
  {
   "cell_type": "code",
   "execution_count": 1,
   "id": "a6db3a9e",
   "metadata": {},
   "outputs": [
    {
     "name": "stdout",
     "output_type": "stream",
     "text": [
      "(57902, 2)                                              mut_seq  label\n",
      "0  GGGGCGGACACCGGCGTCACCGCGTCCTACGGAGCCGGGCGCCGAG...      1\n",
      "1  GCCTGGAAGGTCGCCCCGGGTTCACCAAGCCGGAGCACAAGCAGGT...      1\n",
      "2  G摄GGG正GG正GG摄TCC则GGGG摄兰G秋则GGGGGGAG摄GG正AGGCGGTTC...      1\n",
      "3  ATGGCATGCGGGGCCCC则GCCCGCGCCCC正CTCCGACACCGCTGGG...      1\n",
      "4  GATATTT高GGTGTT则CC高GGGTGTTGGG摄GGGGG摄GGGGATGCCGT...      1\n"
     ]
    }
   ],
   "source": [
    "import pandas as pd\n",
    "\n",
    "df_combined = pd.read_csv(\"/dccstor/bmfm-targets1/data/omics/genome/finetune_datasets/promoter_prediction/DNA_BERT2/snpified_v1/snp_genome/combined.csv\")\n",
    "\n"
   ]
  },
  {
   "cell_type": "code",
   "execution_count": 2,
   "id": "aaf21d34",
   "metadata": {},
   "outputs": [
    {
     "name": "stdout",
     "output_type": "stream",
     "text": [
      "(28361, 2)\n"
     ]
    }
   ],
   "source": [
    "df_combined_pos = df_combined[df_combined['label'] == 1]\n",
    "print(df_combined_pos.shape)"
   ]
  },
  {
   "cell_type": "code",
   "execution_count": 4,
   "id": "145875e5",
   "metadata": {},
   "outputs": [
    {
     "name": "stdout",
     "output_type": "stream",
     "text": [
      "(28361, 2)                                               mut_seq  label\n",
      "0   GGGGCGGACACCGGCGTCACCGCGTCCTACGGAGCCGGGCGCCGAG...      1\n",
      "1   GCCTGGAAGGTCGCCCCGGGTTCACCAAGCCGGAGCACAAGCAGGT...      1\n",
      "2   G摄GGG正GG正GG摄TCC则GGGG摄兰G秋则GGGGGGAG摄GG正AGGCGGTTC...      1\n",
      "3   ATGGCATGCGGGGCCCC则GCCCGCGCCCC正CTCCGACACCGCTGGG...      1\n",
      "4   GATATTT高GGTGTT则CC高GGGTGTTGGG摄GGGGG摄GGGGATGCCGT...      1\n",
      "5   ACGGCCGCGCCGGGCGCTGCGTCCCGGGGCTTTGTTCGCGGCGGCG...      1\n",
      "6   TGGGAGGGCCGGGCGGAGGGGCAGCAACTGGGGCTCAGGCTCAGGC...      1\n",
      "7   CACCAGGCAGGCGGCCTCTGAGGTGT则GACGGGCCTCCAGGGGACT...      1\n",
      "8   CCCCTGCACTGGGGACACCAATGTGGCCGCAGACTTTGCATAGAAA...      1\n",
      "9   GTGGCCAGAATTTGTGGAGACCTCTCGGGGACTCGCAGATACCACC...      1\n",
      "10  CTTTTTGCTGAGGGTCGAGCCGCAGGCCAGGCCCTACTGTGCCCTG...      1\n",
      "11  CCGGACTCGCGAGTGCGCAGGCGCCGCCGGCTCGGGGCGGTGCGCG...      1\n",
      "12  GGGGAGGGAAGCGCGCGGCTTCGGGGTCTGGGGCTCTCGCGCCCAC...      1\n",
      "13  AGTTA则GGGGGCTGTGGGGCTGCAGTAGGTGCCGTAGAG则GACTGC...      1\n",
      "14  CCACATTTCCACCGACTGTCCCCGGAGACGGCCGTGGCAGGCCCCG...      1\n",
      "15  CGCGCCGCGCCCCGCCCCGCCTGTCACCGCCGGGGAGCGTCGCCAA...      1\n",
      "16  GAATGCACGCCCGCGAGAGCGCGGGGTGACCGCGTGGTTGGTGCGC...      1\n",
      "17  GTTTTTCAGAGACAAGCAGCCTTCCCTGTTCTCCGCTCCCCAGCCT...      1\n",
      "18  GTCCACGCCCCGTGGCCTCTGTAGCTGGAGGTCAAGATGCAGGTGG...      1\n",
      "19  TCCCGCTCCCGGCCCCTCGGCGACTTCCGGACCGTGCGGGTTGGGT...      1\n"
     ]
    }
   ],
   "source": [
    "print(df_combined_pos.shape, df_combined_pos.head(20))"
   ]
  },
  {
   "cell_type": "code",
   "execution_count": 13,
   "id": "e8321e6e",
   "metadata": {},
   "outputs": [
    {
     "name": "stdout",
     "output_type": "stream",
     "text": [
      "0.2066115702479339\n"
     ]
    }
   ],
   "source": [
    "unique_chars = (''.join(df_combined_pos['mut_seq']))\n",
    "non_acgtn_chars = {c for c in unique_chars if c not in 'ACGTN'}\n",
    "print(len(non_acgtn_chars)/121)\n"
   ]
  },
  {
   "cell_type": "code",
   "execution_count": null,
   "id": "01f73603",
   "metadata": {},
   "outputs": [],
   "source": []
  }
 ],
 "metadata": {
  "kernelspec": {
   "display_name": "bmfm_targets",
   "language": "python",
   "name": "python3"
  },
  "language_info": {
   "codemirror_mode": {
    "name": "ipython",
    "version": 3
   },
   "file_extension": ".py",
   "mimetype": "text/x-python",
   "name": "python",
   "nbconvert_exporter": "python",
   "pygments_lexer": "ipython3",
   "version": "3.11.10"
  }
 },
 "nbformat": 4,
 "nbformat_minor": 5
}
