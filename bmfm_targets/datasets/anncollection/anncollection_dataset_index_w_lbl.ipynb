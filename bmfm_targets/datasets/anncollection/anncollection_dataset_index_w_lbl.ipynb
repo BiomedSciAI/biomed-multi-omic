{
 "cells": [
  {
   "cell_type": "markdown",
   "id": "a9e18538",
   "metadata": {},
   "source": [
    "# How it works\n",
    "\n",
    "**AnnCollectionDataset** directly reads h5ad files through [AnnCollection](https://anndata.readthedocs.io/en/latest/tutorials/notebooks/anncollection.html) and serve data using [LitData](https://github.com/Lightning-AI/litdata) frontend. To use dataset, we first need to prepare dataset index folder that has multiple splits."
   ]
  },
  {
   "cell_type": "markdown",
   "id": "b37610cb",
   "metadata": {},
   "source": [
    "# Building LitData index"
   ]
  },
  {
   "cell_type": "code",
   "execution_count": 1,
   "id": "9ebcac99",
   "metadata": {},
   "outputs": [],
   "source": [
    "from pathlib import Path\n"
   ]
  },
  {
   "cell_type": "code",
   "execution_count": 2,
   "id": "88221d8a",
   "metadata": {},
   "outputs": [
    {
     "data": {
      "text/plain": [
       "PosixPath('/dccstor/bmfm-targets/data/omics/transcriptome/scRNA/finetune')"
      ]
     },
     "execution_count": 2,
     "metadata": {},
     "output_type": "execute_result"
    }
   ],
   "source": [
    "src_root = Path(\"/dccstor/bmfm-targets/data/omics/transcriptome/scRNA/finetune\")#(\"/proj/bmfm/usr/data\")#\n",
    "src_root"
   ]
  },
  {
   "cell_type": "code",
   "execution_count": 3,
   "id": "02e839c1",
   "metadata": {},
   "outputs": [
    {
     "data": {
      "text/plain": [
       "PosixPath('/dccstor/bmfm-targets/data/omics/transcriptome/scRNA/finetune/AnnCollection')"
      ]
     },
     "execution_count": 3,
     "metadata": {},
     "output_type": "execute_result"
    }
   ],
   "source": [
    "dst_root = src_root / \"AnnCollection\"\n",
    "dst_root"
   ]
  },
  {
   "cell_type": "markdown",
   "id": "71af9ff1",
   "metadata": {},
   "source": [
    "# Prepare dataset"
   ]
  },
  {
   "cell_type": "code",
   "execution_count": 4,
   "id": "c0fc4385",
   "metadata": {},
   "outputs": [
    {
     "name": "stderr",
     "output_type": "stream",
     "text": [
      "/u/a1kosugi/.conda/envs/bmfm_til/lib/python3.10/site-packages/torchvision/io/image.py:13: UserWarning: Failed to load image Python extension: '/dccstor/bmfm-targets/users/a1kosugi/.conda/envs/bmfm_til/lib/python3.10/site-packages/torchvision/image.so: undefined symbol: _ZN3c1017RegisterOperatorsD1Ev'If you don't plan on using image functionality from `torchvision.io`, you can ignore this warning. Otherwise, there might be something wrong with your environment. Did you have `libjpeg` or `libpng` installed before building `torchvision` from source?\n",
      "  warn(\n",
      "/u/a1kosugi/.conda/envs/bmfm_til/lib/python3.10/site-packages/pandera/engines/pandas_engine.py:67: UserWarning: Using typeguard < 3. Generic types like List[TYPE], Dict[TYPE, TYPE] will only validate the first element in the collection.\n",
      "  warnings.warn(\n"
     ]
    }
   ],
   "source": [
    "from bmfm_targets import config\n",
    "from bmfm_targets.config import LabelColumnInfo\n",
    "from bmfm_targets.datasets.anncollection import AnnCollectionDataModule\n",
    "from bmfm_targets.tokenization import get_gene2vec_tokenizer"
   ]
  },
  {
   "cell_type": "code",
   "execution_count": 21,
   "id": "25c2c8a5",
   "metadata": {},
   "outputs": [
    {
     "data": {
      "text/plain": [
       "<module 'bmfm_targets.datasets.anncollection' from '/dccstor/bmfm-targets/users/a1kosugi/gsetests/bmfm/bmfm_targets/datasets/anncollection/__init__.py'>"
      ]
     },
     "execution_count": 21,
     "metadata": {},
     "output_type": "execute_result"
    }
   ],
   "source": [
    "from importlib import reload\n",
    "\n",
    "import bmfm_targets.datasets.anncollection\n",
    "\n",
    "reload(bmfm_targets.datasets.anncollection)"
   ]
  },
  {
   "cell_type": "code",
   "execution_count": 22,
   "id": "98453e6f",
   "metadata": {},
   "outputs": [
    {
     "data": {
      "text/plain": [
       "<module 'bmfm_targets.datasets.anncollection.anncollection_dataset' from '/dccstor/bmfm-targets/users/a1kosugi/gsetests/bmfm/bmfm_targets/datasets/anncollection/anncollection_dataset.py'>"
      ]
     },
     "execution_count": 22,
     "metadata": {},
     "output_type": "execute_result"
    }
   ],
   "source": [
    "from importlib import reload\n",
    "\n",
    "import bmfm_targets.datasets.anncollection.anncollection_dataset\n",
    "\n",
    "reload(bmfm_targets.datasets.anncollection.anncollection_dataset)\n"
   ]
  },
  {
   "cell_type": "markdown",
   "id": "8e57e5ad",
   "metadata": {},
   "source": [
    "### Prepare index for 3 sets of data sources."
   ]
  },
  {
   "cell_type": "code",
   "execution_count": 5,
   "id": "d376c1a0",
   "metadata": {},
   "outputs": [],
   "source": [
    "def gene2vec_fields():\n",
    "    gene2vec_field_dicts = [\n",
    "        {\n",
    "            \"field_name\": \"genes\",\n",
    "            \"pretrained_embedding\": None,\n",
    "            \"is_masked\": False,\n",
    "            \"vocab_update_strategy\": \"static\",\n",
    "        },\n",
    "        {\n",
    "            \"field_name\": \"expressions\",\n",
    "            \"pretrained_embedding\": None,\n",
    "            \"is_masked\": True,\n",
    "            \"vocab_update_strategy\": \"static\",\n",
    "        },\n",
    "    ]\n",
    "\n",
    "    gene2vec_fields = [config.FieldInfo(**fd) for fd in gene2vec_field_dicts]\n",
    "    tokenizer = get_gene2vec_tokenizer()\n",
    "    for field in gene2vec_fields:\n",
    "        field.update_vocab_size(tokenizer)\n",
    "    return gene2vec_fields"
   ]
  },
  {
   "cell_type": "code",
   "execution_count": 6,
   "id": "062d3e57",
   "metadata": {},
   "outputs": [],
   "source": [
    "params ={\n",
    "    \"test_scp259changepi\": {\n",
    "        \"src\": [src_root / \"scIBD300K\" / \"processed_42.h5ad\", src_root / \"ChangEpi\" / \"processed_42.h5ad\"],\n",
    "        \"labels\":[\"celltype\", \"Final_CellType\"]\n",
    "    },\n",
    "    \"test_scp259changall\": {\n",
    "        \"src\": [src_root / \"scIBD300K\" / \"processed_42.h5ad\", src_root / \"ChangAll\" / \"processed_42.h5ad\"],\n",
    "        \"labels\":[\"celltype\", \"Final_CellType\"]\n",
    "    },\n",
    "    \"test_scp259changall_gp\": {\n",
    "        \"src\": [src_root / \"scIBD300K\" / \"processed_42.h5ad\", src_root / \"ChangAll\" / \"processed_Group_CellType_42.h5ad\"],\n",
    "        \"labels\":[\"celltype\", \"Group_CellType\"]\n",
    "    },\n",
    "}\n",
    "# \"Celltype\" for scp1884"
   ]
  },
  {
   "cell_type": "code",
   "execution_count": 7,
   "id": "ac6819ba",
   "metadata": {},
   "outputs": [
    {
     "name": "stdout",
     "output_type": "stream",
     "text": [
      "preparing for test_scp259changepi\n"
     ]
    },
    {
     "name": "stderr",
     "output_type": "stream",
     "text": [
      "/u/a1kosugi/.conda/envs/bmfm_til/lib/python3.10/site-packages/anndata/__init__.py:55: FutureWarning: `anndata.read` is deprecated, use `anndata.read_h5ad` instead. `ad.read` will be removed in mid 2024.\n",
      "  warnings.warn(\n",
      "/u/a1kosugi/.conda/envs/bmfm_til/lib/python3.10/site-packages/anndata/__init__.py:55: FutureWarning: `anndata.read` is deprecated, use `anndata.read_h5ad` instead. `ad.read` will be removed in mid 2024.\n",
      "  warnings.warn(\n",
      "/u/a1kosugi/.conda/envs/bmfm_til/lib/python3.10/site-packages/anndata/__init__.py:55: FutureWarning: `anndata.read` is deprecated, use `anndata.read_h5ad` instead. `ad.read` will be removed in mid 2024.\n",
      "  warnings.warn(\n",
      "/u/a1kosugi/.conda/envs/bmfm_til/lib/python3.10/site-packages/anndata/__init__.py:55: FutureWarning: `anndata.read` is deprecated, use `anndata.read_h5ad` instead. `ad.read` will be removed in mid 2024.\n",
      "  warnings.warn(\n",
      "/u/a1kosugi/.conda/envs/bmfm_til/lib/python3.10/site-packages/anndata/__init__.py:55: FutureWarning: `anndata.read` is deprecated, use `anndata.read_h5ad` instead. `ad.read` will be removed in mid 2024.\n",
      "  warnings.warn(\n",
      "/u/a1kosugi/.conda/envs/bmfm_til/lib/python3.10/site-packages/anndata/__init__.py:55: FutureWarning: `anndata.read` is deprecated, use `anndata.read_h5ad` instead. `ad.read` will be removed in mid 2024.\n",
      "  warnings.warn(\n"
     ]
    },
    {
     "name": "stdout",
     "output_type": "stream",
     "text": [
      "preparing for test_scp259changall\n"
     ]
    },
    {
     "name": "stderr",
     "output_type": "stream",
     "text": [
      "/u/a1kosugi/.conda/envs/bmfm_til/lib/python3.10/site-packages/anndata/__init__.py:55: FutureWarning: `anndata.read` is deprecated, use `anndata.read_h5ad` instead. `ad.read` will be removed in mid 2024.\n",
      "  warnings.warn(\n",
      "/u/a1kosugi/.conda/envs/bmfm_til/lib/python3.10/site-packages/anndata/__init__.py:55: FutureWarning: `anndata.read` is deprecated, use `anndata.read_h5ad` instead. `ad.read` will be removed in mid 2024.\n",
      "  warnings.warn(\n",
      "/u/a1kosugi/.conda/envs/bmfm_til/lib/python3.10/site-packages/anndata/__init__.py:55: FutureWarning: `anndata.read` is deprecated, use `anndata.read_h5ad` instead. `ad.read` will be removed in mid 2024.\n",
      "  warnings.warn(\n",
      "/u/a1kosugi/.conda/envs/bmfm_til/lib/python3.10/site-packages/anndata/__init__.py:55: FutureWarning: `anndata.read` is deprecated, use `anndata.read_h5ad` instead. `ad.read` will be removed in mid 2024.\n",
      "  warnings.warn(\n",
      "/u/a1kosugi/.conda/envs/bmfm_til/lib/python3.10/site-packages/anndata/__init__.py:55: FutureWarning: `anndata.read` is deprecated, use `anndata.read_h5ad` instead. `ad.read` will be removed in mid 2024.\n",
      "  warnings.warn(\n",
      "/u/a1kosugi/.conda/envs/bmfm_til/lib/python3.10/site-packages/anndata/__init__.py:55: FutureWarning: `anndata.read` is deprecated, use `anndata.read_h5ad` instead. `ad.read` will be removed in mid 2024.\n",
      "  warnings.warn(\n"
     ]
    },
    {
     "name": "stdout",
     "output_type": "stream",
     "text": [
      "preparing for test_scp259changall_gp\n"
     ]
    },
    {
     "name": "stderr",
     "output_type": "stream",
     "text": [
      "/u/a1kosugi/.conda/envs/bmfm_til/lib/python3.10/site-packages/anndata/__init__.py:55: FutureWarning: `anndata.read` is deprecated, use `anndata.read_h5ad` instead. `ad.read` will be removed in mid 2024.\n",
      "  warnings.warn(\n",
      "/u/a1kosugi/.conda/envs/bmfm_til/lib/python3.10/site-packages/anndata/__init__.py:55: FutureWarning: `anndata.read` is deprecated, use `anndata.read_h5ad` instead. `ad.read` will be removed in mid 2024.\n",
      "  warnings.warn(\n",
      "/u/a1kosugi/.conda/envs/bmfm_til/lib/python3.10/site-packages/anndata/__init__.py:55: FutureWarning: `anndata.read` is deprecated, use `anndata.read_h5ad` instead. `ad.read` will be removed in mid 2024.\n",
      "  warnings.warn(\n",
      "/u/a1kosugi/.conda/envs/bmfm_til/lib/python3.10/site-packages/anndata/__init__.py:55: FutureWarning: `anndata.read` is deprecated, use `anndata.read_h5ad` instead. `ad.read` will be removed in mid 2024.\n",
      "  warnings.warn(\n",
      "/u/a1kosugi/.conda/envs/bmfm_til/lib/python3.10/site-packages/anndata/__init__.py:55: FutureWarning: `anndata.read` is deprecated, use `anndata.read_h5ad` instead. `ad.read` will be removed in mid 2024.\n",
      "  warnings.warn(\n",
      "/u/a1kosugi/.conda/envs/bmfm_til/lib/python3.10/site-packages/anndata/__init__.py:55: FutureWarning: `anndata.read` is deprecated, use `anndata.read_h5ad` instead. `ad.read` will be removed in mid 2024.\n",
      "  warnings.warn(\n"
     ]
    }
   ],
   "source": [
    "for key in params:\n",
    "    print(f\"preparing for {key}\")\n",
    "    label_columns = [LabelColumnInfo(label_column_name=label, is_stratification_label=True) for label in params[key][\"labels\"]]\n",
    "    dataset_kwargs = {\n",
    "        \"dataset_paths\": params[key][\"src\"],\n",
    "        #\"dataset_dir\": dst_root / key / \"data\",\n",
    "        \"index_dir\": dst_root / key / \"index\",\n",
    "    }\n",
    "    #transform_kwargs = {\n",
    "    #    \"stratifying_labels\": params[key][\"labels\"],\n",
    "    #}\n",
    "    tokenizer = get_gene2vec_tokenizer()\n",
    "    pars = {\n",
    "        \"tokenizer\": tokenizer,\n",
    "        \"batch_size\": 2,\n",
    "        \"fields\": gene2vec_fields(),\n",
    "        \"num_workers\": 8,\n",
    "        \"mlm\": False,\n",
    "        \"shuffle\": True,\n",
    "        \"sequence_order\": \"sorted\",\n",
    "        \"collation_strategy\": \"sequence_classification\",\n",
    "        \"label_columns\": label_columns,\n",
    "        \"dataset_kwargs\": dataset_kwargs,\n",
    "        \"transform_datasets\":True,\n",
    "        #\"transform_kwargs\": transform_kwargs,\n",
    "    }\n",
    "    datamodule = AnnCollectionDataModule(**pars)\n",
    "    datamodule.prepare_data()\n",
    "    datamodule.setup(\"fit\")"
   ]
  },
  {
   "cell_type": "markdown",
   "id": "1b1083e2",
   "metadata": {},
   "source": [
    "### Parameters that normally have to be set in yaml file (see PanglaoDB yaml files)."
   ]
  },
  {
   "cell_type": "code",
   "execution_count": null,
   "id": "0fa93941",
   "metadata": {},
   "outputs": [],
   "source": [
    "dataset_kwargs = {\n",
    "    \"dataset_dir\": dst_root / \"changall_scp1884_scp259\" / \"ALL\",\n",
    "    \"index_dir\": dst_root / \"changall_scp1884_scp259\" / \"litdata_index\",\n",
    "    \"label_columns\": [\"Celltype\", \"celltype\", \"Final_CellType\"],\n",
    "}\n",
    "tokenizer = get_gene2vec_tokenizer()\n",
    "pars = {\n",
    "    \"tokenizer\": tokenizer,\n",
    "    \"batch_size\": 2,\n",
    "    \"fields\": gene2vec_fields(),\n",
    "    \"num_workers\": 8,\n",
    "    \"mlm\": False,\n",
    "    \"collation_strategy\": \"sequence_classification\",\n",
    "    \"dataset_kwargs\": dataset_kwargs,\n",
    "}"
   ]
  },
  {
   "cell_type": "code",
   "execution_count": 12,
   "id": "32432a55",
   "metadata": {},
   "outputs": [
    {
     "name": "stderr",
     "output_type": "stream",
     "text": [
      "/u/a1kosugi/.conda/envs/bmfm_til/lib/python3.10/site-packages/anndata/__init__.py:55: FutureWarning: `anndata.read` is deprecated, use `anndata.read_h5ad` instead. `ad.read` will be removed in mid 2024.\n",
      "  warnings.warn(\n",
      "/u/a1kosugi/.conda/envs/bmfm_til/lib/python3.10/site-packages/anndata/__init__.py:55: FutureWarning: `anndata.read` is deprecated, use `anndata.read_h5ad` instead. `ad.read` will be removed in mid 2024.\n",
      "  warnings.warn(\n"
     ]
    },
    {
     "name": "stderr",
     "output_type": "stream",
     "text": [
      "/u/a1kosugi/.conda/envs/bmfm_til/lib/python3.10/site-packages/anndata/__init__.py:55: FutureWarning: `anndata.read` is deprecated, use `anndata.read_h5ad` instead. `ad.read` will be removed in mid 2024.\n",
      "  warnings.warn(\n",
      "/u/a1kosugi/.conda/envs/bmfm_til/lib/python3.10/site-packages/anndata/__init__.py:55: FutureWarning: `anndata.read` is deprecated, use `anndata.read_h5ad` instead. `ad.read` will be removed in mid 2024.\n",
      "  warnings.warn(\n",
      "/u/a1kosugi/.conda/envs/bmfm_til/lib/python3.10/site-packages/anndata/__init__.py:55: FutureWarning: `anndata.read` is deprecated, use `anndata.read_h5ad` instead. `ad.read` will be removed in mid 2024.\n",
      "  warnings.warn(\n",
      "/u/a1kosugi/.conda/envs/bmfm_til/lib/python3.10/site-packages/anndata/__init__.py:55: FutureWarning: `anndata.read` is deprecated, use `anndata.read_h5ad` instead. `ad.read` will be removed in mid 2024.\n",
      "  warnings.warn(\n"
     ]
    }
   ],
   "source": [
    "datamodule = AnnCollectionDataModule(**pars)\n",
    "datamodule.prepare_data()\n",
    "datamodule.setup(\"fit\")\n"
   ]
  },
  {
   "cell_type": "code",
   "execution_count": 13,
   "id": "6ef1b988",
   "metadata": {},
   "outputs": [
    {
     "data": {
      "text/plain": [
       "{'Celltype': {'Activated fibroblasts CCL19 ADAMADEC1': 0,\n",
       "  'B cells': 1,\n",
       "  'B cells AICDA LRMP': 2,\n",
       "  'Cycling cells': 3,\n",
       "  'DC1': 4,\n",
       "  'DC2 CD1D': 5,\n",
       "  'DC2 CD1D-': 6,\n",
       "  'Endothelial cells CA4 CD36': 7,\n",
       "  'Endothelial cells CD36': 8,\n",
       "  'Endothelial cells DARC': 9,\n",
       "  'Endothelial cells LTC4S SEMA3G': 10,\n",
       "  'Enterochromaffin cells': 11,\n",
       "  'Enterocytes BEST4': 12,\n",
       "  'Enterocytes CA1 CA2 CA4-': 13,\n",
       "  'Enterocytes TMIGD1 MEP1A': 14,\n",
       "  'Enterocytes TMIGD1 MEP1A GSTA1': 15,\n",
       "  'Enteroendocrine cells': 16,\n",
       "  'Epithelial Cycling cells': 17,\n",
       "  'Epithelial HBB HBA': 18,\n",
       "  'Epithelial cells METTL12 MAFB': 19,\n",
       "  'Fibroblasts ADAMDEC1': 20,\n",
       "  'Fibroblasts KCNN3 LY6H': 21,\n",
       "  'Fibroblasts NPY SLITRK6': 22,\n",
       "  'Fibroblasts SFRP2 SLPI': 23,\n",
       "  'Fibroblasts SMOC2 PTGIS': 24,\n",
       "  'Glial cells': 25,\n",
       "  'Goblet cells MUC2 TFF1': 26,\n",
       "  'Goblet cells MUC2 TFF1-': 27,\n",
       "  'Goblet cells SPINK4': 28,\n",
       "  'IELs ID3 ENTPD1': 29,\n",
       "  'ILCs': 30,\n",
       "  'Immune Cycling cells': 31,\n",
       "  'Inflammatory fibroblasts IL11 CHI3L1': 32,\n",
       "  'L cells': 33,\n",
       "  'Lymphatics': 34,\n",
       "  'Macrophages': 35,\n",
       "  'Macrophages CCL3 CCL4': 36,\n",
       "  'Macrophages CXCL9 CXCL10': 37,\n",
       "  'Macrophages LYVE1': 38,\n",
       "  'Macrophages Metallothionein': 39,\n",
       "  'Macrophages PLA2G2D': 40,\n",
       "  'Mast cells': 41,\n",
       "  'Mature DCs': 42,\n",
       "  'Monocytes CHI3L1 CYP27A1': 43,\n",
       "  'Monocytes HBB': 44,\n",
       "  'Monocytes S100A8 S100A9': 45,\n",
       "  'Myofibroblasts GREM1 GREM2': 46,\n",
       "  'Myofibroblasts HHIP NPNT': 47,\n",
       "  'NK cells KLRF1 CD3G-': 48,\n",
       "  'NK-like cells ID3 ENTPD1': 49,\n",
       "  'Neutrophils S100A8 S100A9': 50,\n",
       "  'Paneth cells': 51,\n",
       "  'Pericytes HIGD1B STEAP4': 52,\n",
       "  'Pericytes RERGL NTRK2': 53,\n",
       "  'Plasma cells': 54,\n",
       "  'Stem cells OLFM4': 55,\n",
       "  'Stem cells OLFM4 GSTA1': 56,\n",
       "  'Stem cells OLFM4 LGR5': 57,\n",
       "  'Stem cells OLFM4 PCNA': 58,\n",
       "  'Stromal Cycling cells': 59,\n",
       "  'T cells CD4 FOSB': 60,\n",
       "  'T cells CD4 IL17A': 61,\n",
       "  'T cells CD8': 62,\n",
       "  'T cells CD8 KLRG1': 63,\n",
       "  'T cells Naive CD4': 64,\n",
       "  'T cells OGT': 65,\n",
       "  'Tregs': 66,\n",
       "  'Tuft cells': 67},\n",
       " 'celltype': {'Best4+ Enterocytes': 0,\n",
       "  'CD4+ Activated Fos-hi': 1,\n",
       "  'CD4+ Activated Fos-lo': 2,\n",
       "  'CD4+ Memory': 3,\n",
       "  'CD4+ PD1+': 4,\n",
       "  'CD69+ Mast': 5,\n",
       "  'CD69- Mast': 6,\n",
       "  'CD8+ IELs': 7,\n",
       "  'CD8+ IL17+': 8,\n",
       "  'CD8+ LP': 9,\n",
       "  'Cycling B': 10,\n",
       "  'Cycling Monocytes': 11,\n",
       "  'Cycling T': 12,\n",
       "  'Cycling TA': 13,\n",
       "  'DC1': 14,\n",
       "  'DC2': 15,\n",
       "  'Endothelial': 16,\n",
       "  'Enterocyte Progenitors': 17,\n",
       "  'Enterocytes': 18,\n",
       "  'Enteroendocrine': 19,\n",
       "  'Follicular': 20,\n",
       "  'GC': 21,\n",
       "  'Glia': 22,\n",
       "  'Goblet': 23,\n",
       "  'ILCs': 24,\n",
       "  'Immature Enterocytes 1': 25,\n",
       "  'Immature Enterocytes 2': 26,\n",
       "  'Immature Goblet': 27,\n",
       "  'Inflammatory Fibroblasts': 28,\n",
       "  'Inflammatory Monocytes': 29,\n",
       "  'M cells': 30,\n",
       "  'MT-hi': 31,\n",
       "  'Macrophages': 32,\n",
       "  'Microvascular': 33,\n",
       "  'Myofibroblasts': 34,\n",
       "  'NKs': 35,\n",
       "  'Pericytes': 36,\n",
       "  'Plasma': 37,\n",
       "  'Post-capillary Venules': 38,\n",
       "  'RSPO3+': 39,\n",
       "  'Secretory TA': 40,\n",
       "  'Stem': 41,\n",
       "  'TA 1': 42,\n",
       "  'TA 2': 43,\n",
       "  'Tregs': 44,\n",
       "  'Tuft': 45,\n",
       "  'WNT2B+ Fos-hi': 46,\n",
       "  'WNT2B+ Fos-lo 1': 47,\n",
       "  'WNT2B+ Fos-lo 2': 48,\n",
       "  'WNT5B+ 1': 49,\n",
       "  'WNT5B+ 2': 50},\n",
       " 'Final_CellType': {'B-Cell': 0,\n",
       "  'BEST4+': 1,\n",
       "  'Clus12': 2,\n",
       "  'DeepCrypt': 3,\n",
       "  'EC_1': 4,\n",
       "  'EC_2': 5,\n",
       "  'EC_3': 6,\n",
       "  'EC_4': 7,\n",
       "  'EC_5': 8,\n",
       "  'EEC_1': 9,\n",
       "  'EEC_2': 10,\n",
       "  'GC': 11,\n",
       "  'GC_sub1': 12,\n",
       "  'GC_sub2': 13,\n",
       "  'Paneth': 14,\n",
       "  'SC': 15,\n",
       "  'T-Cell': 16,\n",
       "  'TA_1': 17,\n",
       "  'TA_2': 18,\n",
       "  'TA_3': 19,\n",
       "  'Tuft': 20}}"
      ]
     },
     "execution_count": 13,
     "metadata": {},
     "output_type": "execute_result"
    }
   ],
   "source": [
    "datamodule.label_dict"
   ]
  },
  {
   "cell_type": "markdown",
   "id": "a42ad673",
   "metadata": {},
   "source": [
    "## Look at a sample in dataset"
   ]
  },
  {
   "cell_type": "code",
   "execution_count": 14,
   "id": "8114607c",
   "metadata": {},
   "outputs": [],
   "source": [
    "dataset=datamodule.train_dataset"
   ]
  },
  {
   "cell_type": "code",
   "execution_count": 15,
   "id": "0d162049",
   "metadata": {},
   "outputs": [
    {
     "data": {
      "text/plain": [
       "{'Celltype': nan,\n",
       " 'celltype': nan,\n",
       " 'Final_CellType': 'TA_2',\n",
       " 'cell_name': 'HA01_AC_AAACCCAAGTCGGGAT.1'}"
      ]
     },
     "execution_count": 15,
     "metadata": {},
     "output_type": "execute_result"
    }
   ],
   "source": [
    "ds = dataset[1]\n",
    "ds.metadata"
   ]
  },
  {
   "cell_type": "code",
   "execution_count": 16,
   "id": "8742b375",
   "metadata": {},
   "outputs": [
    {
     "data": {
      "text/plain": [
       "{'Celltype': nan,\n",
       " 'celltype': nan,\n",
       " 'Final_CellType': 'EC_1',\n",
       " 'cell_name': 'HA01_AC_CTTCTCTGTATACCCA.1'}"
      ]
     },
     "execution_count": 16,
     "metadata": {},
     "output_type": "execute_result"
    }
   ],
   "source": [
    "dataset[1000].metadata"
   ]
  },
  {
   "cell_type": "markdown",
   "id": "98f1b163",
   "metadata": {},
   "source": [
    "## Look at a collation result"
   ]
  },
  {
   "cell_type": "code",
   "execution_count": 17,
   "id": "59cb90bf",
   "metadata": {},
   "outputs": [],
   "source": [
    "train_dataloader = datamodule.train_dataloader()\n",
    "itr = iter(train_dataloader)"
   ]
  },
  {
   "cell_type": "code",
   "execution_count": 18,
   "id": "30508238",
   "metadata": {},
   "outputs": [
    {
     "name": "stdout",
     "output_type": "stream",
     "text": [
      "True: HA01_AC_AAACCCAAGGCTGGAT.1 - HA01_AC_AAACCCAAGGCTGGAT.1\n",
      "False: HA01_AC_AAACCCAAGTCGGGAT.1 - N104689_N2-CGTTGGGCATTGCGGC\n"
     ]
    }
   ],
   "source": [
    "for i in range(2):\n",
    "    item = next(itr)\n",
    "    c1 = dataset[i].metadata[\"cell_name\"]\n",
    "    c2 = item[\"cell_names\"][0]\n",
    "    print(f\"{c1 == c2}: {c1} - {c2}\")"
   ]
  },
  {
   "cell_type": "code",
   "execution_count": 19,
   "id": "7f34ed40",
   "metadata": {},
   "outputs": [
    {
     "name": "stdout",
     "output_type": "stream",
     "text": [
      "False: HA01_AC_AAACCCAAGTCGGGAT.1 - N104689_N2-CGTTGGGCATTGCGGC\n"
     ]
    }
   ],
   "source": [
    "print(f\"{c1 == c2}: {c1} - {c2}\")"
   ]
  },
  {
   "cell_type": "code",
   "execution_count": null,
   "id": "9b43bbc4",
   "metadata": {},
   "outputs": [
    {
     "name": "stderr",
     "output_type": "stream",
     "text": [
      "thread '<unnamed>' panicked at /root/.cargo/registry/src/index.crates.io-6f17d22bba15001f/rayon-core-1.12.1/src/registry.rs:168:10:\n",
      "The global thread pool has not been initialized.: ThreadPoolBuildError { kind: IOError(Os { code: 11, kind: WouldBlock, message: \"Resource temporarily unavailable\" }) }\n",
      "note: run with `RUST_BACKTRACE=1` environment variable to display a backtrace\n",
      "Resource temporarily unavailable (src/thread.cpp:241)\n",
      "thread '<unnamed>' panicked at /root/.cargo/registry/src/index.crates.io-6f17d22bba15001f/rayon-core-1.12.1/src/registry.rs:168:10:\n",
      "The global thread pool has not been initialized.: ThreadPoolBuildError { kind: IOError(Os { code: 11, kind: WouldBlock, message: \"Resource temporarily unavailable\" }) }\n",
      "note: run with `RUST_BACKTRACE=1` environment variable to display a backtrace\n",
      "Resource temporarily unavailable (src/thread.cpp:241)\n",
      "thread '<unnamed>' panicked at /root/.cargo/registry/src/index.crates.io-6f17d22bba15001f/rayon-core-1.12.1/src/registry.rs:168:10:\n",
      "The global thread pool has not been initialized.: ThreadPoolBuildError { kind: IOError(Os { code: 11, kind: WouldBlock, message: \"Resource temporarily unavailable\" }) }\n",
      "note: run with `RUST_BACKTRACE=1` environment variable to display a backtrace\n",
      "Resource temporarily unavailable (src/thread.cpp:241)\n",
      "thread '<unnamed>' panicked at /root/.cargo/registry/src/index.crates.io-6f17d22bba15001f/rayon-core-1.12.1/src/registry.rs:168:10:\n",
      "The global thread pool has not been initialized.: ThreadPoolBuildError { kind: IOError(Os { code: 11, kind: WouldBlock, message: \"Resource temporarily unavailable\" }) }\n",
      "note: run with `RUST_BACKTRACE=1` environment variable to display a backtrace\n",
      "Resource temporarily unavailable (src/thread.cpp:241)\n"
     ]
    },
    {
     "ename": "RuntimeError",
     "evalue": "can't start new thread",
     "output_type": "error",
     "traceback": [
      "\u001b[0;31m---------------------------------------------------------------------------\u001b[0m",
      "\u001b[0;31mRuntimeError\u001b[0m                              Traceback (most recent call last)",
      "Input \u001b[0;32mIn [20]\u001b[0m, in \u001b[0;36m<cell line: 2>\u001b[0;34m()\u001b[0m\n\u001b[1;32m      1\u001b[0m train_dataloader \u001b[38;5;241m=\u001b[39m datamodule\u001b[38;5;241m.\u001b[39mtrain_dataloader()\n\u001b[0;32m----> 2\u001b[0m item \u001b[38;5;241m=\u001b[39m \u001b[38;5;28;43mnext\u001b[39;49m\u001b[43m(\u001b[49m\u001b[38;5;28;43miter\u001b[39;49m\u001b[43m(\u001b[49m\u001b[43mtrain_dataloader\u001b[49m\u001b[43m)\u001b[49m\u001b[43m)\u001b[49m\n\u001b[1;32m      3\u001b[0m \u001b[38;5;28mprint\u001b[39m(item)\n",
      "File \u001b[0;32m~/.conda/envs/bmfm_til/lib/python3.10/site-packages/litdata/streaming/dataloader.py:624\u001b[0m, in \u001b[0;36mStreamingDataLoader.__iter__\u001b[0;34m(self)\u001b[0m\n\u001b[1;32m    622\u001b[0m \u001b[38;5;28;01mif\u001b[39;00m \u001b[38;5;28misinstance\u001b[39m(\u001b[38;5;28mself\u001b[39m\u001b[38;5;241m.\u001b[39mdataset, StreamingDataset):\n\u001b[1;32m    623\u001b[0m     \u001b[38;5;28;01massert\u001b[39;00m \u001b[38;5;28mself\u001b[39m\u001b[38;5;241m.\u001b[39mbatch_size\n\u001b[0;32m--> 624\u001b[0m     \u001b[38;5;28;01mfor\u001b[39;00m batch \u001b[38;5;129;01min\u001b[39;00m \u001b[38;5;28;43msuper\u001b[39;49m\u001b[43m(\u001b[49m\u001b[43m)\u001b[49m\u001b[38;5;241;43m.\u001b[39;49m\u001b[38;5;21;43m__iter__\u001b[39;49m\u001b[43m(\u001b[49m\u001b[43m)\u001b[49m:\n\u001b[1;32m    625\u001b[0m         \u001b[38;5;28mself\u001b[39m\u001b[38;5;241m.\u001b[39m_latest_worker_idx \u001b[38;5;241m=\u001b[39m \u001b[38;5;28mnext\u001b[39m(\u001b[38;5;28mself\u001b[39m\u001b[38;5;241m.\u001b[39m_worker_idx_iter)  \u001b[38;5;66;03m# type: ignore\u001b[39;00m\n\u001b[1;32m    626\u001b[0m         \u001b[38;5;28mself\u001b[39m\u001b[38;5;241m.\u001b[39m_num_samples_yielded_streaming \u001b[38;5;241m+\u001b[39m\u001b[38;5;241m=\u001b[39m \u001b[38;5;28mself\u001b[39m\u001b[38;5;241m.\u001b[39mbatch_size\n",
      "File \u001b[0;32m~/.conda/envs/bmfm_til/lib/python3.10/site-packages/torch/utils/data/dataloader.py:439\u001b[0m, in \u001b[0;36mDataLoader.__iter__\u001b[0;34m(self)\u001b[0m\n\u001b[1;32m    437\u001b[0m     \u001b[38;5;28;01mreturn\u001b[39;00m \u001b[38;5;28mself\u001b[39m\u001b[38;5;241m.\u001b[39m_iterator\n\u001b[1;32m    438\u001b[0m \u001b[38;5;28;01melse\u001b[39;00m:\n\u001b[0;32m--> 439\u001b[0m     \u001b[38;5;28;01mreturn\u001b[39;00m \u001b[38;5;28;43mself\u001b[39;49m\u001b[38;5;241;43m.\u001b[39;49m\u001b[43m_get_iterator\u001b[49m\u001b[43m(\u001b[49m\u001b[43m)\u001b[49m\n",
      "File \u001b[0;32m~/.conda/envs/bmfm_til/lib/python3.10/site-packages/litdata/streaming/dataloader.py:729\u001b[0m, in \u001b[0;36mStreamingDataLoader._get_iterator\u001b[0;34m(self)\u001b[0m\n\u001b[1;32m    727\u001b[0m     \u001b[38;5;28;01mreturn\u001b[39;00m _SingleProcessDataLoaderIter(\u001b[38;5;28mself\u001b[39m)\n\u001b[1;32m    728\u001b[0m \u001b[38;5;28mself\u001b[39m\u001b[38;5;241m.\u001b[39mcheck_worker_number_rationality()\n\u001b[0;32m--> 729\u001b[0m \u001b[38;5;28;01mreturn\u001b[39;00m \u001b[43m_StreamingMultiProcessingDataLoaderIter\u001b[49m\u001b[43m(\u001b[49m\u001b[38;5;28;43mself\u001b[39;49m\u001b[43m)\u001b[49m\n",
      "File \u001b[0;32m~/.conda/envs/bmfm_til/lib/python3.10/site-packages/litdata/streaming/dataloader.py:458\u001b[0m, in \u001b[0;36m_StreamingMultiProcessingDataLoaderIter.__init__\u001b[0;34m(self, loader)\u001b[0m\n\u001b[1;32m    454\u001b[0m     \u001b[38;5;28;01mfrom\u001b[39;00m \u001b[38;5;21;01mtorch\u001b[39;00m\u001b[38;5;21;01m.\u001b[39;00m\u001b[38;5;21;01mutils\u001b[39;00m\u001b[38;5;21;01m.\u001b[39;00m\u001b[38;5;21;01mdata\u001b[39;00m\u001b[38;5;21;01m.\u001b[39;00m\u001b[38;5;21;01m_utils\u001b[39;00m \u001b[38;5;28;01mimport\u001b[39;00m worker\n\u001b[1;32m    456\u001b[0m     worker\u001b[38;5;241m.\u001b[39m_worker_loop \u001b[38;5;241m=\u001b[39m _ProfileWorkerLoop(\u001b[38;5;28mself\u001b[39m\u001b[38;5;241m.\u001b[39m_loader\u001b[38;5;241m.\u001b[39m_profile_batches, \u001b[38;5;28mself\u001b[39m\u001b[38;5;241m.\u001b[39m_loader\u001b[38;5;241m.\u001b[39m_profile_dir)\n\u001b[0;32m--> 458\u001b[0m \u001b[38;5;28;43msuper\u001b[39;49m\u001b[43m(\u001b[49m\u001b[43m)\u001b[49m\u001b[38;5;241;43m.\u001b[39;49m\u001b[38;5;21;43m__init__\u001b[39;49m\u001b[43m(\u001b[49m\u001b[43mloader\u001b[49m\u001b[43m)\u001b[49m\n",
      "File \u001b[0;32m~/.conda/envs/bmfm_til/lib/python3.10/site-packages/torch/utils/data/dataloader.py:1085\u001b[0m, in \u001b[0;36m_MultiProcessingDataLoaderIter.__init__\u001b[0;34m(self, loader)\u001b[0m\n\u001b[1;32m   1083\u001b[0m _utils\u001b[38;5;241m.\u001b[39msignal_handling\u001b[38;5;241m.\u001b[39m_set_SIGCHLD_handler()\n\u001b[1;32m   1084\u001b[0m \u001b[38;5;28mself\u001b[39m\u001b[38;5;241m.\u001b[39m_worker_pids_set \u001b[38;5;241m=\u001b[39m \u001b[38;5;28;01mTrue\u001b[39;00m\n\u001b[0;32m-> 1085\u001b[0m \u001b[38;5;28;43mself\u001b[39;49m\u001b[38;5;241;43m.\u001b[39;49m\u001b[43m_reset\u001b[49m\u001b[43m(\u001b[49m\u001b[43mloader\u001b[49m\u001b[43m,\u001b[49m\u001b[43m \u001b[49m\u001b[43mfirst_iter\u001b[49m\u001b[38;5;241;43m=\u001b[39;49m\u001b[38;5;28;43;01mTrue\u001b[39;49;00m\u001b[43m)\u001b[49m\n",
      "File \u001b[0;32m~/.conda/envs/bmfm_til/lib/python3.10/site-packages/torch/utils/data/dataloader.py:1118\u001b[0m, in \u001b[0;36m_MultiProcessingDataLoaderIter._reset\u001b[0;34m(self, loader, first_iter)\u001b[0m\n\u001b[1;32m   1116\u001b[0m \u001b[38;5;66;03m# prime the prefetch loop\u001b[39;00m\n\u001b[1;32m   1117\u001b[0m \u001b[38;5;28;01mfor\u001b[39;00m _ \u001b[38;5;129;01min\u001b[39;00m \u001b[38;5;28mrange\u001b[39m(\u001b[38;5;28mself\u001b[39m\u001b[38;5;241m.\u001b[39m_prefetch_factor \u001b[38;5;241m*\u001b[39m \u001b[38;5;28mself\u001b[39m\u001b[38;5;241m.\u001b[39m_num_workers):\n\u001b[0;32m-> 1118\u001b[0m     \u001b[38;5;28;43mself\u001b[39;49m\u001b[38;5;241;43m.\u001b[39;49m\u001b[43m_try_put_index\u001b[49m\u001b[43m(\u001b[49m\u001b[43m)\u001b[49m\n",
      "File \u001b[0;32m~/.conda/envs/bmfm_til/lib/python3.10/site-packages/litdata/streaming/dataloader.py:476\u001b[0m, in \u001b[0;36m_StreamingMultiProcessingDataLoaderIter._try_put_index\u001b[0;34m(self)\u001b[0m\n\u001b[1;32m    474\u001b[0m     \u001b[38;5;28mself\u001b[39m\u001b[38;5;241m.\u001b[39m_send_idx \u001b[38;5;241m+\u001b[39m\u001b[38;5;241m=\u001b[39m \u001b[38;5;241m1\u001b[39m\n\u001b[1;32m    475\u001b[0m \u001b[38;5;28;01melse\u001b[39;00m:\n\u001b[0;32m--> 476\u001b[0m     \u001b[38;5;28;43msuper\u001b[39;49m\u001b[43m(\u001b[49m\u001b[43m)\u001b[49m\u001b[38;5;241;43m.\u001b[39;49m\u001b[43m_try_put_index\u001b[49m\u001b[43m(\u001b[49m\u001b[43m)\u001b[49m\n",
      "File \u001b[0;32m~/.conda/envs/bmfm_til/lib/python3.10/site-packages/torch/utils/data/dataloader.py:1363\u001b[0m, in \u001b[0;36m_MultiProcessingDataLoaderIter._try_put_index\u001b[0;34m(self)\u001b[0m\n\u001b[1;32m   1359\u001b[0m \u001b[38;5;28;01melse\u001b[39;00m:\n\u001b[1;32m   1360\u001b[0m     \u001b[38;5;66;03m# not found (i.e., didn't break)\u001b[39;00m\n\u001b[1;32m   1361\u001b[0m     \u001b[38;5;28;01mreturn\u001b[39;00m\n\u001b[0;32m-> 1363\u001b[0m \u001b[38;5;28;43mself\u001b[39;49m\u001b[38;5;241;43m.\u001b[39;49m\u001b[43m_index_queues\u001b[49m\u001b[43m[\u001b[49m\u001b[43mworker_queue_idx\u001b[49m\u001b[43m]\u001b[49m\u001b[38;5;241;43m.\u001b[39;49m\u001b[43mput\u001b[49m\u001b[43m(\u001b[49m\u001b[43m(\u001b[49m\u001b[38;5;28;43mself\u001b[39;49m\u001b[38;5;241;43m.\u001b[39;49m\u001b[43m_send_idx\u001b[49m\u001b[43m,\u001b[49m\u001b[43m \u001b[49m\u001b[43mindex\u001b[49m\u001b[43m)\u001b[49m\u001b[43m)\u001b[49m\n\u001b[1;32m   1364\u001b[0m \u001b[38;5;28mself\u001b[39m\u001b[38;5;241m.\u001b[39m_task_info[\u001b[38;5;28mself\u001b[39m\u001b[38;5;241m.\u001b[39m_send_idx] \u001b[38;5;241m=\u001b[39m (worker_queue_idx,)\n\u001b[1;32m   1365\u001b[0m \u001b[38;5;28mself\u001b[39m\u001b[38;5;241m.\u001b[39m_tasks_outstanding \u001b[38;5;241m+\u001b[39m\u001b[38;5;241m=\u001b[39m \u001b[38;5;241m1\u001b[39m\n",
      "File \u001b[0;32m~/.conda/envs/bmfm_til/lib/python3.10/multiprocessing/queues.py:94\u001b[0m, in \u001b[0;36mQueue.put\u001b[0;34m(self, obj, block, timeout)\u001b[0m\n\u001b[1;32m     92\u001b[0m \u001b[38;5;28;01mwith\u001b[39;00m \u001b[38;5;28mself\u001b[39m\u001b[38;5;241m.\u001b[39m_notempty:\n\u001b[1;32m     93\u001b[0m     \u001b[38;5;28;01mif\u001b[39;00m \u001b[38;5;28mself\u001b[39m\u001b[38;5;241m.\u001b[39m_thread \u001b[38;5;129;01mis\u001b[39;00m \u001b[38;5;28;01mNone\u001b[39;00m:\n\u001b[0;32m---> 94\u001b[0m         \u001b[38;5;28;43mself\u001b[39;49m\u001b[38;5;241;43m.\u001b[39;49m\u001b[43m_start_thread\u001b[49m\u001b[43m(\u001b[49m\u001b[43m)\u001b[49m\n\u001b[1;32m     95\u001b[0m     \u001b[38;5;28mself\u001b[39m\u001b[38;5;241m.\u001b[39m_buffer\u001b[38;5;241m.\u001b[39mappend(obj)\n\u001b[1;32m     96\u001b[0m     \u001b[38;5;28mself\u001b[39m\u001b[38;5;241m.\u001b[39m_notempty\u001b[38;5;241m.\u001b[39mnotify()\n",
      "File \u001b[0;32m~/.conda/envs/bmfm_til/lib/python3.10/multiprocessing/queues.py:179\u001b[0m, in \u001b[0;36mQueue._start_thread\u001b[0;34m(self)\u001b[0m\n\u001b[1;32m    176\u001b[0m \u001b[38;5;28mself\u001b[39m\u001b[38;5;241m.\u001b[39m_thread\u001b[38;5;241m.\u001b[39mdaemon \u001b[38;5;241m=\u001b[39m \u001b[38;5;28;01mTrue\u001b[39;00m\n\u001b[1;32m    178\u001b[0m debug(\u001b[38;5;124m'\u001b[39m\u001b[38;5;124mdoing self._thread.start()\u001b[39m\u001b[38;5;124m'\u001b[39m)\n\u001b[0;32m--> 179\u001b[0m \u001b[38;5;28;43mself\u001b[39;49m\u001b[38;5;241;43m.\u001b[39;49m\u001b[43m_thread\u001b[49m\u001b[38;5;241;43m.\u001b[39;49m\u001b[43mstart\u001b[49m\u001b[43m(\u001b[49m\u001b[43m)\u001b[49m\n\u001b[1;32m    180\u001b[0m debug(\u001b[38;5;124m'\u001b[39m\u001b[38;5;124m... done self._thread.start()\u001b[39m\u001b[38;5;124m'\u001b[39m)\n\u001b[1;32m    182\u001b[0m \u001b[38;5;28;01mif\u001b[39;00m \u001b[38;5;129;01mnot\u001b[39;00m \u001b[38;5;28mself\u001b[39m\u001b[38;5;241m.\u001b[39m_joincancelled:\n",
      "File \u001b[0;32m~/.conda/envs/bmfm_til/lib/python3.10/threading.py:928\u001b[0m, in \u001b[0;36mThread.start\u001b[0;34m(self)\u001b[0m\n\u001b[1;32m    926\u001b[0m     _limbo[\u001b[38;5;28mself\u001b[39m] \u001b[38;5;241m=\u001b[39m \u001b[38;5;28mself\u001b[39m\n\u001b[1;32m    927\u001b[0m \u001b[38;5;28;01mtry\u001b[39;00m:\n\u001b[0;32m--> 928\u001b[0m     \u001b[43m_start_new_thread\u001b[49m\u001b[43m(\u001b[49m\u001b[38;5;28;43mself\u001b[39;49m\u001b[38;5;241;43m.\u001b[39;49m\u001b[43m_bootstrap\u001b[49m\u001b[43m,\u001b[49m\u001b[43m \u001b[49m\u001b[43m(\u001b[49m\u001b[43m)\u001b[49m\u001b[43m)\u001b[49m\n\u001b[1;32m    929\u001b[0m \u001b[38;5;28;01mexcept\u001b[39;00m \u001b[38;5;167;01mException\u001b[39;00m:\n\u001b[1;32m    930\u001b[0m     \u001b[38;5;28;01mwith\u001b[39;00m _active_limbo_lock:\n",
      "\u001b[0;31mRuntimeError\u001b[0m: can't start new thread"
     ]
    },
    {
     "name": "stderr",
     "output_type": "stream",
     "text": [
      "Traceback (most recent call last):\n",
      "  File \"/u/a1kosugi/.conda/envs/bmfm_til/lib/python3.10/runpy.py\", line 196, in _run_module_as_main\n",
      "    return _run_code(code, main_globals, None,\n",
      "  File \"/u/a1kosugi/.conda/envs/bmfm_til/lib/python3.10/runpy.py\", line 86, in _run_code\n",
      "    exec(code, run_globals)\n",
      "  File \"/u/a1kosugi/.conda/envs/bmfm_til/lib/python3.10/site-packages/ipykernel_launcher.py\", line 17, in <module>\n",
      "    app.launch_new_instance()\n",
      "  File \"/u/a1kosugi/.conda/envs/bmfm_til/lib/python3.10/site-packages/traitlets/config/application.py\", line 1075, in launch_instance\n",
      "    app.start()\n",
      "  File \"/u/a1kosugi/.conda/envs/bmfm_til/lib/python3.10/site-packages/ipykernel/kernelapp.py\", line 712, in start\n",
      "    self.io_loop.start()\n",
      "  File \"/u/a1kosugi/.conda/envs/bmfm_til/lib/python3.10/site-packages/tornado/platform/asyncio.py\", line 205, in start\n",
      "    self.asyncio_loop.run_forever()\n",
      "  File \"/u/a1kosugi/.conda/envs/bmfm_til/lib/python3.10/asyncio/base_events.py\", line 600, in run_forever\n",
      "    self._run_once()\n",
      "  File \"/u/a1kosugi/.conda/envs/bmfm_til/lib/python3.10/asyncio/base_events.py\", line 1860, in _run_once\n",
      "    event_list = self._selector.select(timeout)\n",
      "  File \"/u/a1kosugi/.conda/envs/bmfm_til/lib/python3.10/selectors.py\", line 469, in select\n",
      "    fd_event_list = self._selector.poll(timeout, max_ev)\n",
      "  File \"/u/a1kosugi/.conda/envs/bmfm_til/lib/python3.10/site-packages/torch/utils/data/_utils/signal_handling.py\", line 66, in handler\n",
      "    _error_if_any_worker_fails()\n",
      "RuntimeError: DataLoader worker (pid 3373754) is killed by signal: Aborted. \n"
     ]
    },
    {
     "ename": "",
     "evalue": "",
     "output_type": "error",
     "traceback": [
      "\u001b[1;31m現在のセルまたは前のセルでコードを実行中に、カーネル (Kernel) がクラッシュしました。\n",
      "\u001b[1;31mエラーの原因を特定するには、セル内のコードを確認してください。\n",
      "\u001b[1;31m詳細については<a href='https://aka.ms/vscodeJupyterKernelCrash'>こちら</a>をクリックします。\n",
      "\u001b[1;31m詳細については、Jupyter <a href='command:jupyter.viewOutput'>ログ</a> を参照してください。"
     ]
    }
   ],
   "source": [
    "train_dataloader = datamodule.train_dataloader()\n",
    "item = next(iter(train_dataloader))\n",
    "print(item)"
   ]
  }
 ],
 "metadata": {
  "kernelspec": {
   "display_name": "bmfm_til",
   "language": "python",
   "name": "python3"
  },
  "language_info": {
   "codemirror_mode": {
    "name": "ipython",
    "version": 3
   },
   "file_extension": ".py",
   "mimetype": "text/x-python",
   "name": "python",
   "nbconvert_exporter": "python",
   "pygments_lexer": "ipython3",
   "version": "3.10.4"
  }
 },
 "nbformat": 4,
 "nbformat_minor": 5
}
