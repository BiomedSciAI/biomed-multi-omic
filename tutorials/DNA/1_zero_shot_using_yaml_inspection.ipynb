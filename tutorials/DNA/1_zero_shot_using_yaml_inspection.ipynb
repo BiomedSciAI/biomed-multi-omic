{
 "cells": [
  {
   "cell_type": "markdown",
   "id": "16b4d5bf",
   "metadata": {},
   "source": [
    "# Inspecting the results of `bmfm-multi-omics` for visualiing the embeddings using t-SNE and PCA obtained from BMFM-DNA\n",
    "\n",
    "In this tutorial we look at inspecting the results of the zero-shot prediction created in tutorial 1. We do this by loading the results of the data and then using the helper functions packaged in the `evaluation` module to help extract and interpret the results of the model."
   ]
  },
  {
   "cell_type": "code",
   "execution_count": 1,
   "id": "4149a54f",
   "metadata": {},
   "outputs": [
    {
     "name": "stderr",
     "output_type": "stream",
     "text": [
      "/proj/bmfm/users/sanjoy/miniforge3/envs/bmfm-targets/lib/python3.11/site-packages/louvain/__init__.py:54: UserWarning: pkg_resources is deprecated as an API. See https://setuptools.pypa.io/en/latest/pkg_resources.html. The pkg_resources package is slated for removal as early as 2025-11-30. Refrain from using this package or pin to Setuptools<81.\n",
      "  from pkg_resources import get_distribution, DistributionNotFound\n"
     ]
    }
   ],
   "source": [
    "\n",
    "import matplotlib.pyplot as plt\n",
    "import pandas as pd\n",
    "import scanpy as sc\n",
    "\n",
    "from bmfm_targets.evaluation.embeddings import generate_clusters"
   ]
  },
  {
   "cell_type": "code",
   "execution_count": null,
   "id": "fa6e3feb",
   "metadata": {},
   "outputs": [],
   "source": [
    "# Ran the embedding generation using the following command on outer sourced version:\n",
    "# export WORKING_DIR=...\n",
    "# export INPUT_DIR=...\n",
    "# bsub -M 50G -n 8 -gpu \"num=1:mode=exclusive_process\" -o mpra_k562.out -e mpra_k562.err -W 24:00 bash -c 'bmfm-targets-run -cn dna_predict working_dir=$WORKING_DIR checkpoint=ibm-research/biomed.dna.ref.modernbert.113m.v1 accelerator=cpu input_directory=$INPUT_DIR label_column_name=mean_value dataset_name=mpra_k562_original input_filename=test.csv'"
   ]
  },
  {
   "cell_type": "markdown",
   "id": "e3e836a5",
   "metadata": {},
   "source": [
    "# Define a function to get the plots for each settings."
   ]
  },
  {
   "cell_type": "code",
   "execution_count": 11,
   "id": "c86ff513",
   "metadata": {},
   "outputs": [],
   "source": [
    "def plot_umap(results, labels, reference_labels, output_filename=None):\n",
    "    # Create an AnnData object\n",
    "    results.index.name = \"dnaseq_id\"\n",
    "    results.index = results.index.astype(str)\n",
    "    results.columns = [ f\"dim_{i}\" for i in range(results.shape[1])]\n",
    "\n",
    "    adata = sc.AnnData(X=results)\n",
    "    adata.X = adata.X.astype(\"float64\")\n",
    "\n",
    "    print(\"adata:\", adata)\n",
    "    reference_labels.index.name = \"dnaseq_id\"\n",
    "    adata.obs = reference_labels  \n",
    "    adata.obs.head()\n",
    " \n",
    "    bmfm_adata = adata\n",
    "    bmfm_adata.obs.head()\n",
    "\n",
    "    print(adata.obs.head(), adata.var.head(), adata.X.shape)\n",
    "    \n",
    "    # Generate clusters\n",
    "    bmfm_adata = generate_clusters(\n",
    "        bmfm_adata,\n",
    "        n_components=5,\n",
    "        label=labels,\n",
    "        clustering_method=\"kmeans\",\n",
    "        n_clusters=11,\n",
    "    )\n",
    "\n",
    "    #labels = \"label\"\n",
    "    import seaborn as sns\n",
    "\n",
    "    custom_params = {\"axes.spines.right\": False, \"axes.spines.top\": False}\n",
    "    sns.set_theme(style=\"ticks\", rc=custom_params)\n",
    "\n",
    "    title = (f\"UMAP - {labels}\",)\n",
    "    \n",
    "    sc.tl.umap(bmfm_adata, n_components=2)\n",
    "    sc.pl.embedding(\n",
    "        bmfm_adata,\n",
    "        basis=\"umap\",\n",
    "        title=title,\n",
    "        color=labels,\n",
    "        color_map=\"magma\",\n",
    "        #palette=[\"#1f77b4\", \"#ff7f0e\", \"#2ca02c\", \"#d62728\"],  # your custom colors\n",
    "        show=False,\n",
    "    )\n",
    "\n",
    "    plt.show()\n",
    "\n",
    "\n",
    "    # # Try t_SNE now...\n",
    "    from sklearn.manifold import TSNE\n",
    "\n",
    "    tsne = TSNE(n_components=2, random_state=42, perplexity=30, learning_rate=200)\n",
    "    embeddings_2d = tsne.fit_transform(bmfm_adata.X)\n",
    "\n",
    "    # 2. Plot\n",
    "    plt.figure(figsize=(8, 6))\n",
    "    colors = bmfm_adata.obs[labels]\n",
    "    plt.scatter(embeddings_2d[:, 0], embeddings_2d[:, 1], s=10, alpha=0.7, c=colors, cmap=\"magma\")\n",
    "    plt.title(f\"t-SNE Visualization of {output_filename} Embeddings\")\n",
    "    plt.xlabel(\"t-SNE 1\")\n",
    "    plt.ylabel(\"t-SNE 2\")\n",
    "    plt.colorbar(label=labels)\n",
    "    plt.show()\n",
    "\n",
    "    \n",
    "    import scipy.stats as stats\n",
    "    print(stats.pearsonr(embeddings_2d[:, 0],bmfm_adata.obs[labels])[0])\n",
    "    print(stats.pearsonr(embeddings_2d[:, 1],bmfm_adata.obs[labels])[0])"
   ]
  },
  {
   "cell_type": "markdown",
   "id": "8a762958",
   "metadata": {},
   "source": [
    "# CAGI dataset"
   ]
  },
  {
   "cell_type": "code",
   "execution_count": null,
   "id": "c7bed209",
   "metadata": {},
   "outputs": [],
   "source": [
    "input_directory=\"/proj/bmfm/datasets/omics/genome/finetune_datasets/snv_mpra_cagi_regression/\"\n",
    "reference_labels = pd.read_csv(input_directory + \"merged_data_imputed_06-16-2025_flattened.csv\")\n",
    "\n",
    "\n",
    "results = pd.read_csv(\"/proj/bmfm/users/sanjoy/output_dir/cagi_whole_hic/ref_ckpt/embeddings.csv\", index_col=0, header=None)\n",
    "print(results.shape)\n",
    "\n",
    "# Take only the mut_seqs which is the last 1/3 rows of the reference labels file.\n",
    "reference_labels = reference_labels.iloc[2*reference_labels.shape[0]//3: , :]\n",
    "results = results.iloc[2*results.shape[0]//3: , :]\n",
    "\n",
    "print(reference_labels.head(), reference_labels.shape)\n",
    "print(results.head(), results.shape)\n"
   ]
  },
  {
   "cell_type": "code",
   "execution_count": null,
   "id": "c14670d2",
   "metadata": {},
   "outputs": [],
   "source": [
    "plot_umap(results, \"logratio_RNAbyDNA\", reference_labels, output_filename=\"CAGI ref genome on ref_chkpt\")"
   ]
  },
  {
   "cell_type": "code",
   "execution_count": null,
   "id": "5d86b9af",
   "metadata": {},
   "outputs": [],
   "source": [
    "results = pd.read_csv(\"/proj/bmfm/users/sanjoy/output_dir/cagi_whole_hic/snp_ckpt/embeddings.csv\", index_col=0, header=None)\n",
    "print(results.shape)\n",
    "\n",
    "# Take only the mut_seqs which is the last 1/3 rows of the reference labels file.\n",
    "results = results.iloc[2*results.shape[0]//3: , :]\n",
    "\n",
    "print(reference_labels.head(), reference_labels.shape)\n",
    "print(results.head(), results.shape)\n",
    "\n",
    "plot_umap(results, \"logratio_RNAbyDNA\", reference_labels, output_filename=\"CAGI ref genome on snp_chkpt\")"
   ]
  },
  {
   "cell_type": "code",
   "execution_count": null,
   "id": "d1ef2133",
   "metadata": {},
   "outputs": [],
   "source": [
    "results = pd.read_csv(\"/proj/bmfm/users/sanjoy/output_dir/cagi_whole_hic/hic_ckpt/embeddings.csv\", index_col=0, header=None)\n",
    "print(results.shape)\n",
    "\n",
    "# Take only the mut_seqs which is the last 1/3 rows of the reference labels file.\n",
    "results = results.iloc[2*results.shape[0]//3: , :]\n",
    "\n",
    "print(reference_labels.head(), reference_labels.shape)\n",
    "print(results.head(), results.shape)\n",
    "\n",
    "plot_umap(results, \"logratio_RNAbyDNA\", reference_labels, output_filename=\"CAGI ref genome on hic_chkpt\")"
   ]
  },
  {
   "cell_type": "code",
   "execution_count": null,
   "id": "1a83a913",
   "metadata": {},
   "outputs": [],
   "source": [
    "plot_umap(results, \"logratio_RNAbyDNA\", reference_labels, output_filename=\"CAGI ref genome on ref_chkpt\")"
   ]
  },
  {
   "cell_type": "markdown",
   "id": "8b3c34b5",
   "metadata": {},
   "source": [
    "# eQTL "
   ]
  },
  {
   "cell_type": "code",
   "execution_count": null,
   "id": "ce9eda49",
   "metadata": {},
   "outputs": [],
   "source": [
    "input_directory=\"/proj/bmfm/users/hongyang/data/omics/genome/finetune_datasets/eqtl/ref_genome/\"\n",
    "reference_labels = pd.read_csv(input_directory + \"test.csv\")\n",
    "reference_labels.head()\n",
    "\n",
    "\n",
    "results = pd.read_csv(\"/proj/bmfm/users/hongyang/benchmarking/modernbert_snp/eqtl_ref_genome/embeddings.csv\", index_col=0, header=None)\n",
    "print(results.head(), results.shape)\n",
    "\n",
    "plot_umap(results, \"label\", reference_labels, output_filename=\"eQTL ref genome\")"
   ]
  },
  {
   "cell_type": "code",
   "execution_count": null,
   "id": "a2e2dabf",
   "metadata": {},
   "outputs": [],
   "source": [
    "# input_directory=\"/proj/bmfm/users/hongyang/data/omics/genome/finetune_datasets/eqtl/ref_genome/\"\n",
    "# reference_labels = pd.read_csv(input_directory + \"test.csv\")\n",
    "# reference_labels.head()\n",
    "\n",
    "results = pd.read_csv(\"/proj/bmfm/users/sanjoy/output_dir/eqtl_ref_genome/snp_ckpt/embeddings.csv\", index_col=0, header=None)\n",
    "print(results.head(), results.shape)\n",
    "\n",
    "plot_umap(results, \"label\", reference_labels, output_filename=\"eQTL ref genome snp_ckpt\")"
   ]
  },
  {
   "cell_type": "code",
   "execution_count": null,
   "id": "3ecf3b43",
   "metadata": {},
   "outputs": [],
   "source": [
    "results = pd.read_csv(\"/proj/bmfm/users/sanjoy/output_dir/eqtl_ref_genome/hic_ckpt/embeddings.csv\", index_col=0, header=None)\n",
    "print(results.head(), results.shape)\n",
    "\n",
    "plot_umap(results, \"label\", reference_labels, output_filename=\"eQTL ref genome hic_ckpt\")"
   ]
  },
  {
   "cell_type": "code",
   "execution_count": null,
   "id": "d7956b89",
   "metadata": {},
   "outputs": [],
   "source": [
    "input_directory=\"/proj/bmfm/users/hongyang/data/omics/genome/finetune_datasets/eqtl/snp_genome/\"\n",
    "reference_labels = pd.read_csv(input_directory + \"test.csv\")\n",
    "reference_labels.head()\n",
    "\n",
    "\n",
    "results = pd.read_csv(\"/proj/bmfm/users/sanjoy/output_dir/eqtl_snp_genome/ref_ckpt/embeddings.csv\", index_col=0, header=None)\n",
    "print(results.head(), results.shape)\n",
    "\n",
    "plot_umap(results, \"label\", reference_labels, output_filename=\"eQTL snp genome ref_ckpt\")"
   ]
  },
  {
   "cell_type": "code",
   "execution_count": null,
   "id": "a2415c2d",
   "metadata": {},
   "outputs": [],
   "source": [
    "results = pd.read_csv(\"/proj/bmfm/users/sanjoy/output_dir/eqtl_snp_genome/snp_ckpt/embeddings.csv\", index_col=0, header=None)\n",
    "print(results.head(), results.shape)\n",
    "\n",
    "plot_umap(results, \"label\", reference_labels, output_filename=\"eQTL snp genome snp_ckpt\")"
   ]
  },
  {
   "cell_type": "code",
   "execution_count": null,
   "id": "23d18aec",
   "metadata": {},
   "outputs": [],
   "source": [
    "# Special sanity check for Hongyang's run...\n",
    "results = pd.read_csv(\"/proj/bmfm/users/hongyang/biomed-multi-omic/tbl/embeddings_eqtl_pretrain_snpckpt_snpgenome.csv\", index_col=0, header=None)\n",
    "print(results.head(), results.shape)\n",
    "\n",
    "plot_umap(results, \"label\", reference_labels, output_filename=\"eQTL snp genome snp_ckpt\")"
   ]
  },
  {
   "cell_type": "code",
   "execution_count": null,
   "id": "67ddb4f1",
   "metadata": {},
   "outputs": [],
   "source": [
    "results = pd.read_csv(\"/proj/bmfm/users/sanjoy/output_dir/eqtl_snp_genome/hic_ckpt/embeddings.csv\", index_col=0, header=None)\n",
    "print(results.head(), results.shape)\n",
    "\n",
    "plot_umap(results, \"label\", reference_labels, output_filename=\"eQTL snp genome hic_ckpt\")"
   ]
  },
  {
   "cell_type": "markdown",
   "id": "16f277ab",
   "metadata": {},
   "source": [
    "# Run K562 Mpra data"
   ]
  },
  {
   "cell_type": "code",
   "execution_count": null,
   "id": "9d9dc6cc",
   "metadata": {},
   "outputs": [],
   "source": [
    "input_directory=\"/proj/bmfm/datasets/omics/genome/finetune_datasets/lenti_mpra_regression/K562_original/\"\n",
    "reference_labels = pd.read_csv(input_directory + \"test.csv\")\n",
    "reference_labels.head()\n",
    "\n",
    "results = pd.read_csv(\"/proj/bmfm/users/sanjoy/output_dir/mpra_k562_test/embeddings.csv\", index_col=0, header=None)\n",
    "print(results.head(), results.shape)\n",
    "\n",
    "plot_umap(results, \"mean_value\", reference_labels)"
   ]
  },
  {
   "cell_type": "code",
   "execution_count": null,
   "id": "2f51a1b8",
   "metadata": {},
   "outputs": [],
   "source": [
    "input_directory=\"/proj/bmfm/datasets/omics/genome/finetune_datasets/lenti_mpra_regression/K562_original/\"\n",
    "reference_labels = pd.read_csv(input_directory + \"test.csv\")\n",
    "reference_labels.head()\n",
    "\n",
    "results = pd.read_csv(\"/proj/bmfm/users/sanjoy/output_dir/mpra_k562_test/snpckpt/embeddings.csv\", index_col=0, header=None)\n",
    "print(results.head(), results.shape)\n",
    "\n",
    "plot_umap(results, \"mean_value\", reference_labels)"
   ]
  },
  {
   "cell_type": "code",
   "execution_count": null,
   "id": "bae2ae3e",
   "metadata": {},
   "outputs": [],
   "source": [
    "# Compute the hic based embeddings now...\n",
    "input_directory=\"/proj/bmfm/datasets/omics/genome/finetune_datasets/lenti_mpra_regression/K562_original/\"\n",
    "reference_labels = pd.read_csv(input_directory + \"test.csv\")\n",
    "reference_labels.head()\n",
    "\n",
    "results = pd.read_csv(\"/proj/bmfm/users/sanjoy/output_dir/mpra_k562_test/hic_ckpt/embeddings.csv\", index_col=0, header=None)\n",
    "print(results.head(), results.shape)\n",
    "\n",
    "plot_umap(results, \"mean_value\", reference_labels)"
   ]
  },
  {
   "cell_type": "code",
   "execution_count": null,
   "id": "3578a255",
   "metadata": {},
   "outputs": [],
   "source": [
    "# Compute the hic based embeddings now...\n",
    "input_directory=\"/proj/bmfm/datasets/omics/genome/finetune_datasets/lenti_mpra_regression/K562_biallelic_200/\"\n",
    "reference_labels = pd.read_csv(input_directory + \"test.csv\")\n",
    "reference_labels.head()\n",
    "\n",
    "results = pd.read_csv(\"/proj/bmfm/users/sanjoy/output_dir/mpra_k562_biallelic_test/hic_ckpt/embeddings.csv\", index_col=0, header=None)\n",
    "print(results.head(), results.shape)\n",
    "\n",
    "plot_umap(results, \"mean_value\", reference_labels)"
   ]
  },
  {
   "cell_type": "markdown",
   "id": "4af9c048",
   "metadata": {},
   "source": [
    "# Repeat this for promoter hic now..."
   ]
  },
  {
   "cell_type": "code",
   "execution_count": null,
   "id": "4d31606d",
   "metadata": {},
   "outputs": [],
   "source": [
    "# Compute the hic based embeddings now...\n",
    "input_directory=\"/proj/bmfm/datasets/omics/genome/finetune_datasets/promoter_prediction/DNA_BERT2/\" \n",
    "reference_labels = pd.read_csv(input_directory + \"test.csv\")\n",
    "reference_labels.head()\n",
    "\n",
    "results = pd.read_csv(\"/proj/bmfm/users/sanjoy/output_dir/promoter_dnabert2_original_test/hic_ckpt/embeddings.csv\", index_col=0, header=None)\n",
    "print(results.head(), results.shape)\n",
    "\n",
    "plot_umap(results, \"label\", reference_labels)"
   ]
  },
  {
   "cell_type": "code",
   "execution_count": null,
   "id": "2b139f9b",
   "metadata": {},
   "outputs": [],
   "source": [
    "# Compute the hic based embeddings now...\n",
    "input_directory=\"/proj/bmfm/datasets/omics/genome/finetune_datasets/promoter_prediction/DNA_BERT2/snpified_v1/snp_genome/\" \n",
    "reference_labels = pd.read_csv(input_directory + \"test.csv\")\n",
    "reference_labels.head()\n",
    "\n",
    "results = pd.read_csv(\"/proj/bmfm/users/sanjoy/output_dir/promoter_dnabert2_snpified_v1_test/hic_ckpt/embeddings.csv\", index_col=0, header=None)\n",
    "print(results.head(), results.shape)\n",
    "\n",
    "plot_umap(results, \"label\", reference_labels)"
   ]
  }
 ],
 "metadata": {
  "kernelspec": {
   "display_name": "bmfm-targets",
   "language": "python",
   "name": "python3"
  },
  "language_info": {
   "codemirror_mode": {
    "name": "ipython",
    "version": 3
   },
   "file_extension": ".py",
   "mimetype": "text/x-python",
   "name": "python",
   "nbconvert_exporter": "python",
   "pygments_lexer": "ipython3",
   "version": "3.11.12"
  }
 },
 "nbformat": 4,
 "nbformat_minor": 5
}
