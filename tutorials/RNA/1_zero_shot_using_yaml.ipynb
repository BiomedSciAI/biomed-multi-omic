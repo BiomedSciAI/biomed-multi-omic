{
 "cells": [
  {
   "cell_type": "markdown",
   "id": "0422f93c",
   "metadata": {},
   "source": [
    "# Zero-shot cell type annotation\n",
    "\n",
    "Assigning cell type annotations is an important and time consuming part of single-cell analysis using `biomed-multi-omic` for cell type annotation. BMFM-RNA simplifies this process by not only performing the cell-type annotation but also the preprocessing and visualisation through the embeddings created by the model."
   ]
  },
  {
   "cell_type": "code",
   "execution_count": 1,
   "id": "772aca4e",
   "metadata": {},
   "outputs": [],
   "source": [
    "from pathlib import Path\n",
    "\n",
    "import scanpy as sc"
   ]
  },
  {
   "cell_type": "markdown",
   "id": "1d27ef22",
   "metadata": {},
   "source": [
    "## Load Example Data\n",
    "\n",
    "To demostrate the BMFM-RNAs abilites, we use the PBMC data created by 10X Genomics (dataset can be downloaded [here](https://support.10xgenomics.com/single-cell-gene-expression/datasets/1.1.0/pbmc3k)). This dataset is created of 3k PBMCs from a Healthy Donor. The raw data will be used as the input, but we will also extract the cell type annotation from the legacy scanpy workflow as a comparison between the BMFM and classical scRNA-seq analysis. \n",
    "\n",
    "For more information about how the data was preprocessed please visit scanpy's tutorial [here](https://scanpy.readthedocs.io/en/1.11.x/tutorials/basics/clustering-2017.html)."
   ]
  },
  {
   "cell_type": "code",
   "execution_count": 2,
   "id": "54095c4a",
   "metadata": {},
   "outputs": [],
   "source": [
    "# Get raw PBMC3k data\n",
    "data_dir = Path(\"data\")\n",
    "data_dir.mkdir(parents=True, exist_ok=True)\n",
    "\n",
    "# Get PMBC3k raw dataset\n",
    "adata = sc.datasets.pbmc3k()\n",
    "\n",
    "# Extract reference data for later downstream comparison\n",
    "reference_adata = sc.datasets.pbmc3k_processed()\n",
    "reference_obs_index = reference_adata.obs.index.tolist()\n",
    "reference_vars_index = reference_adata.var.index.tolist()\n",
    "\n",
    "adata = adata[reference_obs_index, reference_vars_index]\n",
    "adata.write(\"data/pbmc3k_raw.h5ad\")"
   ]
  },
  {
   "cell_type": "code",
   "execution_count": 3,
   "id": "88035655",
   "metadata": {},
   "outputs": [],
   "source": [
    "# Make results directory\n",
    "results_dir = Path(\"results/pbmc3k\")\n",
    "results_dir.mkdir(parents=True, exist_ok=True)"
   ]
  },
  {
   "cell_type": "markdown",
   "id": "28ff38e5",
   "metadata": {},
   "source": [
    "The model's weights can be aquired from [IBM's HuggingFace collection](https://huggingface.co/ibm-research). The following scRNA models are avaliable:\n",
    "\n",
    "- MLM+RDA: [ibm-research/biomed.rna.bert.110m.mlm.rda.v1](https://huggingface.co/ibm-research/biomed.rna.bert.110m.mlm.rda.v1)\n",
    "- MLM+Multitask: [ibm-research/biomed.rna.bert.110m.mlm.multitask.v1](https://huggingface.co/ibm-research/biomed.rna.bert.110m.mlm.multitask.v1)\n",
    "- WCED+Multitask: [ibm-research/biomed.rna.bert.110m.wced.multitask.v1](https://huggingface.co/ibm-research/biomed.rna.bert.110m.wced.multitask.v1)\n",
    "- WCED 10 pct: [ibm-research/biomed.rna.bert.110m.wced.v1](https://huggingface.co/ibm-research/biomed.rna.bert.110m.wced.v1)\n",
    "\n",
    "Using `bmfm-targets-run` you will only need to provide the name of the model under the `checkpoint` flag. I.e. `checkpoint=ibm-research/biomed.rna.bert.110m.wced.multitask.v1`. Checkpoints will be downloaded automatically from HuggingFace.\n",
    "\n",
    "To get embeddings for an h5ad file from the checkpoints discussed in the manuscript (https://arxiv.org/abs/2506.14861) run the following code snippets, after installing the package.\n",
    "\n",
    "The only thing you need is an `h5ad` file with raw gene counts to run inference, and a writable directory working_dir for output. For convenience, this tutorial uses pmbc3k dataset created in the code chunks above, however, you could also provide your own `h5ad` file (note for WCED the expected input of the data in `.X` should be raw counts)."
   ]
  },
  {
   "cell_type": "code",
   "execution_count": null,
   "id": "c51c6eda",
   "metadata": {},
   "outputs": [],
   "source": [
    "%%bash\n",
    "bmfm-targets-run -cn predict input_file=data/subset_hvg.h5ad working_dir=results/hvg checkpoint=ibm-research/biomed.rna.bert.110m.wced.multitask.v1"
   ]
  }
 ],
 "metadata": {
  "kernelspec": {
   "display_name": "bmfm-tutorial",
   "language": "python",
   "name": "python3"
  },
  "language_info": {
   "codemirror_mode": {
    "name": "ipython",
    "version": 3
   },
   "file_extension": ".py",
   "mimetype": "text/x-python",
   "name": "python",
   "nbconvert_exporter": "python",
   "pygments_lexer": "ipython3",
   "version": "3.12.11"
  }
 },
 "nbformat": 4,
 "nbformat_minor": 5
}
