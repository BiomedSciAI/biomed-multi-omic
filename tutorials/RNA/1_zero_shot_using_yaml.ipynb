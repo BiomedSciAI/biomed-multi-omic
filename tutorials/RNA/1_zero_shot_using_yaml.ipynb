{
 "cells": [
  {
   "cell_type": "markdown",
   "id": "0422f93c",
   "metadata": {},
   "source": [
    "# Zero-shot cell type annotation\n",
    "\n",
    "Assinging cell type annotations is an import and time consuming part of single-cell analysis using `biomed-multi-omic` for cell type annotation. BMFM-RNA simplifies this process by not only performing the cell-type annotation but also the preprocessing and visualisation through the embeddings created by the model.\n",
    "\n",
    "In this tutorial we look at inspecting the results of the zero-shot prediction created in tutorial 1. We do this by loading the results of the data and then using the helper functions packaged in the `evaluation` module to help extract and interpate the results of the model."
   ]
  },
  {
   "cell_type": "code",
   "execution_count": 1,
   "id": "772aca4e",
   "metadata": {},
   "outputs": [],
   "source": [
    "from pathlib import Path\n",
    "\n",
    "import scanpy as sc"
   ]
  },
  {
   "cell_type": "markdown",
   "id": "1d27ef22",
   "metadata": {},
   "source": [
    "## Load Example Data\n",
    "\n",
    "To demostrate the BMFM-RNAs abilites, we use the PBMC data created by 10X Genomics (dataset can be downloaded [here](https://support.10xgenomics.com/single-cell-gene-expression/datasets/1.1.0/pbmc3k)). This dataset is created of 3k PBMCs from a Healthy Donor. The raw data will be used as the input, but we will also extract the cell type annotation from the legacy scanpy workflow as a comparison between the BMFM and classical scRNA-seq analysis. \n",
    "\n",
    "For more information about how the data was preprocessing please visit scanpy's tutorial [here](https://scanpy.readthedocs.io/en/1.11.x/tutorials/basics/clustering-2017.html)."
   ]
  },
  {
   "cell_type": "code",
   "execution_count": null,
   "id": "54095c4a",
   "metadata": {},
   "outputs": [
    {
     "data": {
      "application/vnd.jupyter.widget-view+json": {
       "model_id": "ec0cdda2e2ad47fdaab7693a9303501e",
       "version_major": 2,
       "version_minor": 0
      },
      "text/plain": [
       "  0%|          | 0.00/5.58M [00:00<?, ?B/s]"
      ]
     },
     "metadata": {},
     "output_type": "display_data"
    },
    {
     "data": {
      "application/vnd.jupyter.widget-view+json": {
       "model_id": "314f705ed46e4c0ebcb29195cb332891",
       "version_major": 2,
       "version_minor": 0
      },
      "text/plain": [
       "  0%|          | 0.00/23.5M [00:00<?, ?B/s]"
      ]
     },
     "metadata": {},
     "output_type": "display_data"
    }
   ],
   "source": [
    "# Get raw PBMC3k data\n",
    "data_dir = Path(\"data\")\n",
    "data_dir.mkdir(parents=True, exist_ok=True)\n",
    "\n",
    "# Get PMBC3k raw dataset\n",
    "adata = sc.datasets.pbmc3k()\n",
    "\n",
    "# Extract reference data for later downstream comparison\n",
    "reference_adata = sc.datasets.pbmc3k_processed()\n",
    "reference_labels = reference_adata.obs[[\"louvain\"]]\n",
    "reference_obs_index = reference_adata.obs.index.tolist()\n",
    "reference_vars_index = reference_adata.var.index.tolist()\n",
    "\n",
    "adata = adata[reference_obs_index, reference_vars_index]\n",
    "adata.write(\"data/pbmc3k_raw.h5ad\")"
   ]
  },
  {
   "cell_type": "code",
   "execution_count": 4,
   "id": "88035655",
   "metadata": {},
   "outputs": [],
   "source": [
    "# Optional: make results directory\n",
    "results_dir = Path(\"results/pbmc3k\")\n",
    "results_dir.mkdir(parents=True, exist_ok=True)"
   ]
  },
  {
   "cell_type": "markdown",
   "id": "28ff38e5",
   "metadata": {},
   "source": [
    "To get embeddings for an h5ad file from the checkpoints discussed in the manuscript ( https://arxiv.org/abs/2506.14861 ) run the following code snippets, after installing the package.\n",
    "\n",
    "The only thing you need is an h5ad file with raw gene counts to run inference, and a writable directory working_dir for output. For convenience, this page assumes that the location of the file is stored to an environment variable. Checkpoints will be downloaded automatically from HuggingFace."
   ]
  },
  {
   "cell_type": "code",
   "execution_count": null,
   "id": "60184f0f",
   "metadata": {},
   "outputs": [
    {
     "name": "stdout",
     "output_type": "stream",
     "text": [
      "Fetching 17 files: 100%|█████████████████████| 17/17 [00:00<00:00, 11805.16it/s]\n",
      "[2025-07-17 18:47:56,181][bmfm_targets.models.model_utils][INFO] - Downloaded checkpoint from HuggingFace: ibm-research/biomed.rna.bert.110m.wced.multitask.v1 - Local path: /Users/mattmadgwick/.cache/huggingface/hub/models--ibm-research--biomed.rna.bert.110m.wced.multitask.v1/snapshots/01008c4765be7d165c3b227b6fc5111c6dd68f22\n",
      "[2025-07-17 18:47:56,182][bmfm_targets.models.model_utils][INFO] - Downloaded HF checkpoint to: /Users/mattmadgwick/.cache/huggingface/hub/models--ibm-research--biomed.rna.bert.110m.wced.multitask.v1/snapshots/01008c4765be7d165c3b227b6fc5111c6dd68f22/last.ckpt\n",
      "Fetching 16 files: 100%|██████████████████████| 16/16 [00:00<00:00, 7870.16it/s]\n",
      "[2025-07-17 18:47:57,834][bmfm_targets.models.model_utils][INFO] - Downloaded tokenizer from HuggingFace: ibm-research/biomed.rna.bert.110m.wced.multitask.v1 - Local path: /Users/mattmadgwick/.cache/huggingface/hub/models--ibm-research--biomed.rna.bert.110m.wced.multitask.v1/snapshots/01008c4765be7d165c3b227b6fc5111c6dd68f22\n",
      "[2025-07-17 18:47:57,913][bmfm_targets.datasets.base_rna_dataset][INFO] - Reduced dataset genes from 1838 to 1608 which overlap with the 19283 in `limit_genes`\n",
      "[2025-07-17 18:47:57,919][bmfm_targets.datasets.base_rna_dataset][INFO] - Removed 0 cells which no longer have counts.\n",
      "Seed set to 1234\n",
      "[2025-07-17 18:47:57,952][bmfm_targets.tasks.task_utils][INFO] - seed: 1234\n",
      "Using 16bit Automatic Mixed Precision (AMP)\n",
      "/Users/mattmadgwick/miniforge3/envs/bmfm-tutorial/lib/python3.12/site-packages/torch/amp/grad_scaler.py:136: UserWarning: torch.cuda.amp.GradScaler is enabled, but CUDA is not available.  Disabling.\n",
      "  warnings.warn(\n",
      "💡 Tip: For seamless cloud uploads and versioning, try installing [litmodels](https://pypi.org/project/litmodels/) to enable LitModelCheckpoint, which syncs automatically with the Lightning model registry.\n",
      "GPU available: True (mps), used: True\n",
      "TPU available: False, using: 0 TPU cores\n",
      "HPU available: False, using: 0 HPUs\n",
      "Fetching 17 files: 100%|█████████████████████| 17/17 [00:00<00:00, 31592.01it/s]\n",
      "[2025-07-17 18:47:58,118][bmfm_targets.models.model_utils][INFO] - Downloaded checkpoint from HuggingFace: ibm-research/biomed.rna.bert.110m.wced.multitask.v1 - Local path: /Users/mattmadgwick/.cache/huggingface/hub/models--ibm-research--biomed.rna.bert.110m.wced.multitask.v1/snapshots/01008c4765be7d165c3b227b6fc5111c6dd68f22\n",
      "[2025-07-17 18:47:58,118][bmfm_targets.models.model_utils][INFO] - Downloaded HF checkpoint to: /Users/mattmadgwick/.cache/huggingface/hub/models--ibm-research--biomed.rna.bert.110m.wced.multitask.v1/snapshots/01008c4765be7d165c3b227b6fc5111c6dd68f22/last.ckpt\n",
      "[2025-07-17 18:47:58,160][bmfm_targets.tasks.task_utils][INFO] - Model config is none then loading model from checkpoint /Users/mattmadgwick/.cache/huggingface/hub/models--ibm-research--biomed.rna.bert.110m.wced.multitask.v1/snapshots/01008c4765be7d165c3b227b6fc5111c6dd68f22/last.ckpt\n",
      "[2025-07-17 18:47:59,457][bmfm_targets.training.metrics.loss_handling][WARNING] - Field expressions has multiple losses requested. Training will work, but metrics reporting can only account for predictions from one output.\n",
      "[2025-07-17 18:47:59,457][bmfm_targets.training.metrics.loss_handling][WARNING] - Field expressions has multiple losses requested. Training will work, but metrics reporting can only account for predictions from one output.\n",
      "[2025-07-17 18:47:59,457][bmfm_targets.training.metrics.loss_handling][WARNING] - Field expressions has multiple losses requested. Training will work, but metrics reporting can only account for predictions from one output.\n",
      "[2025-07-17 18:48:02,638][bmfm_targets.models.predictive.scbert.modeling_scbert][WARNING] - Tie weights not supported for this model\n",
      "[2025-07-17 18:48:02,824][bmfm_targets.datasets.base_rna_dataset][INFO] - Reduced dataset genes from 1838 to 1608 which overlap with the 19283 in `limit_genes`\n",
      "[2025-07-17 18:48:02,827][bmfm_targets.datasets.base_rna_dataset][INFO] - Removed 0 cells which no longer have counts.\n",
      "/Users/mattmadgwick/miniforge3/envs/bmfm-tutorial/lib/python3.12/site-packages/pytorch_lightning/trainer/connectors/data_connector.py:420: Consider setting `persistent_workers=True` in 'predict_dataloader' to speed up the dataloader worker initialization.\n",
      "Predicting: |                                             | 0/? [00:00<?, ?it/s]huggingface/tokenizers: The current process just got forked, after parallelism has already been used. Disabling parallelism to avoid deadlocks...\n",
      "To disable this warning, you can either:\n",
      "\t- Avoid using `tokenizers` before the fork if possible\n",
      "\t- Explicitly set the environment variable TOKENIZERS_PARALLELISM=(true | false)\n",
      "huggingface/tokenizers: The current process just got forked, after parallelism has already been used. Disabling parallelism to avoid deadlocks...\n",
      "To disable this warning, you can either:\n",
      "\t- Avoid using `tokenizers` before the fork if possible\n",
      "\t- Explicitly set the environment variable TOKENIZERS_PARALLELISMhuggingface/tokenizers: The current process just got forked, after parallelism has already been used. Disabling parallelism to avoid deadlocks...\n",
      "To disable this warning, you can either:\n",
      "\t- Avoid using `tokenizers` before the fork if possible\n",
      "\t- Explicitly set the environment variable TOKENIZERS_PARALLELISM=(true | false)\n",
      "huggingface/tokenizers: The current process just got forked, after parallelism has already been used. Disabling parallelism to avoid deadlocks...\n",
      "To disable this warning, you can either:\n",
      "\t- Avoid using `tokenizers` before the fork if possible\n",
      "\t- Explicitly set the environment variable TOKENIZERS_PARALLELISM=(true | false)\n",
      "huggingface/tokenizers: The current process just got forked, after parallelism has already been used. Disabling parallelism to avoid deadlocks...\n",
      "To disable this warning, you can either:\n",
      "=(true | false)\n",
      "\t- Avoid using `tokenizers` before the fork if possible\n",
      "\t- Explicitly set the environment variable TOKENIZERS_PARALLELISM=(true | false)\n",
      "huggingface/tokenizers: The current process just got forked, after parallelism has already been used. Disabling parallelism to avoid deadlocks...\n",
      "To disable this warning, you can either:\n",
      "\t- Avoid using `tokenizers` before the fork if possible\n",
      "\t- Explicitly set the environment variable TOKENIZERS_PARALLELISM=(true | false)\n",
      "huggingface/tokenizers: The current process just got forked, after parallelism has already been used. Disabling parallelism to avoid deadlocks...\n",
      "To disable this warning, you can either:\n",
      "\t- Avoid using `tokenizers` before the fork if possible\n",
      "\t- Explicitly set the environment variable TOKENIZERS_PARALLELISM=(true | false)\n",
      "huggingface/tokenizers: The current process just got forked, after parallelism has already been used. Disabling parallelism to avoid deadlocks...\n",
      "To disable this warning, you can either:\n",
      "\t- Avoid using `tokenizers` before the fork if possible\n",
      "\t- Explicitly set the environment variable TOKENIZERS_PARALLELISM=(true | false)\n",
      "Predicting DataLoader 0:   0%|                          | 0/132 [00:00<?, ?it/s]/Users/mattmadgwick/miniforge3/envs/bmfm-tutorial/lib/python3.12/site-packages/torch/amp/autocast_mode.py:266: UserWarning: User provided device_type of 'cuda', but CUDA is not available. Disabling\n",
      "  warnings.warn(\n",
      "Predicting DataLoader 0:  44%|███████▍         | 58/132 [04:07<05:15,  0.23it/s]"
     ]
    }
   ],
   "source": [
    "%%bash\n",
    "bmfm-targets-run -cn predict \\\n",
    "    input_file=data/pbmc3k_raw.h5ad \\ \n",
    "    working_dir=results/pbmc3k \\ \n",
    "    checkpoint=ibm-research/biomed.rna.bert.110m.wced.multitask.v1"
   ]
  },
  {
   "cell_type": "code",
   "execution_count": null,
   "id": "cb2e5ec9",
   "metadata": {},
   "outputs": [],
   "source": []
  }
 ],
 "metadata": {
  "kernelspec": {
   "display_name": "bmfm-tutorial",
   "language": "python",
   "name": "python3"
  },
  "language_info": {
   "codemirror_mode": {
    "name": "ipython",
    "version": 3
   },
   "file_extension": ".py",
   "mimetype": "text/x-python",
   "name": "python",
   "nbconvert_exporter": "python",
   "pygments_lexer": "ipython3",
   "version": "3.12.11"
  }
 },
 "nbformat": 4,
 "nbformat_minor": 5
}
